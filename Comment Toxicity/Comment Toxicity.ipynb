{
 "cells": [
  {
   "cell_type": "markdown",
   "id": "7f49d444",
   "metadata": {},
   "source": [
    "# Imports and Installing Dependencies"
   ]
  },
  {
   "cell_type": "code",
   "execution_count": 2,
   "id": "8e67313a",
   "metadata": {},
   "outputs": [],
   "source": [
    "import os \n",
    "import pandas as pd\n",
    "import tensorflow as tf\n",
    "import numpy as np"
   ]
  },
  {
   "cell_type": "code",
   "execution_count": 3,
   "id": "e49210f9",
   "metadata": {},
   "outputs": [],
   "source": [
    "df=pd.read_csv(os.path.join('jigsaw-toxic-comment-classification-challenge','train.csv','train.csv'))"
   ]
  },
  {
   "cell_type": "code",
   "execution_count": 4,
   "id": "c30c89d0",
   "metadata": {},
   "outputs": [
    {
     "data": {
      "text/html": [
       "<div>\n",
       "<style scoped>\n",
       "    .dataframe tbody tr th:only-of-type {\n",
       "        vertical-align: middle;\n",
       "    }\n",
       "\n",
       "    .dataframe tbody tr th {\n",
       "        vertical-align: top;\n",
       "    }\n",
       "\n",
       "    .dataframe thead th {\n",
       "        text-align: right;\n",
       "    }\n",
       "</style>\n",
       "<table border=\"1\" class=\"dataframe\">\n",
       "  <thead>\n",
       "    <tr style=\"text-align: right;\">\n",
       "      <th></th>\n",
       "      <th>id</th>\n",
       "      <th>comment_text</th>\n",
       "      <th>toxic</th>\n",
       "      <th>severe_toxic</th>\n",
       "      <th>obscene</th>\n",
       "      <th>threat</th>\n",
       "      <th>insult</th>\n",
       "      <th>identity_hate</th>\n",
       "    </tr>\n",
       "  </thead>\n",
       "  <tbody>\n",
       "    <tr>\n",
       "      <th>0</th>\n",
       "      <td>0000997932d777bf</td>\n",
       "      <td>Explanation\\nWhy the edits made under my usern...</td>\n",
       "      <td>0</td>\n",
       "      <td>0</td>\n",
       "      <td>0</td>\n",
       "      <td>0</td>\n",
       "      <td>0</td>\n",
       "      <td>0</td>\n",
       "    </tr>\n",
       "    <tr>\n",
       "      <th>1</th>\n",
       "      <td>000103f0d9cfb60f</td>\n",
       "      <td>D'aww! He matches this background colour I'm s...</td>\n",
       "      <td>0</td>\n",
       "      <td>0</td>\n",
       "      <td>0</td>\n",
       "      <td>0</td>\n",
       "      <td>0</td>\n",
       "      <td>0</td>\n",
       "    </tr>\n",
       "    <tr>\n",
       "      <th>2</th>\n",
       "      <td>000113f07ec002fd</td>\n",
       "      <td>Hey man, I'm really not trying to edit war. It...</td>\n",
       "      <td>0</td>\n",
       "      <td>0</td>\n",
       "      <td>0</td>\n",
       "      <td>0</td>\n",
       "      <td>0</td>\n",
       "      <td>0</td>\n",
       "    </tr>\n",
       "    <tr>\n",
       "      <th>3</th>\n",
       "      <td>0001b41b1c6bb37e</td>\n",
       "      <td>\"\\nMore\\nI can't make any real suggestions on ...</td>\n",
       "      <td>0</td>\n",
       "      <td>0</td>\n",
       "      <td>0</td>\n",
       "      <td>0</td>\n",
       "      <td>0</td>\n",
       "      <td>0</td>\n",
       "    </tr>\n",
       "    <tr>\n",
       "      <th>4</th>\n",
       "      <td>0001d958c54c6e35</td>\n",
       "      <td>You, sir, are my hero. Any chance you remember...</td>\n",
       "      <td>0</td>\n",
       "      <td>0</td>\n",
       "      <td>0</td>\n",
       "      <td>0</td>\n",
       "      <td>0</td>\n",
       "      <td>0</td>\n",
       "    </tr>\n",
       "  </tbody>\n",
       "</table>\n",
       "</div>"
      ],
      "text/plain": [
       "                 id                                       comment_text  toxic  \\\n",
       "0  0000997932d777bf  Explanation\\nWhy the edits made under my usern...      0   \n",
       "1  000103f0d9cfb60f  D'aww! He matches this background colour I'm s...      0   \n",
       "2  000113f07ec002fd  Hey man, I'm really not trying to edit war. It...      0   \n",
       "3  0001b41b1c6bb37e  \"\\nMore\\nI can't make any real suggestions on ...      0   \n",
       "4  0001d958c54c6e35  You, sir, are my hero. Any chance you remember...      0   \n",
       "\n",
       "   severe_toxic  obscene  threat  insult  identity_hate  \n",
       "0             0        0       0       0              0  \n",
       "1             0        0       0       0              0  \n",
       "2             0        0       0       0              0  \n",
       "3             0        0       0       0              0  \n",
       "4             0        0       0       0              0  "
      ]
     },
     "execution_count": 4,
     "metadata": {},
     "output_type": "execute_result"
    }
   ],
   "source": [
    "df.head()"
   ]
  },
  {
   "cell_type": "code",
   "execution_count": 5,
   "id": "b3a33785",
   "metadata": {},
   "outputs": [
    {
     "data": {
      "text/plain": [
       "'\"\\nMore\\nI can\\'t make any real suggestions on improvement - I wondered if the section statistics should be later on, or a subsection of \"\"types of accidents\"\"  -I think the references may need tidying so that they are all in the exact same format ie date format etc. I can do that later on, if no-one else does first - if you have any preferences for formatting style on references or want to do it yourself please let me know.\\n\\nThere appears to be a backlog on articles for review so I guess there may be a delay until a reviewer turns up. It\\'s listed in the relevant form eg Wikipedia:Good_article_nominations#Transport  \"'"
      ]
     },
     "execution_count": 5,
     "metadata": {},
     "output_type": "execute_result"
    }
   ],
   "source": [
    "df.iloc[3]['comment_text']"
   ]
  },
  {
   "cell_type": "code",
   "execution_count": 6,
   "id": "1d2a83bf",
   "metadata": {},
   "outputs": [
    {
     "data": {
      "text/plain": [
       "toxic            0\n",
       "severe_toxic     0\n",
       "obscene          0\n",
       "threat           0\n",
       "insult           0\n",
       "identity_hate    0\n",
       "Name: 3, dtype: int64"
      ]
     },
     "execution_count": 6,
     "metadata": {},
     "output_type": "execute_result"
    }
   ],
   "source": [
    "df[df.columns[2:]].iloc[3]"
   ]
  },
  {
   "cell_type": "markdown",
   "id": "ab69e92f",
   "metadata": {},
   "source": [
    "# 1. Preprocessing"
   ]
  },
  {
   "cell_type": "code",
   "execution_count": 7,
   "id": "de4322dd",
   "metadata": {},
   "outputs": [],
   "source": [
    "from tensorflow.keras .layers import TextVectorization"
   ]
  },
  {
   "cell_type": "code",
   "execution_count": 8,
   "id": "b48c7317",
   "metadata": {},
   "outputs": [],
   "source": [
    "X = df['comment_text']\n",
    "y = df[df.columns[2:]].values"
   ]
  },
  {
   "cell_type": "code",
   "execution_count": 9,
   "id": "be35e893",
   "metadata": {},
   "outputs": [
    {
     "data": {
      "text/plain": [
       "Index(['id', 'comment_text', 'toxic', 'severe_toxic', 'obscene', 'threat',\n",
       "       'insult', 'identity_hate'],\n",
       "      dtype='object')"
      ]
     },
     "execution_count": 9,
     "metadata": {},
     "output_type": "execute_result"
    }
   ],
   "source": [
    "df.columns"
   ]
  },
  {
   "cell_type": "code",
   "execution_count": 10,
   "id": "42930032",
   "metadata": {},
   "outputs": [
    {
     "data": {
      "text/plain": [
       "0         Explanation\\nWhy the edits made under my usern...\n",
       "1         D'aww! He matches this background colour I'm s...\n",
       "2         Hey man, I'm really not trying to edit war. It...\n",
       "3         \"\\nMore\\nI can't make any real suggestions on ...\n",
       "4         You, sir, are my hero. Any chance you remember...\n",
       "                                ...                        \n",
       "159566    \":::::And for the second time of asking, when ...\n",
       "159567    You should be ashamed of yourself \\n\\nThat is ...\n",
       "159568    Spitzer \\n\\nUmm, theres no actual article for ...\n",
       "159569    And it looks like it was actually you who put ...\n",
       "159570    \"\\nAnd ... I really don't think you understand...\n",
       "Name: comment_text, Length: 159571, dtype: object"
      ]
     },
     "execution_count": 10,
     "metadata": {},
     "output_type": "execute_result"
    }
   ],
   "source": [
    "df['comment_text']"
   ]
  },
  {
   "cell_type": "code",
   "execution_count": 11,
   "id": "d351d08b",
   "metadata": {},
   "outputs": [],
   "source": [
    "MAX_FEATURES=20000 # Number of the words in the vocab"
   ]
  },
  {
   "cell_type": "code",
   "execution_count": 12,
   "id": "6eb9a324",
   "metadata": {},
   "outputs": [],
   "source": [
    "vectorizer=TextVectorization(max_tokens=MAX_FEATURES,\n",
    "                            output_sequence_length=1800,\n",
    "                            output_mode='int')"
   ]
  },
  {
   "cell_type": "code",
   "execution_count": 13,
   "id": "4e963233",
   "metadata": {},
   "outputs": [
    {
     "data": {
      "text/plain": [
       "(pandas.core.series.Series, numpy.ndarray)"
      ]
     },
     "execution_count": 13,
     "metadata": {},
     "output_type": "execute_result"
    }
   ],
   "source": [
    "type(X),type(X.values)"
   ]
  },
  {
   "cell_type": "code",
   "execution_count": 14,
   "id": "313b9cca",
   "metadata": {},
   "outputs": [],
   "source": [
    "vectorizer.adapt(X.values)"
   ]
  },
  {
   "cell_type": "code",
   "execution_count": 15,
   "id": "b806214a",
   "metadata": {},
   "outputs": [],
   "source": [
    "# vectorizer.get_vocabulary()"
   ]
  },
  {
   "cell_type": "code",
   "execution_count": 16,
   "id": "41909193",
   "metadata": {},
   "outputs": [
    {
     "data": {
      "text/plain": [
       "<tf.Tensor: shape=(5,), dtype=int64, numpy=array([286,   1,   9, 275,   0], dtype=int64)>"
      ]
     },
     "execution_count": 16,
     "metadata": {},
     "output_type": "execute_result"
    }
   ],
   "source": [
    "vectorizer(\"hello World,Life is Great\")[:5]"
   ]
  },
  {
   "cell_type": "code",
   "execution_count": 17,
   "id": "857e1914",
   "metadata": {},
   "outputs": [],
   "source": [
    "TextVectorization??"
   ]
  },
  {
   "cell_type": "code",
   "execution_count": 18,
   "id": "ed4c4d29",
   "metadata": {},
   "outputs": [],
   "source": [
    "vectorizer_text=vectorizer(X.values)"
   ]
  },
  {
   "cell_type": "code",
   "execution_count": 19,
   "id": "e7f49ea7",
   "metadata": {},
   "outputs": [
    {
     "data": {
      "text/plain": [
       "<tf.Tensor: shape=(159571, 1800), dtype=int64, numpy=\n",
       "array([[ 643,   76,    2, ...,    0,    0,    0],\n",
       "       [   1,   54, 2506, ...,    0,    0,    0],\n",
       "       [ 425,  440,   70, ...,    0,    0,    0],\n",
       "       ...,\n",
       "       [   1, 7329,  383, ...,    0,    0,    0],\n",
       "       [   5,   12,  533, ...,    0,    0,    0],\n",
       "       [   5,    8,  130, ...,    0,    0,    0]], dtype=int64)>"
      ]
     },
     "execution_count": 19,
     "metadata": {},
     "output_type": "execute_result"
    }
   ],
   "source": [
    "vectorizer_text"
   ]
  },
  {
   "cell_type": "code",
   "execution_count": 20,
   "id": "2034bc14",
   "metadata": {},
   "outputs": [
    {
     "data": {
      "text/plain": [
       "159571"
      ]
     },
     "execution_count": 20,
     "metadata": {},
     "output_type": "execute_result"
    }
   ],
   "source": [
    "len(X)"
   ]
  },
  {
   "cell_type": "code",
   "execution_count": 21,
   "id": "45bfb460",
   "metadata": {},
   "outputs": [],
   "source": [
    "# MCSHBAP=map,cache,shuffle,batch,prefetch\n",
    "dataset=tf.data.Dataset.from_tensor_slices((vectorizer_text, y))\n",
    "dataset=dataset.cache()\n",
    "dataset=dataset.shuffle(160000)\n",
    "dataset=dataset.batch(16)\n",
    "dataset=dataset.prefetch(8) # helps prevent bottlenecksdatas"
   ]
  },
  {
   "cell_type": "code",
   "execution_count": 22,
   "id": "74774951",
   "metadata": {},
   "outputs": [],
   "source": [
    "batch_X,batch_y=dataset.as_numpy_iterator().next()"
   ]
  },
  {
   "cell_type": "code",
   "execution_count": 23,
   "id": "903b24da",
   "metadata": {},
   "outputs": [
    {
     "data": {
      "text/plain": [
       "((16, 1800), (16, 6))"
      ]
     },
     "execution_count": 23,
     "metadata": {},
     "output_type": "execute_result"
    }
   ],
   "source": [
    "batch_X.shape,batch_y.shape"
   ]
  },
  {
   "cell_type": "code",
   "execution_count": 24,
   "id": "a514fa96",
   "metadata": {},
   "outputs": [
    {
     "data": {
      "text/plain": [
       "9974"
      ]
     },
     "execution_count": 24,
     "metadata": {},
     "output_type": "execute_result"
    }
   ],
   "source": [
    "len(dataset)"
   ]
  },
  {
   "cell_type": "code",
   "execution_count": 25,
   "id": "aa75eac6",
   "metadata": {},
   "outputs": [],
   "source": [
    "train=dataset.take(int(len(dataset)*.7))\n",
    "val=dataset.skip(int(len(dataset)*.7)).take(int(len(dataset)*.2))\n",
    "test=dataset.skip(int(len(dataset)*.9)).take(int(len(dataset)*.1))"
   ]
  },
  {
   "cell_type": "code",
   "execution_count": 26,
   "id": "2b8f9e2d",
   "metadata": {},
   "outputs": [
    {
     "data": {
      "text/plain": [
       "(6981, 1994, 997)"
      ]
     },
     "execution_count": 26,
     "metadata": {},
     "output_type": "execute_result"
    }
   ],
   "source": [
    "len(train),len(val),len(test)"
   ]
  },
  {
   "cell_type": "code",
   "execution_count": 27,
   "id": "b421d1c0",
   "metadata": {},
   "outputs": [],
   "source": [
    "train_generator=train.as_numpy_iterator()\n"
   ]
  },
  {
   "cell_type": "code",
   "execution_count": 28,
   "id": "ac66843c",
   "metadata": {},
   "outputs": [
    {
     "data": {
      "text/plain": [
       "(array([[  8,  19, 126, ...,   0,   0,   0],\n",
       "        [  8, 522,  11, ...,   0,   0,   0],\n",
       "        [  2,   1,  43, ...,   0,   0,   0],\n",
       "        ...,\n",
       "        [103,  34, 290, ...,   0,   0,   0],\n",
       "        [ 14,  78, 238, ...,   0,   0,   0],\n",
       "        [150, 410,   1, ...,   0,   0,   0]], dtype=int64),\n",
       " array([[0, 0, 0, 0, 0, 0],\n",
       "        [0, 0, 0, 0, 0, 0],\n",
       "        [0, 0, 0, 0, 1, 0],\n",
       "        [0, 0, 0, 0, 0, 0],\n",
       "        [0, 0, 0, 0, 0, 0],\n",
       "        [0, 0, 0, 0, 0, 0],\n",
       "        [0, 0, 0, 0, 0, 0],\n",
       "        [0, 0, 0, 0, 0, 0],\n",
       "        [0, 0, 0, 0, 0, 0],\n",
       "        [0, 0, 0, 0, 0, 0],\n",
       "        [0, 0, 0, 0, 0, 0],\n",
       "        [0, 0, 0, 0, 0, 0],\n",
       "        [0, 0, 0, 0, 0, 0],\n",
       "        [0, 0, 0, 0, 0, 0],\n",
       "        [0, 0, 0, 0, 0, 0],\n",
       "        [0, 0, 0, 0, 0, 0]], dtype=int64))"
      ]
     },
     "execution_count": 28,
     "metadata": {},
     "output_type": "execute_result"
    }
   ],
   "source": [
    "train_generator.next()"
   ]
  },
  {
   "cell_type": "markdown",
   "id": "45e03f4c",
   "metadata": {},
   "source": [
    "# 2. Create Sequential Model"
   ]
  },
  {
   "cell_type": "code",
   "execution_count": 31,
   "id": "972d334f",
   "metadata": {},
   "outputs": [],
   "source": [
    "from tensorflow.keras.models import Sequential\n",
    "from tensorflow.keras.layers import LSTM,Dropout,Bidirectional,Dense,Embedding"
   ]
  },
  {
   "cell_type": "code",
   "execution_count": 32,
   "id": "bb2c0d61",
   "metadata": {},
   "outputs": [],
   "source": [
    "model= Sequential()\n",
    "# Create the Embedding Layer\n",
    "model.add(Embedding(MAX_FEATURES+1,32))\n",
    "# Bidirectional LSTM layer\n",
    "model.add(Bidirectional(LSTM(32,activation='tanh')))\n",
    "# Feature Exttractor Dense (Fully Connected layers)\n",
    "model.add(Dense(128,activation='relu'))\n",
    "model.add(Dense(256,activation='relu'))\n",
    "model.add(Dense(128,activation='relu'))\n",
    "# Final Layer\n",
    "model.add(Dense(6,activation='sigmoid'))"
   ]
  },
  {
   "cell_type": "code",
   "execution_count": 36,
   "id": "c5456ccf",
   "metadata": {},
   "outputs": [],
   "source": [
    "model.compile(loss='BinaryCrossentropy',optimizer='Adam')\n"
   ]
  },
  {
   "cell_type": "code",
   "execution_count": 34,
   "id": "169dd4ea",
   "metadata": {},
   "outputs": [
    {
     "name": "stdout",
     "output_type": "stream",
     "text": [
      "Model: \"sequential_1\"\n",
      "_________________________________________________________________\n",
      " Layer (type)                Output Shape              Param #   \n",
      "=================================================================\n",
      " embedding_1 (Embedding)     (None, None, 32)          640032    \n",
      "                                                                 \n",
      " bidirectional_1 (Bidirectio  (None, 64)               16640     \n",
      " nal)                                                            \n",
      "                                                                 \n",
      " dense (Dense)               (None, 128)               8320      \n",
      "                                                                 \n",
      " dense_1 (Dense)             (None, 256)               33024     \n",
      "                                                                 \n",
      " dense_2 (Dense)             (None, 128)               32896     \n",
      "                                                                 \n",
      " dense_3 (Dense)             (None, 6)                 774       \n",
      "                                                                 \n",
      "=================================================================\n",
      "Total params: 731,686\n",
      "Trainable params: 731,686\n",
      "Non-trainable params: 0\n",
      "_________________________________________________________________\n"
     ]
    }
   ],
   "source": [
    "model.summary()"
   ]
  },
  {
   "cell_type": "code",
   "execution_count": 37,
   "id": "a89e7f65",
   "metadata": {},
   "outputs": [
    {
     "name": "stdout",
     "output_type": "stream",
     "text": [
      "6981/6981 [==============================] - 4828s 690ms/step - loss: 0.0636 - val_loss: 0.0540\n"
     ]
    }
   ],
   "source": [
    "history=model.fit(train,epochs=1,validation_data=val)"
   ]
  },
  {
   "cell_type": "code",
   "execution_count": 39,
   "id": "f5973359",
   "metadata": {},
   "outputs": [],
   "source": [
    "from matplotlib import pyplot as plt "
   ]
  },
  {
   "cell_type": "code",
   "execution_count": 40,
   "id": "734a775e",
   "metadata": {},
   "outputs": [
    {
     "data": {
      "text/plain": [
       "<Figure size 576x360 with 0 Axes>"
      ]
     },
     "metadata": {},
     "output_type": "display_data"
    },
    {
     "data": {
      "image/png": "[encoded data removed]",
      "text/plain": [
       "<Figure size 432x288 with 1 Axes>"
      ]
     },
     "metadata": {
      "needs_background": "light"
     },
     "output_type": "display_data"
    }
   ],
   "source": [
    "plt.figure(figsize=(8,5))\n",
    "pd.DataFrame(history.history).plot()\n",
    "plt.show()"
   ]
  },
  {
   "cell_type": "markdown",
   "id": "f4fa320d",
   "metadata": {},
   "source": [
    "# 3. Make Predictions"
   ]
  },
  {
   "cell_type": "code",
   "execution_count": 41,
   "id": "2998f0e3",
   "metadata": {},
   "outputs": [],
   "source": [
    "input_text=vectorizer(\"You freaking suck! \")"
   ]
  },
  {
   "cell_type": "code",
   "execution_count": 42,
   "id": "070bfbc9",
   "metadata": {},
   "outputs": [],
   "source": [
    "batch=test.as_numpy_iterator().next()"
   ]
  },
  {
   "cell_type": "code",
   "execution_count": 43,
   "id": "4f6c1d76",
   "metadata": {},
   "outputs": [],
   "source": [
    "bacth_X,batch_y=test.as_numpy_iterator().next()"
   ]
  },
  {
   "cell_type": "code",
   "execution_count": 44,
   "id": "fb599a37",
   "metadata": {},
   "outputs": [
    {
     "data": {
      "text/plain": [
       "Index(['toxic', 'severe_toxic', 'obscene', 'threat', 'insult',\n",
       "       'identity_hate'],\n",
       "      dtype='object')"
      ]
     },
     "execution_count": 44,
     "metadata": {},
     "output_type": "execute_result"
    }
   ],
   "source": [
    "df.columns[2:]"
   ]
  },
  {
   "cell_type": "code",
   "execution_count": 45,
   "id": "caa4c180",
   "metadata": {},
   "outputs": [],
   "source": [
    "res=model.predict(np.expand_dims(input_text,0))"
   ]
  },
  {
   "cell_type": "markdown",
   "id": "b891b0d0",
   "metadata": {},
   "source": [
    "#  4. Evaluate Model"
   ]
  },
  {
   "cell_type": "code",
   "execution_count": 46,
   "id": "eb181a20",
   "metadata": {},
   "outputs": [],
   "source": [
    "from tensorflow.keras.metrics import Precision,Recall ,CategoricalAccuracy"
   ]
  },
  {
   "cell_type": "code",
   "execution_count": 52,
   "id": "6a5aada7",
   "metadata": {},
   "outputs": [],
   "source": [
    "pre = Precision()\n",
    "re = Recall()\n",
    "acc = CategoricalAccuracy()"
   ]
  },
  {
   "cell_type": "code",
   "execution_count": 53,
   "id": "e2c83719",
   "metadata": {},
   "outputs": [],
   "source": [
    "for batch in test.as_numpy_iterator(): \n",
    "    # Unpack the batch \n",
    "    X_true, y_true = batch\n",
    "    # Make a prediction \n",
    "    yhat = model.predict(X_true)\n",
    "    \n",
    "    # Flatten the predictions\n",
    "    y_true = y_true.flatten()\n",
    "    yhat = yhat.flatten()\n",
    "    \n",
    "    pre.update_state(y_true, yhat)\n",
    "    re.update_state(y_true, yhat)\n",
    "    acc.update_state(y_true, yhat)"
   ]
  },
  {
   "cell_type": "code",
   "execution_count": 54,
   "id": "566fe791",
   "metadata": {},
   "outputs": [
    {
     "name": "stdout",
     "output_type": "stream",
     "text": [
      "Precision: 0.7427334785461426, Recall:0.7133947014808655, Accuracy:0.45336008071899414\n"
     ]
    }
   ],
   "source": [
    "print(f'Precision: {pre.result().numpy()}, Recall:{re.result().numpy()}, Accuracy:{acc.result().numpy()}')"
   ]
  },
  {
   "cell_type": "markdown",
   "id": "a868062a",
   "metadata": {},
   "source": [
    "# 5. Test and Gradio"
   ]
  },
  {
   "cell_type": "code",
   "execution_count": 55,
   "id": "9d5b1538",
   "metadata": {
    "collapsed": true
   },
   "outputs": [
    {
     "name": "stdout",
     "output_type": "stream",
     "text": [
      "Collecting gradio\n",
      "  Downloading gradio-2.9.4-py3-none-any.whl (2.9 MB)\n",
      "     ---------------------------------------- 2.9/2.9 MB 3.6 MB/s eta 0:00:00\n",
      "Requirement already satisfied: jinja2 in c:\\users\\moham\\desktop\\faseeh\\comment toxicity\\ctoxic\\lib\\site-packages (3.1.2)\n",
      "Requirement already satisfied: pillow in c:\\users\\moham\\desktop\\faseeh\\comment toxicity\\ctoxic\\lib\\site-packages (from gradio) (9.1.0)\n",
      "Collecting fastapi\n",
      "  Downloading fastapi-0.76.0-py3-none-any.whl (54 kB)\n",
      "     ---------------------------------------- 54.5/54.5 KB 2.8 MB/s eta 0:00:00\n",
      "Collecting python-multipart\n",
      "  Downloading python-multipart-0.0.5.tar.gz (32 kB)\n",
      "  Preparing metadata (setup.py): started\n",
      "  Preparing metadata (setup.py): finished with status 'done'\n",
      "Collecting ffmpy\n",
      "  Downloading ffmpy-0.3.0.tar.gz (4.8 kB)\n",
      "  Preparing metadata (setup.py): started\n",
      "  Preparing metadata (setup.py): finished with status 'done'\n",
      "Requirement already satisfied: requests in c:\\users\\moham\\desktop\\faseeh\\comment toxicity\\ctoxic\\lib\\site-packages (from gradio) (2.27.1)\n",
      "Requirement already satisfied: matplotlib in c:\\users\\moham\\desktop\\faseeh\\comment toxicity\\ctoxic\\lib\\site-packages (from gradio) (3.5.2)\n",
      "Collecting uvicorn\n",
      "  Downloading uvicorn-0.17.6-py3-none-any.whl (53 kB)\n",
      "     ---------------------------------------- 53.6/53.6 KB 2.7 MB/s eta 0:00:00\n",
      "Collecting pycryptodome\n",
      "  Using cached pycryptodome-3.14.1-cp35-abi3-win_amd64.whl (1.8 MB)\n",
      "Requirement already satisfied: numpy in c:\\users\\moham\\desktop\\faseeh\\comment toxicity\\ctoxic\\lib\\site-packages (from gradio) (1.22.3)\n",
      "Collecting paramiko\n",
      "  Downloading paramiko-2.10.4-py2.py3-none-any.whl (212 kB)\n",
      "     -------------------------------------- 212.1/212.1 KB 3.2 MB/s eta 0:00:00\n",
      "Collecting aiohttp\n",
      "  Using cached aiohttp-3.8.1-cp38-cp38-win_amd64.whl (555 kB)\n",
      "Collecting analytics-python\n",
      "  Downloading analytics_python-1.4.0-py2.py3-none-any.whl (15 kB)\n",
      "Requirement already satisfied: pandas in c:\\users\\moham\\desktop\\faseeh\\comment toxicity\\ctoxic\\lib\\site-packages (from gradio) (1.4.2)\n",
      "Collecting orjson\n",
      "  Downloading orjson-3.6.8-cp38-none-win_amd64.whl (184 kB)\n",
      "     -------------------------------------- 184.4/184.4 KB 3.7 MB/s eta 0:00:00\n",
      "Collecting pydub\n",
      "  Downloading pydub-0.25.1-py2.py3-none-any.whl (32 kB)\n",
      "Collecting markdown-it-py[linkify,plugins]\n",
      "  Downloading markdown_it_py-2.1.0-py3-none-any.whl (84 kB)\n",
      "     ---------------------------------------- 84.5/84.5 KB 2.3 MB/s eta 0:00:00\n",
      "Requirement already satisfied: MarkupSafe>=2.0 in c:\\users\\moham\\desktop\\faseeh\\comment toxicity\\ctoxic\\lib\\site-packages (from jinja2) (2.1.1)\n",
      "Collecting multidict<7.0,>=4.5\n",
      "  Using cached multidict-6.0.2-cp38-cp38-win_amd64.whl (28 kB)\n",
      "Collecting async-timeout<5.0,>=4.0.0a3\n",
      "  Using cached async_timeout-4.0.2-py3-none-any.whl (5.8 kB)\n",
      "Requirement already satisfied: attrs>=17.3.0 in c:\\users\\moham\\desktop\\faseeh\\comment toxicity\\ctoxic\\lib\\site-packages (from aiohttp->gradio) (21.4.0)\n",
      "Collecting aiosignal>=1.1.2\n",
      "  Using cached aiosignal-1.2.0-py3-none-any.whl (8.2 kB)\n",
      "Requirement already satisfied: charset-normalizer<3.0,>=2.0 in c:\\users\\moham\\desktop\\faseeh\\comment toxicity\\ctoxic\\lib\\site-packages (from aiohttp->gradio) (2.0.12)\n",
      "Collecting yarl<2.0,>=1.0\n",
      "  Using cached yarl-1.7.2-cp38-cp38-win_amd64.whl (122 kB)\n",
      "Collecting frozenlist>=1.1.1\n",
      "  Using cached frozenlist-1.3.0-cp38-cp38-win_amd64.whl (33 kB)\n",
      "Collecting backoff==1.10.0\n",
      "  Downloading backoff-1.10.0-py2.py3-none-any.whl (31 kB)\n",
      "Collecting monotonic>=1.5\n",
      "  Downloading monotonic-1.6-py2.py3-none-any.whl (8.2 kB)\n",
      "Requirement already satisfied: six>=1.5 in c:\\users\\moham\\desktop\\faseeh\\comment toxicity\\ctoxic\\lib\\site-packages (from analytics-python->gradio) (1.16.0)\n",
      "Requirement already satisfied: python-dateutil>2.1 in c:\\users\\moham\\desktop\\faseeh\\comment toxicity\\ctoxic\\lib\\site-packages (from analytics-python->gradio) (2.8.2)\n",
      "Requirement already satisfied: idna<4,>=2.5 in c:\\users\\moham\\desktop\\faseeh\\comment toxicity\\ctoxic\\lib\\site-packages (from requests->gradio) (3.3)\n",
      "Requirement already satisfied: urllib3<1.27,>=1.21.1 in c:\\users\\moham\\desktop\\faseeh\\comment toxicity\\ctoxic\\lib\\site-packages (from requests->gradio) (1.26.9)\n",
      "Requirement already satisfied: certifi>=2017.4.17 in c:\\users\\moham\\desktop\\faseeh\\comment toxicity\\ctoxic\\lib\\site-packages (from requests->gradio) (2021.10.8)\n",
      "Collecting starlette==0.18.0\n",
      "  Downloading starlette-0.18.0-py3-none-any.whl (59 kB)\n",
      "     ---------------------------------------- 59.9/59.9 KB 3.1 MB/s eta 0:00:00\n",
      "Collecting pydantic!=1.7,!=1.7.1,!=1.7.2,!=1.7.3,!=1.8,!=1.8.1,<2.0.0,>=1.6.2\n",
      "  Downloading pydantic-1.9.0-cp38-cp38-win_amd64.whl (2.1 MB)\n",
      "     ---------------------------------------- 2.1/2.1 MB 3.6 MB/s eta 0:00:00\n",
      "Requirement already satisfied: typing-extensions in c:\\users\\moham\\desktop\\faseeh\\comment toxicity\\ctoxic\\lib\\site-packages (from starlette==0.18.0->fastapi->gradio) (4.2.0)\n",
      "Collecting anyio<4,>=3.0.0\n",
      "  Using cached anyio-3.5.0-py3-none-any.whl (79 kB)\n",
      "Collecting mdurl~=0.1\n",
      "  Downloading mdurl-0.1.1-py3-none-any.whl (10 kB)\n",
      "Collecting linkify-it-py~=1.0\n",
      "  Downloading linkify_it_py-1.0.3-py3-none-any.whl (19 kB)\n",
      "Collecting mdit-py-plugins\n",
      "  Downloading mdit_py_plugins-0.3.0-py3-none-any.whl (43 kB)\n",
      "     ---------------------------------------- 43.7/43.7 KB 2.2 MB/s eta 0:00:00\n",
      "Requirement already satisfied: pyparsing>=2.2.1 in c:\\users\\moham\\desktop\\faseeh\\comment toxicity\\ctoxic\\lib\\site-packages (from matplotlib->gradio) (3.0.8)\n",
      "Requirement already satisfied: cycler>=0.10 in c:\\users\\moham\\desktop\\faseeh\\comment toxicity\\ctoxic\\lib\\site-packages (from matplotlib->gradio) (0.11.0)\n",
      "Requirement already satisfied: packaging>=20.0 in c:\\users\\moham\\desktop\\faseeh\\comment toxicity\\ctoxic\\lib\\site-packages (from matplotlib->gradio) (21.3)\n",
      "Requirement already satisfied: kiwisolver>=1.0.1 in c:\\users\\moham\\desktop\\faseeh\\comment toxicity\\ctoxic\\lib\\site-packages (from matplotlib->gradio) (1.4.2)\n",
      "Requirement already satisfied: fonttools>=4.22.0 in c:\\users\\moham\\desktop\\faseeh\\comment toxicity\\ctoxic\\lib\\site-packages (from matplotlib->gradio) (4.33.3)\n",
      "Requirement already satisfied: pytz>=2020.1 in c:\\users\\moham\\desktop\\faseeh\\comment toxicity\\ctoxic\\lib\\site-packages (from pandas->gradio) (2022.1)\n",
      "Collecting pynacl>=1.0.1\n",
      "  Downloading PyNaCl-1.5.0-cp36-abi3-win_amd64.whl (212 kB)\n",
      "     -------------------------------------- 212.1/212.1 KB 3.3 MB/s eta 0:00:00\n",
      "Collecting bcrypt>=3.1.3\n",
      "  Downloading bcrypt-3.2.2-cp36-abi3-win_amd64.whl (29 kB)\n",
      "Collecting cryptography>=2.5\n",
      "  Downloading cryptography-37.0.2-cp36-abi3-win_amd64.whl (2.4 MB)\n",
      "     ---------------------------------------- 2.4/2.4 MB 3.8 MB/s eta 0:00:00\n",
      "Collecting h11>=0.8\n",
      "  Downloading h11-0.13.0-py3-none-any.whl (58 kB)\n",
      "     ---------------------------------------- 58.2/58.2 KB 3.0 MB/s eta 0:00:00\n",
      "Collecting asgiref>=3.4.0\n",
      "  Downloading asgiref-3.5.1-py3-none-any.whl (22 kB)\n",
      "Collecting click>=7.0\n",
      "  Downloading click-8.1.3-py3-none-any.whl (96 kB)\n",
      "     ---------------------------------------- 96.6/96.6 KB 2.7 MB/s eta 0:00:00\n",
      "Requirement already satisfied: cffi>=1.1 in c:\\users\\moham\\desktop\\faseeh\\comment toxicity\\ctoxic\\lib\\site-packages (from bcrypt>=3.1.3->paramiko->gradio) (1.15.0)\n",
      "Requirement already satisfied: colorama in c:\\users\\moham\\desktop\\faseeh\\comment toxicity\\ctoxic\\lib\\site-packages (from click>=7.0->uvicorn->gradio) (0.4.4)\n",
      "Collecting uc-micro-py\n",
      "  Downloading uc_micro_py-1.0.1-py3-none-any.whl (6.2 kB)\n",
      "Collecting sniffio>=1.1\n",
      "  Using cached sniffio-1.2.0-py3-none-any.whl (10 kB)\n",
      "Requirement already satisfied: pycparser in c:\\users\\moham\\desktop\\faseeh\\comment toxicity\\ctoxic\\lib\\site-packages (from cffi>=1.1->bcrypt>=3.1.3->paramiko->gradio) (2.21)\n",
      "Building wheels for collected packages: ffmpy, python-multipart\n",
      "  Building wheel for ffmpy (setup.py): started\n",
      "  Building wheel for ffmpy (setup.py): finished with status 'done'\n",
      "  Created wheel for ffmpy: filename=ffmpy-0.3.0-py3-none-any.whl size=4712 sha256=4b2327ab23265e5e54eb0de49acd833cd48549170aefe15e0aed88741185b0a6\n",
      "  Stored in directory: c:\\users\\moham\\appdata\\local\\pip\\cache\\wheels\\ff\\5b\\59\\913b443e7369dc04b61f607a746b6f7d83fb65e2e19fcc958d\n",
      "  Building wheel for python-multipart (setup.py): started\n",
      "  Building wheel for python-multipart (setup.py): finished with status 'done'\n",
      "  Created wheel for python-multipart: filename=python_multipart-0.0.5-py3-none-any.whl size=31671 sha256=818e41bd67d8102a512f297d9ec3233c64386dc2f4fd84f510aa5762bb7b5aed\n",
      "  Stored in directory: c:\\users\\moham\\appdata\\local\\pip\\cache\\wheels\\9e\\fc\\1c\\cf980e6413d3ee8e70cd8f39e2366b0f487e3e221aeb452eb0\n",
      "Successfully built ffmpy python-multipart\n",
      "Installing collected packages: pydub, monotonic, ffmpy, uc-micro-py, sniffio, python-multipart, pydantic, pycryptodome, orjson, multidict, mdurl, h11, frozenlist, click, backoff, async-timeout, asgiref, yarl, uvicorn, pynacl, markdown-it-py, linkify-it-py, cryptography, bcrypt, anyio, analytics-python, aiosignal, starlette, paramiko, mdit-py-plugins, aiohttp, fastapi, gradio\n",
      "Successfully installed aiohttp-3.8.1 aiosignal-1.2.0 analytics-python-1.4.0 anyio-3.5.0 asgiref-3.5.1 async-timeout-4.0.2 backoff-1.10.0 bcrypt-3.2.2 click-8.1.3 cryptography-37.0.2 fastapi-0.76.0 ffmpy-0.3.0 frozenlist-1.3.0 gradio-2.9.4 h11-0.13.0 linkify-it-py-1.0.3 markdown-it-py-2.1.0 mdit-py-plugins-0.3.0 mdurl-0.1.1 monotonic-1.6 multidict-6.0.2 orjson-3.6.8 paramiko-2.10.4 pycryptodome-3.14.1 pydantic-1.9.0 pydub-0.25.1 pynacl-1.5.0 python-multipart-0.0.5 sniffio-1.2.0 starlette-0.18.0 uc-micro-py-1.0.1 uvicorn-0.17.6 yarl-1.7.2\n"
     ]
    }
   ],
   "source": [
    "!pip install gradio jinja2"
   ]
  },
  {
   "cell_type": "code",
   "execution_count": 57,
   "id": "34f7b966",
   "metadata": {},
   "outputs": [
    {
     "name": "stderr",
     "output_type": "stream",
     "text": [
      "c:\\users\\moham\\desktop\\faseeh\\comment toxicity\\ctoxic\\lib\\site-packages\\paramiko\\transport.py:236: CryptographyDeprecationWarning: Blowfish has been deprecated\n",
      "  \"class\": algorithms.Blowfish,\n"
     ]
    }
   ],
   "source": [
    "import tensorflow as tf\n",
    "import gradio as gr"
   ]
  },
  {
   "cell_type": "code",
   "execution_count": 58,
   "id": "49f37262",
   "metadata": {},
   "outputs": [],
   "source": [
    "model.save('Comment_toxicity.h5')"
   ]
  },
  {
   "cell_type": "code",
   "execution_count": 59,
   "id": "19012086",
   "metadata": {},
   "outputs": [],
   "source": [
    "model=tf.keras.models.load_model('toxicity.h5')"
   ]
  },
  {
   "cell_type": "code",
   "execution_count": 60,
   "id": "89c0234d",
   "metadata": {},
   "outputs": [],
   "source": [
    "input_str=vectorizer('Hey I freaken hate you')"
   ]
  },
  {
   "cell_type": "code",
   "execution_count": 62,
   "id": "f50b13aa",
   "metadata": {},
   "outputs": [],
   "source": [
    "res=model.predict(np.expand_dims(input_str,0))"
   ]
  },
  {
   "cell_type": "code",
   "execution_count": 63,
   "id": "a97b7a51",
   "metadata": {},
   "outputs": [
    {
     "data": {
      "text/plain": [
       "array([[0.8654419 , 0.0356873 , 0.4453451 , 0.02464375, 0.44171998,\n",
       "        0.08360171]], dtype=float32)"
      ]
     },
     "execution_count": 63,
     "metadata": {},
     "output_type": "execute_result"
    }
   ],
   "source": [
    "res"
   ]
  },
  {
   "cell_type": "code",
   "execution_count": 64,
   "id": "f808f126",
   "metadata": {},
   "outputs": [],
   "source": [
    "def score_comment(comment):\n",
    "    vectorized_comment = vectorizer([comment])\n",
    "    results = model.predict(vectorized_comment)\n",
    "    \n",
    "    text = ''\n",
    "    for idx, col in enumerate(df.columns[2:]):\n",
    "        text += '{}: {}\\n'.format(col, results[0][idx]>0.5)\n",
    "    \n",
    "    return text"
   ]
  },
  {
   "cell_type": "code",
   "execution_count": 65,
   "id": "2593ef7a",
   "metadata": {},
   "outputs": [],
   "source": [
    "interface = gr.Interface(fn=score_comment, \n",
    "                         inputs=gr.inputs.Textbox(lines=2, placeholder='Comment to score'),\n",
    "                        outputs='text')"
   ]
  },
  {
   "cell_type": "code",
   "execution_count": 66,
   "id": "88a60641",
   "metadata": {},
   "outputs": [
    {
     "name": "stdout",
     "output_type": "stream",
     "text": [
      "Running on local URL:  http://127.0.0.1:7860/\n",
      "Running on public URL: https://34626.gradio.app\n",
      "\n",
      "This share link expires in 72 hours. For free permanent hosting, check out Spaces (https://huggingface.co/spaces)\n"
     ]
    },
    {
     "data": {
      "text/html": [
       "\n",
       "        <iframe\n",
       "            width=\"900\"\n",
       "            height=\"500\"\n",
       "            src=\"https://34626.gradio.app\"\n",
       "            frameborder=\"0\"\n",
       "            allowfullscreen\n",
       "            \n",
       "        ></iframe>\n",
       "        "
      ],
      "text/plain": [
       "<IPython.lib.display.IFrame at 0x1c1dcf09190>"
      ]
     },
     "metadata": {},
     "output_type": "display_data"
    },
    {
     "data": {
      "text/plain": [
       "(<fastapi.applications.FastAPI at 0x1c1d9ad68e0>,\n",
       " 'http://127.0.0.1:7860/',\n",
       " 'https://34626.gradio.app')"
      ]
     },
     "execution_count": 66,
     "metadata": {},
     "output_type": "execute_result"
    }
   ],
   "source": [
    "interface.launch(share=True)"
   ]
  },
  {
   "cell_type": "code",
   "execution_count": null,
   "id": "8d0045a9",
   "metadata": {},
   "outputs": [],
   "source": []
  },
  {
   "cell_type": "code",
   "execution_count": null,
   "id": "93e837e8",
   "metadata": {},
   "outputs": [],
   "source": []
  }
 ],
 "metadata": {
  "kernelspec": {
   "display_name": "Python 3 (ipykernel)",
   "language": "python",
   "name": "python3"
  },
  "language_info": {
   "codemirror_mode": {
    "name": "ipython",
    "version": 3
   },
   "file_extension": ".py",
   "mimetype": "text/x-python",
   "name": "python",
   "nbconvert_exporter": "python",
   "pygments_lexer": "ipython3",
   "version": "3.8.8"
  }
 },
 "nbformat": 4,
 "nbformat_minor": 5
}
