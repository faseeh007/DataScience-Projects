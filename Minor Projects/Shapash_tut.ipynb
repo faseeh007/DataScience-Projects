{
 "cells": [
  {
   "cell_type": "code",
   "execution_count": 1,
   "id": "42cf04bf",
   "metadata": {},
   "outputs": [],
   "source": [
    "import seaborn as sns"
   ]
  },
  {
   "cell_type": "code",
   "execution_count": 2,
   "id": "b3dcf701",
   "metadata": {},
   "outputs": [
    {
     "data": {
      "text/html": [
       "<div>\n",
       "<style scoped>\n",
       "    .dataframe tbody tr th:only-of-type {\n",
       "        vertical-align: middle;\n",
       "    }\n",
       "\n",
       "    .dataframe tbody tr th {\n",
       "        vertical-align: top;\n",
       "    }\n",
       "\n",
       "    .dataframe thead th {\n",
       "        text-align: right;\n",
       "    }\n",
       "</style>\n",
       "<table border=\"1\" class=\"dataframe\">\n",
       "  <thead>\n",
       "    <tr style=\"text-align: right;\">\n",
       "      <th></th>\n",
       "      <th>total_bill</th>\n",
       "      <th>tip</th>\n",
       "      <th>sex</th>\n",
       "      <th>smoker</th>\n",
       "      <th>day</th>\n",
       "      <th>time</th>\n",
       "      <th>size</th>\n",
       "    </tr>\n",
       "  </thead>\n",
       "  <tbody>\n",
       "    <tr>\n",
       "      <th>0</th>\n",
       "      <td>16.99</td>\n",
       "      <td>1.01</td>\n",
       "      <td>Female</td>\n",
       "      <td>No</td>\n",
       "      <td>Sun</td>\n",
       "      <td>Dinner</td>\n",
       "      <td>2</td>\n",
       "    </tr>\n",
       "    <tr>\n",
       "      <th>1</th>\n",
       "      <td>10.34</td>\n",
       "      <td>1.66</td>\n",
       "      <td>Male</td>\n",
       "      <td>No</td>\n",
       "      <td>Sun</td>\n",
       "      <td>Dinner</td>\n",
       "      <td>3</td>\n",
       "    </tr>\n",
       "    <tr>\n",
       "      <th>2</th>\n",
       "      <td>21.01</td>\n",
       "      <td>3.50</td>\n",
       "      <td>Male</td>\n",
       "      <td>No</td>\n",
       "      <td>Sun</td>\n",
       "      <td>Dinner</td>\n",
       "      <td>3</td>\n",
       "    </tr>\n",
       "    <tr>\n",
       "      <th>3</th>\n",
       "      <td>23.68</td>\n",
       "      <td>3.31</td>\n",
       "      <td>Male</td>\n",
       "      <td>No</td>\n",
       "      <td>Sun</td>\n",
       "      <td>Dinner</td>\n",
       "      <td>2</td>\n",
       "    </tr>\n",
       "    <tr>\n",
       "      <th>4</th>\n",
       "      <td>24.59</td>\n",
       "      <td>3.61</td>\n",
       "      <td>Female</td>\n",
       "      <td>No</td>\n",
       "      <td>Sun</td>\n",
       "      <td>Dinner</td>\n",
       "      <td>4</td>\n",
       "    </tr>\n",
       "  </tbody>\n",
       "</table>\n",
       "</div>"
      ],
      "text/plain": [
       "   total_bill   tip     sex smoker  day    time  size\n",
       "0       16.99  1.01  Female     No  Sun  Dinner     2\n",
       "1       10.34  1.66    Male     No  Sun  Dinner     3\n",
       "2       21.01  3.50    Male     No  Sun  Dinner     3\n",
       "3       23.68  3.31    Male     No  Sun  Dinner     2\n",
       "4       24.59  3.61  Female     No  Sun  Dinner     4"
      ]
     },
     "execution_count": 2,
     "metadata": {},
     "output_type": "execute_result"
    }
   ],
   "source": [
    "df=sns.load_dataset('tips')\n",
    "df.head()"
   ]
  },
  {
   "cell_type": "code",
   "execution_count": 3,
   "id": "b55c1acd",
   "metadata": {},
   "outputs": [],
   "source": [
    "#divide the dataset into independent and dependent\n",
    "y=df['tip']\n",
    "X=df[df.columns.difference(['tip'])]"
   ]
  },
  {
   "cell_type": "code",
   "execution_count": 4,
   "id": "871a9e4f",
   "metadata": {},
   "outputs": [
    {
     "data": {
      "text/html": [
       "<div>\n",
       "<style scoped>\n",
       "    .dataframe tbody tr th:only-of-type {\n",
       "        vertical-align: middle;\n",
       "    }\n",
       "\n",
       "    .dataframe tbody tr th {\n",
       "        vertical-align: top;\n",
       "    }\n",
       "\n",
       "    .dataframe thead th {\n",
       "        text-align: right;\n",
       "    }\n",
       "</style>\n",
       "<table border=\"1\" class=\"dataframe\">\n",
       "  <thead>\n",
       "    <tr style=\"text-align: right;\">\n",
       "      <th></th>\n",
       "      <th>day</th>\n",
       "      <th>sex</th>\n",
       "      <th>size</th>\n",
       "      <th>smoker</th>\n",
       "      <th>time</th>\n",
       "      <th>total_bill</th>\n",
       "    </tr>\n",
       "  </thead>\n",
       "  <tbody>\n",
       "    <tr>\n",
       "      <th>0</th>\n",
       "      <td>Sun</td>\n",
       "      <td>Female</td>\n",
       "      <td>2</td>\n",
       "      <td>No</td>\n",
       "      <td>Dinner</td>\n",
       "      <td>16.99</td>\n",
       "    </tr>\n",
       "    <tr>\n",
       "      <th>1</th>\n",
       "      <td>Sun</td>\n",
       "      <td>Male</td>\n",
       "      <td>3</td>\n",
       "      <td>No</td>\n",
       "      <td>Dinner</td>\n",
       "      <td>10.34</td>\n",
       "    </tr>\n",
       "    <tr>\n",
       "      <th>2</th>\n",
       "      <td>Sun</td>\n",
       "      <td>Male</td>\n",
       "      <td>3</td>\n",
       "      <td>No</td>\n",
       "      <td>Dinner</td>\n",
       "      <td>21.01</td>\n",
       "    </tr>\n",
       "    <tr>\n",
       "      <th>3</th>\n",
       "      <td>Sun</td>\n",
       "      <td>Male</td>\n",
       "      <td>2</td>\n",
       "      <td>No</td>\n",
       "      <td>Dinner</td>\n",
       "      <td>23.68</td>\n",
       "    </tr>\n",
       "    <tr>\n",
       "      <th>4</th>\n",
       "      <td>Sun</td>\n",
       "      <td>Female</td>\n",
       "      <td>4</td>\n",
       "      <td>No</td>\n",
       "      <td>Dinner</td>\n",
       "      <td>24.59</td>\n",
       "    </tr>\n",
       "  </tbody>\n",
       "</table>\n",
       "</div>"
      ],
      "text/plain": [
       "   day     sex  size smoker    time  total_bill\n",
       "0  Sun  Female     2     No  Dinner       16.99\n",
       "1  Sun    Male     3     No  Dinner       10.34\n",
       "2  Sun    Male     3     No  Dinner       21.01\n",
       "3  Sun    Male     2     No  Dinner       23.68\n",
       "4  Sun  Female     4     No  Dinner       24.59"
      ]
     },
     "execution_count": 4,
     "metadata": {},
     "output_type": "execute_result"
    }
   ],
   "source": [
    "X.head()"
   ]
  },
  {
   "cell_type": "code",
   "execution_count": 5,
   "id": "af330cb6",
   "metadata": {},
   "outputs": [
    {
     "name": "stdout",
     "output_type": "stream",
     "text": [
      "<class 'pandas.core.frame.DataFrame'>\n",
      "RangeIndex: 244 entries, 0 to 243\n",
      "Data columns (total 7 columns):\n",
      " #   Column      Non-Null Count  Dtype   \n",
      "---  ------      --------------  -----   \n",
      " 0   total_bill  244 non-null    float64 \n",
      " 1   tip         244 non-null    float64 \n",
      " 2   sex         244 non-null    category\n",
      " 3   smoker      244 non-null    category\n",
      " 4   day         244 non-null    category\n",
      " 5   time        244 non-null    category\n",
      " 6   size        244 non-null    int64   \n",
      "dtypes: category(4), float64(2), int64(1)\n",
      "memory usage: 7.4 KB\n"
     ]
    }
   ],
   "source": [
    "df.info()"
   ]
  },
  {
   "cell_type": "code",
   "execution_count": 6,
   "id": "ae79737b",
   "metadata": {},
   "outputs": [
    {
     "name": "stderr",
     "output_type": "stream",
     "text": [
      "C:\\Users\\Faseeh\\AppData\\Local\\Temp/ipykernel_20472/4105089070.py:1: SettingWithCopyWarning: \n",
      "A value is trying to be set on a copy of a slice from a DataFrame.\n",
      "Try using .loc[row_indexer,col_indexer] = value instead\n",
      "\n",
      "See the caveats in the documentation: https://pandas.pydata.org/pandas-docs/stable/user_guide/indexing.html#returning-a-view-versus-a-copy\n",
      "  X['day']=X['day'].cat.codes\n",
      "C:\\Users\\Faseeh\\AppData\\Local\\Temp/ipykernel_20472/4105089070.py:2: SettingWithCopyWarning: \n",
      "A value is trying to be set on a copy of a slice from a DataFrame.\n",
      "Try using .loc[row_indexer,col_indexer] = value instead\n",
      "\n",
      "See the caveats in the documentation: https://pandas.pydata.org/pandas-docs/stable/user_guide/indexing.html#returning-a-view-versus-a-copy\n",
      "  X['sex']=X['sex'].cat.codes\n",
      "C:\\Users\\Faseeh\\AppData\\Local\\Temp/ipykernel_20472/4105089070.py:3: SettingWithCopyWarning: \n",
      "A value is trying to be set on a copy of a slice from a DataFrame.\n",
      "Try using .loc[row_indexer,col_indexer] = value instead\n",
      "\n",
      "See the caveats in the documentation: https://pandas.pydata.org/pandas-docs/stable/user_guide/indexing.html#returning-a-view-versus-a-copy\n",
      "  X['smoker']=X['smoker'].cat.codes\n",
      "C:\\Users\\Faseeh\\AppData\\Local\\Temp/ipykernel_20472/4105089070.py:4: SettingWithCopyWarning: \n",
      "A value is trying to be set on a copy of a slice from a DataFrame.\n",
      "Try using .loc[row_indexer,col_indexer] = value instead\n",
      "\n",
      "See the caveats in the documentation: https://pandas.pydata.org/pandas-docs/stable/user_guide/indexing.html#returning-a-view-versus-a-copy\n",
      "  X['time']=X['time'].cat.codes\n"
     ]
    }
   ],
   "source": [
    "X['day']=X['day'].cat.codes\n",
    "X['sex']=X['sex'].cat.codes\n",
    "X['smoker']=X['smoker'].cat.codes\n",
    "X['time']=X['time'].cat.codes"
   ]
  },
  {
   "cell_type": "code",
   "execution_count": 7,
   "id": "f4916f34",
   "metadata": {},
   "outputs": [
    {
     "data": {
      "text/html": [
       "<div>\n",
       "<style scoped>\n",
       "    .dataframe tbody tr th:only-of-type {\n",
       "        vertical-align: middle;\n",
       "    }\n",
       "\n",
       "    .dataframe tbody tr th {\n",
       "        vertical-align: top;\n",
       "    }\n",
       "\n",
       "    .dataframe thead th {\n",
       "        text-align: right;\n",
       "    }\n",
       "</style>\n",
       "<table border=\"1\" class=\"dataframe\">\n",
       "  <thead>\n",
       "    <tr style=\"text-align: right;\">\n",
       "      <th></th>\n",
       "      <th>day</th>\n",
       "      <th>sex</th>\n",
       "      <th>size</th>\n",
       "      <th>smoker</th>\n",
       "      <th>time</th>\n",
       "      <th>total_bill</th>\n",
       "    </tr>\n",
       "  </thead>\n",
       "  <tbody>\n",
       "    <tr>\n",
       "      <th>0</th>\n",
       "      <td>3</td>\n",
       "      <td>1</td>\n",
       "      <td>2</td>\n",
       "      <td>1</td>\n",
       "      <td>1</td>\n",
       "      <td>16.99</td>\n",
       "    </tr>\n",
       "    <tr>\n",
       "      <th>1</th>\n",
       "      <td>3</td>\n",
       "      <td>0</td>\n",
       "      <td>3</td>\n",
       "      <td>1</td>\n",
       "      <td>1</td>\n",
       "      <td>10.34</td>\n",
       "    </tr>\n",
       "    <tr>\n",
       "      <th>2</th>\n",
       "      <td>3</td>\n",
       "      <td>0</td>\n",
       "      <td>3</td>\n",
       "      <td>1</td>\n",
       "      <td>1</td>\n",
       "      <td>21.01</td>\n",
       "    </tr>\n",
       "    <tr>\n",
       "      <th>3</th>\n",
       "      <td>3</td>\n",
       "      <td>0</td>\n",
       "      <td>2</td>\n",
       "      <td>1</td>\n",
       "      <td>1</td>\n",
       "      <td>23.68</td>\n",
       "    </tr>\n",
       "    <tr>\n",
       "      <th>4</th>\n",
       "      <td>3</td>\n",
       "      <td>1</td>\n",
       "      <td>4</td>\n",
       "      <td>1</td>\n",
       "      <td>1</td>\n",
       "      <td>24.59</td>\n",
       "    </tr>\n",
       "    <tr>\n",
       "      <th>...</th>\n",
       "      <td>...</td>\n",
       "      <td>...</td>\n",
       "      <td>...</td>\n",
       "      <td>...</td>\n",
       "      <td>...</td>\n",
       "      <td>...</td>\n",
       "    </tr>\n",
       "    <tr>\n",
       "      <th>239</th>\n",
       "      <td>2</td>\n",
       "      <td>0</td>\n",
       "      <td>3</td>\n",
       "      <td>1</td>\n",
       "      <td>1</td>\n",
       "      <td>29.03</td>\n",
       "    </tr>\n",
       "    <tr>\n",
       "      <th>240</th>\n",
       "      <td>2</td>\n",
       "      <td>1</td>\n",
       "      <td>2</td>\n",
       "      <td>0</td>\n",
       "      <td>1</td>\n",
       "      <td>27.18</td>\n",
       "    </tr>\n",
       "    <tr>\n",
       "      <th>241</th>\n",
       "      <td>2</td>\n",
       "      <td>0</td>\n",
       "      <td>2</td>\n",
       "      <td>0</td>\n",
       "      <td>1</td>\n",
       "      <td>22.67</td>\n",
       "    </tr>\n",
       "    <tr>\n",
       "      <th>242</th>\n",
       "      <td>2</td>\n",
       "      <td>0</td>\n",
       "      <td>2</td>\n",
       "      <td>1</td>\n",
       "      <td>1</td>\n",
       "      <td>17.82</td>\n",
       "    </tr>\n",
       "    <tr>\n",
       "      <th>243</th>\n",
       "      <td>0</td>\n",
       "      <td>1</td>\n",
       "      <td>2</td>\n",
       "      <td>1</td>\n",
       "      <td>1</td>\n",
       "      <td>18.78</td>\n",
       "    </tr>\n",
       "  </tbody>\n",
       "</table>\n",
       "<p>244 rows × 6 columns</p>\n",
       "</div>"
      ],
      "text/plain": [
       "     day  sex  size  smoker  time  total_bill\n",
       "0      3    1     2       1     1       16.99\n",
       "1      3    0     3       1     1       10.34\n",
       "2      3    0     3       1     1       21.01\n",
       "3      3    0     2       1     1       23.68\n",
       "4      3    1     4       1     1       24.59\n",
       "..   ...  ...   ...     ...   ...         ...\n",
       "239    2    0     3       1     1       29.03\n",
       "240    2    1     2       0     1       27.18\n",
       "241    2    0     2       0     1       22.67\n",
       "242    2    0     2       1     1       17.82\n",
       "243    0    1     2       1     1       18.78\n",
       "\n",
       "[244 rows x 6 columns]"
      ]
     },
     "execution_count": 7,
     "metadata": {},
     "output_type": "execute_result"
    }
   ],
   "source": [
    "X"
   ]
  },
  {
   "cell_type": "code",
   "execution_count": 8,
   "id": "35e67f28",
   "metadata": {},
   "outputs": [],
   "source": [
    "###Train test split\n",
    "from sklearn.model_selection import train_test_split as tts\n",
    "X_train,X_test,y_train,y_test=tts(X,y,train_size=0.75,random_state=42)\n"
   ]
  },
  {
   "cell_type": "code",
   "execution_count": null,
   "id": "517153ca",
   "metadata": {},
   "outputs": [],
   "source": [
    "#!pip install sklearn\n",
    "!pip install shapash"
   ]
  },
  {
   "cell_type": "code",
   "execution_count": 9,
   "id": "1fe8c3ba",
   "metadata": {},
   "outputs": [],
   "source": [
    "from sklearn.ensemble import RandomForestRegressor\n",
    "regressor=RandomForestRegressor(n_estimators=200).fit(X_train,y_train)"
   ]
  },
  {
   "cell_type": "code",
   "execution_count": 10,
   "id": "a90a6460",
   "metadata": {},
   "outputs": [],
   "source": [
    "from shapash.explainer.smart_explainer import SmartExplainer\n",
    "#!pip uninstall Jinja2\n",
    "#!pip install Jinja2"
   ]
  },
  {
   "cell_type": "code",
   "execution_count": 13,
   "id": "25b1b349",
   "metadata": {},
   "outputs": [],
   "source": [
    "xpl=SmartExplainer()\n"
   ]
  },
  {
   "cell_type": "code",
   "execution_count": 14,
   "id": "e508273a",
   "metadata": {},
   "outputs": [
    {
     "name": "stdout",
     "output_type": "stream",
     "text": [
      "Backend: Shap TreeExplainer\n"
     ]
    }
   ],
   "source": [
    "xpl.compile(\n",
    "    x=X_test,\n",
    "    model=regressor\n",
    ")"
   ]
  },
  {
   "cell_type": "markdown",
   "id": "2a1c69b8",
   "metadata": {},
   "source": [
    "# Lets Understand the results of your trained model\n",
    "Then, we can easily get a first summary of the explanation of the model results.\n",
    "\n",
    "Here, we chose to get the 3 most contributive features for each prediction.\n",
    "We used a wording to get features names more understandable in operationnal case."
   ]
  },
  {
   "cell_type": "code",
   "execution_count": 18,
   "id": "c3a36ab6",
   "metadata": {},
   "outputs": [],
   "source": [
    "#xpl.to_pandas(max_contrib=3).compile()"
   ]
  },
  {
   "cell_type": "code",
   "execution_count": 19,
   "id": "7b6e20d4",
   "metadata": {},
   "outputs": [
    {
     "name": "stderr",
     "output_type": "stream",
     "text": [
      "C:\\Users\\Faseeh\\Anaconda3\\lib\\site-packages\\shapash\\webapp\\smart_app.py:306: FutureWarning:\n",
      "\n",
      "Using short name for 'orient' is deprecated. Only the options: ('dict', list, 'series', 'split', 'records', 'index') will be used in a future version. Use one of the above to silence this warning.\n",
      "\n"
     ]
    },
    {
     "name": "stdout",
     "output_type": "stream",
     "text": [
      "Dash is running on http://0.0.0.0:8050/\n",
      "\n"
     ]
    },
    {
     "name": "stderr",
     "output_type": "stream",
     "text": [
      "INFO:root:Your Shapash application run on http://LAPTOP-M02V2K7G:8050/\n",
      "INFO:shapash.webapp.smart_app:Dash is running on http://0.0.0.0:8050/\n",
      "\n",
      "INFO:root:Use the method .kill() to down your app.\n"
     ]
    },
    {
     "name": "stdout",
     "output_type": "stream",
     "text": [
      " * Serving Flask app 'shapash.webapp.smart_app' (lazy loading)\n",
      " * Environment: production\n",
      "   WARNING: This is a development server. Do not use it in a production deployment.\n",
      "   Use a production WSGI server instead.\n",
      " * Debug mode: off\n"
     ]
    },
    {
     "name": "stderr",
     "output_type": "stream",
     "text": [
      "WARNING:werkzeug: * Running on all addresses.\n",
      "   WARNING: This is a development server. Do not use it in a production deployment.\n",
      "INFO:werkzeug: * Running on http://192.168.0.10:8050/ (Press CTRL+C to quit)\n",
      "INFO:werkzeug:192.168.0.10 - - [25/Dec/2021 23:49:05] \"GET / HTTP/1.1\" 200 -\n",
      "INFO:werkzeug:192.168.0.10 - - [25/Dec/2021 23:49:05] \"GET /_dash-component-suites/dash_renderer/polyfill@7.v1_8_3m1640453188.8.7.min.js HTTP/1.1\" 200 -\n",
      "INFO:werkzeug:192.168.0.10 - - [25/Dec/2021 23:49:05] \"GET /assets/style.css?m=1640453226.500698 HTTP/1.1\" 200 -\n",
      "INFO:werkzeug:192.168.0.10 - - [25/Dec/2021 23:49:05] \"GET /assets/material-icons.css?m=1640453226.4094024 HTTP/1.1\" 200 -\n",
      "INFO:werkzeug:192.168.0.10 - - [25/Dec/2021 23:49:05] \"GET /_dash-component-suites/dash_renderer/react@16.v1_8_3m1640453188.14.0.min.js HTTP/1.1\" 200 -\n",
      "INFO:werkzeug:192.168.0.10 - - [25/Dec/2021 23:49:05] \"GET /_dash-component-suites/dash_renderer/react-dom@16.v1_8_3m1640453188.14.0.min.js HTTP/1.1\" 200 -\n",
      "INFO:werkzeug:192.168.0.10 - - [25/Dec/2021 23:49:05] \"GET /_dash-component-suites/dash_renderer/prop-types@15.v1_8_3m1640453188.7.2.min.js HTTP/1.1\" 200 -\n",
      "INFO:werkzeug:192.168.0.10 - - [25/Dec/2021 23:49:06] \"GET /_dash-component-suites/dash_core_components/dash_core_components-shared.v1_13_0m1640453195.js HTTP/1.1\" 200 -\n",
      "INFO:werkzeug:192.168.0.10 - - [25/Dec/2021 23:49:06] \"GET /_dash-component-suites/dash_bootstrap_components/_components/dash_bootstrap_components.v0_9_1m1640453224.min.js HTTP/1.1\" 200 -\n",
      "INFO:werkzeug:192.168.0.10 - - [25/Dec/2021 23:49:06] \"GET /_dash-component-suites/dash_html_components/dash_html_components.v1_1_1m1640453192.min.js HTTP/1.1\" 200 -\n",
      "INFO:werkzeug:192.168.0.10 - - [25/Dec/2021 23:49:06] \"GET /_dash-component-suites/dash_table/bundle.v4_11_0m1640453186.js HTTP/1.1\" 200 -\n",
      "INFO:werkzeug:192.168.0.10 - - [25/Dec/2021 23:49:06] \"GET /_dash-component-suites/dash_core_components/dash_core_components.v1_13_0m1640453195.min.js HTTP/1.1\" 200 -\n",
      "INFO:werkzeug:192.168.0.10 - - [25/Dec/2021 23:49:06] \"GET /_dash-component-suites/dash_daq/dash_daq.v0_5_0m1640453223.min.js HTTP/1.1\" 200 -\n",
      "INFO:werkzeug:192.168.0.10 - - [25/Dec/2021 23:49:06] \"GET /assets/jquery.js?m=1640453226.404402 HTTP/1.1\" 200 -\n",
      "INFO:werkzeug:192.168.0.10 - - [25/Dec/2021 23:49:06] \"GET /assets/main.js?m=1640453226.4074025 HTTP/1.1\" 200 -\n",
      "INFO:werkzeug:192.168.0.10 - - [25/Dec/2021 23:49:06] \"GET /_dash-component-suites/dash_renderer/dash_renderer.v1_8_3m1640453188.min.js HTTP/1.1\" 200 -\n",
      "INFO:werkzeug:192.168.0.10 - - [25/Dec/2021 23:49:08] \"GET /_dash-dependencies HTTP/1.1\" 200 -\n",
      "INFO:werkzeug:192.168.0.10 - - [25/Dec/2021 23:49:08] \"GET /_dash-layout HTTP/1.1\" 200 -\n",
      "INFO:werkzeug:192.168.0.10 - - [25/Dec/2021 23:49:08] \"GET /_dash-component-suites/dash_core_components/async-dropdown.v1_13_0m1604001894.js HTTP/1.1\" 200 -\n",
      "INFO:werkzeug:192.168.0.10 - - [25/Dec/2021 23:49:08] \"GET /_dash-component-suites/dash_core_components/async-graph.v1_13_0m1604001894.js HTTP/1.1\" 200 -\n",
      "INFO:werkzeug:192.168.0.10 - - [25/Dec/2021 23:49:08] \"GET /_dash-component-suites/dash_core_components/async-plotlyjs.v1_13_0m1604001894.js HTTP/1.1\" 200 -\n",
      "INFO:werkzeug:192.168.0.10 - - [25/Dec/2021 23:49:08] \"GET /_dash-component-suites/dash_table/async-table.v4_11_0m1604001235.js HTTP/1.1\" 200 -\n",
      "INFO:werkzeug:192.168.0.10 - - [25/Dec/2021 23:49:08] \"GET /_dash-component-suites/dash_core_components/async-slider.v1_13_0m1604001894.js HTTP/1.1\" 200 -\n",
      "INFO:werkzeug:192.168.0.10 - - [25/Dec/2021 23:49:08] \"GET /assets/shapash-fond-fonce.png HTTP/1.1\" 200 -\n",
      "INFO:werkzeug:192.168.0.10 - - [25/Dec/2021 23:49:08] \"GET /assets/settings.png HTTP/1.1\" 200 -\n",
      "INFO:werkzeug:192.168.0.10 - - [25/Dec/2021 23:49:08] \"GET /assets/reload.png HTTP/1.1\" 200 -\n",
      "INFO:werkzeug:192.168.0.10 - - [25/Dec/2021 23:49:08] \"POST /_dash-update-component HTTP/1.1\" 200 -\n",
      "INFO:werkzeug:192.168.0.10 - - [25/Dec/2021 23:49:08] \"POST /_dash-update-component HTTP/1.1\" 200 -\n",
      "INFO:werkzeug:192.168.0.10 - - [25/Dec/2021 23:49:08] \"POST /_dash-update-component HTTP/1.1\" 200 -\n",
      "INFO:werkzeug:192.168.0.10 - - [25/Dec/2021 23:49:08] \"POST /_dash-update-component HTTP/1.1\" 200 -\n",
      "INFO:werkzeug:192.168.0.10 - - [25/Dec/2021 23:49:08] \"POST /_dash-update-component HTTP/1.1\" 200 -\n",
      "INFO:werkzeug:192.168.0.10 - - [25/Dec/2021 23:49:08] \"POST /_dash-update-component HTTP/1.1\" 200 -\n",
      "INFO:werkzeug:192.168.0.10 - - [25/Dec/2021 23:49:08] \"POST /_dash-update-component HTTP/1.1\" 200 -\n",
      "INFO:werkzeug:192.168.0.10 - - [25/Dec/2021 23:49:08] \"POST /_dash-update-component HTTP/1.1\" 200 -\n",
      "INFO:werkzeug:192.168.0.10 - - [25/Dec/2021 23:49:08] \"POST /_dash-update-component HTTP/1.1\" 200 -\n",
      "INFO:werkzeug:192.168.0.10 - - [25/Dec/2021 23:49:08] \"POST /_dash-update-component HTTP/1.1\" 200 -\n",
      "C:\\Users\\Faseeh\\Anaconda3\\lib\\site-packages\\shapash\\webapp\\smart_app.py:827: FutureWarning:\n",
      "\n",
      "Using short name for 'orient' is deprecated. Only the options: ('dict', list, 'series', 'split', 'records', 'index') will be used in a future version. Use one of the above to silence this warning.\n",
      "\n",
      "INFO:werkzeug:192.168.0.10 - - [25/Dec/2021 23:49:09] \"POST /_dash-update-component HTTP/1.1\" 200 -\n",
      "INFO:werkzeug:192.168.0.10 - - [25/Dec/2021 23:49:09] \"POST /_dash-update-component HTTP/1.1\" 200 -\n",
      "INFO:werkzeug:192.168.0.10 - - [25/Dec/2021 23:49:10] \"POST /_dash-update-component HTTP/1.1\" 200 -\n",
      "INFO:werkzeug:192.168.0.10 - - [25/Dec/2021 23:49:10] \"POST /_dash-update-component HTTP/1.1\" 200 -\n",
      "INFO:werkzeug:192.168.0.10 - - [25/Dec/2021 23:49:10] \"POST /_dash-update-component HTTP/1.1\" 200 -\n",
      "INFO:werkzeug:192.168.0.10 - - [25/Dec/2021 23:49:10] \"POST /_dash-update-component HTTP/1.1\" 200 -\n",
      "INFO:werkzeug:192.168.0.10 - - [25/Dec/2021 23:49:13] \"POST /_dash-update-component HTTP/1.1\" 200 -\n",
      "INFO:werkzeug:192.168.0.10 - - [25/Dec/2021 23:49:13] \"POST /_dash-update-component HTTP/1.1\" 200 -\n",
      "INFO:werkzeug:192.168.0.10 - - [25/Dec/2021 23:49:13] \"POST /_dash-update-component HTTP/1.1\" 200 -\n",
      "INFO:werkzeug:192.168.0.10 - - [25/Dec/2021 23:49:22] \"GET /assets/favicon.ico?m=1640453226.4005146 HTTP/1.1\" 200 -\n"
     ]
    }
   ],
   "source": [
    "app=xpl.run_app(title_story=\"Tips Dataset\")"
   ]
  },
  {
   "cell_type": "code",
   "execution_count": 20,
   "id": "4454406d",
   "metadata": {},
   "outputs": [],
   "source": [
    "predictor=xpl.to_smartpredictor()"
   ]
  },
  {
   "cell_type": "code",
   "execution_count": 21,
   "id": "339aa9e4",
   "metadata": {},
   "outputs": [],
   "source": [
    "predictor.save('./predictor.pkl')"
   ]
  },
  {
   "cell_type": "code",
   "execution_count": 22,
   "id": "e7087f27",
   "metadata": {},
   "outputs": [],
   "source": [
    "from shapash.utils.load_smartpredictor import load_smartpredictor\n",
    "predictor_load=load_smartpredictor('./predictor.pkl')"
   ]
  },
  {
   "cell_type": "markdown",
   "id": "bfa695ad",
   "metadata": {},
   "source": [
    "# Make a prediction with your SmartPredictor\n",
    "In order to make new predictions and summarize local explainability of your model on new datasets, you can use the method add_input of the SmartPredictor.\n",
    "\n",
    "The add_input method is the first step to add a dataset for prediction and explainability.\n",
    "It checks the structure of the dataset, the prediction and the contribution if specified.\n",
    "It applies the preprocessing specified in the initialisation and reorder the features with the order used by the model. (see the documentation of this method)\n",
    "In API mode, this method can handle dictionnaries data which can be received from a GET or a POST request.\n",
    "Add data\n",
    "The x input in add_input method doesn't have to be encoded, add_input applies preprocessing."
   ]
  },
  {
   "cell_type": "code",
   "execution_count": 23,
   "id": "ab67bbd0",
   "metadata": {},
   "outputs": [],
   "source": [
    "predictor_load.add_input(x=X,ypred=y)"
   ]
  },
  {
   "cell_type": "code",
   "execution_count": 24,
   "id": "23020b4e",
   "metadata": {},
   "outputs": [],
   "source": [
    "detailed_contributions=predictor_load.detail_contributions()"
   ]
  },
  {
   "cell_type": "code",
   "execution_count": 25,
   "id": "aaac75cb",
   "metadata": {
    "scrolled": true
   },
   "outputs": [
    {
     "data": {
      "text/html": [
       "<div>\n",
       "<style scoped>\n",
       "    .dataframe tbody tr th:only-of-type {\n",
       "        vertical-align: middle;\n",
       "    }\n",
       "\n",
       "    .dataframe tbody tr th {\n",
       "        vertical-align: top;\n",
       "    }\n",
       "\n",
       "    .dataframe thead th {\n",
       "        text-align: right;\n",
       "    }\n",
       "</style>\n",
       "<table border=\"1\" class=\"dataframe\">\n",
       "  <thead>\n",
       "    <tr style=\"text-align: right;\">\n",
       "      <th></th>\n",
       "      <th>tip</th>\n",
       "      <th>day</th>\n",
       "      <th>sex</th>\n",
       "      <th>size</th>\n",
       "      <th>smoker</th>\n",
       "      <th>time</th>\n",
       "      <th>total_bill</th>\n",
       "    </tr>\n",
       "  </thead>\n",
       "  <tbody>\n",
       "    <tr>\n",
       "      <th>0</th>\n",
       "      <td>1.01</td>\n",
       "      <td>-0.170340</td>\n",
       "      <td>-0.056951</td>\n",
       "      <td>-0.098057</td>\n",
       "      <td>-0.123448</td>\n",
       "      <td>-0.013708</td>\n",
       "      <td>-0.829981</td>\n",
       "    </tr>\n",
       "    <tr>\n",
       "      <th>1</th>\n",
       "      <td>1.66</td>\n",
       "      <td>0.038296</td>\n",
       "      <td>-0.051522</td>\n",
       "      <td>-0.092831</td>\n",
       "      <td>0.017804</td>\n",
       "      <td>-0.004023</td>\n",
       "      <td>-1.145159</td>\n",
       "    </tr>\n",
       "    <tr>\n",
       "      <th>2</th>\n",
       "      <td>3.50</td>\n",
       "      <td>0.062324</td>\n",
       "      <td>-0.014326</td>\n",
       "      <td>-0.111266</td>\n",
       "      <td>-0.021741</td>\n",
       "      <td>0.007495</td>\n",
       "      <td>0.443730</td>\n",
       "    </tr>\n",
       "    <tr>\n",
       "      <th>3</th>\n",
       "      <td>3.31</td>\n",
       "      <td>0.096494</td>\n",
       "      <td>0.008631</td>\n",
       "      <td>-0.028986</td>\n",
       "      <td>-0.019291</td>\n",
       "      <td>-0.011318</td>\n",
       "      <td>0.619686</td>\n",
       "    </tr>\n",
       "    <tr>\n",
       "      <th>4</th>\n",
       "      <td>3.61</td>\n",
       "      <td>0.072741</td>\n",
       "      <td>-0.007697</td>\n",
       "      <td>0.023786</td>\n",
       "      <td>-0.002221</td>\n",
       "      <td>-0.011204</td>\n",
       "      <td>0.541809</td>\n",
       "    </tr>\n",
       "  </tbody>\n",
       "</table>\n",
       "</div>"
      ],
      "text/plain": [
       "    tip       day       sex      size    smoker      time  total_bill\n",
       "0  1.01 -0.170340 -0.056951 -0.098057 -0.123448 -0.013708   -0.829981\n",
       "1  1.66  0.038296 -0.051522 -0.092831  0.017804 -0.004023   -1.145159\n",
       "2  3.50  0.062324 -0.014326 -0.111266 -0.021741  0.007495    0.443730\n",
       "3  3.31  0.096494  0.008631 -0.028986 -0.019291 -0.011318    0.619686\n",
       "4  3.61  0.072741 -0.007697  0.023786 -0.002221 -0.011204    0.541809"
      ]
     },
     "execution_count": 25,
     "metadata": {},
     "output_type": "execute_result"
    }
   ],
   "source": [
    "detailed_contributions.head()"
   ]
  },
  {
   "cell_type": "markdown",
   "id": "918f5db7",
   "metadata": {},
   "source": [
    "# Summarize explanability of the predictions\n",
    "You can use the summarize method to summarize your local explainability\n",
    "This summary can be configured with modify_mask method so that you have explainability that meets your operational needs."
   ]
  },
  {
   "cell_type": "code",
   "execution_count": 26,
   "id": "06bb295f",
   "metadata": {},
   "outputs": [],
   "source": [
    "predictor_load.modify_mask(max_contrib=3)"
   ]
  },
  {
   "cell_type": "code",
   "execution_count": 27,
   "id": "2050afb8",
   "metadata": {},
   "outputs": [],
   "source": [
    "explanation=predictor_load.summarize()"
   ]
  },
  {
   "cell_type": "code",
   "execution_count": 28,
   "id": "fa584108",
   "metadata": {},
   "outputs": [
    {
     "data": {
      "text/html": [
       "<div>\n",
       "<style scoped>\n",
       "    .dataframe tbody tr th:only-of-type {\n",
       "        vertical-align: middle;\n",
       "    }\n",
       "\n",
       "    .dataframe tbody tr th {\n",
       "        vertical-align: top;\n",
       "    }\n",
       "\n",
       "    .dataframe thead th {\n",
       "        text-align: right;\n",
       "    }\n",
       "</style>\n",
       "<table border=\"1\" class=\"dataframe\">\n",
       "  <thead>\n",
       "    <tr style=\"text-align: right;\">\n",
       "      <th></th>\n",
       "      <th>tip</th>\n",
       "      <th>feature_1</th>\n",
       "      <th>value_1</th>\n",
       "      <th>contribution_1</th>\n",
       "      <th>feature_2</th>\n",
       "      <th>value_2</th>\n",
       "      <th>contribution_2</th>\n",
       "      <th>feature_3</th>\n",
       "      <th>value_3</th>\n",
       "      <th>contribution_3</th>\n",
       "    </tr>\n",
       "  </thead>\n",
       "  <tbody>\n",
       "    <tr>\n",
       "      <th>0</th>\n",
       "      <td>1.01</td>\n",
       "      <td>total_bill</td>\n",
       "      <td>16.99</td>\n",
       "      <td>-0.829981</td>\n",
       "      <td>day</td>\n",
       "      <td>3.0</td>\n",
       "      <td>-0.17034</td>\n",
       "      <td>smoker</td>\n",
       "      <td>1.0</td>\n",
       "      <td>-0.123448</td>\n",
       "    </tr>\n",
       "    <tr>\n",
       "      <th>1</th>\n",
       "      <td>1.66</td>\n",
       "      <td>total_bill</td>\n",
       "      <td>10.34</td>\n",
       "      <td>-1.145159</td>\n",
       "      <td>size</td>\n",
       "      <td>3.0</td>\n",
       "      <td>-0.092831</td>\n",
       "      <td>sex</td>\n",
       "      <td>0.0</td>\n",
       "      <td>-0.051522</td>\n",
       "    </tr>\n",
       "    <tr>\n",
       "      <th>2</th>\n",
       "      <td>3.50</td>\n",
       "      <td>total_bill</td>\n",
       "      <td>21.01</td>\n",
       "      <td>0.44373</td>\n",
       "      <td>size</td>\n",
       "      <td>3.0</td>\n",
       "      <td>-0.111266</td>\n",
       "      <td>day</td>\n",
       "      <td>3.0</td>\n",
       "      <td>0.062324</td>\n",
       "    </tr>\n",
       "    <tr>\n",
       "      <th>3</th>\n",
       "      <td>3.31</td>\n",
       "      <td>total_bill</td>\n",
       "      <td>23.68</td>\n",
       "      <td>0.619686</td>\n",
       "      <td>day</td>\n",
       "      <td>3.0</td>\n",
       "      <td>0.096494</td>\n",
       "      <td>size</td>\n",
       "      <td>2.0</td>\n",
       "      <td>-0.028986</td>\n",
       "    </tr>\n",
       "    <tr>\n",
       "      <th>4</th>\n",
       "      <td>3.61</td>\n",
       "      <td>total_bill</td>\n",
       "      <td>24.59</td>\n",
       "      <td>0.541809</td>\n",
       "      <td>day</td>\n",
       "      <td>3.0</td>\n",
       "      <td>0.072741</td>\n",
       "      <td>size</td>\n",
       "      <td>4.0</td>\n",
       "      <td>0.023786</td>\n",
       "    </tr>\n",
       "  </tbody>\n",
       "</table>\n",
       "</div>"
      ],
      "text/plain": [
       "    tip   feature_1 value_1 contribution_1 feature_2 value_2 contribution_2  \\\n",
       "0  1.01  total_bill   16.99      -0.829981       day     3.0       -0.17034   \n",
       "1  1.66  total_bill   10.34      -1.145159      size     3.0      -0.092831   \n",
       "2  3.50  total_bill   21.01        0.44373      size     3.0      -0.111266   \n",
       "3  3.31  total_bill   23.68       0.619686       day     3.0       0.096494   \n",
       "4  3.61  total_bill   24.59       0.541809       day     3.0       0.072741   \n",
       "\n",
       "  feature_3 value_3 contribution_3  \n",
       "0    smoker     1.0      -0.123448  \n",
       "1       sex     0.0      -0.051522  \n",
       "2       day     3.0       0.062324  \n",
       "3      size     2.0      -0.028986  \n",
       "4      size     4.0       0.023786  "
      ]
     },
     "execution_count": 28,
     "metadata": {},
     "output_type": "execute_result"
    }
   ],
   "source": [
    "explanation.head()"
   ]
  },
  {
   "cell_type": "code",
   "execution_count": null,
   "id": "9f8fa5e7",
   "metadata": {},
   "outputs": [],
   "source": []
  }
 ],
 "metadata": {
  "kernelspec": {
   "display_name": "Python 3 (ipykernel)",
   "language": "python",
   "name": "python3"
  },
  "language_info": {
   "codemirror_mode": {
    "name": "ipython",
    "version": 3
   },
   "file_extension": ".py",
   "mimetype": "text/x-python",
   "name": "python",
   "nbconvert_exporter": "python",
   "pygments_lexer": "ipython3",
   "version": "3.9.7"
  }
 },
 "nbformat": 4,
 "nbformat_minor": 5
}
