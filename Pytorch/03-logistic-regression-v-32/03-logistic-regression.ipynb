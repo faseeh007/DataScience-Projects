{
 "cells": [
  {
   "cell_type": "markdown",
   "metadata": {
    "id": "OZ0S8IQWfTTV"
   },
   "source": [
    "# Working with Images & Logistic Regression in PyTorch\n",
    "\n",
    "### Part 3 of \"Deep Learning with Pytorch: Zero to GANs\"\n",
    "\n",
    "This tutorial series is a hands-on beginner-friendly introduction to deep learning using [PyTorch](https://pytorch.org), an open-source neural networks library. These tutorials take a practical and coding-focused approach. The best way to learn the material is to execute the code and experiment with it yourself. Check out the full series here:\n",
    "\n",
    "1. [PyTorch Basics: Tensors & Gradients](https://jovian.ai/aakashns/01-pytorch-basics)\n",
    "2. [Gradient Descent & Linear Regression](https://jovian.ai/aakashns/02-linear-regression)\n",
    "3. [Working with Images & Logistic Regression](https://jovian.ai/aakashns/03-logistic-regression) \n",
    "4. [Training Deep Neural Networks on a GPU](https://jovian.ai/aakashns/04-feedforward-nn)\n",
    "5. [Image Classification using Convolutional Neural Networks](https://jovian.ai/aakashns/05-cifar10-cnn)\n",
    "6. [Data Augmentation, Regularization and ResNets](https://jovian.ai/aakashns/05b-cifar10-resnet)\n",
    "7. [Generating Images using Generative Adversarial Networks](https://jovian.ai/aakashns/06b-anime-dcgan/)"
   ]
  },
  {
   "cell_type": "markdown",
   "metadata": {
    "id": "YL4niY96fTTV"
   },
   "source": [
    "This tutorial covers the following topics:\n",
    "    \n",
    "* Working with images in PyTorch (using the MNIST dataset)\n",
    "* Splitting a dataset into training, validation, and test sets\n",
    "* Creating PyTorch models with custom logic by extending the `nn.Module` class\n",
    "* Interpreting model outputs as probabilities using Softmax and picking predicted labels\n",
    "* Picking a useful evaluation metric (accuracy) and loss function (cross-entropy) for classification problems\n",
    "* Setting up a training loop that also evaluates the model using the validation set\n",
    "* Testing the model manually on randomly picked examples \n",
    "* Saving and loading model checkpoints to avoid retraining from scratch\n",
    "\n"
   ]
  },
  {
   "cell_type": "markdown",
   "metadata": {
    "id": "l8SHC9wafTTV"
   },
   "source": [
    "### How to run the code\n",
    "\n",
    "This tutorial is an executable [Jupyter notebook](https://jupyter.org) hosted on [Jovian](https://www.jovian.ai). You can _run_ this tutorial and experiment with the code examples in a couple of ways: *using free online resources* (recommended) or *on your computer*.\n",
    "\n",
    "#### Option 1: Running using free online resources (1-click, recommended)\n",
    "\n",
    "The easiest way to start executing the code is to click the **Run** button at the top of this page and select **Run on Colab**. [Google Colab](https://colab.research.google.com) is a free online platform for running Jupyter notebooks using Google's cloud infrastructure. You can also select \"Run on Binder\" or \"Run on Kaggle\" if you face issues running the notebook on Google Colab.\n",
    "\n",
    "\n",
    "#### Option 2: Running on your computer locally\n",
    "\n",
    "To run the code on your computer locally, you'll need to set up [Python](https://www.python.org), download the notebook and install the required libraries. We recommend using the [Conda](https://docs.conda.io/projects/conda/en/latest/user-guide/install/) distribution of Python. Click the **Run** button at the top of this page, select the **Run Locally** option, and follow the instructions.\n",
    "\n",
    ">  **Jupyter Notebooks**: This tutorial is a [Jupyter notebook](https://jupyter.org) - a document made of _cells_. Each cell can contain code written in Python or explanations in plain English. You can execute code cells and view the results, e.g., numbers, messages, graphs, tables, files, etc., instantly within the notebook. Jupyter is a powerful platform for experimentation and analysis. Don't be afraid to mess around with the code & break things - you'll learn a lot by encountering and fixing errors. You can use the \"Kernel > Restart & Clear Output\" or \"Edit > Clear Outputs\" menu option to clear all outputs and start again from the top."
   ]
  },
  {
   "cell_type": "markdown",
   "metadata": {
    "id": "BlizBg8UfTTV"
   },
   "source": [
    "## Working with Images\n",
    "\n",
    "In this tutorial, we'll use our existing knowledge of PyTorch and linear regression to solve a very different kind of problem: *image classification*. We'll use the famous [*MNIST Handwritten Digits Database*](http://yann.lecun.com/exdb/mnist/) as our training dataset. It consists of 28px by 28px grayscale images of handwritten digits (0 to 9) and labels for each image indicating which digit it represents. Here are some sample images from the dataset:\n",
    "\n",
    "![mnist-sample](https://i.imgur.com/CAYnuo1.jpg)"
   ]
  },
  {
   "cell_type": "markdown",
   "metadata": {
    "id": "IArll2smfTTV"
   },
   "source": [
    "We begin by installing and importing `torch` and `torchvision`. `torchvision` contains some utilities for working with image data. It also provides helper classes to download and import popular datasets like MNIST automatically"
   ]
  },
  {
   "cell_type": "code",
   "execution_count": 23,
   "metadata": {
    "executionInfo": {
     "elapsed": 1534,
     "status": "ok",
     "timestamp": 1606577825606,
     "user": {
      "displayName": "Aakash N S",
      "photoUrl": "https://lh3.googleusercontent.com/a-/AOh14GiIWFHtan62vtW1gz2Bv2bxL3rppefcadxzEVxRKQ=s64",
      "userId": "03254185060287524023"
     },
     "user_tz": -330
    },
    "id": "y_D8CGr0fTTV"
   },
   "outputs": [],
   "source": [
    "# Uncomment and run the appropriate command for your operating system, if required\n",
    "\n",
    "# Linux / Binder\n",
    "# !pip install numpy matplotlib torch==1.7.0+cpu torchvision==0.8.1+cpu torchaudio==0.7.0 -f https://download.pytorch.org/whl/torch_stable.html\n",
    "\n",
    "# Windows\n",
    "# !pip install numpy matplotlib torch==1.7.0+cpu torchvision==0.8.1+cpu torchaudio==0.7.0 -f https://download.pytorch.org/whl/torch_stable.html\n",
    "\n",
    "# MacOS\n",
    "# !pip install numpy matplotlib torch torchvision torchaudio"
   ]
  },
  {
   "cell_type": "code",
   "execution_count": 24,
   "metadata": {
    "executionInfo": {
     "elapsed": 4034,
     "status": "ok",
     "timestamp": 1606577857436,
     "user": {
      "displayName": "Aakash N S",
      "photoUrl": "https://lh3.googleusercontent.com/a-/AOh14GiIWFHtan62vtW1gz2Bv2bxL3rppefcadxzEVxRKQ=s64",
      "userId": "03254185060287524023"
     },
     "user_tz": -330
    },
    "id": "o_xViEWvfTTV"
   },
   "outputs": [],
   "source": [
    "# Imports\n",
    "import torch\n",
    "import torchvision\n",
    "from torchvision.datasets import MNIST"
   ]
  },
  {
   "cell_type": "code",
   "execution_count": 25,
   "metadata": {
    "colab": {
     "base_uri": "https://localhost:8080/",
     "height": 389,
     "referenced_widgets": [
      "d7bc8179054c448c8decb471100d8edf",
      "3e158b4f6fc045a799a5d2848b7ef224",
      "7de6379c81224840ab318d1c5dbe2573",
      "8d85fb898cc4482794a273f9f40a7716",
      "ab0c7dba3efe488e962a95f77fdff901",
      "5e3647b0ec134d6cb7c76347435756d1",
      "41db56c1758644e28cc891ed17b9111e",
      "b278158fce8d4b619f02689a2d671560",
      "c755370c4edf4661b591e61de544ad8f",
      "392aac024b8845c58ab75d00893b4e42",
      "c50520b03cd0415c931144f086b2007a",
      "4ea3550eaeab40969e6a835721528c35",
      "12d3ec215dcc4b6794e3bbdef44602ce",
      "28ef332369de4d358909a586a1743c61",
      "332d4f3a80d84f07ad997aa55afd7f45",
      "69e7677bfdb3471d925d0a3eca1df5a7",
      "b4213321d97e4f54b356d0b466253e4c",
      "0e03dd08224f4e8c9c2f8d975358cdb7",
      "90fba2e9dcee4b5eaf94776dcd05b01a",
      "ef3735b9a82347edb1c193fcc1dc1ec2",
      "b91d4ce036c24e6fb29c9e3a2914e0bd",
      "96b3cf3c2b8c41ae832e3f33dcf13453",
      "57ea6daaa8484c59b3930783d0a9cf20",
      "043acb1db455426e8f56a61d6f39b222",
      "02a48991f3f2405db5dd2968af3177bb",
      "7113a3efba564850899ad46ec33a1ce0",
      "be465e46f1fa44c69c9dd8ff2d173543",
      "ef4e2e0ed447424b8695c1a66cec0210",
      "b612c47359234c3a8d59430c65605047",
      "7ffd56bd6fdb48efb48c338dfe983bfb",
      "eab337afee944438b7e9db9a2b7fd61b",
      "876cca63cea043f99904cd7a28f67e26"
     ]
    },
    "executionInfo": {
     "elapsed": 2911,
     "status": "ok",
     "timestamp": 1606577890091,
     "user": {
      "displayName": "Aakash N S",
      "photoUrl": "https://lh3.googleusercontent.com/a-/AOh14GiIWFHtan62vtW1gz2Bv2bxL3rppefcadxzEVxRKQ=s64",
      "userId": "03254185060287524023"
     },
     "user_tz": -330
    },
    "id": "q1Skz7dlfTTV",
    "outputId": "cfc70a7f-bbb0-4c05-e160-24c0f43bc0c7"
   },
   "outputs": [],
   "source": [
    "# Download training dataset\n",
    "dataset = MNIST(root='data/', download=True)"
   ]
  },
  {
   "cell_type": "markdown",
   "metadata": {
    "id": "Koi-fVbAfTTV"
   },
   "source": [
    "When this statement is executed for the first time, it downloads the data to the `data/` directory next to the notebook and creates a PyTorch `Dataset`. On subsequent executions, the download is skipped as the data is already downloaded. Let's check the size of the dataset."
   ]
  },
  {
   "cell_type": "code",
   "execution_count": 26,
   "metadata": {
    "colab": {
     "base_uri": "https://localhost:8080/"
    },
    "executionInfo": {
     "elapsed": 843,
     "status": "ok",
     "timestamp": 1606577913840,
     "user": {
      "displayName": "Aakash N S",
      "photoUrl": "https://lh3.googleusercontent.com/a-/AOh14GiIWFHtan62vtW1gz2Bv2bxL3rppefcadxzEVxRKQ=s64",
      "userId": "03254185060287524023"
     },
     "user_tz": -330
    },
    "id": "W9mWyKqAfTTV",
    "outputId": "c3ad6519-90c4-4584-d314-805c68cf6a7a"
   },
   "outputs": [
    {
     "data": {
      "text/plain": [
       "60000"
      ]
     },
     "execution_count": 26,
     "metadata": {},
     "output_type": "execute_result"
    }
   ],
   "source": [
    "len(dataset)"
   ]
  },
  {
   "cell_type": "markdown",
   "metadata": {
    "id": "6pRKB16NfTTW"
   },
   "source": [
    "The dataset has 60,000 images that we'll use to train the model. There is also an additional test set of 10,000 images used for evaluating models and reporting metrics in papers and reports. We can create the test dataset using the `MNIST` class by passing `train=False` to the constructor."
   ]
  },
  {
   "cell_type": "code",
   "execution_count": 27,
   "metadata": {
    "colab": {
     "base_uri": "https://localhost:8080/"
    },
    "executionInfo": {
     "elapsed": 881,
     "status": "ok",
     "timestamp": 1606577951429,
     "user": {
      "displayName": "Aakash N S",
      "photoUrl": "https://lh3.googleusercontent.com/a-/AOh14GiIWFHtan62vtW1gz2Bv2bxL3rppefcadxzEVxRKQ=s64",
      "userId": "03254185060287524023"
     },
     "user_tz": -330
    },
    "id": "zLqZQOlWfTTW",
    "outputId": "858232eb-e985-45ea-dff9-261c6e17567e"
   },
   "outputs": [
    {
     "data": {
      "text/plain": [
       "10000"
      ]
     },
     "execution_count": 27,
     "metadata": {},
     "output_type": "execute_result"
    }
   ],
   "source": [
    "test_dataset = MNIST(root='data/', train=False)\n",
    "len(test_dataset)"
   ]
  },
  {
   "cell_type": "markdown",
   "metadata": {
    "id": "bgJru-f7fTTW"
   },
   "source": [
    "Let's look at a sample element from the training dataset."
   ]
  },
  {
   "cell_type": "code",
   "execution_count": 28,
   "metadata": {
    "colab": {
     "base_uri": "https://localhost:8080/"
    },
    "executionInfo": {
     "elapsed": 748,
     "status": "ok",
     "timestamp": 1606577960430,
     "user": {
      "displayName": "Aakash N S",
      "photoUrl": "https://lh3.googleusercontent.com/a-/AOh14GiIWFHtan62vtW1gz2Bv2bxL3rppefcadxzEVxRKQ=s64",
      "userId": "03254185060287524023"
     },
     "user_tz": -330
    },
    "id": "4ZmSZeFGfTTW",
    "outputId": "f38133b3-f015-4ab9-9773-3d196e17f9a1"
   },
   "outputs": [
    {
     "data": {
      "text/plain": [
       "(<PIL.Image.Image image mode=L size=28x28 at 0x2508B65A588>, 5)"
      ]
     },
     "execution_count": 28,
     "metadata": {},
     "output_type": "execute_result"
    }
   ],
   "source": [
    "dataset[0]"
   ]
  },
  {
   "cell_type": "markdown",
   "metadata": {
    "id": "2oBdGAc4fTTX"
   },
   "source": [
    "It's a pair, consisting of a 28x28px image and a label. The image is an object of the class `PIL.Image.Image`, which is a part of the Python imaging library [Pillow](https://pillow.readthedocs.io/en/stable/). We can view the image within Jupyter using [`matplotlib`](https://matplotlib.org/), the de-facto plotting and graphing library for data science in Python."
   ]
  },
  {
   "cell_type": "code",
   "execution_count": 29,
   "metadata": {
    "executionInfo": {
     "elapsed": 769,
     "status": "ok",
     "timestamp": 1606578019026,
     "user": {
      "displayName": "Aakash N S",
      "photoUrl": "https://lh3.googleusercontent.com/a-/AOh14GiIWFHtan62vtW1gz2Bv2bxL3rppefcadxzEVxRKQ=s64",
      "userId": "03254185060287524023"
     },
     "user_tz": -330
    },
    "id": "edyBIgXPfTTX"
   },
   "outputs": [],
   "source": [
    "import matplotlib.pyplot as plt\n",
    "%matplotlib inline"
   ]
  },
  {
   "cell_type": "markdown",
   "metadata": {
    "id": "TSVQL5vJfTTX"
   },
   "source": [
    "The statement `%matplotlib inline` indicates to Jupyter that we want to plot the graphs within the notebook. Without this line, Jupyter will show the image in a popup. Statements starting with `%` are called magic commands and are used to configure the behavior of Jupyter itself. You can find a full list of magic commands here: https://ipython.readthedocs.io/en/stable/interactive/magics.html .\n",
    "\n",
    "Let's look at a couple of images from the dataset."
   ]
  },
  {
   "cell_type": "code",
   "execution_count": 30,
   "metadata": {
    "colab": {
     "base_uri": "https://localhost:8080/",
     "height": 282
    },
    "executionInfo": {
     "elapsed": 764,
     "status": "ok",
     "timestamp": 1606578085723,
     "user": {
      "displayName": "Aakash N S",
      "photoUrl": "https://lh3.googleusercontent.com/a-/AOh14GiIWFHtan62vtW1gz2Bv2bxL3rppefcadxzEVxRKQ=s64",
      "userId": "03254185060287524023"
     },
     "user_tz": -330
    },
    "id": "3cxwpTQLfTTX",
    "outputId": "0e67e177-1d1e-489e-f45e-3353d7960076"
   },
   "outputs": [
    {
     "name": "stdout",
     "output_type": "stream",
     "text": [
      "Label: 5\n"
     ]
    },
    {
     "data": {
      "image/png": "[encoded data removed]",
      "text/plain": [
       "<Figure size 432x288 with 1 Axes>"
      ]
     },
     "metadata": {
      "needs_background": "light"
     },
     "output_type": "display_data"
    }
   ],
   "source": [
    "image, label = dataset[0]\n",
    "plt.imshow(image, cmap='gray')\n",
    "print('Label:', label)"
   ]
  },
  {
   "cell_type": "code",
   "execution_count": 31,
   "metadata": {
    "colab": {
     "base_uri": "https://localhost:8080/",
     "height": 282
    },
    "executionInfo": {
     "elapsed": 798,
     "status": "ok",
     "timestamp": 1606578094615,
     "user": {
      "displayName": "Aakash N S",
      "photoUrl": "https://lh3.googleusercontent.com/a-/AOh14GiIWFHtan62vtW1gz2Bv2bxL3rppefcadxzEVxRKQ=s64",
      "userId": "03254185060287524023"
     },
     "user_tz": -330
    },
    "id": "35ELPbM7fTTX",
    "outputId": "0bfafb5a-46c1-465d-aeff-b7ee7ff601bc"
   },
   "outputs": [
    {
     "name": "stdout",
     "output_type": "stream",
     "text": [
      "Label: 3\n"
     ]
    },
    {
     "data": {
      "image/png": "[encoded data removed]",
      "text/plain": [
       "<Figure size 432x288 with 1 Axes>"
      ]
     },
     "metadata": {
      "needs_background": "light"
     },
     "output_type": "display_data"
    }
   ],
   "source": [
    "image, label = dataset[10]\n",
    "plt.imshow(image, cmap='gray')\n",
    "print('Label:', label)"
   ]
  },
  {
   "cell_type": "markdown",
   "metadata": {
    "id": "5vO2Gh9RfTTX"
   },
   "source": [
    "It's evident that these images are relatively small in size, and recognizing the digits can sometimes be challenging even for the human eye. While it's useful to look at these images, there's just one problem here: PyTorch doesn't know how to work with images. We need to convert the images into tensors. We can do this by specifying a transform while creating our dataset."
   ]
  },
  {
   "cell_type": "code",
   "execution_count": 32,
   "metadata": {
    "executionInfo": {
     "elapsed": 757,
     "status": "ok",
     "timestamp": 1606578158015,
     "user": {
      "displayName": "Aakash N S",
      "photoUrl": "https://lh3.googleusercontent.com/a-/AOh14GiIWFHtan62vtW1gz2Bv2bxL3rppefcadxzEVxRKQ=s64",
      "userId": "03254185060287524023"
     },
     "user_tz": -330
    },
    "id": "FBnad_UDfTTX"
   },
   "outputs": [],
   "source": [
    "import torchvision.transforms as transforms"
   ]
  },
  {
   "cell_type": "markdown",
   "metadata": {
    "id": "084T0emtfTTX"
   },
   "source": [
    "PyTorch datasets allow us to specify one or more transformation functions that are applied to the images as they are loaded. The `torchvision.transforms` module contains many such predefined functions. We'll use the `ToTensor` transform to convert images into PyTorch tensors."
   ]
  },
  {
   "cell_type": "code",
   "execution_count": 33,
   "metadata": {
    "executionInfo": {
     "elapsed": 927,
     "status": "ok",
     "timestamp": 1606578184520,
     "user": {
      "displayName": "Aakash N S",
      "photoUrl": "https://lh3.googleusercontent.com/a-/AOh14GiIWFHtan62vtW1gz2Bv2bxL3rppefcadxzEVxRKQ=s64",
      "userId": "03254185060287524023"
     },
     "user_tz": -330
    },
    "id": "hYvBQ3LzfTTX"
   },
   "outputs": [],
   "source": [
    "# MNIST dataset (images and labels)\n",
    "dataset = MNIST(root='data/', \n",
    "                train=True,\n",
    "                transform=transforms.ToTensor())"
   ]
  },
  {
   "cell_type": "code",
   "execution_count": 34,
   "metadata": {
    "colab": {
     "base_uri": "https://localhost:8080/"
    },
    "executionInfo": {
     "elapsed": 781,
     "status": "ok",
     "timestamp": 1606578201993,
     "user": {
      "displayName": "Aakash N S",
      "photoUrl": "https://lh3.googleusercontent.com/a-/AOh14GiIWFHtan62vtW1gz2Bv2bxL3rppefcadxzEVxRKQ=s64",
      "userId": "03254185060287524023"
     },
     "user_tz": -330
    },
    "id": "nCZ4h7jMfTTX",
    "outputId": "d182f619-8e57-4864-ec67-8f2b08c78fc7"
   },
   "outputs": [
    {
     "name": "stdout",
     "output_type": "stream",
     "text": [
      "torch.Size([1, 28, 28]) 5\n"
     ]
    }
   ],
   "source": [
    "img_tensor, label = dataset[0]\n",
    "print(img_tensor.shape, label)"
   ]
  },
  {
   "cell_type": "markdown",
   "metadata": {
    "id": "Io317DfSfTTX"
   },
   "source": [
    "The image is now converted to a 1x28x28 tensor. The first dimension tracks color channels. The second and third dimensions represent pixels along the height and width of the image, respectively. Since images in the MNIST dataset are grayscale, there's just one channel. Other datasets have images with color, in which case there are three channels: red, green, and blue (RGB). \n",
    "\n",
    "Let's look at some sample values inside the tensor."
   ]
  },
  {
   "cell_type": "code",
   "execution_count": 35,
   "metadata": {
    "colab": {
     "base_uri": "https://localhost:8080/"
    },
    "executionInfo": {
     "elapsed": 792,
     "status": "ok",
     "timestamp": 1606578295334,
     "user": {
      "displayName": "Aakash N S",
      "photoUrl": "https://lh3.googleusercontent.com/a-/AOh14GiIWFHtan62vtW1gz2Bv2bxL3rppefcadxzEVxRKQ=s64",
      "userId": "03254185060287524023"
     },
     "user_tz": -330
    },
    "id": "prZFgdtefTTX",
    "outputId": "835d4232-380d-456a-fafd-8f8474766ba0"
   },
   "outputs": [
    {
     "name": "stdout",
     "output_type": "stream",
     "text": [
      "tensor([[0.0039, 0.6039, 0.9922, 0.3529, 0.0000],\n",
      "        [0.0000, 0.5451, 0.9922, 0.7451, 0.0078],\n",
      "        [0.0000, 0.0431, 0.7451, 0.9922, 0.2745],\n",
      "        [0.0000, 0.0000, 0.1373, 0.9451, 0.8824],\n",
      "        [0.0000, 0.0000, 0.0000, 0.3176, 0.9412]])\n",
      "tensor(1.) tensor(0.)\n"
     ]
    }
   ],
   "source": [
    "print(img_tensor[0,10:15,10:15])\n",
    "print(torch.max(img_tensor), torch.min(img_tensor))"
   ]
  },
  {
   "cell_type": "markdown",
   "metadata": {
    "id": "_2HjQ5P5fTTX"
   },
   "source": [
    "The values range from 0 to 1, with `0` representing black, `1` white, and the values in between different shades of grey. We can also plot the tensor as an image using `plt.imshow`."
   ]
  },
  {
   "cell_type": "code",
   "execution_count": 36,
   "metadata": {
    "colab": {
     "base_uri": "https://localhost:8080/",
     "height": 265
    },
    "executionInfo": {
     "elapsed": 828,
     "status": "ok",
     "timestamp": 1606578335519,
     "user": {
      "displayName": "Aakash N S",
      "photoUrl": "https://lh3.googleusercontent.com/a-/AOh14GiIWFHtan62vtW1gz2Bv2bxL3rppefcadxzEVxRKQ=s64",
      "userId": "03254185060287524023"
     },
     "user_tz": -330
    },
    "id": "Fw-NvsqpfTTX",
    "outputId": "5b128f82-14dc-467b-c704-a2795dce6c72"
   },
   "outputs": [
    {
     "data": {
      "image/png": "[encoded data removed]",
      "text/plain": [
       "<Figure size 432x288 with 1 Axes>"
      ]
     },
     "metadata": {
      "needs_background": "light"
     },
     "output_type": "display_data"
    }
   ],
   "source": [
    "# Plot the image by passing in the 28x28 matrix\n",
    "plt.imshow(img_tensor[0,10:15,10:15], cmap='gray');"
   ]
  },
  {
   "cell_type": "markdown",
   "metadata": {
    "id": "WudqBr3pfTTX"
   },
   "source": [
    "Note that we need to pass just the 28x28 matrix to `plt.imshow`, without a channel dimension. We also pass a color map (`cmap=gray`) to indicate that we want to see a grayscale image."
   ]
  },
  {
   "cell_type": "markdown",
   "metadata": {
    "id": "qSKTZ8aifTTX"
   },
   "source": [
    "## Training and Validation Datasets\n",
    "\n",
    "While building real-world machine learning models, it is quite common to split the dataset into three parts:\n",
    "\n",
    "1. **Training set** - used to train the model, i.e., compute the loss and adjust the model's weights using gradient descent.\n",
    "2. **Validation set** - used to evaluate the model during training, adjust hyperparameters (learning rate, etc.), and pick the best version of the model.\n",
    "3. **Test set** - used to compare different models or approaches and report the model's final accuracy.\n",
    "\n",
    "In the MNIST dataset, there are 60,000 training images and 10,000 test images. The test set is standardized so that different researchers can report their models' results against the same collection of images. \n",
    "\n",
    "Since there's no predefined validation set, we must manually split the 60,000 images into training and validation datasets. Let's set aside 10,000 randomly chosen images for validation. We can do this using the `random_spilt` method from PyTorch."
   ]
  },
  {
   "cell_type": "code",
   "execution_count": 37,
   "metadata": {
    "colab": {
     "base_uri": "https://localhost:8080/"
    },
    "executionInfo": {
     "elapsed": 802,
     "status": "ok",
     "timestamp": 1606578530215,
     "user": {
      "displayName": "Aakash N S",
      "photoUrl": "https://lh3.googleusercontent.com/a-/AOh14GiIWFHtan62vtW1gz2Bv2bxL3rppefcadxzEVxRKQ=s64",
      "userId": "03254185060287524023"
     },
     "user_tz": -330
    },
    "id": "1dcE0OPBfTTX",
    "outputId": "be74ca6a-d40e-4ccf-cc24-ea6231a6e097"
   },
   "outputs": [
    {
     "data": {
      "text/plain": [
       "(50000, 10000)"
      ]
     },
     "execution_count": 37,
     "metadata": {},
     "output_type": "execute_result"
    }
   ],
   "source": [
    "from torch.utils.data import random_split\n",
    "\n",
    "train_ds, val_ds = random_split(dataset, [50000, 10000])\n",
    "len(train_ds), len(val_ds)"
   ]
  },
  {
   "cell_type": "markdown",
   "metadata": {
    "id": "CACcvMnZfTTX"
   },
   "source": [
    "It's essential to choose a random sample for creating a validation set. Training data is often sorted by the target labels, i.e., images of 0s, followed by 1s, followed by 2s, etc. If we create a validation set using the last 20% of images, it would only consist of 8s and 9s. In contrast, the training set would contain no 8s or 9s. Such a training-validation would make it impossible to train a useful model.\n",
    "\n",
    "We can now create data loaders to help us load the data in batches. We'll use a batch size of 128.\n",
    "\n",
    "\n"
   ]
  },
  {
   "cell_type": "code",
   "execution_count": 47,
   "metadata": {
    "executionInfo": {
     "elapsed": 846,
     "status": "ok",
     "timestamp": 1606578689940,
     "user": {
      "displayName": "Aakash N S",
      "photoUrl": "https://lh3.googleusercontent.com/a-/AOh14GiIWFHtan62vtW1gz2Bv2bxL3rppefcadxzEVxRKQ=s64",
      "userId": "03254185060287524023"
     },
     "user_tz": -330
    },
    "id": "pD_oD7BTfTTX"
   },
   "outputs": [],
   "source": [
    "from torch.utils.data import DataLoader\n",
    "\n",
    "batch_size = 100\n",
    "\n",
    "train_loader = DataLoader(train_ds, batch_size, shuffle=True)\n",
    "val_loader = DataLoader(val_ds, batch_size)"
   ]
  },
  {
   "cell_type": "markdown",
   "metadata": {
    "id": "NCtbVhkOfTTX"
   },
   "source": [
    "We set `shuffle=True` for the training data loader to ensure that the batches generated in each epoch are different. This randomization helps generalize & speed up the training process. On the other hand, since the validation data loader is used only for evaluating the model, there is no need to shuffle the images. \n"
   ]
  },
  {
   "cell_type": "markdown",
   "metadata": {
    "id": "HEyJshGxfTTY"
   },
   "source": [
    "### Save and upload your notebook\n",
    "\n",
    "Whether you're running this Jupyter notebook online or on your computer, it's essential to save your work from time to time. You can continue working on a saved notebook later or share it with friends and colleagues to let them execute your code. [Jovian](https://jovian.ai/platform-features) offers an easy way of saving and sharing your Jupyter notebooks online."
   ]
  },
  {
   "cell_type": "code",
   "execution_count": 39,
   "metadata": {
    "executionInfo": {
     "elapsed": 3385,
     "status": "ok",
     "timestamp": 1606578705431,
     "user": {
      "displayName": "Aakash N S",
      "photoUrl": "https://lh3.googleusercontent.com/a-/AOh14GiIWFHtan62vtW1gz2Bv2bxL3rppefcadxzEVxRKQ=s64",
      "userId": "03254185060287524023"
     },
     "user_tz": -330
    },
    "id": "QWDMN_nsfTTY"
   },
   "outputs": [
    {
     "name": "stdout",
     "output_type": "stream",
     "text": [
      "^C\n"
     ]
    }
   ],
   "source": [
    "# Install the library\n",
    "!pip install jovian --upgrade --quiet"
   ]
  },
  {
   "cell_type": "code",
   "execution_count": 40,
   "metadata": {
    "executionInfo": {
     "elapsed": 616,
     "status": "ok",
     "timestamp": 1606578706947,
     "user": {
      "displayName": "Aakash N S",
      "photoUrl": "https://lh3.googleusercontent.com/a-/AOh14GiIWFHtan62vtW1gz2Bv2bxL3rppefcadxzEVxRKQ=s64",
      "userId": "03254185060287524023"
     },
     "user_tz": -330
    },
    "id": "HS6PzY2KfTTY"
   },
   "outputs": [],
   "source": [
    "import jovian"
   ]
  },
  {
   "cell_type": "code",
   "execution_count": 41,
   "metadata": {
    "colab": {
     "base_uri": "https://localhost:8080/",
     "height": 139
    },
    "executionInfo": {
     "elapsed": 20491,
     "status": "ok",
     "timestamp": 1606578738611,
     "user": {
      "displayName": "Aakash N S",
      "photoUrl": "https://lh3.googleusercontent.com/a-/AOh14GiIWFHtan62vtW1gz2Bv2bxL3rppefcadxzEVxRKQ=s64",
      "userId": "03254185060287524023"
     },
     "user_tz": -330
    },
    "id": "LkpRo2TffTTY",
    "outputId": "9b371bfd-b0e2-4f18-c82a-0ef65ec442ef"
   },
   "outputs": [
    {
     "data": {
      "application/javascript": [
       "window.require && require([\"base/js/namespace\"],function(Jupyter){Jupyter.notebook.save_checkpoint()})"
      ],
      "text/plain": [
       "<IPython.core.display.Javascript object>"
      ]
     },
     "metadata": {},
     "output_type": "display_data"
    },
    {
     "name": "stdout",
     "output_type": "stream",
     "text": [
      "[jovian] Creating a new project \"faseehahmedrocks26/03-logistic-regression-live\"\u001b[0m\n",
      "[jovian] Committed successfully! https://jovian.ai/faseehahmedrocks26/03-logistic-regression-live\u001b[0m\n"
     ]
    },
    {
     "data": {
      "text/plain": [
       "'https://jovian.ai/faseehahmedrocks26/03-logistic-regression-live'"
      ]
     },
     "execution_count": 41,
     "metadata": {},
     "output_type": "execute_result"
    }
   ],
   "source": [
    "jovian.commit(project='03-logistic-regression-live')"
   ]
  },
  {
   "cell_type": "markdown",
   "metadata": {
    "id": "rUFBNaPFfTTY"
   },
   "source": [
    "`jovian.commit` uploads the notebook to your Jovian account, captures the Python environment, and creates a shareable link for your notebook, as shown above. You can use this link to share your work and let anyone (including you) run your notebooks and reproduce your work."
   ]
  },
  {
   "cell_type": "markdown",
   "metadata": {
    "id": "Fy-lajKQfTTY"
   },
   "source": [
    "## Model\n",
    "\n",
    "Now that we have prepared our data loaders, we can define our model.\n",
    "\n",
    "* A **logistic regression** model is almost identical to a linear regression model. It contains weights and bias matrices, and the output is obtained using simple matrix operations (`pred = x @ w.t() + b`). \n",
    "\n",
    "* As we did with linear regression, we can use `nn.Linear` to create the model instead of manually creating and initializing the matrices.\n",
    "\n",
    "* Since `nn.Linear` expects each training example to be a vector, each `1x28x28` image tensor is _flattened_ into a vector of size 784 `(28*28)` before being passed into the model. \n",
    "\n",
    "* The output for each image is a vector of size 10, with each element signifying the probability of a particular target label (i.e., 0 to 9). The predicted label for an image is simply the one with the highest probability."
   ]
  },
  {
   "cell_type": "code",
   "execution_count": 48,
   "metadata": {
    "executionInfo": {
     "elapsed": 1078,
     "status": "ok",
     "timestamp": 1606579070048,
     "user": {
      "displayName": "Aakash N S",
      "photoUrl": "https://lh3.googleusercontent.com/a-/AOh14GiIWFHtan62vtW1gz2Bv2bxL3rppefcadxzEVxRKQ=s64",
      "userId": "03254185060287524023"
     },
     "user_tz": -330
    },
    "id": "zzVbD7pifTTY"
   },
   "outputs": [],
   "source": [
    "import torch.nn as nn\n",
    "\n",
    "input_size = 28*28\n",
    "num_classes = 10\n",
    "\n",
    "# Logistic regression model\n",
    "model = nn.Linear(input_size, num_classes)"
   ]
  },
  {
   "cell_type": "markdown",
   "metadata": {
    "id": "2ilamccMfTTY"
   },
   "source": [
    "Of course, this model is a lot larger than our previous model in terms of the number of parameters. Let's take a look at the weights and biases."
   ]
  },
  {
   "cell_type": "code",
   "execution_count": 49,
   "metadata": {
    "colab": {
     "base_uri": "https://localhost:8080/"
    },
    "executionInfo": {
     "elapsed": 765,
     "status": "ok",
     "timestamp": 1606579085171,
     "user": {
      "displayName": "Aakash N S",
      "photoUrl": "https://lh3.googleusercontent.com/a-/AOh14GiIWFHtan62vtW1gz2Bv2bxL3rppefcadxzEVxRKQ=s64",
      "userId": "03254185060287524023"
     },
     "user_tz": -330
    },
    "id": "HAj8gVdUfTTY",
    "outputId": "3569f384-390a-4555-949f-a85b79a22ed0"
   },
   "outputs": [
    {
     "name": "stdout",
     "output_type": "stream",
     "text": [
      "torch.Size([10, 784])\n"
     ]
    },
    {
     "data": {
      "text/plain": [
       "Parameter containing:\n",
       "tensor([[-0.0275, -0.0094,  0.0012,  ..., -0.0258, -0.0140,  0.0087],\n",
       "        [-0.0130,  0.0206,  0.0350,  ...,  0.0043, -0.0292, -0.0317],\n",
       "        [ 0.0282, -0.0172,  0.0286,  ...,  0.0061, -0.0340,  0.0104],\n",
       "        ...,\n",
       "        [ 0.0250,  0.0259,  0.0277,  ..., -0.0276, -0.0180,  0.0319],\n",
       "        [ 0.0017,  0.0173,  0.0198,  ..., -0.0329, -0.0046,  0.0079],\n",
       "        [-0.0310,  0.0186, -0.0064,  ..., -0.0322,  0.0225, -0.0107]],\n",
       "       requires_grad=True)"
      ]
     },
     "execution_count": 49,
     "metadata": {},
     "output_type": "execute_result"
    }
   ],
   "source": [
    "print(model.weight.shape)\n",
    "model.weight"
   ]
  },
  {
   "cell_type": "code",
   "execution_count": 50,
   "metadata": {
    "colab": {
     "base_uri": "https://localhost:8080/"
    },
    "executionInfo": {
     "elapsed": 1187,
     "status": "ok",
     "timestamp": 1606579093000,
     "user": {
      "displayName": "Aakash N S",
      "photoUrl": "https://lh3.googleusercontent.com/a-/AOh14GiIWFHtan62vtW1gz2Bv2bxL3rppefcadxzEVxRKQ=s64",
      "userId": "03254185060287524023"
     },
     "user_tz": -330
    },
    "id": "fRnviQ34fTTY",
    "outputId": "25bf0abf-427c-4079-8cc2-0d03eb6af0b2"
   },
   "outputs": [
    {
     "name": "stdout",
     "output_type": "stream",
     "text": [
      "torch.Size([10])\n"
     ]
    },
    {
     "data": {
      "text/plain": [
       "Parameter containing:\n",
       "tensor([-0.0165, -0.0206,  0.0333, -0.0331,  0.0165,  0.0192, -0.0120,  0.0315,\n",
       "        -0.0176, -0.0111], requires_grad=True)"
      ]
     },
     "execution_count": 50,
     "metadata": {},
     "output_type": "execute_result"
    }
   ],
   "source": [
    "print(model.bias.shape)\n",
    "model.bias"
   ]
  },
  {
   "cell_type": "markdown",
   "metadata": {
    "id": "Is6yNefafTTY"
   },
   "source": [
    "Although there are a total of 7850 parameters here, conceptually, nothing has changed so far. Let's try and generate some outputs using our model. We'll take the first batch of 100 images from our dataset and pass them into our model."
   ]
  },
  {
   "cell_type": "code",
   "execution_count": 59,
   "metadata": {
    "colab": {
     "base_uri": "https://localhost:8080/",
     "height": 517
    },
    "executionInfo": {
     "elapsed": 645,
     "status": "error",
     "timestamp": 1606579153232,
     "user": {
      "displayName": "Aakash N S",
      "photoUrl": "https://lh3.googleusercontent.com/a-/AOh14GiIWFHtan62vtW1gz2Bv2bxL3rppefcadxzEVxRKQ=s64",
      "userId": "03254185060287524023"
     },
     "user_tz": -330
    },
    "id": "qIuxYOy3fTTY",
    "outputId": "a58c1ab0-bddb-456a-d9a4-d27d9b6d8332"
   },
   "outputs": [
    {
     "name": "stdout",
     "output_type": "stream",
     "text": [
      "tensor([6, 3, 5, 9, 2, 5, 8, 6, 5, 9, 3, 8, 7, 5, 4, 6, 8, 0, 2, 4, 1, 4, 6, 9,\n",
      "        8, 5, 2, 3, 6, 5, 0, 3, 1, 9, 3, 7, 4, 7, 7, 7, 7, 2, 1, 0, 9, 7, 4, 4,\n",
      "        4, 5, 3, 1, 9, 3, 0, 8, 0, 8, 2, 3, 4, 8, 8, 1, 7, 5, 0, 8, 5, 3, 1, 6,\n",
      "        9, 5, 1, 2, 4, 4, 6, 0, 9, 2, 0, 2, 5, 7, 3, 7, 2, 1, 0, 5, 3, 5, 2, 6,\n",
      "        6, 9, 0, 6])\n",
      "torch.Size([100, 1, 28, 28])\n",
      "tensor([[-0.1377, -0.1010,  0.0602,  0.1690, -0.0909, -0.1604, -0.1021, -0.2427,\n",
      "         -0.1300,  0.1432],\n",
      "        [-0.0587,  0.1953, -0.2106, -0.1307, -0.0331,  0.1521,  0.1933, -0.0888,\n",
      "          0.1468, -0.0069],\n",
      "        [-0.2532,  0.0394, -0.0451,  0.1978, -0.0150,  0.0965, -0.0792,  0.0759,\n",
      "         -0.0982, -0.1242],\n",
      "        [-0.1298, -0.0691,  0.0491,  0.3361, -0.0580,  0.1176,  0.0615,  0.0010,\n",
      "         -0.1170,  0.0448],\n",
      "        [ 0.0065,  0.0823,  0.0830, -0.0859, -0.1398, -0.2364, -0.1526,  0.0881,\n",
      "         -0.0527, -0.0884],\n",
      "        [-0.2936, -0.0089, -0.0857,  0.1633, -0.0427,  0.1880, -0.0756,  0.1383,\n",
      "         -0.1381, -0.1521],\n",
      "        [-0.1197, -0.0473, -0.0346,  0.2244,  0.0697, -0.0831, -0.1531,  0.0806,\n",
      "         -0.1463,  0.2415],\n",
      "        [-0.1809,  0.0432, -0.1719,  0.1172,  0.0362, -0.1461,  0.2447,  0.1787,\n",
      "          0.0537, -0.1067],\n",
      "        [-0.2106, -0.0578, -0.0878,  0.0050,  0.0539, -0.1267,  0.1363, -0.0520,\n",
      "         -0.1350, -0.0246],\n",
      "        [-0.0438,  0.0315,  0.0336,  0.1643,  0.0785,  0.1731,  0.0028, -0.0521,\n",
      "         -0.0771,  0.2263],\n",
      "        [-0.0149,  0.0841, -0.1082,  0.1473,  0.2624, -0.3157, -0.0140,  0.0169,\n",
      "         -0.2695,  0.0466],\n",
      "        [-0.0710,  0.1210, -0.0889,  0.1800,  0.1700, -0.0186,  0.0395,  0.0630,\n",
      "         -0.0588, -0.0259],\n",
      "        [-0.0030,  0.0110,  0.2219,  0.0221,  0.0909, -0.0732, -0.0870, -0.0417,\n",
      "         -0.0270, -0.0685],\n",
      "        [-0.0655,  0.2088, -0.0783, -0.0532, -0.0721,  0.1326,  0.0722,  0.0491,\n",
      "         -0.1355, -0.1020],\n",
      "        [-0.0816, -0.0940, -0.0450, -0.0926, -0.0728, -0.0557,  0.3308,  0.1208,\n",
      "         -0.0672,  0.0801],\n",
      "        [ 0.0106,  0.0526, -0.2892,  0.1068, -0.1330, -0.2562,  0.3014,  0.2742,\n",
      "          0.1988, -0.0379],\n",
      "        [-0.0838,  0.0682, -0.2445, -0.0576,  0.0865, -0.1848,  0.1511,  0.0466,\n",
      "         -0.0292, -0.0250],\n",
      "        [-0.2059,  0.1708, -0.1629,  0.3470,  0.2312, -0.0194,  0.0229, -0.1265,\n",
      "         -0.3175, -0.0442],\n",
      "        [-0.0911,  0.3492, -0.0881, -0.0100, -0.1132, -0.0935,  0.1360, -0.2948,\n",
      "         -0.1396, -0.2130],\n",
      "        [-0.3097,  0.0724, -0.0964,  0.0886,  0.0998,  0.0023,  0.0639,  0.1202,\n",
      "         -0.1003,  0.0370],\n",
      "        [-0.1210,  0.1647, -0.1206,  0.0275,  0.1510, -0.0382,  0.0952,  0.0436,\n",
      "         -0.1399, -0.0750],\n",
      "        [-0.1124,  0.0424, -0.0929, -0.0868,  0.0734,  0.0312, -0.0691,  0.1737,\n",
      "         -0.0715, -0.0609],\n",
      "        [-0.2217,  0.1193, -0.1507,  0.0190, -0.0924,  0.0620,  0.1959,  0.0484,\n",
      "         -0.1952, -0.0138],\n",
      "        [-0.1554,  0.1560, -0.0025,  0.0309,  0.0507,  0.1492,  0.1375,  0.1414,\n",
      "          0.0121,  0.0948],\n",
      "        [-0.0892, -0.0454, -0.2315,  0.2437,  0.0072, -0.2458,  0.2410,  0.0598,\n",
      "         -0.0733, -0.1181],\n",
      "        [-0.0730,  0.1161,  0.1482,  0.0490, -0.1403, -0.2490, -0.0921,  0.0982,\n",
      "         -0.1364, -0.1705],\n",
      "        [-0.0611,  0.3430, -0.1372,  0.0983,  0.1119,  0.0176,  0.1046,  0.0704,\n",
      "         -0.2238,  0.2108],\n",
      "        [-0.1487,  0.0383, -0.1933,  0.2385,  0.0301, -0.1939, -0.2077, -0.0715,\n",
      "         -0.2706,  0.2095],\n",
      "        [ 0.0746,  0.0986, -0.0083, -0.0507, -0.0842, -0.0515,  0.1345,  0.0836,\n",
      "         -0.0589,  0.0802],\n",
      "        [ 0.0273, -0.0557, -0.1256, -0.1222, -0.0073, -0.2131,  0.0967,  0.0016,\n",
      "         -0.1802, -0.1655],\n",
      "        [-0.1763,  0.1923, -0.0506,  0.4742, -0.0424, -0.2149, -0.3033, -0.3810,\n",
      "         -0.5006, -0.0816],\n",
      "        [ 0.1286,  0.0596,  0.0043,  0.0897,  0.1237, -0.3580,  0.0066, -0.0405,\n",
      "         -0.3590, -0.0510],\n",
      "        [-0.0541, -0.1002, -0.1356,  0.1548,  0.0296, -0.0860,  0.1972,  0.0522,\n",
      "         -0.0155, -0.0687],\n",
      "        [-0.1588, -0.0948, -0.0858,  0.0974, -0.0262,  0.0707,  0.1309,  0.0513,\n",
      "         -0.0489, -0.0917],\n",
      "        [-0.1019,  0.1471,  0.0466,  0.2762,  0.0384, -0.1752, -0.3115,  0.0806,\n",
      "         -0.5093,  0.2077],\n",
      "        [ 0.1402, -0.1054,  0.0628,  0.2196,  0.0687, -0.1424,  0.1767, -0.2048,\n",
      "         -0.0719,  0.1168],\n",
      "        [-0.0751,  0.3281, -0.0938,  0.0262,  0.0550, -0.0468,  0.0056, -0.1182,\n",
      "         -0.1703,  0.0639],\n",
      "        [ 0.1250, -0.1461,  0.2328,  0.2571,  0.0149, -0.0249,  0.0612, -0.1071,\n",
      "         -0.0877,  0.0874],\n",
      "        [-0.0432, -0.1102, -0.1339,  0.0142, -0.0978, -0.0661,  0.2220,  0.0750,\n",
      "         -0.0085, -0.0769],\n",
      "        [ 0.1111, -0.0873, -0.1368, -0.0216, -0.0185,  0.0188,  0.0513, -0.0397,\n",
      "         -0.0574,  0.0129],\n",
      "        [ 0.0483,  0.0386,  0.1377,  0.1004, -0.0091, -0.2066,  0.0412, -0.1304,\n",
      "          0.0854,  0.0140],\n",
      "        [ 0.1178,  0.1011,  0.0802,  0.2502,  0.3556, -0.2201, -0.0058, -0.2836,\n",
      "          0.0140,  0.0169],\n",
      "        [-0.0667,  0.1376,  0.1068,  0.0703,  0.0120, -0.0941,  0.1175,  0.1084,\n",
      "         -0.3265,  0.0866],\n",
      "        [ 0.0684,  0.0362, -0.0784,  0.2957,  0.1245,  0.0923,  0.1491, -0.2532,\n",
      "         -0.2501, -0.2031],\n",
      "        [ 0.1011, -0.0792, -0.1163,  0.0678, -0.0590,  0.1020, -0.0215, -0.0433,\n",
      "         -0.2578,  0.0645],\n",
      "        [ 0.0053, -0.2085, -0.0690,  0.1612, -0.0256,  0.0481,  0.0724, -0.0139,\n",
      "         -0.1950, -0.0833],\n",
      "        [-0.0070, -0.0243, -0.0115, -0.0627, -0.1672, -0.1535,  0.1657, -0.1251,\n",
      "          0.0946,  0.1600],\n",
      "        [-0.1026, -0.0830,  0.0126,  0.0999, -0.1697, -0.0250,  0.2624, -0.2540,\n",
      "         -0.4428, -0.0851],\n",
      "        [ 0.0103, -0.0273,  0.0426, -0.0683, -0.0202, -0.0329,  0.4942,  0.0328,\n",
      "         -0.0134, -0.0817],\n",
      "        [ 0.0581, -0.1740, -0.1031, -0.0556, -0.1034, -0.1592,  0.1903,  0.0680,\n",
      "         -0.4813, -0.0217],\n",
      "        [-0.2862,  0.0422, -0.1914,  0.1938,  0.1252, -0.5588, -0.0228,  0.0609,\n",
      "         -0.3212, -0.2061],\n",
      "        [-0.0377,  0.2731, -0.2167, -0.0470,  0.0794, -0.1063,  0.0631, -0.0178,\n",
      "          0.0361, -0.0774],\n",
      "        [-0.0618,  0.3006,  0.0934,  0.1015,  0.0287, -0.0380,  0.0511,  0.0968,\n",
      "         -0.0778, -0.0090],\n",
      "        [-0.0925,  0.1889, -0.3939, -0.0867,  0.0943,  0.0770,  0.1744,  0.1228,\n",
      "          0.0497, -0.0546],\n",
      "        [-0.1169,  0.0764, -0.0759,  0.4362, -0.0355,  0.0130, -0.3325, -0.2904,\n",
      "         -0.2531,  0.1791],\n",
      "        [ 0.1008,  0.2181, -0.1296,  0.0918,  0.2238, -0.3667,  0.0529, -0.0342,\n",
      "         -0.2485,  0.0236],\n",
      "        [-0.1530,  0.3495, -0.0904,  0.1097,  0.0311, -0.1301,  0.0055, -0.2612,\n",
      "         -0.3798, -0.1408],\n",
      "        [-0.4952,  0.1544, -0.1797,  0.0536, -0.1117, -0.2158,  0.2147,  0.0179,\n",
      "         -0.0194, -0.1022],\n",
      "        [-0.1065,  0.2423, -0.1777,  0.0314, -0.0926, -0.3921,  0.0935, -0.3103,\n",
      "          0.0375, -0.3185],\n",
      "        [-0.0242,  0.1717,  0.2106,  0.0550,  0.1662, -0.2609, -0.1030, -0.2829,\n",
      "         -0.2247, -0.1871],\n",
      "        [-0.0525, -0.0423, -0.2123, -0.0553, -0.3219, -0.2382,  0.1930, -0.2238,\n",
      "         -0.1500,  0.2662],\n",
      "        [-0.2518,  0.0274, -0.0815,  0.0569,  0.1418,  0.0269,  0.1804, -0.0537,\n",
      "         -0.2120,  0.0765],\n",
      "        [-0.0612, -0.1477, -0.1086, -0.2451,  0.0099,  0.0053,  0.3779,  0.0962,\n",
      "         -0.2757, -0.3234],\n",
      "        [-0.1363,  0.0514, -0.0461,  0.1065,  0.1852, -0.0203,  0.0843,  0.0966,\n",
      "         -0.2724, -0.0031],\n",
      "        [-0.1222, -0.1357,  0.1685,  0.1050,  0.1057, -0.1733, -0.1548, -0.1285,\n",
      "         -0.1933,  0.1977],\n",
      "        [-0.0693,  0.0152, -0.1588,  0.4561,  0.2481,  0.0270,  0.0093, -0.0909,\n",
      "          0.0302,  0.4190],\n",
      "        [-0.2785, -0.1231, -0.1478,  0.0597, -0.0951, -0.3484,  0.0681, -0.1346,\n",
      "         -0.0388, -0.3080],\n",
      "        [-0.1550,  0.0718, -0.2952, -0.1532,  0.1026,  0.1435,  0.1915,  0.0059,\n",
      "          0.0941,  0.1794],\n",
      "        [-0.1340,  0.0194, -0.1408, -0.0329,  0.0938,  0.1239,  0.2686,  0.0816,\n",
      "         -0.0014, -0.0086],\n",
      "        [-0.2178,  0.0482,  0.1326,  0.1566,  0.1679, -0.2044, -0.2281,  0.0172,\n",
      "         -0.2914, -0.0209],\n",
      "        [-0.2385,  0.0938, -0.1091,  0.1025,  0.2140,  0.0102, -0.0282,  0.1497,\n",
      "         -0.2387, -0.2415],\n",
      "        [-0.0717,  0.1098, -0.2002, -0.1069, -0.1746,  0.1405,  0.1262, -0.1214,\n",
      "         -0.1820, -0.0493],\n",
      "        [-0.0833,  0.0626,  0.0065,  0.0278,  0.0250,  0.0478,  0.0513,  0.0448,\n",
      "         -0.0025,  0.0508],\n",
      "        [ 0.1608, -0.0747, -0.2323, -0.0809, -0.1956,  0.1607,  0.4371,  0.0072,\n",
      "          0.2089, -0.0465],\n",
      "        [ 0.1052,  0.1964,  0.0420, -0.0841, -0.0950, -0.0998,  0.1260, -0.0922,\n",
      "         -0.0213, -0.0133],\n",
      "        [ 0.0051,  0.0313,  0.1862,  0.1024, -0.1534, -0.2446,  0.0846, -0.0683,\n",
      "         -0.3601,  0.0434],\n",
      "        [-0.1680,  0.0587, -0.2112, -0.0209, -0.0219, -0.0187,  0.0533,  0.1316,\n",
      "          0.0960,  0.2047],\n",
      "        [-0.0439,  0.0198, -0.0500,  0.0431, -0.2137,  0.0610,  0.2987, -0.0897,\n",
      "         -0.0318,  0.0273],\n",
      "        [-0.3022,  0.1983, -0.0548,  0.2005, -0.0633, -0.3850,  0.1042, -0.2713,\n",
      "         -0.4619,  0.2801],\n",
      "        [-0.0249, -0.0624, -0.1242,  0.3395, -0.0648, -0.0157, -0.2962,  0.0443,\n",
      "         -0.1510,  0.0165],\n",
      "        [-0.0270,  0.0664, -0.0579, -0.3227, -0.1098, -0.1455,  0.2696,  0.0837,\n",
      "         -0.0216,  0.0280],\n",
      "        [-0.1127,  0.2284, -0.1890, -0.1965, -0.0936,  0.0315,  0.4212, -0.2450,\n",
      "          0.1395, -0.0386],\n",
      "        [-0.2296, -0.0267, -0.0779,  0.5172,  0.0242, -0.1012, -0.2961, -0.2891,\n",
      "         -0.5669,  0.1185],\n",
      "        [-0.0923,  0.2998, -0.0319, -0.0556,  0.0495, -0.2428,  0.3955, -0.4183,\n",
      "          0.2516, -0.1013],\n",
      "        [-0.0858,  0.1126, -0.2137, -0.1498,  0.0712,  0.0980,  0.1151, -0.1055,\n",
      "          0.0478, -0.0762],\n",
      "        [ 0.0599,  0.0632, -0.0595,  0.2590,  0.1285,  0.0525,  0.1552, -0.0657,\n",
      "          0.1325, -0.0186],\n",
      "        [-0.2819,  0.0677,  0.0344,  0.0365, -0.0213, -0.5044, -0.1453, -0.1322,\n",
      "         -0.3060, -0.1259],\n",
      "        [-0.0095, -0.0331, -0.1336, -0.0916, -0.3426, -0.0695, -0.0661,  0.0101,\n",
      "         -0.1042, -0.1330],\n",
      "        [-0.0806, -0.0096, -0.0285,  0.1583, -0.0446, -0.1736,  0.1989, -0.1586,\n",
      "         -0.1908, -0.1265],\n",
      "        [-0.1075, -0.0035, -0.0459,  0.0444,  0.0124, -0.0442,  0.0844, -0.0182,\n",
      "         -0.1629, -0.0569],\n",
      "        [-0.0978,  0.2309, -0.0851,  0.3041,  0.1712, -0.0559, -0.0667, -0.2830,\n",
      "         -0.5818, -0.1448],\n",
      "        [-0.0842,  0.0163, -0.0747,  0.1000, -0.1561,  0.0217,  0.0131,  0.0051,\n",
      "         -0.2048, -0.1262],\n",
      "        [-0.0828,  0.2848, -0.1650, -0.3474, -0.1383, -0.2316,  0.1733, -0.2585,\n",
      "          0.2004, -0.0580],\n",
      "        [-0.2358,  0.1701, -0.0110,  0.3082,  0.1657, -0.3620,  0.0130, -0.1251,\n",
      "         -0.4069,  0.0887],\n",
      "        [-0.0779,  0.0409, -0.0387, -0.1278,  0.1956, -0.0816,  0.1537, -0.1828,\n",
      "          0.0912,  0.2232],\n",
      "        [ 0.0402,  0.1439,  0.0574,  0.0964,  0.0432, -0.2995, -0.1431, -0.1835,\n",
      "         -0.4509,  0.1850],\n",
      "        [-0.1644,  0.0705, -0.1641,  0.0269,  0.0765, -0.1847,  0.3145,  0.1442,\n",
      "         -0.0514, -0.0766],\n",
      "        [-0.0453,  0.3411,  0.0731,  0.0272,  0.1013, -0.0223,  0.0527,  0.0763,\n",
      "         -0.1319,  0.1197],\n",
      "        [-0.2007,  0.0343, -0.2797,  0.3561,  0.1116, -0.1835,  0.2289, -0.0526,\n",
      "         -0.0490, -0.3393],\n",
      "        [-0.2201,  0.2400, -0.0600,  0.1411,  0.2724, -0.1901,  0.2557, -0.0512,\n",
      "         -0.1139, -0.1478]], grad_fn=<AddmmBackward0>)\n"
     ]
    }
   ],
   "source": [
    "for images, labels in train_loader:\n",
    "    print(labels)\n",
    "    print(images.shape)\n",
    "    imgs=images.reshape(-1,784)\n",
    "    outputs = model(imgs)\n",
    "    print(outputs)\n",
    "    break"
   ]
  },
  {
   "cell_type": "code",
   "execution_count": 58,
   "metadata": {},
   "outputs": [],
   "source": [
    "imgs=images.reshape(-1,784)"
   ]
  },
  {
   "cell_type": "code",
   "execution_count": 56,
   "metadata": {
    "colab": {
     "base_uri": "https://localhost:8080/"
    },
    "executionInfo": {
     "elapsed": 1092,
     "status": "ok",
     "timestamp": 1606579210707,
     "user": {
      "displayName": "Aakash N S",
      "photoUrl": "https://lh3.googleusercontent.com/a-/AOh14GiIWFHtan62vtW1gz2Bv2bxL3rppefcadxzEVxRKQ=s64",
      "userId": "03254185060287524023"
     },
     "user_tz": -330
    },
    "id": "9m-JsBr6lSO8",
    "outputId": "fe780b2f-efd3-48cf-b8c9-8beb6a6e2a25"
   },
   "outputs": [
    {
     "data": {
      "text/plain": [
       "torch.Size([100, 1, 28, 28])"
      ]
     },
     "execution_count": 56,
     "metadata": {},
     "output_type": "execute_result"
    }
   ],
   "source": [
    "images.shape"
   ]
  },
  {
   "cell_type": "code",
   "execution_count": 55,
   "metadata": {
    "colab": {
     "base_uri": "https://localhost:8080/"
    },
    "executionInfo": {
     "elapsed": 940,
     "status": "ok",
     "timestamp": 1606579229874,
     "user": {
      "displayName": "Aakash N S",
      "photoUrl": "https://lh3.googleusercontent.com/a-/AOh14GiIWFHtan62vtW1gz2Bv2bxL3rppefcadxzEVxRKQ=s64",
      "userId": "03254185060287524023"
     },
     "user_tz": -330
    },
    "id": "X3_ktSR1lVJQ",
    "outputId": "910c18e6-102d-4175-fd56-0e20c7f57461"
   },
   "outputs": [
    {
     "data": {
      "text/plain": [
       "torch.Size([100, 784])"
      ]
     },
     "execution_count": 55,
     "metadata": {},
     "output_type": "execute_result"
    }
   ],
   "source": [
    "images.reshape(100, 784).shape"
   ]
  },
  {
   "cell_type": "markdown",
   "metadata": {
    "id": "-lT2ZhMjfTTY"
   },
   "source": [
    "The code above leads to an error because our input data does not have the right shape. Our images are of the shape 1x28x28, but we need them to be vectors of size 784, i.e., we need to flatten them. We'll use the `.reshape` method of a tensor, which will allow us to efficiently 'view' each image as a flat vector without really creating a copy of the underlying data. To include this additional functionality within our model, we need to define a custom model by extending the `nn.Module` class from PyTorch. \n",
    "\n",
    "A class in Python provides a \"blueprint\" for creating objects. Let's look at an example of defining a new class in Python."
   ]
  },
  {
   "cell_type": "code",
   "execution_count": 30,
   "metadata": {
    "executionInfo": {
     "elapsed": 919,
     "status": "ok",
     "timestamp": 1606579313914,
     "user": {
      "displayName": "Aakash N S",
      "photoUrl": "https://lh3.googleusercontent.com/a-/AOh14GiIWFHtan62vtW1gz2Bv2bxL3rppefcadxzEVxRKQ=s64",
      "userId": "03254185060287524023"
     },
     "user_tz": -330
    },
    "id": "6u8YjzDwfTTY"
   },
   "outputs": [],
   "source": [
    "class Person:\n",
    "    # Class constructor\n",
    "    def __init__(self, name, age):\n",
    "        # Object properties\n",
    "        self.name = name\n",
    "        self.age = age\n",
    "    \n",
    "    # Method\n",
    "    def say_hello(self):\n",
    "        print(\"Hello my name is \" + self.name + \"!\")"
   ]
  },
  {
   "cell_type": "markdown",
   "metadata": {
    "id": "Z3IlFc_8fTTY"
   },
   "source": [
    "Here's how we create or _instantiate_ an object of the class `Person`."
   ]
  },
  {
   "cell_type": "code",
   "execution_count": 31,
   "metadata": {
    "executionInfo": {
     "elapsed": 949,
     "status": "ok",
     "timestamp": 1606579315463,
     "user": {
      "displayName": "Aakash N S",
      "photoUrl": "https://lh3.googleusercontent.com/a-/AOh14GiIWFHtan62vtW1gz2Bv2bxL3rppefcadxzEVxRKQ=s64",
      "userId": "03254185060287524023"
     },
     "user_tz": -330
    },
    "id": "GTqhyYjifTTY"
   },
   "outputs": [],
   "source": [
    "bob = Person(\"Bob\", 32)"
   ]
  },
  {
   "cell_type": "markdown",
   "metadata": {
    "id": "ihjFg-KOfTTY"
   },
   "source": [
    "The object `bob` is an instance of the class `Person`. \n",
    "\n",
    "We can access the object's properties (also called attributes) or invoke its methods using the `.` notation."
   ]
  },
  {
   "cell_type": "code",
   "execution_count": 32,
   "metadata": {
    "colab": {
     "base_uri": "https://localhost:8080/"
    },
    "executionInfo": {
     "elapsed": 958,
     "status": "ok",
     "timestamp": 1606579330631,
     "user": {
      "displayName": "Aakash N S",
      "photoUrl": "https://lh3.googleusercontent.com/a-/AOh14GiIWFHtan62vtW1gz2Bv2bxL3rppefcadxzEVxRKQ=s64",
      "userId": "03254185060287524023"
     },
     "user_tz": -330
    },
    "id": "6vV3_NVyfTTY",
    "outputId": "f814a531-f116-4f2f-fdcb-7a5e2148e187"
   },
   "outputs": [
    {
     "data": {
      "text/plain": [
       "('Bob', 32)"
      ]
     },
     "execution_count": 32,
     "metadata": {
      "tags": []
     },
     "output_type": "execute_result"
    }
   ],
   "source": [
    "bob.name, bob.age"
   ]
  },
  {
   "cell_type": "code",
   "execution_count": 33,
   "metadata": {
    "colab": {
     "base_uri": "https://localhost:8080/"
    },
    "executionInfo": {
     "elapsed": 765,
     "status": "ok",
     "timestamp": 1606579340320,
     "user": {
      "displayName": "Aakash N S",
      "photoUrl": "https://lh3.googleusercontent.com/a-/AOh14GiIWFHtan62vtW1gz2Bv2bxL3rppefcadxzEVxRKQ=s64",
      "userId": "03254185060287524023"
     },
     "user_tz": -330
    },
    "id": "oMnNbsqWfTTY",
    "outputId": "33853fce-b97f-46c7-b1a8-a45a0d9a14b9"
   },
   "outputs": [
    {
     "name": "stdout",
     "output_type": "stream",
     "text": [
      "Hello my name is Bob!\n"
     ]
    }
   ],
   "source": [
    "bob.say_hello()"
   ]
  },
  {
   "cell_type": "markdown",
   "metadata": {
    "id": "wrI894tlfTTY"
   },
   "source": [
    "You can learn more about Python classes here: https://www.w3schools.com/python/python_classes.asp .\n",
    "\n",
    "Classes can also build upon or _extend_ the functionality of existing classes. Let's extend the `nn.Module` class from PyTorch to define a custom model."
   ]
  },
  {
   "cell_type": "code",
   "execution_count": 60,
   "metadata": {
    "executionInfo": {
     "elapsed": 1083,
     "status": "ok",
     "timestamp": 1606579733133,
     "user": {
      "displayName": "Aakash N S",
      "photoUrl": "https://lh3.googleusercontent.com/a-/AOh14GiIWFHtan62vtW1gz2Bv2bxL3rppefcadxzEVxRKQ=s64",
      "userId": "03254185060287524023"
     },
     "user_tz": -330
    },
    "id": "c2HWol7qfTTY"
   },
   "outputs": [],
   "source": [
    "class MnistModel(nn.Module):\n",
    "    def __init__(self):\n",
    "        super().__init__()\n",
    "        self.linear = nn.Linear(input_size, num_classes)\n",
    "        \n",
    "    def forward(self, xb):\n",
    "        xb = xb.reshape(-1, 784)\n",
    "        out = self.linear(xb)\n",
    "        return out\n",
    "    \n",
    "model = MnistModel()"
   ]
  },
  {
   "cell_type": "markdown",
   "metadata": {
    "id": "mZKn3GBFfTTY"
   },
   "source": [
    "Inside the `__init__` constructor method, we instantiate the weights and biases using `nn.Linear`. And inside the `forward` method, which is invoked when we pass a batch of inputs to the model, we flatten the input tensor and pass it into `self.linear`.\n",
    "\n",
    "`xb.reshape(-1, 28*28)` indicates to PyTorch that we want a *view* of the `xb` tensor with two dimensions. The length along the 2nd dimension is 28\\*28 (i.e., 784). One argument to `.reshape` can be set to `-1` (in this case, the first dimension) to let PyTorch figure it out automatically based on the shape of the original tensor.\n",
    "\n",
    "Note that the model no longer has `.weight` and `.bias` attributes (as they are now inside the `.linear` attribute), but it does have a `.parameters` method that returns a list containing the weights and bias."
   ]
  },
  {
   "cell_type": "code",
   "execution_count": 61,
   "metadata": {
    "colab": {
     "base_uri": "https://localhost:8080/"
    },
    "executionInfo": {
     "elapsed": 887,
     "status": "ok",
     "timestamp": 1606579744253,
     "user": {
      "displayName": "Aakash N S",
      "photoUrl": "https://lh3.googleusercontent.com/a-/AOh14GiIWFHtan62vtW1gz2Bv2bxL3rppefcadxzEVxRKQ=s64",
      "userId": "03254185060287524023"
     },
     "user_tz": -330
    },
    "id": "voZF2M_3nVnI",
    "outputId": "1feeba1e-2ad7-4d32-9eb6-56e12f587a51"
   },
   "outputs": [
    {
     "data": {
      "text/plain": [
       "Linear(in_features=784, out_features=10, bias=True)"
      ]
     },
     "execution_count": 61,
     "metadata": {},
     "output_type": "execute_result"
    }
   ],
   "source": [
    "model.linear"
   ]
  },
  {
   "cell_type": "code",
   "execution_count": 62,
   "metadata": {
    "colab": {
     "base_uri": "https://localhost:8080/"
    },
    "executionInfo": {
     "elapsed": 751,
     "status": "ok",
     "timestamp": 1606579783293,
     "user": {
      "displayName": "Aakash N S",
      "photoUrl": "https://lh3.googleusercontent.com/a-/AOh14GiIWFHtan62vtW1gz2Bv2bxL3rppefcadxzEVxRKQ=s64",
      "userId": "03254185060287524023"
     },
     "user_tz": -330
    },
    "id": "JciejPo9fTTY",
    "outputId": "c3ea0a15-d0bb-4d44-f755-1d1ad4fe50ff"
   },
   "outputs": [
    {
     "name": "stdout",
     "output_type": "stream",
     "text": [
      "torch.Size([10, 784]) torch.Size([10])\n"
     ]
    },
    {
     "data": {
      "text/plain": [
       "[Parameter containing:\n",
       " tensor([[-0.0132,  0.0147,  0.0053,  ..., -0.0340, -0.0299,  0.0087],\n",
       "         [ 0.0216, -0.0144, -0.0182,  ..., -0.0164, -0.0057, -0.0172],\n",
       "         [-0.0251,  0.0322, -0.0079,  ..., -0.0197,  0.0003,  0.0274],\n",
       "         ...,\n",
       "         [ 0.0195,  0.0211, -0.0204,  ..., -0.0126,  0.0313,  0.0338],\n",
       "         [ 0.0290, -0.0143,  0.0056,  ..., -0.0250, -0.0157, -0.0077],\n",
       "         [-0.0077, -0.0179,  0.0343,  ..., -0.0191, -0.0024,  0.0223]],\n",
       "        requires_grad=True),\n",
       " Parameter containing:\n",
       " tensor([-0.0032, -0.0297,  0.0250,  0.0087,  0.0288,  0.0022, -0.0253,  0.0298,\n",
       "         -0.0105,  0.0243], requires_grad=True)]"
      ]
     },
     "execution_count": 62,
     "metadata": {},
     "output_type": "execute_result"
    }
   ],
   "source": [
    "print(model.linear.weight.shape, model.linear.bias.shape)\n",
    "list(model.parameters())"
   ]
  },
  {
   "cell_type": "markdown",
   "metadata": {
    "id": "nGvgCQn2fTTY"
   },
   "source": [
    "We can use our new custom model in the same way as before. Let's see if it works."
   ]
  },
  {
   "cell_type": "code",
   "execution_count": 63,
   "metadata": {
    "colab": {
     "base_uri": "https://localhost:8080/"
    },
    "executionInfo": {
     "elapsed": 962,
     "status": "ok",
     "timestamp": 1606579874350,
     "user": {
      "displayName": "Aakash N S",
      "photoUrl": "https://lh3.googleusercontent.com/a-/AOh14GiIWFHtan62vtW1gz2Bv2bxL3rppefcadxzEVxRKQ=s64",
      "userId": "03254185060287524023"
     },
     "user_tz": -330
    },
    "id": "HJ6FGOvYfTTZ",
    "outputId": "f016f9d4-ebba-401f-edff-e7b951f065eb"
   },
   "outputs": [
    {
     "name": "stdout",
     "output_type": "stream",
     "text": [
      "torch.Size([100, 1, 28, 28])\n",
      "outputs.shape :  torch.Size([100, 10])\n",
      "Sample outputs :\n",
      " tensor([[-1.3762e-01, -4.6937e-02, -8.8516e-02,  5.5597e-02,  4.2819e-01,\n",
      "         -1.4944e-01,  1.4498e-02,  3.0772e-01,  2.5163e-01,  1.6890e-01],\n",
      "        [-1.4140e-01, -5.0490e-02,  1.3843e-01,  1.4877e-04,  8.9770e-02,\n",
      "         -2.1240e-01, -9.5879e-02, -1.3602e-01, -6.2331e-02,  1.0468e-01]])\n"
     ]
    }
   ],
   "source": [
    "for images, labels in train_loader:\n",
    "    print(images.shape)\n",
    "    outputs = model(images)\n",
    "    break\n",
    "\n",
    "print('outputs.shape : ', outputs.shape)\n",
    "print('Sample outputs :\\n', outputs[:2].data)"
   ]
  },
  {
   "cell_type": "markdown",
   "metadata": {
    "id": "9v407S1jfTTZ"
   },
   "source": [
    "For each of the 100 input images, we get 10 outputs, one for each class. As discussed earlier, we'd like these outputs to represent probabilities. Each output row's elements must lie between 0 to 1 and add up to 1, which is not the case. \n",
    "\n",
    "To convert the output rows into probabilities, we use the softmax function, which has the following formula:\n",
    "\n",
    "![softmax](https://i.imgur.com/EAh9jLN.png)\n",
    "\n",
    "First, we replace each element `yi` in an output row by `e^yi`, making all the elements positive. \n",
    "\n",
    "![](https://www.montereyinstitute.org/courses/DevelopmentalMath/COURSE_TEXT2_RESOURCE/U18_L1_T1_text_final_6_files/image001.png)\n",
    "\n",
    "\n",
    "\n",
    "Then, we divide them by their sum to ensure that they add up to 1. The resulting vector can thus be interpreted as probabilities.\n",
    "\n",
    "While it's easy to implement the softmax function (you should try it!), we'll use the implementation that's provided within PyTorch because it works well with multidimensional tensors (a list of output rows in our case)."
   ]
  },
  {
   "cell_type": "code",
   "execution_count": 64,
   "metadata": {
    "executionInfo": {
     "elapsed": 781,
     "status": "ok",
     "timestamp": 1606580126906,
     "user": {
      "displayName": "Aakash N S",
      "photoUrl": "https://lh3.googleusercontent.com/a-/AOh14GiIWFHtan62vtW1gz2Bv2bxL3rppefcadxzEVxRKQ=s64",
      "userId": "03254185060287524023"
     },
     "user_tz": -330
    },
    "id": "Wc7d6WD0fTTZ"
   },
   "outputs": [],
   "source": [
    "import torch.nn.functional as F"
   ]
  },
  {
   "cell_type": "markdown",
   "metadata": {
    "id": "FbYF4auWfTTZ"
   },
   "source": [
    "The softmax function is included in the `torch.nn.functional` package and requires us to specify a dimension along which the function should be applied."
   ]
  },
  {
   "cell_type": "code",
   "execution_count": 65,
   "metadata": {
    "colab": {
     "base_uri": "https://localhost:8080/"
    },
    "executionInfo": {
     "elapsed": 802,
     "status": "ok",
     "timestamp": 1606580142812,
     "user": {
      "displayName": "Aakash N S",
      "photoUrl": "https://lh3.googleusercontent.com/a-/AOh14GiIWFHtan62vtW1gz2Bv2bxL3rppefcadxzEVxRKQ=s64",
      "userId": "03254185060287524023"
     },
     "user_tz": -330
    },
    "id": "6xvjcBVTo14n",
    "outputId": "34f2c507-4278-4f76-91cf-9ef33073ee87"
   },
   "outputs": [
    {
     "data": {
      "text/plain": [
       "tensor([[-1.3762e-01, -4.6937e-02, -8.8516e-02,  5.5597e-02,  4.2819e-01,\n",
       "         -1.4944e-01,  1.4498e-02,  3.0772e-01,  2.5163e-01,  1.6890e-01],\n",
       "        [-1.4140e-01, -5.0490e-02,  1.3843e-01,  1.4877e-04,  8.9770e-02,\n",
       "         -2.1240e-01, -9.5879e-02, -1.3602e-01, -6.2331e-02,  1.0468e-01]],\n",
       "       grad_fn=<SliceBackward0>)"
      ]
     },
     "execution_count": 65,
     "metadata": {},
     "output_type": "execute_result"
    }
   ],
   "source": [
    "outputs[:2]"
   ]
  },
  {
   "cell_type": "code",
   "execution_count": 66,
   "metadata": {
    "colab": {
     "base_uri": "https://localhost:8080/"
    },
    "executionInfo": {
     "elapsed": 927,
     "status": "ok",
     "timestamp": 1606580181438,
     "user": {
      "displayName": "Aakash N S",
      "photoUrl": "https://lh3.googleusercontent.com/a-/AOh14GiIWFHtan62vtW1gz2Bv2bxL3rppefcadxzEVxRKQ=s64",
      "userId": "03254185060287524023"
     },
     "user_tz": -330
    },
    "id": "C3neZ1YGfTTZ",
    "outputId": "4e499c5c-6c61-40f0-f05b-6f8d46f0e61a"
   },
   "outputs": [
    {
     "name": "stdout",
     "output_type": "stream",
     "text": [
      "Sample probabilities:\n",
      " tensor([[0.0789, 0.0864, 0.0829, 0.0958, 0.1390, 0.0780, 0.0919, 0.1232, 0.1165,\n",
      "         0.1073],\n",
      "        [0.0895, 0.0980, 0.1184, 0.1031, 0.1128, 0.0834, 0.0937, 0.0900, 0.0968,\n",
      "         0.1145]])\n",
      "Sum:  1.0\n"
     ]
    }
   ],
   "source": [
    "# Apply softmax for each output row\n",
    "probs = F.softmax(outputs, dim=1)\n",
    "\n",
    "# Look at sample probabilities\n",
    "print(\"Sample probabilities:\\n\", probs[:2].data)\n",
    "\n",
    "# Add up the probabilities of an output row\n",
    "print(\"Sum: \", torch.sum(probs[0]).item())"
   ]
  },
  {
   "cell_type": "markdown",
   "metadata": {
    "id": "k2cgqWGVfTTZ"
   },
   "source": [
    "Finally, we can determine the predicted label for each image by simply choosing the index of the element with the highest probability in each output row. We can do this using `torch.max`, which returns each row's largest element and the corresponding index."
   ]
  },
  {
   "cell_type": "code",
   "execution_count": 67,
   "metadata": {
    "colab": {
     "base_uri": "https://localhost:8080/"
    },
    "executionInfo": {
     "elapsed": 1108,
     "status": "ok",
     "timestamp": 1606580284840,
     "user": {
      "displayName": "Aakash N S",
      "photoUrl": "https://lh3.googleusercontent.com/a-/AOh14GiIWFHtan62vtW1gz2Bv2bxL3rppefcadxzEVxRKQ=s64",
      "userId": "03254185060287524023"
     },
     "user_tz": -330
    },
    "id": "1o9a4hAufTTZ",
    "outputId": "ffe611f9-df20-4bbc-fb1c-6178faac90cc"
   },
   "outputs": [
    {
     "name": "stdout",
     "output_type": "stream",
     "text": [
      "tensor([4, 2, 7, 6, 4, 9, 8, 4, 4, 6, 8, 2, 8, 4, 9, 2, 4, 5, 7, 2, 2, 9, 6, 2,\n",
      "        8, 2, 9, 2, 9, 4, 3, 2, 9, 4, 2, 4, 3, 9, 8, 2, 4, 8, 5, 2, 4, 7, 5, 4,\n",
      "        8, 4, 2, 9, 9, 7, 1, 4, 4, 9, 4, 4, 4, 4, 4, 5, 4, 7, 6, 6, 8, 2, 5, 9,\n",
      "        4, 4, 9, 6, 8, 4, 4, 4, 4, 4, 4, 8, 4, 2, 2, 2, 4, 6, 9, 6, 9, 3, 9, 3,\n",
      "        4, 9, 1, 4])\n",
      "tensor([0.1390, 0.1184, 0.1337, 0.1278, 0.1160, 0.1383, 0.1170, 0.1438, 0.1265,\n",
      "        0.1175, 0.1157, 0.1140, 0.1225, 0.1298, 0.1170, 0.1300, 0.1124, 0.1188,\n",
      "        0.1170, 0.1372, 0.1148, 0.1361, 0.1419, 0.1251, 0.1108, 0.1346, 0.1280,\n",
      "        0.1196, 0.1475, 0.1323, 0.1353, 0.1390, 0.1298, 0.1350, 0.1240, 0.1456,\n",
      "        0.1092, 0.1174, 0.1209, 0.1218, 0.1383, 0.1293, 0.1182, 0.1280, 0.1383,\n",
      "        0.1251, 0.1168, 0.1520, 0.1210, 0.1219, 0.1294, 0.1257, 0.1299, 0.1303,\n",
      "        0.1336, 0.1295, 0.1224, 0.1452, 0.1352, 0.1250, 0.1230, 0.1152, 0.1183,\n",
      "        0.1152, 0.1223, 0.1371, 0.1277, 0.1208, 0.1241, 0.1399, 0.1174, 0.1234,\n",
      "        0.1385, 0.1298, 0.1385, 0.1166, 0.1260, 0.1498, 0.1228, 0.1528, 0.1213,\n",
      "        0.1241, 0.1273, 0.1191, 0.1298, 0.1230, 0.1266, 0.1433, 0.1343, 0.1204,\n",
      "        0.1155, 0.1244, 0.1291, 0.1200, 0.1247, 0.1148, 0.1225, 0.1101, 0.1367,\n",
      "        0.1262], grad_fn=<MaxBackward0>)\n"
     ]
    }
   ],
   "source": [
    "max_probs, preds = torch.max(probs, dim=1)\n",
    "print(preds)\n",
    "print(max_probs)"
   ]
  },
  {
   "cell_type": "markdown",
   "metadata": {
    "id": "IGvKME9WfTTZ"
   },
   "source": [
    "The numbers printed above are the predicted labels for the first batch of training images. Let's compare them with the actual labels."
   ]
  },
  {
   "cell_type": "code",
   "execution_count": 44,
   "metadata": {
    "colab": {
     "base_uri": "https://localhost:8080/"
    },
    "executionInfo": {
     "elapsed": 810,
     "status": "ok",
     "timestamp": 1606580329683,
     "user": {
      "displayName": "Aakash N S",
      "photoUrl": "https://lh3.googleusercontent.com/a-/AOh14GiIWFHtan62vtW1gz2Bv2bxL3rppefcadxzEVxRKQ=s64",
      "userId": "03254185060287524023"
     },
     "user_tz": -330
    },
    "id": "TsT85mhffTTZ",
    "outputId": "bc61f2f3-3213-4538-9733-579ac3cd8cef"
   },
   "outputs": [
    {
     "data": {
      "text/plain": [
       "tensor([7, 4, 7, 0, 3, 4, 0, 0, 1, 6, 1, 3, 4, 1, 7, 0, 3, 7, 7, 7, 3, 4, 0, 6,\n",
       "        0, 8, 1, 0, 3, 9, 9, 1, 9, 4, 0, 9, 0, 9, 6, 9, 8, 4, 3, 5, 9, 0, 6, 2,\n",
       "        8, 7, 1, 4, 6, 9, 9, 5, 2, 5, 6, 5, 7, 3, 9, 6, 4, 1, 7, 5, 5, 1, 5, 1,\n",
       "        9, 0, 8, 0, 0, 1, 5, 0, 8, 7, 2, 5, 5, 1, 6, 4, 6, 1, 0, 6, 3, 4, 6, 5,\n",
       "        9, 9, 9, 5, 6, 0, 6, 7, 4, 9, 6, 6, 0, 7, 0, 1, 1, 3, 0, 4, 6, 1, 2, 1,\n",
       "        9, 8, 0, 1, 9, 9, 7, 2])"
      ]
     },
     "execution_count": 44,
     "metadata": {
      "tags": []
     },
     "output_type": "execute_result"
    }
   ],
   "source": [
    "labels"
   ]
  },
  {
   "cell_type": "markdown",
   "metadata": {
    "id": "8AFZgI8SfTTZ"
   },
   "source": [
    "Most of the predicted labels are different from the actual labels. That's because we have started with randomly initialized weights and biases. We need to train the model, i.e., adjust the weights using gradient descent to make better predictions."
   ]
  },
  {
   "cell_type": "markdown",
   "metadata": {
    "id": "FegT9vhlfTTZ"
   },
   "source": [
    "## Evaluation Metric and Loss Function"
   ]
  },
  {
   "cell_type": "markdown",
   "metadata": {
    "id": "MSiZ3KtqfTTZ"
   },
   "source": [
    "Just as with linear regression, we need a way to evaluate how well our model is performing. A natural way to do this would be to find the percentage of labels that were predicted correctly, i.e,. the **accuracy** of the predictions. "
   ]
  },
  {
   "cell_type": "code",
   "execution_count": 68,
   "metadata": {
    "colab": {
     "base_uri": "https://localhost:8080/"
    },
    "executionInfo": {
     "elapsed": 977,
     "status": "ok",
     "timestamp": 1606580407117,
     "user": {
      "displayName": "Aakash N S",
      "photoUrl": "https://lh3.googleusercontent.com/a-/AOh14GiIWFHtan62vtW1gz2Bv2bxL3rppefcadxzEVxRKQ=s64",
      "userId": "03254185060287524023"
     },
     "user_tz": -330
    },
    "id": "wG0IBPVMp3UE",
    "outputId": "ae1ba45f-bfc3-4e35-d4d4-0a0ecefdb919"
   },
   "outputs": [
    {
     "data": {
      "text/plain": [
       "tensor([[-1.3762e-01, -4.6937e-02, -8.8516e-02,  5.5597e-02,  4.2819e-01,\n",
       "         -1.4944e-01,  1.4498e-02,  3.0772e-01,  2.5163e-01,  1.6890e-01],\n",
       "        [-1.4140e-01, -5.0490e-02,  1.3843e-01,  1.4877e-04,  8.9770e-02,\n",
       "         -2.1240e-01, -9.5879e-02, -1.3602e-01, -6.2331e-02,  1.0468e-01]],\n",
       "       grad_fn=<SliceBackward0>)"
      ]
     },
     "execution_count": 68,
     "metadata": {},
     "output_type": "execute_result"
    }
   ],
   "source": [
    "outputs[:2]"
   ]
  },
  {
   "cell_type": "code",
   "execution_count": 69,
   "metadata": {
    "colab": {
     "base_uri": "https://localhost:8080/"
    },
    "executionInfo": {
     "elapsed": 721,
     "status": "ok",
     "timestamp": 1606580492350,
     "user": {
      "displayName": "Aakash N S",
      "photoUrl": "https://lh3.googleusercontent.com/a-/AOh14GiIWFHtan62vtW1gz2Bv2bxL3rppefcadxzEVxRKQ=s64",
      "userId": "03254185060287524023"
     },
     "user_tz": -330
    },
    "id": "hHgMnCL4qGDt",
    "outputId": "90f55abc-6496-46bf-faaf-edf7fe22fac8"
   },
   "outputs": [
    {
     "data": {
      "text/plain": [
       "tensor(9)"
      ]
     },
     "execution_count": 69,
     "metadata": {},
     "output_type": "execute_result"
    }
   ],
   "source": [
    "torch.sum(preds == labels)"
   ]
  },
  {
   "cell_type": "code",
   "execution_count": 73,
   "metadata": {},
   "outputs": [],
   "source": [
    "torch.max??"
   ]
  },
  {
   "cell_type": "code",
   "execution_count": 70,
   "metadata": {
    "executionInfo": {
     "elapsed": 967,
     "status": "ok",
     "timestamp": 1606580510348,
     "user": {
      "displayName": "Aakash N S",
      "photoUrl": "https://lh3.googleusercontent.com/a-/AOh14GiIWFHtan62vtW1gz2Bv2bxL3rppefcadxzEVxRKQ=s64",
      "userId": "03254185060287524023"
     },
     "user_tz": -330
    },
    "id": "11hDOTR1fTTZ"
   },
   "outputs": [],
   "source": [
    "def accuracy(outputs, labels):\n",
    "    _, preds = torch.max(outputs, dim=1)\n",
    "    return torch.tensor(torch.sum(preds == labels).item() / len(preds))"
   ]
  },
  {
   "cell_type": "markdown",
   "metadata": {
    "id": "E258dVOUfTTZ"
   },
   "source": [
    "The `==` operator performs an element-wise comparison of two tensors with the same shape and returns a tensor of the same shape, containing `True` for unequal elements and `False` for equal elements. Passing the result to `torch.sum` returns the number of labels that were predicted correctly. Finally, we divide by the total number of images to get the accuracy. \n",
    "\n",
    "Note that we don't need to apply softmax to the outputs since its results have the same relative order. This is because `e^x` is an increasing function, i.e., if `y1 > y2`, then `e^y1 > e^y2`. The same holds after averaging out the values to get the softmax.\n",
    "\n",
    "Let's calculate the accuracy of the current model on the first batch of data. "
   ]
  },
  {
   "cell_type": "code",
   "execution_count": 71,
   "metadata": {
    "colab": {
     "base_uri": "https://localhost:8080/"
    },
    "executionInfo": {
     "elapsed": 1247,
     "status": "ok",
     "timestamp": 1606580523641,
     "user": {
      "displayName": "Aakash N S",
      "photoUrl": "https://lh3.googleusercontent.com/a-/AOh14GiIWFHtan62vtW1gz2Bv2bxL3rppefcadxzEVxRKQ=s64",
      "userId": "03254185060287524023"
     },
     "user_tz": -330
    },
    "id": "HwVAxpZXfTTZ",
    "outputId": "d7a56d59-a6b9-4209-c7f3-fba67d0b268c"
   },
   "outputs": [
    {
     "data": {
      "text/plain": [
       "tensor(0.0900)"
      ]
     },
     "execution_count": 71,
     "metadata": {},
     "output_type": "execute_result"
    }
   ],
   "source": [
    "accuracy(outputs, labels)"
   ]
  },
  {
   "cell_type": "code",
   "execution_count": 72,
   "metadata": {
    "colab": {
     "base_uri": "https://localhost:8080/"
    },
    "executionInfo": {
     "elapsed": 595,
     "status": "ok",
     "timestamp": 1606580756117,
     "user": {
      "displayName": "Aakash N S",
      "photoUrl": "https://lh3.googleusercontent.com/a-/AOh14GiIWFHtan62vtW1gz2Bv2bxL3rppefcadxzEVxRKQ=s64",
      "userId": "03254185060287524023"
     },
     "user_tz": -330
    },
    "id": "jEyaxGIBrNFm",
    "outputId": "2dab272b-2825-470a-91d6-30e39c5b1a43"
   },
   "outputs": [
    {
     "data": {
      "text/plain": [
       "tensor([[0.0789, 0.0864, 0.0829, 0.0958, 0.1390, 0.0780, 0.0919, 0.1232, 0.1165,\n",
       "         0.1073],\n",
       "        [0.0895, 0.0980, 0.1184, 0.1031, 0.1128, 0.0834, 0.0937, 0.0900, 0.0968,\n",
       "         0.1145],\n",
       "        [0.0821, 0.0976, 0.0882, 0.1166, 0.1071, 0.0947, 0.0755, 0.1337, 0.0967,\n",
       "         0.1077],\n",
       "        [0.0767, 0.1137, 0.0844, 0.0934, 0.0899, 0.0852, 0.1278, 0.1223, 0.0970,\n",
       "         0.1094],\n",
       "        [0.0851, 0.1079, 0.1154, 0.0918, 0.1160, 0.0866, 0.0889, 0.1127, 0.0818,\n",
       "         0.1138],\n",
       "        [0.0970, 0.0893, 0.1225, 0.0975, 0.0949, 0.0767, 0.0881, 0.1001, 0.0957,\n",
       "         0.1383],\n",
       "        [0.0897, 0.0915, 0.1098, 0.1073, 0.1088, 0.0980, 0.0993, 0.0826, 0.1170,\n",
       "         0.0961],\n",
       "        [0.0643, 0.0839, 0.0844, 0.0957, 0.1438, 0.0751, 0.1017, 0.1327, 0.1296,\n",
       "         0.0890],\n",
       "        [0.0796, 0.1100, 0.0891, 0.0913, 0.1265, 0.1031, 0.0930, 0.0905, 0.1074,\n",
       "         0.1096],\n",
       "        [0.0712, 0.1094, 0.0964, 0.1052, 0.1098, 0.0828, 0.1175, 0.0952, 0.0996,\n",
       "         0.1129],\n",
       "        [0.0830, 0.1066, 0.1089, 0.0866, 0.1089, 0.0822, 0.1083, 0.0874, 0.1157,\n",
       "         0.1124],\n",
       "        [0.0725, 0.0901, 0.1140, 0.1044, 0.0956, 0.1120, 0.0944, 0.0979, 0.1120,\n",
       "         0.1071],\n",
       "        [0.0847, 0.0831, 0.1126, 0.0950, 0.1100, 0.1097, 0.0931, 0.0956, 0.1225,\n",
       "         0.0938],\n",
       "        [0.0971, 0.0822, 0.0836, 0.1143, 0.1298, 0.0848, 0.1094, 0.1014, 0.0946,\n",
       "         0.1028],\n",
       "        [0.0842, 0.0921, 0.1099, 0.0942, 0.1039, 0.1138, 0.0893, 0.0954, 0.1002,\n",
       "         0.1170],\n",
       "        [0.0895, 0.0982, 0.1300, 0.1156, 0.1134, 0.0720, 0.0862, 0.1068, 0.0933,\n",
       "         0.0950],\n",
       "        [0.0976, 0.0978, 0.1023, 0.1029, 0.1124, 0.0983, 0.0971, 0.0829, 0.1067,\n",
       "         0.1020],\n",
       "        [0.0736, 0.0874, 0.1089, 0.0910, 0.1028, 0.1188, 0.1021, 0.0918, 0.1128,\n",
       "         0.1108],\n",
       "        [0.0919, 0.0805, 0.0970, 0.1009, 0.1127, 0.1029, 0.0958, 0.1170, 0.1003,\n",
       "         0.1010],\n",
       "        [0.0924, 0.0975, 0.1372, 0.1003, 0.0926, 0.0739, 0.0796, 0.1003, 0.1012,\n",
       "         0.1251],\n",
       "        [0.1076, 0.0894, 0.1148, 0.1043, 0.0914, 0.0687, 0.1082, 0.0957, 0.1120,\n",
       "         0.1080],\n",
       "        [0.0681, 0.1036, 0.1274, 0.0970, 0.1001, 0.0937, 0.0912, 0.0874, 0.0954,\n",
       "         0.1361],\n",
       "        [0.0977, 0.1025, 0.0860, 0.0887, 0.1038, 0.0798, 0.1419, 0.0922, 0.1051,\n",
       "         0.1023],\n",
       "        [0.0847, 0.0983, 0.1251, 0.0961, 0.1124, 0.0950, 0.0786, 0.1023, 0.0987,\n",
       "         0.1087],\n",
       "        [0.0886, 0.0969, 0.0985, 0.1105, 0.1108, 0.1010, 0.0967, 0.0914, 0.1108,\n",
       "         0.0947],\n",
       "        [0.0917, 0.1220, 0.1346, 0.0955, 0.0977, 0.0955, 0.0776, 0.1004, 0.0958,\n",
       "         0.0891],\n",
       "        [0.0802, 0.1155, 0.0992, 0.0826, 0.1118, 0.0844, 0.0857, 0.1026, 0.1100,\n",
       "         0.1280],\n",
       "        [0.1044, 0.1026, 0.1196, 0.0919, 0.1092, 0.0866, 0.1131, 0.0740, 0.0895,\n",
       "         0.1090],\n",
       "        [0.0775, 0.0806, 0.0939, 0.1272, 0.0961, 0.0623, 0.0918, 0.1193, 0.1038,\n",
       "         0.1475],\n",
       "        [0.0675, 0.0975, 0.0828, 0.0899, 0.1323, 0.0762, 0.1093, 0.1124, 0.1169,\n",
       "         0.1153],\n",
       "        [0.0792, 0.0816, 0.1170, 0.1353, 0.1084, 0.0769, 0.0724, 0.1228, 0.0934,\n",
       "         0.1131],\n",
       "        [0.0672, 0.1070, 0.1390, 0.0868, 0.0875, 0.0890, 0.0956, 0.1002, 0.1119,\n",
       "         0.1158],\n",
       "        [0.0783, 0.0879, 0.0879, 0.0891, 0.1160, 0.0810, 0.1206, 0.1112, 0.0984,\n",
       "         0.1298],\n",
       "        [0.1105, 0.0965, 0.1161, 0.0769, 0.1350, 0.0911, 0.0917, 0.1031, 0.0847,\n",
       "         0.0945],\n",
       "        [0.0849, 0.0885, 0.1240, 0.0831, 0.1157, 0.0698, 0.0901, 0.1122, 0.1192,\n",
       "         0.1126],\n",
       "        [0.0643, 0.0762, 0.0948, 0.0997, 0.1456, 0.1018, 0.1031, 0.1017, 0.1049,\n",
       "         0.1077],\n",
       "        [0.0994, 0.0989, 0.0995, 0.1092, 0.1089, 0.0893, 0.1056, 0.0875, 0.1075,\n",
       "         0.0942],\n",
       "        [0.0905, 0.0786, 0.1137, 0.0881, 0.0983, 0.1006, 0.1130, 0.1122, 0.0877,\n",
       "         0.1174],\n",
       "        [0.0916, 0.0977, 0.1038, 0.0952, 0.0900, 0.1099, 0.0886, 0.1053, 0.1209,\n",
       "         0.0971],\n",
       "        [0.0910, 0.0920, 0.1218, 0.1114, 0.1013, 0.1110, 0.0903, 0.0768, 0.1006,\n",
       "         0.1038],\n",
       "        [0.0667, 0.0788, 0.0847, 0.0860, 0.1383, 0.0926, 0.1065, 0.1132, 0.1050,\n",
       "         0.1282],\n",
       "        [0.0953, 0.0890, 0.0874, 0.1068, 0.1072, 0.0905, 0.1129, 0.0920, 0.1293,\n",
       "         0.0896],\n",
       "        [0.0899, 0.0941, 0.1019, 0.1098, 0.1116, 0.1182, 0.0885, 0.0930, 0.1050,\n",
       "         0.0880],\n",
       "        [0.0854, 0.0953, 0.1280, 0.0946, 0.0929, 0.0866, 0.0944, 0.0960, 0.1049,\n",
       "         0.1218],\n",
       "        [0.0870, 0.0837, 0.1007, 0.1018, 0.1383, 0.0955, 0.0894, 0.1140, 0.0943,\n",
       "         0.0953],\n",
       "        [0.0660, 0.0813, 0.0911, 0.0850, 0.1215, 0.0953, 0.1055, 0.1251, 0.1130,\n",
       "         0.1163],\n",
       "        [0.0888, 0.0930, 0.1032, 0.1020, 0.1086, 0.1168, 0.0998, 0.0821, 0.1068,\n",
       "         0.0990],\n",
       "        [0.1070, 0.1006, 0.0972, 0.0879, 0.1520, 0.0868, 0.0871, 0.0981, 0.1009,\n",
       "         0.0823],\n",
       "        [0.0788, 0.0941, 0.1114, 0.0967, 0.1119, 0.1093, 0.0915, 0.0899, 0.1210,\n",
       "         0.0954],\n",
       "        [0.0992, 0.0994, 0.1072, 0.0950, 0.1219, 0.0768, 0.0949, 0.1008, 0.1188,\n",
       "         0.0859],\n",
       "        [0.0957, 0.0734, 0.1294, 0.0868, 0.1227, 0.1014, 0.0961, 0.0995, 0.0893,\n",
       "         0.1057],\n",
       "        [0.0815, 0.0860, 0.1128, 0.0981, 0.1057, 0.0716, 0.1008, 0.0942, 0.1235,\n",
       "         0.1257],\n",
       "        [0.0965, 0.0789, 0.1153, 0.1015, 0.0999, 0.0835, 0.0969, 0.0929, 0.1047,\n",
       "         0.1299],\n",
       "        [0.1097, 0.0904, 0.0986, 0.1287, 0.0954, 0.0707, 0.0880, 0.1303, 0.0876,\n",
       "         0.1007],\n",
       "        [0.0824, 0.1336, 0.0931, 0.1018, 0.0986, 0.0849, 0.0912, 0.1147, 0.0959,\n",
       "         0.1037],\n",
       "        [0.0911, 0.0937, 0.1065, 0.0796, 0.1295, 0.0732, 0.0963, 0.1163, 0.1154,\n",
       "         0.0983],\n",
       "        [0.0955, 0.1027, 0.0975, 0.0929, 0.1224, 0.0794, 0.1089, 0.1063, 0.0784,\n",
       "         0.1162],\n",
       "        [0.0698, 0.1044, 0.1111, 0.1079, 0.0834, 0.0709, 0.0915, 0.1306, 0.0851,\n",
       "         0.1452],\n",
       "        [0.0707, 0.0771, 0.0698, 0.1010, 0.1352, 0.0768, 0.1234, 0.1189, 0.0991,\n",
       "         0.1280],\n",
       "        [0.0836, 0.0756, 0.0793, 0.0911, 0.1250, 0.1180, 0.1133, 0.0971, 0.1105,\n",
       "         0.1066],\n",
       "        [0.1043, 0.0820, 0.0933, 0.0832, 0.1230, 0.1003, 0.1178, 0.1063, 0.0948,\n",
       "         0.0948],\n",
       "        [0.0815, 0.1131, 0.0992, 0.0892, 0.1152, 0.0830, 0.1028, 0.1100, 0.1116,\n",
       "         0.0945],\n",
       "        [0.0816, 0.1173, 0.1067, 0.1180, 0.1183, 0.1042, 0.0631, 0.1132, 0.0813,\n",
       "         0.0963],\n",
       "        [0.0882, 0.0858, 0.1077, 0.0960, 0.1093, 0.1152, 0.1043, 0.0882, 0.1061,\n",
       "         0.0992],\n",
       "        [0.0791, 0.1134, 0.0916, 0.1014, 0.1223, 0.0822, 0.0932, 0.1199, 0.0965,\n",
       "         0.1004],\n",
       "        [0.0640, 0.0962, 0.1052, 0.0975, 0.1285, 0.0807, 0.0836, 0.1371, 0.0717,\n",
       "         0.1355],\n",
       "        [0.0768, 0.1170, 0.0974, 0.0894, 0.1047, 0.0761, 0.1277, 0.1057, 0.0861,\n",
       "         0.1191],\n",
       "        [0.0816, 0.1184, 0.0847, 0.0913, 0.1156, 0.0907, 0.1208, 0.0929, 0.1116,\n",
       "         0.0923],\n",
       "        [0.0851, 0.0790, 0.1121, 0.0947, 0.1063, 0.1042, 0.0936, 0.1019, 0.1241,\n",
       "         0.0991],\n",
       "        [0.0926, 0.0964, 0.1399, 0.0853, 0.0943, 0.0805, 0.0921, 0.1096, 0.0935,\n",
       "         0.1158],\n",
       "        [0.0960, 0.0838, 0.1140, 0.0936, 0.0925, 0.1174, 0.0992, 0.1129, 0.0815,\n",
       "         0.1091],\n",
       "        [0.0848, 0.1092, 0.1102, 0.0899, 0.0952, 0.0811, 0.1122, 0.0929, 0.1011,\n",
       "         0.1234],\n",
       "        [0.0736, 0.0844, 0.1114, 0.0960, 0.1385, 0.0818, 0.0938, 0.1138, 0.0804,\n",
       "         0.1263],\n",
       "        [0.0968, 0.0740, 0.0951, 0.0970, 0.1298, 0.0982, 0.1211, 0.0755, 0.1248,\n",
       "         0.0879],\n",
       "        [0.0810, 0.1064, 0.1282, 0.0898, 0.0929, 0.0734, 0.1064, 0.0979, 0.0855,\n",
       "         0.1385],\n",
       "        [0.1056, 0.1050, 0.0758, 0.0908, 0.1133, 0.1059, 0.1166, 0.0936, 0.1114,\n",
       "         0.0818],\n",
       "        [0.0658, 0.0939, 0.1087, 0.0892, 0.1102, 0.0826, 0.1133, 0.0972, 0.1260,\n",
       "         0.1129],\n",
       "        [0.0873, 0.0742, 0.0941, 0.0812, 0.1498, 0.0894, 0.0985, 0.1075, 0.1130,\n",
       "         0.1049],\n",
       "        [0.0883, 0.0967, 0.1063, 0.0870, 0.1228, 0.0886, 0.1082, 0.1093, 0.0927,\n",
       "         0.1000],\n",
       "        [0.0843, 0.0810, 0.0832, 0.0792, 0.1528, 0.1034, 0.0935, 0.1483, 0.0740,\n",
       "         0.1003],\n",
       "        [0.0884, 0.0935, 0.1012, 0.1025, 0.1213, 0.1125, 0.0984, 0.0803, 0.1173,\n",
       "         0.0845],\n",
       "        [0.0822, 0.0781, 0.0812, 0.0968, 0.1241, 0.1097, 0.1006, 0.1159, 0.0974,\n",
       "         0.1139],\n",
       "        [0.1016, 0.0998, 0.1029, 0.0921, 0.1273, 0.0797, 0.0980, 0.0934, 0.0983,\n",
       "         0.1067],\n",
       "        [0.0903, 0.0644, 0.1150, 0.1004, 0.1070, 0.1004, 0.1105, 0.0940, 0.1191,\n",
       "         0.0989],\n",
       "        [0.0767, 0.1099, 0.1104, 0.1035, 0.1298, 0.0771, 0.0957, 0.0987, 0.1078,\n",
       "         0.0903],\n",
       "        [0.0810, 0.1068, 0.1230, 0.1132, 0.0927, 0.0830, 0.0925, 0.0907, 0.1001,\n",
       "         0.1170],\n",
       "        [0.0736, 0.0808, 0.1266, 0.0928, 0.1237, 0.0831, 0.0872, 0.1240, 0.1129,\n",
       "         0.0953],\n",
       "        [0.0632, 0.1023, 0.1433, 0.1080, 0.0735, 0.0883, 0.1023, 0.1115, 0.0962,\n",
       "         0.1113],\n",
       "        [0.0989, 0.0949, 0.1081, 0.0879, 0.1343, 0.0911, 0.1028, 0.0956, 0.0952,\n",
       "         0.0912],\n",
       "        [0.0764, 0.0831, 0.1109, 0.1061, 0.0962, 0.0882, 0.1204, 0.1015, 0.1145,\n",
       "         0.1028],\n",
       "        [0.0792, 0.0941, 0.1101, 0.1088, 0.1059, 0.0919, 0.0942, 0.1053, 0.0950,\n",
       "         0.1155],\n",
       "        [0.0737, 0.1167, 0.1007, 0.0912, 0.1134, 0.0909, 0.1244, 0.0837, 0.1102,\n",
       "         0.0953],\n",
       "        [0.1064, 0.0854, 0.1164, 0.0988, 0.0774, 0.0820, 0.1032, 0.1159, 0.0855,\n",
       "         0.1291],\n",
       "        [0.0693, 0.1080, 0.1192, 0.1200, 0.1095, 0.1057, 0.0771, 0.0794, 0.0940,\n",
       "         0.1178],\n",
       "        [0.0840, 0.0882, 0.1174, 0.0886, 0.1141, 0.0783, 0.1209, 0.0880, 0.0960,\n",
       "         0.1247],\n",
       "        [0.0742, 0.1104, 0.1129, 0.1148, 0.1086, 0.1055, 0.0986, 0.0714, 0.1034,\n",
       "         0.0999],\n",
       "        [0.0687, 0.1220, 0.0935, 0.0902, 0.1225, 0.0949, 0.0919, 0.1141, 0.0841,\n",
       "         0.1182],\n",
       "        [0.0982, 0.0948, 0.1089, 0.1047, 0.1099, 0.0964, 0.1021, 0.0836, 0.0912,\n",
       "         0.1101],\n",
       "        [0.0901, 0.1367, 0.1008, 0.0822, 0.0967, 0.0693, 0.1129, 0.0987, 0.0992,\n",
       "         0.1135],\n",
       "        [0.0919, 0.1080, 0.1081, 0.0982, 0.1262, 0.0783, 0.1024, 0.1026, 0.0887,\n",
       "         0.0954]], grad_fn=<SoftmaxBackward0>)"
      ]
     },
     "execution_count": 72,
     "metadata": {},
     "output_type": "execute_result"
    }
   ],
   "source": [
    "probs"
   ]
  },
  {
   "cell_type": "markdown",
   "metadata": {
    "id": "Te7ORtqVfTTZ"
   },
   "source": [
    "Accuracy is an excellent way for us (humans) to evaluate the model. However, we can't use it as a loss function for optimizing our model using gradient descent for the following reasons:\n",
    "\n",
    "1. It's not a differentiable function. `torch.max` and `==` are both non-continuous and non-differentiable operations, so we can't use the accuracy for computing gradients w.r.t the weights and biases.\n",
    "\n",
    "2. It doesn't take into account the actual probabilities predicted by the model, so it can't provide sufficient feedback for incremental improvements. \n",
    "\n",
    "For these reasons, accuracy is often used as an **evaluation metric** for classification, but not as a loss function. A commonly used loss function for classification problems is the **cross-entropy**, which has the following formula:\n",
    "\n",
    "![cross-entropy](https://i.imgur.com/VDRDl1D.png)\n",
    "\n",
    "While it looks complicated, it's actually quite simple:\n",
    "\n",
    "* For each output row, pick the predicted probability for the correct label. E.g., if the predicted probabilities for an image are `[0.1, 0.3, 0.2, ...]` and the correct label is `1`, we pick the corresponding element `0.3` and ignore the rest.\n",
    "\n",
    "* Then, take the [logarithm](https://en.wikipedia.org/wiki/Logarithm) of the picked probability. If the probability is high, i.e., close to 1, then its logarithm is a very small negative value, close to 0. And if the probability is low (close to 0), then the logarithm is a very large negative value. We also multiply the result by -1, which results is a large postive value of the loss for poor predictions.\n",
    "\n",
    "![](https://www.intmath.com/blog/wp-content/images/2019/05/log10.png)\n",
    "\n",
    "* Finally, take the average of the cross entropy across all the output rows to get the overall loss for a batch of data.\n",
    "\n",
    "Unlike accuracy, cross-entropy is a continuous and differentiable function. It also provides useful feedback for incremental improvements in the model (a slightly higher probability for the correct label leads to a lower loss). These two factors make cross-entropy a better choice for the loss function.\n",
    "\n",
    "As you might expect, PyTorch provides an efficient and tensor-friendly implementation of cross-entropy as part of the `torch.nn.functional` package. Moreover, it also performs softmax internally, so we can directly pass in the model's outputs without converting them into probabilities."
   ]
  },
  {
   "cell_type": "code",
   "execution_count": 74,
   "metadata": {
    "colab": {
     "base_uri": "https://localhost:8080/"
    },
    "executionInfo": {
     "elapsed": 920,
     "status": "ok",
     "timestamp": 1606580951226,
     "user": {
      "displayName": "Aakash N S",
      "photoUrl": "https://lh3.googleusercontent.com/a-/AOh14GiIWFHtan62vtW1gz2Bv2bxL3rppefcadxzEVxRKQ=s64",
      "userId": "03254185060287524023"
     },
     "user_tz": -330
    },
    "id": "AkkyxKR1r8nm",
    "outputId": "7e13a471-37df-4549-e02d-1a807971176d"
   },
   "outputs": [
    {
     "data": {
      "text/plain": [
       "tensor([[-1.3762e-01, -4.6937e-02, -8.8516e-02,  5.5597e-02,  4.2819e-01,\n",
       "         -1.4944e-01,  1.4498e-02,  3.0772e-01,  2.5163e-01,  1.6890e-01],\n",
       "        [-1.4140e-01, -5.0490e-02,  1.3843e-01,  1.4877e-04,  8.9770e-02,\n",
       "         -2.1240e-01, -9.5879e-02, -1.3602e-01, -6.2331e-02,  1.0468e-01],\n",
       "        [-8.9361e-02,  8.4080e-02, -1.7468e-02,  2.6127e-01,  1.7648e-01,\n",
       "          5.3601e-02, -1.7302e-01,  3.9817e-01,  7.4757e-02,  1.8224e-01],\n",
       "        [-2.4051e-01,  1.5265e-01, -1.4522e-01, -4.4077e-02, -8.2474e-02,\n",
       "         -1.3549e-01,  2.6951e-01,  2.2534e-01, -5.8400e-03,  1.1438e-01],\n",
       "        [-8.7637e-02,  1.4919e-01,  2.1659e-01, -1.1926e-02,  2.2168e-01,\n",
       "         -7.0428e-02, -4.3957e-02,  1.9283e-01, -1.2725e-01,  2.0225e-01],\n",
       "        [ 6.9691e-02, -1.3197e-02,  3.0316e-01,  7.5131e-02,  4.7685e-02,\n",
       "         -1.6446e-01, -2.6579e-02,  1.0172e-01,  5.5860e-02,  4.2426e-01],\n",
       "        [-9.5851e-02, -7.5425e-02,  1.0620e-01,  8.3298e-02,  9.7366e-02,\n",
       "         -7.6529e-03,  5.8264e-03, -1.7798e-01,  1.6963e-01, -2.7086e-02],\n",
       "        [-3.7859e-01, -1.1328e-01, -1.0717e-01,  1.8592e-02,  4.2599e-01,\n",
       "         -2.2353e-01,  7.9298e-02,  3.4529e-01,  3.2189e-01, -5.4306e-02],\n",
       "        [-1.9656e-01,  1.2721e-01, -8.3395e-02, -5.8928e-02,  2.6708e-01,\n",
       "          6.2384e-02, -4.0549e-02, -6.7555e-02,  1.0311e-01,  1.2357e-01],\n",
       "        [-2.8031e-01,  1.4976e-01,  2.3344e-02,  1.1005e-01,  1.5276e-01,\n",
       "         -1.2905e-01,  2.2048e-01,  1.0596e-02,  5.5237e-02,  1.8112e-01],\n",
       "        [-1.2091e-01,  1.2891e-01,  1.5046e-01, -7.8208e-02,  1.5051e-01,\n",
       "         -1.3009e-01,  1.4551e-01, -6.8710e-02,  2.1118e-01,  1.8222e-01],\n",
       "        [-2.9696e-01, -7.9018e-02,  1.5635e-01,  6.7785e-02, -2.0511e-02,\n",
       "          1.3788e-01, -3.3059e-02,  4.1068e-03,  1.3843e-01,  9.3807e-02],\n",
       "        [-9.6839e-02, -1.1695e-01,  1.8746e-01,  1.6985e-02,  1.6378e-01,\n",
       "          1.6136e-01, -2.3820e-03,  2.4028e-02,  2.7142e-01,  4.4522e-03],\n",
       "        [ 4.9983e-02, -1.1614e-01, -9.9342e-02,  2.1347e-01,  3.4056e-01,\n",
       "         -8.5351e-02,  1.6950e-01,  9.3553e-02,  2.4010e-02,  1.0719e-01],\n",
       "        [-1.0023e-01, -1.1124e-02,  1.6629e-01,  1.1769e-02,  1.1008e-01,\n",
       "          2.0080e-01, -4.1566e-02,  2.4448e-02,  7.3267e-02,  2.2885e-01],\n",
       "        [-3.9666e-02,  5.3202e-02,  3.3367e-01,  2.1600e-01,  1.9743e-01,\n",
       "         -2.5764e-01, -7.7534e-02,  1.3747e-01,  2.0480e-03,  2.0384e-02],\n",
       "        [-2.0439e-02, -1.8345e-02,  2.6506e-02,  3.2612e-02,  1.2100e-01,\n",
       "         -1.3463e-02, -2.5738e-02, -1.8338e-01,  6.9142e-02,  2.3292e-02],\n",
       "        [-2.4750e-01, -7.6043e-02,  1.4441e-01, -3.5132e-02,  8.7219e-02,\n",
       "          2.3125e-01,  8.0413e-02, -2.6204e-02,  1.7946e-01,  1.6180e-01],\n",
       "        [-6.4009e-02, -1.9568e-01, -9.9334e-03,  2.9743e-02,  1.4010e-01,\n",
       "          4.9291e-02, -2.2265e-02,  1.7729e-01,  2.3341e-02,  3.0964e-02],\n",
       "        [ 5.0798e-02,  1.0388e-01,  4.4529e-01,  1.3220e-01,  5.2033e-02,\n",
       "         -1.7246e-01, -9.9136e-02,  1.3250e-01,  1.4087e-01,  3.5293e-01],\n",
       "        [ 1.6034e-01, -2.5096e-02,  2.2482e-01,  1.2873e-01, -3.3587e-03,\n",
       "         -2.8853e-01,  1.6553e-01,  4.3476e-02,  2.0040e-01,  1.6384e-01],\n",
       "        [-2.7659e-01,  1.4337e-01,  3.4989e-01,  7.6611e-02,  1.0854e-01,\n",
       "          4.2032e-02,  1.5101e-02, -2.7426e-02,  6.0897e-02,  4.1607e-01],\n",
       "        [ 3.4261e-02,  8.2173e-02, -9.3738e-02, -6.2122e-02,  9.4573e-02,\n",
       "         -1.6813e-01,  4.0700e-01, -2.4444e-02,  1.0733e-01,  7.9821e-02],\n",
       "        [-1.0575e-01,  4.3295e-02,  2.8462e-01,  2.1058e-02,  1.7692e-01,\n",
       "          9.5737e-03, -1.7977e-01,  8.2877e-02,  4.7098e-02,  1.4426e-01],\n",
       "        [-1.0894e-01, -1.9067e-02, -2.9800e-03,  1.1184e-01,  1.1423e-01,\n",
       "          2.2200e-02, -2.1241e-02, -7.7483e-02,  1.1441e-01, -4.2911e-02],\n",
       "        [-6.0316e-02,  2.2513e-01,  3.2327e-01, -2.0377e-02,  2.9267e-03,\n",
       "         -1.9779e-02, -2.2728e-01,  3.0263e-02, -1.6587e-02, -8.9724e-02],\n",
       "        [-1.0287e-01,  2.6197e-01,  1.0990e-01, -7.3295e-02,  2.2910e-01,\n",
       "         -5.2492e-02, -3.6851e-02,  1.4322e-01,  2.1287e-01,  3.6483e-01],\n",
       "        [ 9.3226e-02,  7.5437e-02,  2.2906e-01, -3.4969e-02,  1.3810e-01,\n",
       "         -9.4422e-02,  1.7297e-01, -2.5073e-01, -6.1392e-02,  1.3565e-01],\n",
       "        [-1.2445e-01, -8.6314e-02,  6.6804e-02,  3.7066e-01,  9.0358e-02,\n",
       "         -3.4331e-01,  4.4121e-02,  3.0625e-01,  1.6713e-01,  5.1837e-01],\n",
       "        [-2.8823e-01,  8.0002e-02, -8.3006e-02, -1.6055e-03,  3.8542e-01,\n",
       "         -1.6702e-01,  1.9426e-01,  2.2247e-01,  2.6138e-01,  2.4788e-01],\n",
       "        [-1.6877e-01, -1.3805e-01,  2.2236e-01,  3.6722e-01,  1.4568e-01,\n",
       "         -1.9759e-01, -2.5812e-01,  2.7015e-01, -3.5181e-03,  1.8793e-01],\n",
       "        [-3.2707e-01,  1.3747e-01,  3.9947e-01, -7.1457e-02, -6.4039e-02,\n",
       "         -4.6392e-02,  2.5140e-02,  7.2473e-02,  1.8229e-01,  2.1654e-01],\n",
       "        [-2.0913e-01, -9.3704e-02, -9.2813e-02, -7.9788e-02,  1.8420e-01,\n",
       "         -1.7500e-01,  2.2278e-01,  1.4160e-01,  1.9223e-02,  2.9635e-01],\n",
       "        [ 1.5433e-01,  1.8483e-02,  2.0358e-01, -2.0859e-01,  3.5434e-01,\n",
       "         -3.8677e-02, -3.2206e-02,  8.4892e-02, -1.1184e-01, -2.0061e-03],\n",
       "        [-9.4896e-02, -5.2776e-02,  2.8388e-01, -1.1620e-01,  2.1465e-01,\n",
       "         -2.9091e-01, -3.5233e-02,  1.8452e-01,  2.4503e-01,  1.8778e-01],\n",
       "        [-4.4181e-01, -2.7223e-01, -5.4668e-02, -3.6161e-03,  3.7464e-01,\n",
       "          1.7121e-02,  3.0084e-02,  1.6244e-02,  4.7354e-02,  7.3129e-02],\n",
       "        [-1.7708e-03, -7.2807e-03, -9.9430e-04,  9.2149e-02,  8.9570e-02,\n",
       "         -1.0923e-01,  5.7971e-02, -1.2977e-01,  7.6347e-02, -5.6096e-02],\n",
       "        [-9.1943e-02, -2.3288e-01,  1.3693e-01, -1.1843e-01, -8.6515e-03,\n",
       "          1.4278e-02,  1.3070e-01,  1.2337e-01, -1.2325e-01,  1.6901e-01],\n",
       "        [-5.2799e-02,  1.1944e-02,  7.2509e-02, -1.3579e-02, -7.0201e-02,\n",
       "          1.2980e-01, -8.5607e-02,  8.7302e-02,  2.2539e-01,  5.6711e-03],\n",
       "        [-2.7447e-02, -1.5864e-02,  2.6401e-01,  1.7510e-01,  7.9990e-02,\n",
       "          1.7134e-01, -3.5421e-02, -1.9693e-01,  7.3220e-02,  1.0442e-01],\n",
       "        [-3.9837e-01, -2.3198e-01, -1.5908e-01, -1.4429e-01,  3.3051e-01,\n",
       "         -7.0165e-02,  6.9102e-02,  1.3017e-01,  5.5617e-02,  2.5517e-01],\n",
       "        [-2.8143e-02, -9.6766e-02, -1.1439e-01,  8.6036e-02,  8.9287e-02,\n",
       "         -8.0166e-02,  1.4090e-01, -6.3219e-02,  2.7649e-01, -9.0554e-02],\n",
       "        [-8.3335e-02, -3.6814e-02,  4.1973e-02,  1.1722e-01,  1.3318e-01,\n",
       "          1.9100e-01, -9.8679e-02, -4.8709e-02,  7.2398e-02, -1.0390e-01],\n",
       "        [-8.9301e-02,  2.0017e-02,  3.1571e-01,  1.3307e-02, -4.9845e-03,\n",
       "         -7.4981e-02,  1.1008e-02,  2.7366e-02,  1.1622e-01,  2.6597e-01],\n",
       "        [-1.5981e-01, -1.9867e-01, -1.2772e-02, -1.9581e-03,  3.0422e-01,\n",
       "         -6.6575e-02, -1.3181e-01,  1.1066e-01, -7.8454e-02, -6.8521e-02],\n",
       "        [-3.5277e-01, -1.4412e-01, -2.9631e-02, -9.8859e-02,  2.5774e-01,\n",
       "          1.5203e-02,  1.1711e-01,  2.8704e-01,  1.8517e-01,  2.1479e-01],\n",
       "        [-5.4756e-02, -8.7564e-03,  9.5012e-02,  8.2886e-02,  1.4581e-01,\n",
       "          2.1847e-01,  6.1207e-02, -1.3409e-01,  1.2912e-01,  5.3330e-02],\n",
       "        [ 1.1894e-01,  5.7357e-02,  2.2814e-02, -7.8193e-02,  4.6960e-01,\n",
       "         -9.0245e-02, -8.7550e-02,  3.1475e-02,  6.0201e-02, -1.4396e-01],\n",
       "        [-1.8188e-01, -4.7681e-03,  1.6418e-01,  2.2778e-02,  1.6849e-01,\n",
       "          1.4559e-01, -3.2189e-02, -4.9795e-02,  2.4675e-01,  9.6770e-03],\n",
       "        [ 2.8999e-02,  3.1661e-02,  1.0637e-01, -1.3920e-02,  2.3564e-01,\n",
       "         -2.2618e-01, -1.4826e-02,  4.5258e-02,  2.0971e-01, -1.1452e-01],\n",
       "        [ 5.3246e-02, -2.1215e-01,  3.5451e-01, -4.4689e-02,  3.0150e-01,\n",
       "          1.1067e-01,  5.6988e-02,  9.2236e-02, -1.6821e-02,  1.5211e-01],\n",
       "        [-1.3718e-01, -8.4035e-02,  1.8730e-01,  4.8518e-02,  1.2291e-01,\n",
       "         -2.6622e-01,  7.5614e-02,  7.3238e-03,  2.7848e-01,  2.9601e-01],\n",
       "        [ 3.9170e-02, -1.6184e-01,  2.1723e-01,  9.0067e-02,  7.3599e-02,\n",
       "         -1.0610e-01,  4.3675e-02,  9.2377e-04,  1.2066e-01,  3.3609e-01],\n",
       "        [ 1.3146e-01, -6.2327e-02,  2.4526e-02,  2.9094e-01, -8.8770e-03,\n",
       "         -3.0858e-01, -8.9214e-02,  3.0296e-01, -9.3856e-02,  4.5872e-02],\n",
       "        [-6.9672e-02,  4.1344e-01,  5.2202e-02,  1.4128e-01,  1.0960e-01,\n",
       "         -4.0444e-02,  3.1946e-02,  2.6053e-01,  8.2033e-02,  1.5982e-01],\n",
       "        [-3.0377e-02, -2.4304e-03,  1.2580e-01, -1.6512e-01,  3.2128e-01,\n",
       "         -2.4915e-01,  2.5265e-02,  2.1390e-01,  2.0602e-01,  4.5553e-02],\n",
       "        [ 5.1085e-02,  1.2405e-01,  7.1853e-02,  2.3884e-02,  2.9947e-01,\n",
       "         -1.3323e-01,  1.8300e-01,  1.5855e-01, -1.4585e-01,  2.4738e-01],\n",
       "        [-2.0496e-01,  1.9691e-01,  2.5960e-01,  2.3060e-01, -2.7151e-02,\n",
       "         -1.8937e-01,  6.5735e-02,  4.2130e-01, -7.3198e-03,  5.2720e-01],\n",
       "        [-2.6636e-01, -1.7996e-01, -2.7911e-01,  8.9963e-02,  3.8230e-01,\n",
       "         -1.8386e-01,  2.9078e-01,  2.5363e-01,  7.1864e-02,  3.2771e-01],\n",
       "        [-2.0696e-01, -3.0674e-01, -2.5996e-01, -1.2072e-01,  1.9528e-01,\n",
       "          1.3797e-01,  9.6994e-02, -5.6805e-02,  7.2457e-02,  3.5975e-02],\n",
       "        [ 6.5653e-02, -1.7466e-01, -4.5690e-02, -1.6015e-01,  2.3072e-01,\n",
       "          2.6557e-02,  1.8768e-01,  8.4887e-02, -2.9808e-02, -3.0256e-02],\n",
       "        [-1.0279e-01,  2.2534e-01,  9.3915e-02, -1.2031e-02,  2.4329e-01,\n",
       "         -8.4631e-02,  1.3023e-01,  1.9759e-01,  2.1160e-01,  4.6135e-02],\n",
       "        [-9.1564e-02,  2.7112e-01,  1.7695e-01,  2.7745e-01,  2.7933e-01,\n",
       "          1.5250e-01, -3.4841e-01,  2.3549e-01, -9.5658e-02,  7.4448e-02],\n",
       "        [-5.9790e-02, -8.7578e-02,  1.3969e-01,  2.5147e-02,  1.5476e-01,\n",
       "          2.0697e-01,  1.0841e-01, -5.9398e-02,  1.2540e-01,  5.7794e-02],\n",
       "        [-1.6943e-01,  1.9064e-01, -2.2794e-02,  7.8693e-02,  2.6628e-01,\n",
       "         -1.3099e-01, -5.5973e-03,  2.4641e-01,  2.9188e-02,  6.9352e-02],\n",
       "        [-3.5917e-01,  4.7446e-02,  1.3713e-01,  6.1028e-02,  3.3731e-01,\n",
       "         -1.2849e-01, -9.2370e-02,  4.0175e-01, -2.4602e-01,  3.9014e-01],\n",
       "        [-1.8779e-01,  2.3337e-01,  5.0690e-02, -3.5864e-02,  1.2303e-01,\n",
       "         -1.9682e-01,  3.2120e-01,  1.3188e-01, -7.2569e-02,  2.5167e-01],\n",
       "        [-1.6979e-01,  2.0277e-01, -1.3210e-01, -5.6817e-02,  1.7890e-01,\n",
       "         -6.4462e-02,  2.2296e-01, -4.0105e-02,  1.4359e-01, -4.6734e-02],\n",
       "        [-1.1319e-01, -1.8756e-01,  1.6284e-01, -6.2544e-03,  1.0906e-01,\n",
       "          8.9779e-02, -1.7910e-02,  6.6786e-02,  2.6408e-01,  3.9129e-02],\n",
       "        [ 4.4962e-02,  8.4626e-02,  4.5731e-01, -3.7150e-02,  6.3168e-02,\n",
       "         -9.5704e-02,  3.9463e-02,  2.1310e-01,  5.3736e-02,  2.6774e-01],\n",
       "        [-1.8924e-02, -1.5440e-01,  1.5318e-01, -4.4091e-02, -5.6072e-02,\n",
       "          1.8222e-01,  1.4427e-02,  1.4386e-01, -1.8277e-01,  1.0915e-01],\n",
       "        [-1.1761e-01,  1.3551e-01,  1.4451e-01, -5.9218e-02, -2.0175e-03,\n",
       "         -1.6274e-01,  1.6252e-01, -2.6734e-02,  5.8591e-02,  2.5745e-01],\n",
       "        [-2.2153e-01, -8.4698e-02,  1.9244e-01,  4.3231e-02,  4.1028e-01,\n",
       "         -1.1690e-01,  2.0797e-02,  2.1360e-01, -1.3323e-01,  3.1771e-01],\n",
       "        [-1.6093e-03, -2.6977e-01, -1.9006e-02,  6.0061e-04,  2.9197e-01,\n",
       "          1.3006e-02,  2.2255e-01, -2.5044e-01,  2.5263e-01, -9.8150e-02],\n",
       "        [-1.4908e-01,  1.2368e-01,  3.0982e-01, -4.6529e-02, -1.2105e-02,\n",
       "         -2.4698e-01,  1.2390e-01,  4.0552e-02, -9.5620e-02,  3.8756e-01],\n",
       "        [ 1.0538e-01,  9.9942e-02, -2.2634e-01, -4.5281e-02,  1.7597e-01,\n",
       "          1.0827e-01,  2.0447e-01, -1.5723e-02,  1.5866e-01, -1.5006e-01],\n",
       "        [-3.7098e-01, -1.5158e-02,  1.3075e-01, -6.6597e-02,  1.4500e-01,\n",
       "         -1.4340e-01,  1.7254e-01,  1.9678e-02,  2.7903e-01,  1.6931e-01],\n",
       "        [-1.4176e-01, -3.0397e-01, -6.6363e-02, -2.1444e-01,  3.9852e-01,\n",
       "         -1.1750e-01, -2.0723e-02,  6.6736e-02,  1.1685e-01,  4.2430e-02],\n",
       "        [-2.8808e-02,  6.1998e-02,  1.5609e-01, -4.3896e-02,  3.0098e-01,\n",
       "         -2.6047e-02,  1.7407e-01,  1.8459e-01,  1.9403e-02,  9.5113e-02],\n",
       "        [-1.2047e-01, -1.6045e-01, -1.3283e-01, -1.8220e-01,  4.7456e-01,\n",
       "          8.4687e-02, -1.5928e-02,  4.4489e-01, -2.5074e-01,  5.4053e-02],\n",
       "        [-6.2440e-02, -6.5266e-03,  7.2233e-02,  8.5371e-02,  2.5331e-01,\n",
       "          1.7828e-01,  4.3676e-02, -1.5931e-01,  2.1976e-01, -1.0757e-01],\n",
       "        [-1.3322e-01, -1.8418e-01, -1.4505e-01,  3.0383e-02,  2.7902e-01,\n",
       "          1.5538e-01,  6.9253e-02,  2.1066e-01,  3.7102e-02,  1.9300e-01],\n",
       "        [ 1.0334e-01,  8.5412e-02,  1.1563e-01,  5.0194e-03,  3.2883e-01,\n",
       "         -1.3940e-01,  6.7094e-02,  1.8976e-02,  7.0255e-02,  1.5188e-01],\n",
       "        [-5.6180e-02, -3.9462e-01,  1.8563e-01,  4.9512e-02,  1.1381e-01,\n",
       "          5.0186e-02,  1.4532e-01, -1.5621e-02,  2.2076e-01,  3.4596e-02],\n",
       "        [-2.1478e-01,  1.4508e-01,  1.4959e-01,  8.5160e-02,  3.1177e-01,\n",
       "         -2.0915e-01,  7.1248e-03,  3.7540e-02,  1.2567e-01, -5.0945e-02],\n",
       "        [-7.4115e-02,  2.0225e-01,  3.4415e-01,  2.6056e-01,  6.1151e-02,\n",
       "         -4.9325e-02,  5.8460e-02,  3.9705e-02,  1.3792e-01,  2.9377e-01],\n",
       "        [-2.4665e-01, -1.5351e-01,  2.9528e-01, -1.4642e-02,  2.7209e-01,\n",
       "         -1.2590e-01, -7.7166e-02,  2.7488e-01,  1.8123e-01,  1.1477e-02],\n",
       "        [-4.1388e-01,  6.8484e-02,  4.0525e-01,  1.2197e-01, -2.6232e-01,\n",
       "         -7.8693e-02,  6.8277e-02,  1.5439e-01,  6.3229e-03,  1.5223e-01],\n",
       "        [ 3.5737e-02, -5.9127e-03,  1.2395e-01, -8.3085e-02,  3.4127e-01,\n",
       "         -4.6887e-02,  7.4464e-02,  1.9052e-03, -2.9803e-03, -4.5860e-02],\n",
       "        [-1.7455e-01, -9.0707e-02,  1.9806e-01,  1.5369e-01,  5.6008e-02,\n",
       "         -3.1199e-02,  2.8057e-01,  1.0905e-01,  2.2971e-01,  1.2178e-01],\n",
       "        [-1.0526e-01,  6.6642e-02,  2.2436e-01,  2.1182e-01,  1.8511e-01,\n",
       "          4.3387e-02,  6.8125e-02,  1.7917e-01,  7.5940e-02,  2.7212e-01],\n",
       "        [-2.8965e-01,  1.6936e-01,  2.1852e-02, -7.6918e-02,  1.4064e-01,\n",
       "         -7.9711e-02,  2.3326e-01, -1.6308e-01,  1.1260e-01, -3.3127e-02],\n",
       "        [ 1.6291e-01, -5.7477e-02,  2.5238e-01,  8.8416e-02, -1.5563e-01,\n",
       "         -9.7112e-02,  1.3223e-01,  2.4877e-01, -5.5539e-02,  3.5616e-01],\n",
       "        [-2.7112e-01,  1.7306e-01,  2.7179e-01,  2.7856e-01,  1.8690e-01,\n",
       "          1.5149e-01, -1.6347e-01, -1.3479e-01,  3.4668e-02,  2.5976e-01],\n",
       "        [-1.7071e-01, -1.2200e-01,  1.6404e-01, -1.1722e-01,  1.3550e-01,\n",
       "         -2.4095e-01,  1.9375e-01, -1.2396e-01, -3.7076e-02,  2.2446e-01],\n",
       "        [-2.8819e-01,  1.0910e-01,  1.3167e-01,  1.4831e-01,  9.2814e-02,\n",
       "          6.3735e-02, -3.8785e-03, -3.2677e-01,  4.3695e-02,  9.0398e-03],\n",
       "        [-2.6737e-01,  3.0632e-01,  4.0481e-02,  4.0844e-03,  3.1080e-01,\n",
       "          5.5517e-02,  2.3181e-02,  2.3921e-01, -6.5574e-02,  2.7501e-01],\n",
       "        [-1.3815e-02, -4.8985e-02,  8.9752e-02,  5.0257e-02,  9.8337e-02,\n",
       "         -3.2252e-02,  2.5173e-02, -1.7530e-01, -8.7664e-02,  9.9915e-02],\n",
       "        [-8.3298e-03,  4.0908e-01,  1.0482e-01, -9.9277e-02,  6.2407e-02,\n",
       "         -2.6969e-01,  2.1760e-01,  8.2971e-02,  8.8026e-02,  2.2313e-01],\n",
       "        [-4.1093e-02,  1.2040e-01,  1.2124e-01,  2.4509e-02,  2.7607e-01,\n",
       "         -2.0154e-01,  6.6978e-02,  6.8946e-02, -7.7211e-02, -3.5792e-03]],\n",
       "       grad_fn=<AddmmBackward0>)"
      ]
     },
     "execution_count": 74,
     "metadata": {},
     "output_type": "execute_result"
    }
   ],
   "source": [
    "outputs"
   ]
  },
  {
   "cell_type": "code",
   "execution_count": 75,
   "metadata": {
    "executionInfo": {
     "elapsed": 804,
     "status": "ok",
     "timestamp": 1606580980198,
     "user": {
      "displayName": "Aakash N S",
      "photoUrl": "https://lh3.googleusercontent.com/a-/AOh14GiIWFHtan62vtW1gz2Bv2bxL3rppefcadxzEVxRKQ=s64",
      "userId": "03254185060287524023"
     },
     "user_tz": -330
    },
    "id": "OqWUQpANfTTZ"
   },
   "outputs": [],
   "source": [
    "loss_fn = F.cross_entropy"
   ]
  },
  {
   "cell_type": "code",
   "execution_count": 76,
   "metadata": {
    "colab": {
     "base_uri": "https://localhost:8080/"
    },
    "executionInfo": {
     "elapsed": 1109,
     "status": "ok",
     "timestamp": 1606580980798,
     "user": {
      "displayName": "Aakash N S",
      "photoUrl": "https://lh3.googleusercontent.com/a-/AOh14GiIWFHtan62vtW1gz2Bv2bxL3rppefcadxzEVxRKQ=s64",
      "userId": "03254185060287524023"
     },
     "user_tz": -330
    },
    "id": "SuESG0hbfTTZ",
    "outputId": "10804014-e2d7-4b7c-c56d-b56761ffb464"
   },
   "outputs": [
    {
     "name": "stdout",
     "output_type": "stream",
     "text": [
      "tensor(2.3575, grad_fn=<NllLossBackward0>)\n"
     ]
    }
   ],
   "source": [
    "# Loss for current batch of data\n",
    "loss = loss_fn(outputs, labels)\n",
    "print(loss)"
   ]
  },
  {
   "cell_type": "markdown",
   "metadata": {
    "id": "wFOtpxUqfTTZ"
   },
   "source": [
    "We know that cross-entropy is the negative logarithm of the predicted probability of the correct label averaged over all training samples. Therefore, one way to interpret the resulting number e.g. `2.23` is look at `e^-2.23` which is around `0.1` as the predicted probability of the correct label, on average. *The lower the loss, The better the model.*"
   ]
  },
  {
   "cell_type": "markdown",
   "metadata": {
    "id": "hTgl76MgfTTZ"
   },
   "source": [
    "## Training the model\n",
    "\n",
    "Now that we have defined the data loaders, model, loss function and optimizer, we are ready to train the model. The training process is identical to linear regression, with the addition of a \"validation phase\" to evaluate the model in each epoch. Here's what it looks like in pseudocode:\n",
    "\n",
    "```\n",
    "for epoch in range(num_epochs):\n",
    "    # Training phase\n",
    "    for batch in train_loader:\n",
    "        # Generate predictions\n",
    "        # Calculate loss\n",
    "        # Compute gradients\n",
    "        # Update weights\n",
    "        # Reset gradients\n",
    "    \n",
    "    # Validation phase\n",
    "    for batch in val_loader:\n",
    "        # Generate predictions\n",
    "        # Calculate loss\n",
    "        # Calculate metrics (accuracy etc.)\n",
    "    # Calculate average validation loss & metrics\n",
    "    \n",
    "    # Log epoch, loss & metrics for inspection\n",
    "```\n",
    "\n",
    "Some parts of the training loop are specific the specific problem we're solving (e.g. loss function, metrics etc.) whereas others are generic and can be applied to any deep learning problem. \n",
    "\n",
    "We'll include the problem-independent parts within a function called `fit`, which will be used to train the model. The problem-specific parts will be implemented by adding new methods to the `nn.Module` class.\n",
    "\n"
   ]
  },
  {
   "cell_type": "code",
   "execution_count": 77,
   "metadata": {
    "executionInfo": {
     "elapsed": 845,
     "status": "ok",
     "timestamp": 1606581529307,
     "user": {
      "displayName": "Aakash N S",
      "photoUrl": "https://lh3.googleusercontent.com/a-/AOh14GiIWFHtan62vtW1gz2Bv2bxL3rppefcadxzEVxRKQ=s64",
      "userId": "03254185060287524023"
     },
     "user_tz": -330
    },
    "id": "1cv7a7ukfTTZ"
   },
   "outputs": [],
   "source": [
    "def fit(epochs, lr, model, train_loader, val_loader, opt_func=torch.optim.SGD):\n",
    "    optimizer = opt_func(model.parameters(), lr)\n",
    "    history = [] # for recording epoch-wise results\n",
    "    \n",
    "    for epoch in range(epochs):\n",
    "        \n",
    "        # Training Phase \n",
    "        for batch in train_loader:\n",
    "            loss = model.training_step(batch)\n",
    "            loss.backward()\n",
    "            optimizer.step()\n",
    "            optimizer.zero_grad()\n",
    "        \n",
    "        # Validation phase\n",
    "        result = evaluate(model, val_loader)\n",
    "        model.epoch_end(epoch, result)\n",
    "        history.append(result)\n",
    "\n",
    "    return history"
   ]
  },
  {
   "cell_type": "markdown",
   "metadata": {
    "id": "TAuhlro7fTTZ"
   },
   "source": [
    "The `fit` function records the validation loss and metric from each epoch. It returns a history of the training, useful for debugging & visualization.\n",
    "\n",
    "Configurations like batch size, learning rate, etc. (called hyperparameters), need to picked in advance while training machine learning models. Choosing the right hyperparameters is critical for training a reasonably accurate model within a reasonable amount of time. It is an active area of research and experimentation in machine learning. Feel free to try different learning rates and see how it affects the training process.\n",
    "\n",
    "\n",
    "Let's define the `evaluate` function, used in the validation phase of `fit`."
   ]
  },
  {
   "cell_type": "code",
   "execution_count": 78,
   "metadata": {
    "executionInfo": {
     "elapsed": 974,
     "status": "ok",
     "timestamp": 1606581638418,
     "user": {
      "displayName": "Aakash N S",
      "photoUrl": "https://lh3.googleusercontent.com/a-/AOh14GiIWFHtan62vtW1gz2Bv2bxL3rppefcadxzEVxRKQ=s64",
      "userId": "03254185060287524023"
     },
     "user_tz": -330
    },
    "id": "N064K5H9ujtQ"
   },
   "outputs": [],
   "source": [
    "l1 = [1, 2, 3, 4, 5]"
   ]
  },
  {
   "cell_type": "code",
   "execution_count": 79,
   "metadata": {
    "colab": {
     "base_uri": "https://localhost:8080/"
    },
    "executionInfo": {
     "elapsed": 1036,
     "status": "ok",
     "timestamp": 1606581654744,
     "user": {
      "displayName": "Aakash N S",
      "photoUrl": "https://lh3.googleusercontent.com/a-/AOh14GiIWFHtan62vtW1gz2Bv2bxL3rppefcadxzEVxRKQ=s64",
      "userId": "03254185060287524023"
     },
     "user_tz": -330
    },
    "id": "5W8a_hmFujqa",
    "outputId": "ec0a2dfb-9b6a-48f7-86b3-5ee852af0072"
   },
   "outputs": [
    {
     "data": {
      "text/plain": [
       "[2, 4, 6, 8, 10]"
      ]
     },
     "execution_count": 79,
     "metadata": {},
     "output_type": "execute_result"
    }
   ],
   "source": [
    "l2 = [x*2 for x in l1]\n",
    "l2"
   ]
  },
  {
   "cell_type": "code",
   "execution_count": 80,
   "metadata": {
    "executionInfo": {
     "elapsed": 943,
     "status": "ok",
     "timestamp": 1606581713680,
     "user": {
      "displayName": "Aakash N S",
      "photoUrl": "https://lh3.googleusercontent.com/a-/AOh14GiIWFHtan62vtW1gz2Bv2bxL3rppefcadxzEVxRKQ=s64",
      "userId": "03254185060287524023"
     },
     "user_tz": -330
    },
    "id": "wgWjXs5mfTTZ"
   },
   "outputs": [],
   "source": [
    "def evaluate(model, val_loader):\n",
    "    outputs = [model.validation_step(batch) for batch in val_loader]\n",
    "    return model.validation_epoch_end(outputs)"
   ]
  },
  {
   "cell_type": "markdown",
   "metadata": {
    "id": "FdcKIXvMfTTZ"
   },
   "source": [
    "\n",
    "Finally, let's redefine the `MnistModel` class to include additional methods `training_step`, `validation_step`, `validation_epoch_end`, and `epoch_end` used by `fit` and `evaluate`."
   ]
  },
  {
   "cell_type": "code",
   "execution_count": 81,
   "metadata": {
    "executionInfo": {
     "elapsed": 785,
     "status": "ok",
     "timestamp": 1606582144490,
     "user": {
      "displayName": "Aakash N S",
      "photoUrl": "https://lh3.googleusercontent.com/a-/AOh14GiIWFHtan62vtW1gz2Bv2bxL3rppefcadxzEVxRKQ=s64",
      "userId": "03254185060287524023"
     },
     "user_tz": -330
    },
    "id": "SbJN7ICGfTTZ"
   },
   "outputs": [],
   "source": [
    "class MnistModel(nn.Module):\n",
    "    def __init__(self):\n",
    "        super().__init__()\n",
    "        self.linear = nn.Linear(input_size, num_classes)\n",
    "        \n",
    "    def forward(self, xb):\n",
    "        xb = xb.reshape(-1, 784)\n",
    "        out = self.linear(xb)\n",
    "        return out\n",
    "    \n",
    "    def training_step(self, batch):\n",
    "        images, labels = batch \n",
    "        out = self(images)                  # Generate predictions\n",
    "        loss = F.cross_entropy(out, labels) # Calculate loss\n",
    "        return loss\n",
    "    \n",
    "    def validation_step(self, batch):\n",
    "        images, labels = batch \n",
    "        out = self(images)                    # Generate predictions\n",
    "        loss = F.cross_entropy(out, labels)   # Calculate loss\n",
    "        acc = accuracy(out, labels)           # Calculate accuracy\n",
    "        return {'val_loss': loss, 'val_acc': acc}\n",
    "        \n",
    "    def validation_epoch_end(self, outputs):\n",
    "        batch_losses = [x['val_loss'] for x in outputs]\n",
    "        epoch_loss = torch.stack(batch_losses).mean()   # Combine losses\n",
    "        batch_accs = [x['val_acc'] for x in outputs]\n",
    "        epoch_acc = torch.stack(batch_accs).mean()      # Combine accuracies\n",
    "        return {'val_loss': epoch_loss.item(), 'val_acc': epoch_acc.item()}\n",
    "    \n",
    "    def epoch_end(self, epoch, result):\n",
    "        print(\"Epoch [{}], val_loss: {:.4f}, val_acc: {:.4f}\".format(epoch, result['val_loss'], result['val_acc']))\n",
    "    \n",
    "model = MnistModel()"
   ]
  },
  {
   "cell_type": "markdown",
   "metadata": {
    "id": "Y-omw1RBfTTZ"
   },
   "source": [
    "Before we train the model, let's see how the model performs on the validation set with the initial set of randomly initialized weights & biases.\n",
    "\n"
   ]
  },
  {
   "cell_type": "code",
   "execution_count": 82,
   "metadata": {
    "colab": {
     "base_uri": "https://localhost:8080/"
    },
    "executionInfo": {
     "elapsed": 1817,
     "status": "ok",
     "timestamp": 1606582146179,
     "user": {
      "displayName": "Aakash N S",
      "photoUrl": "https://lh3.googleusercontent.com/a-/AOh14GiIWFHtan62vtW1gz2Bv2bxL3rppefcadxzEVxRKQ=s64",
      "userId": "03254185060287524023"
     },
     "user_tz": -330
    },
    "id": "tNUBy9qTfTTZ",
    "outputId": "774e8e20-68c2-4a30-ada9-4e0df23285ac"
   },
   "outputs": [
    {
     "data": {
      "text/plain": [
       "{'val_loss': 2.3209497928619385, 'val_acc': 0.07349999248981476}"
      ]
     },
     "execution_count": 82,
     "metadata": {},
     "output_type": "execute_result"
    }
   ],
   "source": [
    "result0 = evaluate(model, val_loader)\n",
    "result0"
   ]
  },
  {
   "cell_type": "markdown",
   "metadata": {
    "id": "KapQW0CDfTTZ"
   },
   "source": [
    "The initial accuracy is around 10%, which one might expect from a randomly initialized model (since it has a 1 in 10 chance of getting a label right by guessing randomly).\n",
    "\n",
    "We are now ready to train the model. Let's train for five epochs and look at the results."
   ]
  },
  {
   "cell_type": "code",
   "execution_count": 83,
   "metadata": {
    "colab": {
     "base_uri": "https://localhost:8080/"
    },
    "executionInfo": {
     "elapsed": 25282,
     "status": "ok",
     "timestamp": 1606582219804,
     "user": {
      "displayName": "Aakash N S",
      "photoUrl": "https://lh3.googleusercontent.com/a-/AOh14GiIWFHtan62vtW1gz2Bv2bxL3rppefcadxzEVxRKQ=s64",
      "userId": "03254185060287524023"
     },
     "user_tz": -330
    },
    "id": "MQRahsa6fTTZ",
    "outputId": "864bc5a4-c235-458c-e316-764cae8bb587"
   },
   "outputs": [
    {
     "name": "stdout",
     "output_type": "stream",
     "text": [
      "Epoch [0], val_loss: 1.8775, val_acc: 0.6437\n",
      "Epoch [1], val_loss: 1.5716, val_acc: 0.7354\n",
      "Epoch [2], val_loss: 1.3590, val_acc: 0.7639\n",
      "Epoch [3], val_loss: 1.2074, val_acc: 0.7883\n",
      "Epoch [4], val_loss: 1.0956, val_acc: 0.8005\n"
     ]
    }
   ],
   "source": [
    "history1 = fit(5, 0.001, model, train_loader, val_loader)"
   ]
  },
  {
   "cell_type": "markdown",
   "metadata": {
    "id": "5mcIbHuKfTTa"
   },
   "source": [
    "That's a great result! With just 5 epochs of training, our model has reached an accuracy of over 80% on the validation set. Let's see if we can improve that by training for a few more epochs. Try changing the learning rates and number of epochs in each of the cells below."
   ]
  },
  {
   "cell_type": "code",
   "execution_count": 84,
   "metadata": {
    "colab": {
     "base_uri": "https://localhost:8080/"
    },
    "executionInfo": {
     "elapsed": 48991,
     "status": "ok",
     "timestamp": 1606582243818,
     "user": {
      "displayName": "Aakash N S",
      "photoUrl": "https://lh3.googleusercontent.com/a-/AOh14GiIWFHtan62vtW1gz2Bv2bxL3rppefcadxzEVxRKQ=s64",
      "userId": "03254185060287524023"
     },
     "user_tz": -330
    },
    "id": "cJvMd9CufTTa",
    "outputId": "c15d370b-4d0b-4644-8ddb-965117f03ba8"
   },
   "outputs": [
    {
     "name": "stdout",
     "output_type": "stream",
     "text": [
      "Epoch [0], val_loss: 1.0103, val_acc: 0.8119\n",
      "Epoch [1], val_loss: 0.9433, val_acc: 0.8193\n",
      "Epoch [2], val_loss: 0.8892, val_acc: 0.8247\n",
      "Epoch [3], val_loss: 0.8447, val_acc: 0.8315\n",
      "Epoch [4], val_loss: 0.8073, val_acc: 0.8357\n"
     ]
    }
   ],
   "source": [
    "history2 = fit(5, 0.001, model, train_loader, val_loader)"
   ]
  },
  {
   "cell_type": "code",
   "execution_count": 85,
   "metadata": {
    "colab": {
     "base_uri": "https://localhost:8080/"
    },
    "executionInfo": {
     "elapsed": 72873,
     "status": "ok",
     "timestamp": 1606582267867,
     "user": {
      "displayName": "Aakash N S",
      "photoUrl": "https://lh3.googleusercontent.com/a-/AOh14GiIWFHtan62vtW1gz2Bv2bxL3rppefcadxzEVxRKQ=s64",
      "userId": "03254185060287524023"
     },
     "user_tz": -330
    },
    "id": "hON9V8GBfTTa",
    "outputId": "08129337-153d-4eaa-eb13-1ee86089d60f"
   },
   "outputs": [
    {
     "name": "stdout",
     "output_type": "stream",
     "text": [
      "Epoch [0], val_loss: 0.7754, val_acc: 0.8399\n",
      "Epoch [1], val_loss: 0.7480, val_acc: 0.8442\n",
      "Epoch [2], val_loss: 0.7239, val_acc: 0.8466\n",
      "Epoch [3], val_loss: 0.7027, val_acc: 0.8505\n",
      "Epoch [4], val_loss: 0.6839, val_acc: 0.8524\n"
     ]
    }
   ],
   "source": [
    "history3 = fit(5, 0.001, model, train_loader, val_loader)"
   ]
  },
  {
   "cell_type": "code",
   "execution_count": 86,
   "metadata": {
    "colab": {
     "base_uri": "https://localhost:8080/"
    },
    "executionInfo": {
     "elapsed": 96447,
     "status": "ok",
     "timestamp": 1606582291889,
     "user": {
      "displayName": "Aakash N S",
      "photoUrl": "https://lh3.googleusercontent.com/a-/AOh14GiIWFHtan62vtW1gz2Bv2bxL3rppefcadxzEVxRKQ=s64",
      "userId": "03254185060287524023"
     },
     "user_tz": -330
    },
    "id": "V5ALmwZjfTTa",
    "outputId": "340bd5b7-e290-4cbe-9a62-f5901f09bf63"
   },
   "outputs": [
    {
     "name": "stdout",
     "output_type": "stream",
     "text": [
      "Epoch [0], val_loss: 0.6671, val_acc: 0.8548\n",
      "Epoch [1], val_loss: 0.6519, val_acc: 0.8577\n",
      "Epoch [2], val_loss: 0.6381, val_acc: 0.8590\n",
      "Epoch [3], val_loss: 0.6255, val_acc: 0.8604\n",
      "Epoch [4], val_loss: 0.6140, val_acc: 0.8618\n"
     ]
    }
   ],
   "source": [
    "history4 = fit(5, 0.001, model, train_loader, val_loader)"
   ]
  },
  {
   "cell_type": "markdown",
   "metadata": {
    "id": "sCm1903IfTTa"
   },
   "source": [
    "While the accuracy does continue to increase as we train for more epochs, the improvements get smaller with every epoch. Let's visualize this using a line graph."
   ]
  },
  {
   "cell_type": "code",
   "execution_count": 87,
   "metadata": {
    "colab": {
     "base_uri": "https://localhost:8080/",
     "height": 295
    },
    "executionInfo": {
     "elapsed": 825,
     "status": "ok",
     "timestamp": 1606582484777,
     "user": {
      "displayName": "Aakash N S",
      "photoUrl": "https://lh3.googleusercontent.com/a-/AOh14GiIWFHtan62vtW1gz2Bv2bxL3rppefcadxzEVxRKQ=s64",
      "userId": "03254185060287524023"
     },
     "user_tz": -330
    },
    "id": "swNRQSa0fTTa",
    "outputId": "fa726f42-fc0a-4a74-e660-e105192777b4"
   },
   "outputs": [
    {
     "data": {
      "image/png": "[encoded data removed]",
      "text/plain": [
       "<Figure size 432x288 with 1 Axes>"
      ]
     },
     "metadata": {
      "needs_background": "light"
     },
     "output_type": "display_data"
    }
   ],
   "source": [
    "history = [result0] + history1 + history2 + history3 + history4\n",
    "accuracies = [result['val_acc'] for result in history]\n",
    "plt.plot(accuracies, '-x')\n",
    "plt.xlabel('epoch')\n",
    "plt.ylabel('accuracy')\n",
    "plt.title('Accuracy vs. No. of epochs');"
   ]
  },
  {
   "cell_type": "markdown",
   "metadata": {
    "id": "G-a7zRGxfTTa"
   },
   "source": [
    "It's quite clear from the above picture that the model probably won't cross the accuracy threshold of 90% even after training for a very long time. One possible reason for this is that the learning rate might be too high. The model's parameters may be \"bouncing\" around the optimal set of parameters for the lowest loss. You can try reducing the learning rate and training for a few more epochs to see if it helps.\n",
    "\n",
    "The more likely reason that **the model just isn't powerful enough**. If you remember our initial hypothesis, we have assumed that the output (in this case the class probabilities) is a **linear function** of the input (pixel intensities), obtained by perfoming a matrix multiplication with the weights matrix and adding the bias. This is a fairly weak assumption, as there may not actually exist a linear relationship between the pixel intensities in an image and the digit it represents. While it works reasonably well for a simple dataset like MNIST (getting us to 85% accuracy), we need more sophisticated models that can capture non-linear relationships between image pixels and labels for complex tasks like recognizing everyday objects, animals etc. \n",
    "\n",
    "Let's save our work using `jovian.commit`. Along with the notebook, we can also record some metrics from our training."
   ]
  },
  {
   "cell_type": "code",
   "execution_count": 88,
   "metadata": {
    "colab": {
     "base_uri": "https://localhost:8080/"
    },
    "executionInfo": {
     "elapsed": 732,
     "status": "ok",
     "timestamp": 1606582733269,
     "user": {
      "displayName": "Aakash N S",
      "photoUrl": "https://lh3.googleusercontent.com/a-/AOh14GiIWFHtan62vtW1gz2Bv2bxL3rppefcadxzEVxRKQ=s64",
      "userId": "03254185060287524023"
     },
     "user_tz": -330
    },
    "id": "4ec-7b_jfTTa",
    "outputId": "8931abec-ccb6-4934-9a77-ca31ad0185e9"
   },
   "outputs": [
    {
     "name": "stdout",
     "output_type": "stream",
     "text": [
      "[jovian] Metrics logged.\u001b[0m\n"
     ]
    }
   ],
   "source": [
    "jovian.log_metrics(val_acc=history[-1]['val_acc'], val_loss=history[-1]['val_loss'])"
   ]
  },
  {
   "cell_type": "code",
   "execution_count": 89,
   "metadata": {
    "colab": {
     "base_uri": "https://localhost:8080/",
     "height": 104
    },
    "executionInfo": {
     "elapsed": 3324,
     "status": "ok",
     "timestamp": 1606582746421,
     "user": {
      "displayName": "Aakash N S",
      "photoUrl": "https://lh3.googleusercontent.com/a-/AOh14GiIWFHtan62vtW1gz2Bv2bxL3rppefcadxzEVxRKQ=s64",
      "userId": "03254185060287524023"
     },
     "user_tz": -330
    },
    "id": "y0qr0ZNAfTTa",
    "outputId": "f9b1f120-be74-418d-fe2a-77769d51d499"
   },
   "outputs": [
    {
     "data": {
      "application/javascript": [
       "window.require && require([\"base/js/namespace\"],function(Jupyter){Jupyter.notebook.save_checkpoint()})"
      ],
      "text/plain": [
       "<IPython.core.display.Javascript object>"
      ]
     },
     "metadata": {},
     "output_type": "display_data"
    },
    {
     "name": "stdout",
     "output_type": "stream",
     "text": [
      "[jovian] Creating a new project \"faseehahmedrocks26/03-logistic-regression\"\u001b[0m\n",
      "[jovian] Attaching records (metrics, hyperparameters, dataset etc.)\u001b[0m\n",
      "[jovian] Committed successfully! https://jovian.ai/faseehahmedrocks26/03-logistic-regression\u001b[0m\n"
     ]
    },
    {
     "data": {
      "text/plain": [
       "'https://jovian.ai/faseehahmedrocks26/03-logistic-regression'"
      ]
     },
     "execution_count": 89,
     "metadata": {},
     "output_type": "execute_result"
    }
   ],
   "source": [
    "jovian.commit(project='03-logistic-regression', environment=None)"
   ]
  },
  {
   "cell_type": "markdown",
   "metadata": {
    "id": "HXgOorOIfTTa"
   },
   "source": [
    "## Testing with individual images"
   ]
  },
  {
   "cell_type": "markdown",
   "metadata": {
    "id": "_qUQKIJefTTa"
   },
   "source": [
    "While we have been tracking the overall accuracy of a model so far, it's also a good idea to look at model's results on some sample images. Let's test out our model with some images from the predefined test dataset of 10000 images. We begin by recreating the test dataset with the `ToTensor` transform."
   ]
  },
  {
   "cell_type": "code",
   "execution_count": 90,
   "metadata": {
    "executionInfo": {
     "elapsed": 784,
     "status": "ok",
     "timestamp": 1606582915241,
     "user": {
      "displayName": "Aakash N S",
      "photoUrl": "https://lh3.googleusercontent.com/a-/AOh14GiIWFHtan62vtW1gz2Bv2bxL3rppefcadxzEVxRKQ=s64",
      "userId": "03254185060287524023"
     },
     "user_tz": -330
    },
    "id": "KqcHUQK3fTTa"
   },
   "outputs": [],
   "source": [
    "# Define test dataset\n",
    "test_dataset = MNIST(root='data/', \n",
    "                     train=False,\n",
    "                     transform=transforms.ToTensor())"
   ]
  },
  {
   "cell_type": "markdown",
   "metadata": {
    "id": "Sw9J_viefTTa"
   },
   "source": [
    "Here's a sample image from the dataset."
   ]
  },
  {
   "cell_type": "code",
   "execution_count": 91,
   "metadata": {
    "colab": {
     "base_uri": "https://localhost:8080/",
     "height": 299
    },
    "executionInfo": {
     "elapsed": 784,
     "status": "ok",
     "timestamp": 1606582938197,
     "user": {
      "displayName": "Aakash N S",
      "photoUrl": "https://lh3.googleusercontent.com/a-/AOh14GiIWFHtan62vtW1gz2Bv2bxL3rppefcadxzEVxRKQ=s64",
      "userId": "03254185060287524023"
     },
     "user_tz": -330
    },
    "id": "yzEdFHq6fTTa",
    "outputId": "4e0faa6b-789f-46c4-9c25-27441665844c"
   },
   "outputs": [
    {
     "name": "stdout",
     "output_type": "stream",
     "text": [
      "Shape: torch.Size([1, 28, 28])\n",
      "Label: 7\n"
     ]
    },
    {
     "data": {
      "image/png": "[encoded data removed]",
      "text/plain": [
       "<Figure size 432x288 with 1 Axes>"
      ]
     },
     "metadata": {
      "needs_background": "light"
     },
     "output_type": "display_data"
    }
   ],
   "source": [
    "img, label = test_dataset[0]\n",
    "plt.imshow(img[0], cmap='gray')\n",
    "print('Shape:', img.shape)\n",
    "print('Label:', label)"
   ]
  },
  {
   "cell_type": "markdown",
   "metadata": {
    "id": "QgwbsDUjfTTa"
   },
   "source": [
    "Let's define a helper function `predict_image`, which returns the predicted label for a single image tensor."
   ]
  },
  {
   "cell_type": "code",
   "execution_count": 92,
   "metadata": {
    "executionInfo": {
     "elapsed": 802,
     "status": "ok",
     "timestamp": 1606583060675,
     "user": {
      "displayName": "Aakash N S",
      "photoUrl": "https://lh3.googleusercontent.com/a-/AOh14GiIWFHtan62vtW1gz2Bv2bxL3rppefcadxzEVxRKQ=s64",
      "userId": "03254185060287524023"
     },
     "user_tz": -330
    },
    "id": "9FfeYQaOfTTa"
   },
   "outputs": [],
   "source": [
    "def predict_image(img, model):\n",
    "    xb = img.unsqueeze(0)\n",
    "    yb = model(xb)\n",
    "    _, preds = torch.max(yb, dim=1)\n",
    "    return preds[0].item()"
   ]
  },
  {
   "cell_type": "markdown",
   "metadata": {
    "id": "9ppgosBYfTTa"
   },
   "source": [
    "`img.unsqueeze` simply adds another dimension at the begining of the 1x28x28 tensor, making it a 1x1x28x28 tensor, which the model views as a batch containing a single image.\n",
    "\n",
    "Let's try it out with a few images."
   ]
  },
  {
   "cell_type": "code",
   "execution_count": 93,
   "metadata": {
    "colab": {
     "base_uri": "https://localhost:8080/",
     "height": 282
    },
    "executionInfo": {
     "elapsed": 762,
     "status": "ok",
     "timestamp": 1606583096435,
     "user": {
      "displayName": "Aakash N S",
      "photoUrl": "https://lh3.googleusercontent.com/a-/AOh14GiIWFHtan62vtW1gz2Bv2bxL3rppefcadxzEVxRKQ=s64",
      "userId": "03254185060287524023"
     },
     "user_tz": -330
    },
    "id": "sPNcp52ifTTa",
    "outputId": "3f209ee0-d70e-4631-bc01-bf67165a8347"
   },
   "outputs": [
    {
     "name": "stdout",
     "output_type": "stream",
     "text": [
      "Label: 7 , Predicted: 7\n"
     ]
    },
    {
     "data": {
      "image/png": "[encoded data removed]",
      "text/plain": [
       "<Figure size 432x288 with 1 Axes>"
      ]
     },
     "metadata": {
      "needs_background": "light"
     },
     "output_type": "display_data"
    }
   ],
   "source": [
    "img, label = test_dataset[0]\n",
    "plt.imshow(img[0], cmap='gray')\n",
    "print('Label:', label, ', Predicted:', predict_image(img, model))"
   ]
  },
  {
   "cell_type": "code",
   "execution_count": 94,
   "metadata": {
    "colab": {
     "base_uri": "https://localhost:8080/",
     "height": 282
    },
    "executionInfo": {
     "elapsed": 740,
     "status": "ok",
     "timestamp": 1606583105128,
     "user": {
      "displayName": "Aakash N S",
      "photoUrl": "https://lh3.googleusercontent.com/a-/AOh14GiIWFHtan62vtW1gz2Bv2bxL3rppefcadxzEVxRKQ=s64",
      "userId": "03254185060287524023"
     },
     "user_tz": -330
    },
    "id": "Nrj-w1COfTTa",
    "outputId": "63571287-3d8e-430f-c146-38167c355d2d"
   },
   "outputs": [
    {
     "name": "stdout",
     "output_type": "stream",
     "text": [
      "Label: 0 , Predicted: 0\n"
     ]
    },
    {
     "data": {
      "image/png": "[encoded data removed]",
      "text/plain": [
       "<Figure size 432x288 with 1 Axes>"
      ]
     },
     "metadata": {
      "needs_background": "light"
     },
     "output_type": "display_data"
    }
   ],
   "source": [
    "img, label = test_dataset[10]\n",
    "plt.imshow(img[0], cmap='gray')\n",
    "print('Label:', label, ', Predicted:', predict_image(img, model))"
   ]
  },
  {
   "cell_type": "code",
   "execution_count": 95,
   "metadata": {
    "colab": {
     "base_uri": "https://localhost:8080/",
     "height": 282
    },
    "executionInfo": {
     "elapsed": 751,
     "status": "ok",
     "timestamp": 1606583112083,
     "user": {
      "displayName": "Aakash N S",
      "photoUrl": "https://lh3.googleusercontent.com/a-/AOh14GiIWFHtan62vtW1gz2Bv2bxL3rppefcadxzEVxRKQ=s64",
      "userId": "03254185060287524023"
     },
     "user_tz": -330
    },
    "id": "EPrF7gB4fTTb",
    "outputId": "f315cb3c-7eb9-47aa-95ee-c4e917f28bda"
   },
   "outputs": [
    {
     "name": "stdout",
     "output_type": "stream",
     "text": [
      "Label: 9 , Predicted: 9\n"
     ]
    },
    {
     "data": {
      "image/png": "[encoded data removed]",
      "text/plain": [
       "<Figure size 432x288 with 1 Axes>"
      ]
     },
     "metadata": {
      "needs_background": "light"
     },
     "output_type": "display_data"
    }
   ],
   "source": [
    "img, label = test_dataset[193]\n",
    "plt.imshow(img[0], cmap='gray')\n",
    "print('Label:', label, ', Predicted:', predict_image(img, model))"
   ]
  },
  {
   "cell_type": "code",
   "execution_count": 96,
   "metadata": {
    "colab": {
     "base_uri": "https://localhost:8080/",
     "height": 282
    },
    "executionInfo": {
     "elapsed": 790,
     "status": "ok",
     "timestamp": 1606583155559,
     "user": {
      "displayName": "Aakash N S",
      "photoUrl": "https://lh3.googleusercontent.com/a-/AOh14GiIWFHtan62vtW1gz2Bv2bxL3rppefcadxzEVxRKQ=s64",
      "userId": "03254185060287524023"
     },
     "user_tz": -330
    },
    "id": "eetYJdoFfTTb",
    "outputId": "da8c6613-355a-4479-cb49-574236d2de5c"
   },
   "outputs": [
    {
     "name": "stdout",
     "output_type": "stream",
     "text": [
      "Label: 2 , Predicted: 8\n"
     ]
    },
    {
     "data": {
      "image/png": "[encoded data removed]",
      "text/plain": [
       "<Figure size 432x288 with 1 Axes>"
      ]
     },
     "metadata": {
      "needs_background": "light"
     },
     "output_type": "display_data"
    }
   ],
   "source": [
    "img, label = test_dataset[1839]\n",
    "plt.imshow(img[0], cmap='gray')\n",
    "print('Label:', label, ', Predicted:', predict_image(img, model))"
   ]
  },
  {
   "cell_type": "markdown",
   "metadata": {
    "id": "jQ6Wsk4TfTTb"
   },
   "source": [
    "Identifying where our model performs poorly can help us improve the model, by collecting more training data, increasing/decreasing the complexity of the model, and changing the hypeparameters.\n",
    "\n",
    "As a final step, let's also look at the overall loss and accuracy of the model on the test set."
   ]
  },
  {
   "cell_type": "code",
   "execution_count": 102,
   "metadata": {
    "colab": {
     "base_uri": "https://localhost:8080/"
    },
    "executionInfo": {
     "elapsed": 1572,
     "status": "ok",
     "timestamp": 1606583301081,
     "user": {
      "displayName": "Aakash N S",
      "photoUrl": "https://lh3.googleusercontent.com/a-/AOh14GiIWFHtan62vtW1gz2Bv2bxL3rppefcadxzEVxRKQ=s64",
      "userId": "03254185060287524023"
     },
     "user_tz": -330
    },
    "id": "6bdjaeG-fTTb",
    "outputId": "c4479ab7-ee92-46d4-ac0d-9217d6873f43"
   },
   "outputs": [
    {
     "data": {
      "text/plain": [
       "{'val_loss': 0.5851499438285828, 'val_acc': 0.867382824420929}"
      ]
     },
     "execution_count": 102,
     "metadata": {},
     "output_type": "execute_result"
    }
   ],
   "source": [
    "test_loader = DataLoader(test_dataset, batch_size=256)\n",
    "result = evaluate(model, test_loader)\n",
    "result"
   ]
  },
  {
   "cell_type": "markdown",
   "metadata": {
    "id": "pfe2IzF3fTTb"
   },
   "source": [
    "We expect this to be similar to the accuracy/loss on the validation set. If not, we might need a better validation set that has similar data and distribution as the test set (which often comes from real world data)."
   ]
  },
  {
   "cell_type": "markdown",
   "metadata": {
    "id": "TqC3HEZJfTTb"
   },
   "source": [
    "## Saving and loading the model"
   ]
  },
  {
   "cell_type": "markdown",
   "metadata": {
    "id": "KyE7vx_zfTTb"
   },
   "source": [
    "Since we've trained our model for a long time and achieved a resonable accuracy, it would be a good idea to save the weights and bias matrices to disk, so that we can reuse the model later and avoid retraining from scratch. Here's how you can save the model."
   ]
  },
  {
   "cell_type": "code",
   "execution_count": 97,
   "metadata": {
    "executionInfo": {
     "elapsed": 796,
     "status": "ok",
     "timestamp": 1606583486154,
     "user": {
      "displayName": "Aakash N S",
      "photoUrl": "https://lh3.googleusercontent.com/a-/AOh14GiIWFHtan62vtW1gz2Bv2bxL3rppefcadxzEVxRKQ=s64",
      "userId": "03254185060287524023"
     },
     "user_tz": -330
    },
    "id": "xESC-106fTTb"
   },
   "outputs": [],
   "source": [
    "torch.save(model.state_dict(), 'mnist-logistic.pth')"
   ]
  },
  {
   "cell_type": "markdown",
   "metadata": {
    "id": "CAHSyFLPfTTb"
   },
   "source": [
    "The `.state_dict` method returns an `OrderedDict` containing all the weights and bias matrices mapped to the right attributes of the model."
   ]
  },
  {
   "cell_type": "code",
   "execution_count": 98,
   "metadata": {
    "colab": {
     "base_uri": "https://localhost:8080/"
    },
    "executionInfo": {
     "elapsed": 781,
     "status": "ok",
     "timestamp": 1606583449734,
     "user": {
      "displayName": "Aakash N S",
      "photoUrl": "https://lh3.googleusercontent.com/a-/AOh14GiIWFHtan62vtW1gz2Bv2bxL3rppefcadxzEVxRKQ=s64",
      "userId": "03254185060287524023"
     },
     "user_tz": -330
    },
    "id": "elbp48SCfTTb",
    "outputId": "84f92a49-910c-4466-8b96-ab267026f3ac"
   },
   "outputs": [
    {
     "data": {
      "text/plain": [
       "OrderedDict([('linear.weight',\n",
       "              tensor([[ 0.0180, -0.0299,  0.0270,  ..., -0.0269, -0.0194, -0.0334],\n",
       "                      [-0.0052,  0.0223, -0.0064,  ..., -0.0118,  0.0068,  0.0220],\n",
       "                      [-0.0120, -0.0210,  0.0027,  ...,  0.0060, -0.0002,  0.0104],\n",
       "                      ...,\n",
       "                      [ 0.0336,  0.0179, -0.0243,  ...,  0.0290,  0.0318, -0.0032],\n",
       "                      [ 0.0282,  0.0226,  0.0255,  ..., -0.0324, -0.0159, -0.0194],\n",
       "                      [-0.0032, -0.0283, -0.0042,  ...,  0.0056,  0.0308,  0.0025]])),\n",
       "             ('linear.bias',\n",
       "              tensor([-0.0475,  0.1077, -0.0414, -0.0394,  0.0255,  0.0654,  0.0064,  0.0623,\n",
       "                      -0.0911, -0.0021]))])"
      ]
     },
     "execution_count": 98,
     "metadata": {},
     "output_type": "execute_result"
    }
   ],
   "source": [
    "model.state_dict()"
   ]
  },
  {
   "cell_type": "markdown",
   "metadata": {
    "id": "Qc9kRTDpfTTb"
   },
   "source": [
    "To load the model weights, we can instante a new object of the class `MnistModel`, and use the `.load_state_dict` method."
   ]
  },
  {
   "cell_type": "code",
   "execution_count": 99,
   "metadata": {
    "executionInfo": {
     "elapsed": 845,
     "status": "ok",
     "timestamp": 1606583501874,
     "user": {
      "displayName": "Aakash N S",
      "photoUrl": "https://lh3.googleusercontent.com/a-/AOh14GiIWFHtan62vtW1gz2Bv2bxL3rppefcadxzEVxRKQ=s64",
      "userId": "03254185060287524023"
     },
     "user_tz": -330
    },
    "id": "OO666r7_1rbW"
   },
   "outputs": [],
   "source": [
    "model2 = MnistModel()"
   ]
  },
  {
   "cell_type": "code",
   "execution_count": 100,
   "metadata": {
    "colab": {
     "base_uri": "https://localhost:8080/"
    },
    "executionInfo": {
     "elapsed": 776,
     "status": "ok",
     "timestamp": 1606583510607,
     "user": {
      "displayName": "Aakash N S",
      "photoUrl": "https://lh3.googleusercontent.com/a-/AOh14GiIWFHtan62vtW1gz2Bv2bxL3rppefcadxzEVxRKQ=s64",
      "userId": "03254185060287524023"
     },
     "user_tz": -330
    },
    "id": "aUvYwe4Q1six",
    "outputId": "63adc692-57b8-458d-a926-dc969bf491db"
   },
   "outputs": [
    {
     "data": {
      "text/plain": [
       "OrderedDict([('linear.weight',\n",
       "              tensor([[-2.8781e-02, -6.7977e-03, -3.2856e-02,  ..., -2.7332e-02,\n",
       "                       -4.4748e-03,  3.8014e-03],\n",
       "                      [-2.9960e-02, -3.1468e-02,  2.6576e-02,  ..., -1.6725e-02,\n",
       "                       -1.3649e-02, -9.3482e-03],\n",
       "                      [-2.8976e-02, -4.0183e-03, -8.8530e-03,  ...,  7.8160e-05,\n",
       "                       -3.2814e-02, -2.2611e-02],\n",
       "                      ...,\n",
       "                      [-7.0410e-03, -2.8477e-02,  2.9650e-02,  ...,  2.0343e-02,\n",
       "                        1.6573e-02,  5.5577e-03],\n",
       "                      [ 2.2600e-02, -3.5679e-02, -2.1572e-02,  ...,  2.4826e-02,\n",
       "                       -2.0930e-02, -8.3396e-03],\n",
       "                      [ 2.5445e-02,  1.5269e-02,  2.1306e-02,  ..., -2.7576e-02,\n",
       "                        8.7998e-04, -3.5062e-02]])),\n",
       "             ('linear.bias',\n",
       "              tensor([ 0.0160,  0.0056, -0.0172,  0.0302,  0.0096,  0.0201,  0.0169, -0.0148,\n",
       "                      -0.0269,  0.0003]))])"
      ]
     },
     "execution_count": 100,
     "metadata": {},
     "output_type": "execute_result"
    }
   ],
   "source": [
    "model2.state_dict()"
   ]
  },
  {
   "cell_type": "code",
   "execution_count": 103,
   "metadata": {
    "colab": {
     "base_uri": "https://localhost:8080/"
    },
    "executionInfo": {
     "elapsed": 1715,
     "status": "ok",
     "timestamp": 1606583526111,
     "user": {
      "displayName": "Aakash N S",
      "photoUrl": "https://lh3.googleusercontent.com/a-/AOh14GiIWFHtan62vtW1gz2Bv2bxL3rppefcadxzEVxRKQ=s64",
      "userId": "03254185060287524023"
     },
     "user_tz": -330
    },
    "id": "gHac9s6e1vyS",
    "outputId": "bd0ef06a-ded0-4d91-c0a1-620b310bc89e"
   },
   "outputs": [
    {
     "data": {
      "text/plain": [
       "{'val_loss': 2.298863172531128, 'val_acc': 0.14638671278953552}"
      ]
     },
     "execution_count": 103,
     "metadata": {},
     "output_type": "execute_result"
    }
   ],
   "source": [
    "evaluate(model2, test_loader)"
   ]
  },
  {
   "cell_type": "code",
   "execution_count": 104,
   "metadata": {
    "colab": {
     "base_uri": "https://localhost:8080/"
    },
    "executionInfo": {
     "elapsed": 751,
     "status": "ok",
     "timestamp": 1606583546422,
     "user": {
      "displayName": "Aakash N S",
      "photoUrl": "https://lh3.googleusercontent.com/a-/AOh14GiIWFHtan62vtW1gz2Bv2bxL3rppefcadxzEVxRKQ=s64",
      "userId": "03254185060287524023"
     },
     "user_tz": -330
    },
    "id": "bvR1g8ggfTTb",
    "outputId": "2cb76bb5-b26a-472c-d2b3-3f872ebb8c7a"
   },
   "outputs": [
    {
     "data": {
      "text/plain": [
       "OrderedDict([('linear.weight',\n",
       "              tensor([[ 0.0180, -0.0299,  0.0270,  ..., -0.0269, -0.0194, -0.0334],\n",
       "                      [-0.0052,  0.0223, -0.0064,  ..., -0.0118,  0.0068,  0.0220],\n",
       "                      [-0.0120, -0.0210,  0.0027,  ...,  0.0060, -0.0002,  0.0104],\n",
       "                      ...,\n",
       "                      [ 0.0336,  0.0179, -0.0243,  ...,  0.0290,  0.0318, -0.0032],\n",
       "                      [ 0.0282,  0.0226,  0.0255,  ..., -0.0324, -0.0159, -0.0194],\n",
       "                      [-0.0032, -0.0283, -0.0042,  ...,  0.0056,  0.0308,  0.0025]])),\n",
       "             ('linear.bias',\n",
       "              tensor([-0.0475,  0.1077, -0.0414, -0.0394,  0.0255,  0.0654,  0.0064,  0.0623,\n",
       "                      -0.0911, -0.0021]))])"
      ]
     },
     "execution_count": 104,
     "metadata": {},
     "output_type": "execute_result"
    }
   ],
   "source": [
    "model2.load_state_dict(torch.load('mnist-logistic.pth'))\n",
    "model2.state_dict()"
   ]
  },
  {
   "cell_type": "markdown",
   "metadata": {
    "id": "zhjBm4BMfTTb"
   },
   "source": [
    "Just as a sanity check, let's verify that this model has the same loss and accuracy on the test set as before."
   ]
  },
  {
   "cell_type": "code",
   "execution_count": 105,
   "metadata": {
    "colab": {
     "base_uri": "https://localhost:8080/"
    },
    "executionInfo": {
     "elapsed": 1668,
     "status": "ok",
     "timestamp": 1606583555728,
     "user": {
      "displayName": "Aakash N S",
      "photoUrl": "https://lh3.googleusercontent.com/a-/AOh14GiIWFHtan62vtW1gz2Bv2bxL3rppefcadxzEVxRKQ=s64",
      "userId": "03254185060287524023"
     },
     "user_tz": -330
    },
    "id": "UynZ4aSLfTTb",
    "outputId": "ed0184c3-6239-4610-b707-09b2e4cbd49d"
   },
   "outputs": [
    {
     "data": {
      "text/plain": [
       "{'val_loss': 0.5851499438285828, 'val_acc': 0.867382824420929}"
      ]
     },
     "execution_count": 105,
     "metadata": {},
     "output_type": "execute_result"
    }
   ],
   "source": [
    "test_loader = DataLoader(test_dataset, batch_size=256)\n",
    "result = evaluate(model2, test_loader)\n",
    "result"
   ]
  },
  {
   "cell_type": "markdown",
   "metadata": {
    "id": "BRMNaQUWfTTb"
   },
   "source": [
    "As a final step, we can save and commit our work using the `jovian` library. Along with the notebook, we can also attach the weights of our trained model, so that we can use it later."
   ]
  },
  {
   "cell_type": "code",
   "execution_count": 106,
   "metadata": {
    "id": "p1cuCZ6afTTb",
    "scrolled": true
   },
   "outputs": [
    {
     "data": {
      "application/javascript": [
       "window.require && require([\"base/js/namespace\"],function(Jupyter){Jupyter.notebook.save_checkpoint()})"
      ],
      "text/plain": [
       "<IPython.core.display.Javascript object>"
      ]
     },
     "metadata": {},
     "output_type": "display_data"
    },
    {
     "name": "stdout",
     "output_type": "stream",
     "text": [
      "[jovian] Updating notebook \"faseehahmedrocks26/03-logistic-regression\" on https://jovian.ai/\u001b[0m\n",
      "[jovian] Uploading additional outputs...\u001b[0m\n",
      "[jovian] Attaching records (metrics, hyperparameters, dataset etc.)\u001b[0m\n",
      "[jovian] Committed successfully! https://jovian.ai/faseehahmedrocks26/03-logistic-regression\u001b[0m\n"
     ]
    },
    {
     "data": {
      "text/plain": [
       "'https://jovian.ai/faseehahmedrocks26/03-logistic-regression'"
      ]
     },
     "execution_count": 106,
     "metadata": {},
     "output_type": "execute_result"
    }
   ],
   "source": [
    "jovian.commit(project='03-logistic-regression', environment=None, outputs=['mnist-logistic.pth'])"
   ]
  },
  {
   "cell_type": "markdown",
   "metadata": {
    "id": "r1F3EHgSfTTb"
   },
   "source": [
    "## Exercises\n",
    "\n",
    "Try out the following exercises to apply the concepts and techniques you have learned so far:\n",
    "\n",
    "* Coding exercises on end-to-end model training: https://jovian.ai/aakashns/02-insurance-linear-regression\n",
    "* Starter notebook for logistic regression projects: https://jovian.ai/aakashns/mnist-logistic-minimal\n",
    "* Starter notebook for linear regression projects: https://jovian.ai/aakashns/housing-linear-minimal\n",
    "\n",
    "Training great machine learning models within a short time takes practice and experience. Try experimenting with different datasets, models and hyperparameters, it's the best way to acquire this skill."
   ]
  },
  {
   "cell_type": "markdown",
   "metadata": {
    "id": "_Q8EnndBfTTb"
   },
   "source": [
    "## Summary and Further Reading\n",
    "\n",
    "We've created a fairly sophisticated training and evaluation pipeline in this tutorial. Here's a list of the topics we've covered:\n",
    "\n",
    "* Working with images in PyTorch (using the MNIST dataset)\n",
    "* Splitting a dataset into training, validation and test sets\n",
    "* Creating PyTorch models with custom logic by extending the `nn.Module` class\n",
    "* Interpreting model ouputs as probabilities using softmax, and picking predicted labels\n",
    "* Picking a good evaluation metric (accuracy) and loss function (cross entropy) for classification problems\n",
    "* Setting up a training loop that also evaluates the model using the validation set\n",
    "* Testing the model manually on randomly picked examples \n",
    "* Saving and loading model checkpoints to avoid retraining from scratch\n",
    "\n",
    "There's a lot of scope to experiment here, and I encourage you to use the interactive nature of Jupyter to play around with the various parameters. Here are a few ideas:\n",
    "\n",
    "* Try making the validation set smaller or larger, and see how it affects the model.\n",
    "* Try changing the learning rate and see if you can achieve the same accuracy in fewer epochs.\n",
    "* Try changing the batch size. What happens if you use too high a batch size, or too low?\n",
    "* Modify the `fit` function to also track the overall loss and accuracy on the training set, and see how it compares with the validation loss/accuracy. Can you explain why it's lower/higher?\n",
    "* Train with a small subset of the data, and see if you can reach a similar level of accuracy.\n",
    "* Try building a model for a different dataset, such as the [CIFAR10 or CIFAR100 datasets](https://www.cs.toronto.edu/~kriz/cifar.html).\n",
    "\n",
    "Here are some references for further reading:\n",
    "* For a more mathematical treatment, see the popular [Machine Learning](https://www.coursera.org/lecture/machine-learning/classification-wlPeP) course on Coursera. Most of the images used in this tutorial series have been taken from this course.\n",
    "* The training loop defined in this notebook was inspired from [FastAI development notebooks](https://github.com/fastai/fastai_docs/blob/master/dev_nb/001a_nn_basics.ipynb) which contain a wealth of other useful stuff if you can read and understand the code.\n",
    "* For a deep dive into softmax and cross entropy, see [this blog post on DeepNotes](https://deepnotes.io/softmax-crossentropy).\n",
    "\n",
    "\n",
    "With this we complete our discussion of logistic regression, and we're ready to move on to the next topic: [Training Deep Neural Networks on a GPU](https://jovian.ai/aakashns/04-feedforward-nn)!"
   ]
  }
 ],
 "metadata": {
  "colab": {
   "name": "03-logistic-regression.ipynb",
   "provenance": []
  },
  "kernelspec": {
   "display_name": "Python 3 (ipykernel)",
   "language": "python",
   "name": "python3"
  },
  "language_info": {
   "codemirror_mode": {
    "name": "ipython",
    "version": 3
   },
   "file_extension": ".py",
   "mimetype": "text/x-python",
   "name": "python",
   "nbconvert_exporter": "python",
   "pygments_lexer": "ipython3",
   "version": "3.7.8"
  },
  "widgets": {
   "application/vnd.jupyter.widget-state+json": {
    "02a48991f3f2405db5dd2968af3177bb": {
     "model_module": "@jupyter-widgets/controls",
     "model_name": "HBoxModel",
     "state": {
      "_dom_classes": [],
      "_model_module": "@jupyter-widgets/controls",
      "_model_module_version": "1.5.0",
      "_model_name": "HBoxModel",
      "_view_count": null,
      "_view_module": "@jupyter-widgets/controls",
      "_view_module_version": "1.5.0",
      "_view_name": "HBoxView",
      "box_style": "",
      "children": [
       "IPY_MODEL_be465e46f1fa44c69c9dd8ff2d173543",
       "IPY_MODEL_ef4e2e0ed447424b8695c1a66cec0210"
      ],
      "layout": "IPY_MODEL_7113a3efba564850899ad46ec33a1ce0"
     }
    },
    "043acb1db455426e8f56a61d6f39b222": {
     "model_module": "@jupyter-widgets/base",
     "model_name": "LayoutModel",
     "state": {
      "_model_module": "@jupyter-widgets/base",
      "_model_module_version": "1.2.0",
      "_model_name": "LayoutModel",
      "_view_count": null,
      "_view_module": "@jupyter-widgets/base",
      "_view_module_version": "1.2.0",
      "_view_name": "LayoutView",
      "align_content": null,
      "align_items": null,
      "align_self": null,
      "border": null,
      "bottom": null,
      "display": null,
      "flex": null,
      "flex_flow": null,
      "grid_area": null,
      "grid_auto_columns": null,
      "grid_auto_flow": null,
      "grid_auto_rows": null,
      "grid_column": null,
      "grid_gap": null,
      "grid_row": null,
      "grid_template_areas": null,
      "grid_template_columns": null,
      "grid_template_rows": null,
      "height": null,
      "justify_content": null,
      "justify_items": null,
      "left": null,
      "margin": null,
      "max_height": null,
      "max_width": null,
      "min_height": null,
      "min_width": null,
      "object_fit": null,
      "object_position": null,
      "order": null,
      "overflow": null,
      "overflow_x": null,
      "overflow_y": null,
      "padding": null,
      "right": null,
      "top": null,
      "visibility": null,
      "width": null
     }
    },
    "0e03dd08224f4e8c9c2f8d975358cdb7": {
     "model_module": "@jupyter-widgets/base",
     "model_name": "LayoutModel",
     "state": {
      "_model_module": "@jupyter-widgets/base",
      "_model_module_version": "1.2.0",
      "_model_name": "LayoutModel",
      "_view_count": null,
      "_view_module": "@jupyter-widgets/base",
      "_view_module_version": "1.2.0",
      "_view_name": "LayoutView",
      "align_content": null,
      "align_items": null,
      "align_self": null,
      "border": null,
      "bottom": null,
      "display": null,
      "flex": null,
      "flex_flow": null,
      "grid_area": null,
      "grid_auto_columns": null,
      "grid_auto_flow": null,
      "grid_auto_rows": null,
      "grid_column": null,
      "grid_gap": null,
      "grid_row": null,
      "grid_template_areas": null,
      "grid_template_columns": null,
      "grid_template_rows": null,
      "height": null,
      "justify_content": null,
      "justify_items": null,
      "left": null,
      "margin": null,
      "max_height": null,
      "max_width": null,
      "min_height": null,
      "min_width": null,
      "object_fit": null,
      "object_position": null,
      "order": null,
      "overflow": null,
      "overflow_x": null,
      "overflow_y": null,
      "padding": null,
      "right": null,
      "top": null,
      "visibility": null,
      "width": null
     }
    },
    "12d3ec215dcc4b6794e3bbdef44602ce": {
     "model_module": "@jupyter-widgets/controls",
     "model_name": "ProgressStyleModel",
     "state": {
      "_model_module": "@jupyter-widgets/controls",
      "_model_module_version": "1.5.0",
      "_model_name": "ProgressStyleModel",
      "_view_count": null,
      "_view_module": "@jupyter-widgets/base",
      "_view_module_version": "1.2.0",
      "_view_name": "StyleView",
      "bar_color": null,
      "description_width": "initial"
     }
    },
    "28ef332369de4d358909a586a1743c61": {
     "model_module": "@jupyter-widgets/base",
     "model_name": "LayoutModel",
     "state": {
      "_model_module": "@jupyter-widgets/base",
      "_model_module_version": "1.2.0",
      "_model_name": "LayoutModel",
      "_view_count": null,
      "_view_module": "@jupyter-widgets/base",
      "_view_module_version": "1.2.0",
      "_view_name": "LayoutView",
      "align_content": null,
      "align_items": null,
      "align_self": null,
      "border": null,
      "bottom": null,
      "display": null,
      "flex": null,
      "flex_flow": null,
      "grid_area": null,
      "grid_auto_columns": null,
      "grid_auto_flow": null,
      "grid_auto_rows": null,
      "grid_column": null,
      "grid_gap": null,
      "grid_row": null,
      "grid_template_areas": null,
      "grid_template_columns": null,
      "grid_template_rows": null,
      "height": null,
      "justify_content": null,
      "justify_items": null,
      "left": null,
      "margin": null,
      "max_height": null,
      "max_width": null,
      "min_height": null,
      "min_width": null,
      "object_fit": null,
      "object_position": null,
      "order": null,
      "overflow": null,
      "overflow_x": null,
      "overflow_y": null,
      "padding": null,
      "right": null,
      "top": null,
      "visibility": null,
      "width": null
     }
    },
    "332d4f3a80d84f07ad997aa55afd7f45": {
     "model_module": "@jupyter-widgets/controls",
     "model_name": "DescriptionStyleModel",
     "state": {
      "_model_module": "@jupyter-widgets/controls",
      "_model_module_version": "1.5.0",
      "_model_name": "DescriptionStyleModel",
      "_view_count": null,
      "_view_module": "@jupyter-widgets/base",
      "_view_module_version": "1.2.0",
      "_view_name": "StyleView",
      "description_width": ""
     }
    },
    "392aac024b8845c58ab75d00893b4e42": {
     "model_module": "@jupyter-widgets/base",
     "model_name": "LayoutModel",
     "state": {
      "_model_module": "@jupyter-widgets/base",
      "_model_module_version": "1.2.0",
      "_model_name": "LayoutModel",
      "_view_count": null,
      "_view_module": "@jupyter-widgets/base",
      "_view_module_version": "1.2.0",
      "_view_name": "LayoutView",
      "align_content": null,
      "align_items": null,
      "align_self": null,
      "border": null,
      "bottom": null,
      "display": null,
      "flex": null,
      "flex_flow": null,
      "grid_area": null,
      "grid_auto_columns": null,
      "grid_auto_flow": null,
      "grid_auto_rows": null,
      "grid_column": null,
      "grid_gap": null,
      "grid_row": null,
      "grid_template_areas": null,
      "grid_template_columns": null,
      "grid_template_rows": null,
      "height": null,
      "justify_content": null,
      "justify_items": null,
      "left": null,
      "margin": null,
      "max_height": null,
      "max_width": null,
      "min_height": null,
      "min_width": null,
      "object_fit": null,
      "object_position": null,
      "order": null,
      "overflow": null,
      "overflow_x": null,
      "overflow_y": null,
      "padding": null,
      "right": null,
      "top": null,
      "visibility": null,
      "width": null
     }
    },
    "3e158b4f6fc045a799a5d2848b7ef224": {
     "model_module": "@jupyter-widgets/base",
     "model_name": "LayoutModel",
     "state": {
      "_model_module": "@jupyter-widgets/base",
      "_model_module_version": "1.2.0",
      "_model_name": "LayoutModel",
      "_view_count": null,
      "_view_module": "@jupyter-widgets/base",
      "_view_module_version": "1.2.0",
      "_view_name": "LayoutView",
      "align_content": null,
      "align_items": null,
      "align_self": null,
      "border": null,
      "bottom": null,
      "display": null,
      "flex": null,
      "flex_flow": null,
      "grid_area": null,
      "grid_auto_columns": null,
      "grid_auto_flow": null,
      "grid_auto_rows": null,
      "grid_column": null,
      "grid_gap": null,
      "grid_row": null,
      "grid_template_areas": null,
      "grid_template_columns": null,
      "grid_template_rows": null,
      "height": null,
      "justify_content": null,
      "justify_items": null,
      "left": null,
      "margin": null,
      "max_height": null,
      "max_width": null,
      "min_height": null,
      "min_width": null,
      "object_fit": null,
      "object_position": null,
      "order": null,
      "overflow": null,
      "overflow_x": null,
      "overflow_y": null,
      "padding": null,
      "right": null,
      "top": null,
      "visibility": null,
      "width": null
     }
    },
    "41db56c1758644e28cc891ed17b9111e": {
     "model_module": "@jupyter-widgets/controls",
     "model_name": "DescriptionStyleModel",
     "state": {
      "_model_module": "@jupyter-widgets/controls",
      "_model_module_version": "1.5.0",
      "_model_name": "DescriptionStyleModel",
      "_view_count": null,
      "_view_module": "@jupyter-widgets/base",
      "_view_module_version": "1.2.0",
      "_view_name": "StyleView",
      "description_width": ""
     }
    },
    "4ea3550eaeab40969e6a835721528c35": {
     "model_module": "@jupyter-widgets/controls",
     "model_name": "HTMLModel",
     "state": {
      "_dom_classes": [],
      "_model_module": "@jupyter-widgets/controls",
      "_model_module_version": "1.5.0",
      "_model_name": "HTMLModel",
      "_view_count": null,
      "_view_module": "@jupyter-widgets/controls",
      "_view_module_version": "1.5.0",
      "_view_name": "HTMLView",
      "description": "",
      "description_tooltip": null,
      "layout": "IPY_MODEL_69e7677bfdb3471d925d0a3eca1df5a7",
      "placeholder": "​",
      "style": "IPY_MODEL_332d4f3a80d84f07ad997aa55afd7f45",
      "value": " 32768/? [00:00&lt;00:00, 245728.60it/s]"
     }
    },
    "57ea6daaa8484c59b3930783d0a9cf20": {
     "model_module": "@jupyter-widgets/controls",
     "model_name": "DescriptionStyleModel",
     "state": {
      "_model_module": "@jupyter-widgets/controls",
      "_model_module_version": "1.5.0",
      "_model_name": "DescriptionStyleModel",
      "_view_count": null,
      "_view_module": "@jupyter-widgets/base",
      "_view_module_version": "1.2.0",
      "_view_name": "StyleView",
      "description_width": ""
     }
    },
    "5e3647b0ec134d6cb7c76347435756d1": {
     "model_module": "@jupyter-widgets/base",
     "model_name": "LayoutModel",
     "state": {
      "_model_module": "@jupyter-widgets/base",
      "_model_module_version": "1.2.0",
      "_model_name": "LayoutModel",
      "_view_count": null,
      "_view_module": "@jupyter-widgets/base",
      "_view_module_version": "1.2.0",
      "_view_name": "LayoutView",
      "align_content": null,
      "align_items": null,
      "align_self": null,
      "border": null,
      "bottom": null,
      "display": null,
      "flex": null,
      "flex_flow": null,
      "grid_area": null,
      "grid_auto_columns": null,
      "grid_auto_flow": null,
      "grid_auto_rows": null,
      "grid_column": null,
      "grid_gap": null,
      "grid_row": null,
      "grid_template_areas": null,
      "grid_template_columns": null,
      "grid_template_rows": null,
      "height": null,
      "justify_content": null,
      "justify_items": null,
      "left": null,
      "margin": null,
      "max_height": null,
      "max_width": null,
      "min_height": null,
      "min_width": null,
      "object_fit": null,
      "object_position": null,
      "order": null,
      "overflow": null,
      "overflow_x": null,
      "overflow_y": null,
      "padding": null,
      "right": null,
      "top": null,
      "visibility": null,
      "width": null
     }
    },
    "69e7677bfdb3471d925d0a3eca1df5a7": {
     "model_module": "@jupyter-widgets/base",
     "model_name": "LayoutModel",
     "state": {
      "_model_module": "@jupyter-widgets/base",
      "_model_module_version": "1.2.0",
      "_model_name": "LayoutModel",
      "_view_count": null,
      "_view_module": "@jupyter-widgets/base",
      "_view_module_version": "1.2.0",
      "_view_name": "LayoutView",
      "align_content": null,
      "align_items": null,
      "align_self": null,
      "border": null,
      "bottom": null,
      "display": null,
      "flex": null,
      "flex_flow": null,
      "grid_area": null,
      "grid_auto_columns": null,
      "grid_auto_flow": null,
      "grid_auto_rows": null,
      "grid_column": null,
      "grid_gap": null,
      "grid_row": null,
      "grid_template_areas": null,
      "grid_template_columns": null,
      "grid_template_rows": null,
      "height": null,
      "justify_content": null,
      "justify_items": null,
      "left": null,
      "margin": null,
      "max_height": null,
      "max_width": null,
      "min_height": null,
      "min_width": null,
      "object_fit": null,
      "object_position": null,
      "order": null,
      "overflow": null,
      "overflow_x": null,
      "overflow_y": null,
      "padding": null,
      "right": null,
      "top": null,
      "visibility": null,
      "width": null
     }
    },
    "7113a3efba564850899ad46ec33a1ce0": {
     "model_module": "@jupyter-widgets/base",
     "model_name": "LayoutModel",
     "state": {
      "_model_module": "@jupyter-widgets/base",
      "_model_module_version": "1.2.0",
      "_model_name": "LayoutModel",
      "_view_count": null,
      "_view_module": "@jupyter-widgets/base",
      "_view_module_version": "1.2.0",
      "_view_name": "LayoutView",
      "align_content": null,
      "align_items": null,
      "align_self": null,
      "border": null,
      "bottom": null,
      "display": null,
      "flex": null,
      "flex_flow": null,
      "grid_area": null,
      "grid_auto_columns": null,
      "grid_auto_flow": null,
      "grid_auto_rows": null,
      "grid_column": null,
      "grid_gap": null,
      "grid_row": null,
      "grid_template_areas": null,
      "grid_template_columns": null,
      "grid_template_rows": null,
      "height": null,
      "justify_content": null,
      "justify_items": null,
      "left": null,
      "margin": null,
      "max_height": null,
      "max_width": null,
      "min_height": null,
      "min_width": null,
      "object_fit": null,
      "object_position": null,
      "order": null,
      "overflow": null,
      "overflow_x": null,
      "overflow_y": null,
      "padding": null,
      "right": null,
      "top": null,
      "visibility": null,
      "width": null
     }
    },
    "7de6379c81224840ab318d1c5dbe2573": {
     "model_module": "@jupyter-widgets/controls",
     "model_name": "FloatProgressModel",
     "state": {
      "_dom_classes": [],
      "_model_module": "@jupyter-widgets/controls",
      "_model_module_version": "1.5.0",
      "_model_name": "FloatProgressModel",
      "_view_count": null,
      "_view_module": "@jupyter-widgets/controls",
      "_view_module_version": "1.5.0",
      "_view_name": "ProgressView",
      "bar_style": "info",
      "description": "",
      "description_tooltip": null,
      "layout": "IPY_MODEL_5e3647b0ec134d6cb7c76347435756d1",
      "max": 1,
      "min": 0,
      "orientation": "horizontal",
      "style": "IPY_MODEL_ab0c7dba3efe488e962a95f77fdff901",
      "value": 1
     }
    },
    "7ffd56bd6fdb48efb48c338dfe983bfb": {
     "model_module": "@jupyter-widgets/base",
     "model_name": "LayoutModel",
     "state": {
      "_model_module": "@jupyter-widgets/base",
      "_model_module_version": "1.2.0",
      "_model_name": "LayoutModel",
      "_view_count": null,
      "_view_module": "@jupyter-widgets/base",
      "_view_module_version": "1.2.0",
      "_view_name": "LayoutView",
      "align_content": null,
      "align_items": null,
      "align_self": null,
      "border": null,
      "bottom": null,
      "display": null,
      "flex": null,
      "flex_flow": null,
      "grid_area": null,
      "grid_auto_columns": null,
      "grid_auto_flow": null,
      "grid_auto_rows": null,
      "grid_column": null,
      "grid_gap": null,
      "grid_row": null,
      "grid_template_areas": null,
      "grid_template_columns": null,
      "grid_template_rows": null,
      "height": null,
      "justify_content": null,
      "justify_items": null,
      "left": null,
      "margin": null,
      "max_height": null,
      "max_width": null,
      "min_height": null,
      "min_width": null,
      "object_fit": null,
      "object_position": null,
      "order": null,
      "overflow": null,
      "overflow_x": null,
      "overflow_y": null,
      "padding": null,
      "right": null,
      "top": null,
      "visibility": null,
      "width": null
     }
    },
    "876cca63cea043f99904cd7a28f67e26": {
     "model_module": "@jupyter-widgets/base",
     "model_name": "LayoutModel",
     "state": {
      "_model_module": "@jupyter-widgets/base",
      "_model_module_version": "1.2.0",
      "_model_name": "LayoutModel",
      "_view_count": null,
      "_view_module": "@jupyter-widgets/base",
      "_view_module_version": "1.2.0",
      "_view_name": "LayoutView",
      "align_content": null,
      "align_items": null,
      "align_self": null,
      "border": null,
      "bottom": null,
      "display": null,
      "flex": null,
      "flex_flow": null,
      "grid_area": null,
      "grid_auto_columns": null,
      "grid_auto_flow": null,
      "grid_auto_rows": null,
      "grid_column": null,
      "grid_gap": null,
      "grid_row": null,
      "grid_template_areas": null,
      "grid_template_columns": null,
      "grid_template_rows": null,
      "height": null,
      "justify_content": null,
      "justify_items": null,
      "left": null,
      "margin": null,
      "max_height": null,
      "max_width": null,
      "min_height": null,
      "min_width": null,
      "object_fit": null,
      "object_position": null,
      "order": null,
      "overflow": null,
      "overflow_x": null,
      "overflow_y": null,
      "padding": null,
      "right": null,
      "top": null,
      "visibility": null,
      "width": null
     }
    },
    "8d85fb898cc4482794a273f9f40a7716": {
     "model_module": "@jupyter-widgets/controls",
     "model_name": "HTMLModel",
     "state": {
      "_dom_classes": [],
      "_model_module": "@jupyter-widgets/controls",
      "_model_module_version": "1.5.0",
      "_model_name": "HTMLModel",
      "_view_count": null,
      "_view_module": "@jupyter-widgets/controls",
      "_view_module_version": "1.5.0",
      "_view_name": "HTMLView",
      "description": "",
      "description_tooltip": null,
      "layout": "IPY_MODEL_b278158fce8d4b619f02689a2d671560",
      "placeholder": "​",
      "style": "IPY_MODEL_41db56c1758644e28cc891ed17b9111e",
      "value": " 9920512/? [00:19&lt;00:00, 5560701.54it/s]"
     }
    },
    "90fba2e9dcee4b5eaf94776dcd05b01a": {
     "model_module": "@jupyter-widgets/controls",
     "model_name": "FloatProgressModel",
     "state": {
      "_dom_classes": [],
      "_model_module": "@jupyter-widgets/controls",
      "_model_module_version": "1.5.0",
      "_model_name": "FloatProgressModel",
      "_view_count": null,
      "_view_module": "@jupyter-widgets/controls",
      "_view_module_version": "1.5.0",
      "_view_name": "ProgressView",
      "bar_style": "info",
      "description": "",
      "description_tooltip": null,
      "layout": "IPY_MODEL_96b3cf3c2b8c41ae832e3f33dcf13453",
      "max": 1,
      "min": 0,
      "orientation": "horizontal",
      "style": "IPY_MODEL_b91d4ce036c24e6fb29c9e3a2914e0bd",
      "value": 1
     }
    },
    "96b3cf3c2b8c41ae832e3f33dcf13453": {
     "model_module": "@jupyter-widgets/base",
     "model_name": "LayoutModel",
     "state": {
      "_model_module": "@jupyter-widgets/base",
      "_model_module_version": "1.2.0",
      "_model_name": "LayoutModel",
      "_view_count": null,
      "_view_module": "@jupyter-widgets/base",
      "_view_module_version": "1.2.0",
      "_view_name": "LayoutView",
      "align_content": null,
      "align_items": null,
      "align_self": null,
      "border": null,
      "bottom": null,
      "display": null,
      "flex": null,
      "flex_flow": null,
      "grid_area": null,
      "grid_auto_columns": null,
      "grid_auto_flow": null,
      "grid_auto_rows": null,
      "grid_column": null,
      "grid_gap": null,
      "grid_row": null,
      "grid_template_areas": null,
      "grid_template_columns": null,
      "grid_template_rows": null,
      "height": null,
      "justify_content": null,
      "justify_items": null,
      "left": null,
      "margin": null,
      "max_height": null,
      "max_width": null,
      "min_height": null,
      "min_width": null,
      "object_fit": null,
      "object_position": null,
      "order": null,
      "overflow": null,
      "overflow_x": null,
      "overflow_y": null,
      "padding": null,
      "right": null,
      "top": null,
      "visibility": null,
      "width": null
     }
    },
    "ab0c7dba3efe488e962a95f77fdff901": {
     "model_module": "@jupyter-widgets/controls",
     "model_name": "ProgressStyleModel",
     "state": {
      "_model_module": "@jupyter-widgets/controls",
      "_model_module_version": "1.5.0",
      "_model_name": "ProgressStyleModel",
      "_view_count": null,
      "_view_module": "@jupyter-widgets/base",
      "_view_module_version": "1.2.0",
      "_view_name": "StyleView",
      "bar_color": null,
      "description_width": "initial"
     }
    },
    "b278158fce8d4b619f02689a2d671560": {
     "model_module": "@jupyter-widgets/base",
     "model_name": "LayoutModel",
     "state": {
      "_model_module": "@jupyter-widgets/base",
      "_model_module_version": "1.2.0",
      "_model_name": "LayoutModel",
      "_view_count": null,
      "_view_module": "@jupyter-widgets/base",
      "_view_module_version": "1.2.0",
      "_view_name": "LayoutView",
      "align_content": null,
      "align_items": null,
      "align_self": null,
      "border": null,
      "bottom": null,
      "display": null,
      "flex": null,
      "flex_flow": null,
      "grid_area": null,
      "grid_auto_columns": null,
      "grid_auto_flow": null,
      "grid_auto_rows": null,
      "grid_column": null,
      "grid_gap": null,
      "grid_row": null,
      "grid_template_areas": null,
      "grid_template_columns": null,
      "grid_template_rows": null,
      "height": null,
      "justify_content": null,
      "justify_items": null,
      "left": null,
      "margin": null,
      "max_height": null,
      "max_width": null,
      "min_height": null,
      "min_width": null,
      "object_fit": null,
      "object_position": null,
      "order": null,
      "overflow": null,
      "overflow_x": null,
      "overflow_y": null,
      "padding": null,
      "right": null,
      "top": null,
      "visibility": null,
      "width": null
     }
    },
    "b4213321d97e4f54b356d0b466253e4c": {
     "model_module": "@jupyter-widgets/controls",
     "model_name": "HBoxModel",
     "state": {
      "_dom_classes": [],
      "_model_module": "@jupyter-widgets/controls",
      "_model_module_version": "1.5.0",
      "_model_name": "HBoxModel",
      "_view_count": null,
      "_view_module": "@jupyter-widgets/controls",
      "_view_module_version": "1.5.0",
      "_view_name": "HBoxView",
      "box_style": "",
      "children": [
       "IPY_MODEL_90fba2e9dcee4b5eaf94776dcd05b01a",
       "IPY_MODEL_ef3735b9a82347edb1c193fcc1dc1ec2"
      ],
      "layout": "IPY_MODEL_0e03dd08224f4e8c9c2f8d975358cdb7"
     }
    },
    "b612c47359234c3a8d59430c65605047": {
     "model_module": "@jupyter-widgets/controls",
     "model_name": "ProgressStyleModel",
     "state": {
      "_model_module": "@jupyter-widgets/controls",
      "_model_module_version": "1.5.0",
      "_model_name": "ProgressStyleModel",
      "_view_count": null,
      "_view_module": "@jupyter-widgets/base",
      "_view_module_version": "1.2.0",
      "_view_name": "StyleView",
      "bar_color": null,
      "description_width": "initial"
     }
    },
    "b91d4ce036c24e6fb29c9e3a2914e0bd": {
     "model_module": "@jupyter-widgets/controls",
     "model_name": "ProgressStyleModel",
     "state": {
      "_model_module": "@jupyter-widgets/controls",
      "_model_module_version": "1.5.0",
      "_model_name": "ProgressStyleModel",
      "_view_count": null,
      "_view_module": "@jupyter-widgets/base",
      "_view_module_version": "1.2.0",
      "_view_name": "StyleView",
      "bar_color": null,
      "description_width": "initial"
     }
    },
    "be465e46f1fa44c69c9dd8ff2d173543": {
     "model_module": "@jupyter-widgets/controls",
     "model_name": "FloatProgressModel",
     "state": {
      "_dom_classes": [],
      "_model_module": "@jupyter-widgets/controls",
      "_model_module_version": "1.5.0",
      "_model_name": "FloatProgressModel",
      "_view_count": null,
      "_view_module": "@jupyter-widgets/controls",
      "_view_module_version": "1.5.0",
      "_view_name": "ProgressView",
      "bar_style": "info",
      "description": "",
      "description_tooltip": null,
      "layout": "IPY_MODEL_7ffd56bd6fdb48efb48c338dfe983bfb",
      "max": 1,
      "min": 0,
      "orientation": "horizontal",
      "style": "IPY_MODEL_b612c47359234c3a8d59430c65605047",
      "value": 0
     }
    },
    "c50520b03cd0415c931144f086b2007a": {
     "model_module": "@jupyter-widgets/controls",
     "model_name": "FloatProgressModel",
     "state": {
      "_dom_classes": [],
      "_model_module": "@jupyter-widgets/controls",
      "_model_module_version": "1.5.0",
      "_model_name": "FloatProgressModel",
      "_view_count": null,
      "_view_module": "@jupyter-widgets/controls",
      "_view_module_version": "1.5.0",
      "_view_name": "ProgressView",
      "bar_style": "success",
      "description": "",
      "description_tooltip": null,
      "layout": "IPY_MODEL_28ef332369de4d358909a586a1743c61",
      "max": 1,
      "min": 0,
      "orientation": "horizontal",
      "style": "IPY_MODEL_12d3ec215dcc4b6794e3bbdef44602ce",
      "value": 1
     }
    },
    "c755370c4edf4661b591e61de544ad8f": {
     "model_module": "@jupyter-widgets/controls",
     "model_name": "HBoxModel",
     "state": {
      "_dom_classes": [],
      "_model_module": "@jupyter-widgets/controls",
      "_model_module_version": "1.5.0",
      "_model_name": "HBoxModel",
      "_view_count": null,
      "_view_module": "@jupyter-widgets/controls",
      "_view_module_version": "1.5.0",
      "_view_name": "HBoxView",
      "box_style": "",
      "children": [
       "IPY_MODEL_c50520b03cd0415c931144f086b2007a",
       "IPY_MODEL_4ea3550eaeab40969e6a835721528c35"
      ],
      "layout": "IPY_MODEL_392aac024b8845c58ab75d00893b4e42"
     }
    },
    "d7bc8179054c448c8decb471100d8edf": {
     "model_module": "@jupyter-widgets/controls",
     "model_name": "HBoxModel",
     "state": {
      "_dom_classes": [],
      "_model_module": "@jupyter-widgets/controls",
      "_model_module_version": "1.5.0",
      "_model_name": "HBoxModel",
      "_view_count": null,
      "_view_module": "@jupyter-widgets/controls",
      "_view_module_version": "1.5.0",
      "_view_name": "HBoxView",
      "box_style": "",
      "children": [
       "IPY_MODEL_7de6379c81224840ab318d1c5dbe2573",
       "IPY_MODEL_8d85fb898cc4482794a273f9f40a7716"
      ],
      "layout": "IPY_MODEL_3e158b4f6fc045a799a5d2848b7ef224"
     }
    },
    "eab337afee944438b7e9db9a2b7fd61b": {
     "model_module": "@jupyter-widgets/controls",
     "model_name": "DescriptionStyleModel",
     "state": {
      "_model_module": "@jupyter-widgets/controls",
      "_model_module_version": "1.5.0",
      "_model_name": "DescriptionStyleModel",
      "_view_count": null,
      "_view_module": "@jupyter-widgets/base",
      "_view_module_version": "1.2.0",
      "_view_name": "StyleView",
      "description_width": ""
     }
    },
    "ef3735b9a82347edb1c193fcc1dc1ec2": {
     "model_module": "@jupyter-widgets/controls",
     "model_name": "HTMLModel",
     "state": {
      "_dom_classes": [],
      "_model_module": "@jupyter-widgets/controls",
      "_model_module_version": "1.5.0",
      "_model_name": "HTMLModel",
      "_view_count": null,
      "_view_module": "@jupyter-widgets/controls",
      "_view_module_version": "1.5.0",
      "_view_name": "HTMLView",
      "description": "",
      "description_tooltip": null,
      "layout": "IPY_MODEL_043acb1db455426e8f56a61d6f39b222",
      "placeholder": "​",
      "style": "IPY_MODEL_57ea6daaa8484c59b3930783d0a9cf20",
      "value": " 1654784/? [00:19&lt;00:00, 9617362.30it/s]"
     }
    },
    "ef4e2e0ed447424b8695c1a66cec0210": {
     "model_module": "@jupyter-widgets/controls",
     "model_name": "HTMLModel",
     "state": {
      "_dom_classes": [],
      "_model_module": "@jupyter-widgets/controls",
      "_model_module_version": "1.5.0",
      "_model_name": "HTMLModel",
      "_view_count": null,
      "_view_module": "@jupyter-widgets/controls",
      "_view_module_version": "1.5.0",
      "_view_name": "HTMLView",
      "description": "",
      "description_tooltip": null,
      "layout": "IPY_MODEL_876cca63cea043f99904cd7a28f67e26",
      "placeholder": "​",
      "style": "IPY_MODEL_eab337afee944438b7e9db9a2b7fd61b",
      "value": " 0/? [00:00&lt;?, ?it/s]"
     }
    }
   }
  }
 },
 "nbformat": 4,
 "nbformat_minor": 1
}
