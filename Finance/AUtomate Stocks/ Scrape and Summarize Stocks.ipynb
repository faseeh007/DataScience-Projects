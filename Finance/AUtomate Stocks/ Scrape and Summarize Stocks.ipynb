{
 "cells": [
  {
   "cell_type": "markdown",
   "id": "430182af",
   "metadata": {},
   "source": [
    "# 1. Install and Import BaseLine Dependencies"
   ]
  },
  {
   "cell_type": "code",
   "execution_count": null,
   "id": "192a26fe",
   "metadata": {},
   "outputs": [],
   "source": [
    "#!pip install transformers"
   ]
  },
  {
   "cell_type": "code",
   "execution_count": null,
   "id": "8d92f8f5",
   "metadata": {},
   "outputs": [],
   "source": [
    "#!pip install bs4"
   ]
  },
  {
   "cell_type": "code",
   "execution_count": null,
   "id": "9e6d5d39",
   "metadata": {},
   "outputs": [],
   "source": [
    "!C:\\Users\\Faseeh\\Anaconda3\\python.exe -m pip install --upgrade pip"
   ]
  },
  {
   "cell_type": "code",
   "execution_count": 8,
   "id": "9955582c",
   "metadata": {},
   "outputs": [
    {
     "name": "stdout",
     "output_type": "stream",
     "text": [
      "Package                       Version\n",
      "----------------------------- ---------------------\n",
      "absl-py                       1.0.0\n",
      "anaconda-client               1.9.0\n",
      "anaconda-navigator            2.1.1\n",
      "argon2-cffi                   20.1.0\n",
      "astunparse                    1.6.3\n",
      "async-generator               1.10\n",
      "attrs                         21.2.0\n",
      "backcall                      0.2.0\n",
      "backports.functools-lru-cache 1.6.4\n",
      "backports.tempfile            1.0\n",
      "backports.weakref             1.0.post1\n",
      "bcrypt                        3.2.0\n",
      "beautifulsoup4                4.10.0\n",
      "bleach                        4.0.0\n",
      "Brotli                        1.0.9\n",
      "brotlipy                      0.7.0\n",
      "certifi                       2021.10.8\n",
      "cffi                          1.15.0\n",
      "chardet                       4.0.0\n",
      "charset-normalizer            2.0.4\n",
      "click                         8.0.3\n",
      "cloudpickle                   2.0.0\n",
      "clyent                        1.2.2\n",
      "colorama                      0.4.4\n",
      "comtypes                      1.1.10\n",
      "conda                         4.11.0\n",
      "conda-build                   3.21.6\n",
      "conda-content-trust           0+unknown\n",
      "conda-package-handling        1.7.3\n",
      "conda-repo-cli                1.0.4\n",
      "conda-token                   0.3.0\n",
      "conda-verify                  3.4.2\n",
      "contextlib2                   21.6.0\n",
      "cryptography                  3.4.8\n",
      "cvzone                        1.5.4\n",
      "cycler                        0.11.0\n",
      "Cython                        3.0.0a9\n",
      "dash                          1.17.0\n",
      "dash-bootstrap-components     0.9.1\n",
      "dash-core-components          1.13.0\n",
      "dash-daq                      0.5.0\n",
      "dash-html-components          1.1.1\n",
      "dash-renderer                 1.8.3\n",
      "dash-table                    4.11.0\n",
      "debugpy                       1.5.1\n",
      "decorator                     5.1.0\n",
      "defusedxml                    0.7.1\n",
      "dnspython                     2.1.0\n",
      "easydict                      1.9\n",
      "easyocr                       1.4.1\n",
      "entrypoints                   0.3\n",
      "enum34                        1.1.10\n",
      "et-xmlfile                    1.1.0\n",
      "filelock                      3.4.0\n",
      "Flask                         2.0.2\n",
      "Flask-Compress                1.10.1\n",
      "Flask-PyMongo                 2.3.0\n",
      "Flask-SQLAlchemy              0.6\n",
      "flatbuffers                   2.0\n",
      "fonttools                     4.28.5\n",
      "future                        0.18.2\n",
      "gast                          0.4.0\n",
      "gitdb                         4.0.9\n",
      "GitPython                     3.1.24\n",
      "glob2                         0.7\n",
      "google-auth                   2.3.3\n",
      "google-auth-oauthlib          0.4.6\n",
      "google-pasta                  0.2.0\n",
      "grpcio                        1.43.0\n",
      "h5py                          3.6.0\n",
      "huggingface-hub               0.4.0\n",
      "idna                          3.3\n",
      "imageio                       2.9.0\n",
      "importlib-metadata            4.8.2\n",
      "ipykernel                     6.4.1\n",
      "ipython                       7.29.0\n",
      "ipython-genutils              0.2.0\n",
      "ipywidgets                    7.6.5\n",
      "itsdangerous                  2.0.1\n",
      "jedi                          0.18.0\n",
      "Jinja2                        3.0.3\n",
      "joblib                        1.1.0\n",
      "jsonschema                    3.2.0\n",
      "jupyter-client                7.0.6\n",
      "jupyter-core                  4.9.1\n",
      "jupyterlab-pygments           0.1.2\n",
      "jupyterlab-widgets            1.0.2\n",
      "keras                         2.7.0\n",
      "Keras-Preprocessing           1.1.2\n",
      "kiwisolver                    1.3.2\n",
      "libarchive-c                  2.9\n",
      "libclang                      12.0.0\n",
      "llvmlite                      0.36.0\n",
      "lvis                          0.5.3\n",
      "lxml                          4.7.1\n",
      "Markdown                      3.3.6\n",
      "MarkupSafe                    2.0.1\n",
      "matplotlib                    3.2.0\n",
      "matplotlib-inline             0.1.2\n",
      "mediapipe                     0.8.9.1\n",
      "menuinst                      1.4.18\n",
      "mistune                       0.8.4\n",
      "navigator-updater             0.2.1\n",
      "nbclient                      0.5.3\n",
      "nbconvert                     6.1.0\n",
      "nbformat                      5.1.3\n",
      "nest-asyncio                  1.5.1\n",
      "networkx                      2.6.3\n",
      "notebook                      6.4.6\n",
      "numba                         0.53.1\n",
      "numpy                         1.21.4\n",
      "oauthlib                      3.1.1\n",
      "object-detection              0.1\n",
      "olefile                       0.46\n",
      "onnx                          1.10.2\n",
      "onnx2keras                    0.0.24\n",
      "opencv-contrib-python         4.5.4.60\n",
      "opencv-python                 4.5.4.60\n",
      "opencv-python-headless        4.5.5.62\n",
      "openpyxl                      3.0.9\n",
      "opt-einsum                    3.3.0\n",
      "packaging                     21.3\n",
      "pandas                        1.3.4\n",
      "pandocfilters                 1.4.3\n",
      "parso                         0.8.2\n",
      "passlib                       1.7.4\n",
      "pickleshare                   0.7.5\n",
      "Pillow                        8.2.0\n",
      "pip                           22.0.3\n",
      "pkginfo                       1.7.1\n",
      "playsound                     1.3.0\n",
      "plotly                        4.12.0\n",
      "prometheus-client             0.12.0\n",
      "prompt-toolkit                3.0.20\n",
      "protobuf                      3.19.1\n",
      "psutil                        5.8.0\n",
      "pyarrow                       6.0.1\n",
      "pyasn1                        0.4.8\n",
      "pyasn1-modules                0.2.8\n",
      "pycaw                         20181226\n",
      "pycocotools                   2.0.3\n",
      "pycosat                       0.6.3\n",
      "pycparser                     2.21\n",
      "pydeck                        0.7.1\n",
      "Pygments                      2.10.0\n",
      "PyJWT                         2.1.0\n",
      "pymongo                       4.0.1\n",
      "Pympler                       0.9\n",
      "pyOpenSSL                     21.0.0\n",
      "pyparsing                     3.0.4\n",
      "PyQt5                         5.15.6\n",
      "PyQt5-Qt5                     5.15.2\n",
      "PyQt5-sip                     12.9.0\n",
      "pyrsistent                    0.18.0\n",
      "pyshine                       0.0.9\n",
      "PySocks                       1.7.1\n",
      "python-bidi                   0.4.2\n",
      "python-dateutil               2.8.2\n",
      "pytorch2keras                 0.2.4\n",
      "pytz                          2021.3\n",
      "pytz-deprecation-shim         0.1.0.post0\n",
      "PyWavelets                    1.2.0\n",
      "pywin32                       228\n",
      "pywinpty                      0.5.7\n",
      "PyYAML                        6.0\n",
      "pyzmq                         22.3.0\n",
      "QtPy                          1.10.0\n",
      "regex                         2022.1.18\n",
      "requests                      2.26.0\n",
      "requests-oauthlib             1.3.0\n",
      "retrying                      1.3.3\n",
      "rsa                           4.8\n",
      "ruamel-yaml-conda             0.15.100\n",
      "sacremoses                    0.0.47\n",
      "scikit-image                  0.19.1\n",
      "scikit-learn                  1.0.1\n",
      "scipy                         1.7.3\n",
      "seaborn                       0.11.2\n",
      "semantic-version              2.8.5\n",
      "Send2Trash                    1.8.0\n",
      "setuptools                    58.0.4\n",
      "setuptools-rust               1.1.2\n",
      "shap                          0.40.0\n",
      "shapash                       1.6.0\n",
      "sip                           4.19.13\n",
      "six                           1.16.0\n",
      "sklearn                       0.0\n",
      "slicer                        0.0.7\n",
      "smmap                         5.0.0\n",
      "soupsieve                     2.3.1\n",
      "tensorboard                   2.7.0\n",
      "tensorboard-data-server       0.6.1\n",
      "tensorboard-plugin-wit        1.8.0\n",
      "tensorflow                    2.7.0\n",
      "tensorflow-estimator          2.7.0\n",
      "tensorflow-io                 0.23.1\n",
      "tensorflow-io-gcs-filesystem  0.23.1\n",
      "termcolor                     1.1.0\n",
      "terminado                     0.9.4\n",
      "testpath                      0.5.0\n",
      "tf-models-official            2.7.0\n",
      "tf-slim                       1.1.0\n",
      "thop                          0.0.31.post2005241907\n",
      "threadpoolctl                 3.0.0\n",
      "tifffile                      2021.11.2\n",
      "tokenizers                    0.11.5\n",
      "toml                          0.10.2\n",
      "toolz                         0.11.2\n",
      "torch                         1.10.1\n",
      "torchvision                   0.11.2\n",
      "tornado                       6.1\n",
      "tqdm                          4.62.3\n",
      "traitlets                     5.1.1\n",
      "transformers                  4.16.2\n",
      "typing_extensions             4.0.1\n",
      "tzdata                        2021.5\n",
      "tzlocal                       4.1\n",
      "ujson                         4.0.2\n",
      "urllib3                       1.26.7\n",
      "validators                    0.18.2\n",
      "watchdog                      2.1.6\n",
      "wcwidth                       0.2.5\n",
      "webencodings                  0.5.1\n",
      "Werkzeug                      2.0.2\n",
      "wget                          3.2\n",
      "wheel                         0.37.0\n",
      "widgetsnbextension            3.5.2\n",
      "win-inet-pton                 1.1.0\n",
      "wincertstore                  0.2\n",
      "wrapt                         1.13.3\n",
      "xgboost                       1.5.1\n",
      "xmltodict                     0.12.0\n",
      "zipp                          3.6.0\n"
     ]
    }
   ],
   "source": [
    "!pip list"
   ]
  },
  {
   "cell_type": "code",
   "execution_count": 7,
   "id": "dce9517b",
   "metadata": {},
   "outputs": [
    {
     "name": "stdout",
     "output_type": "stream",
     "text": [
      "Collecting ipywidgets\n",
      "  Using cached ipywidgets-7.6.5-py2.py3-none-any.whl (121 kB)\n",
      "Requirement already satisfied: ipython>=4.0.0 in c:\\users\\faseeh\\appdata\\local\\programs\\python\\python37\\lib\\site-packages (from ipywidgets) (7.31.1)\n",
      "Requirement already satisfied: traitlets>=4.3.1 in c:\\users\\faseeh\\appdata\\local\\programs\\python\\python37\\lib\\site-packages (from ipywidgets) (5.1.1)\n",
      "Collecting widgetsnbextension~=3.5.0\n",
      "  Using cached widgetsnbextension-3.5.2-py2.py3-none-any.whl (1.6 MB)\n",
      "Collecting jupyterlab-widgets>=1.0.0\n",
      "  Using cached jupyterlab_widgets-1.0.2-py3-none-any.whl (243 kB)\n",
      "Collecting ipython-genutils~=0.2.0\n",
      "  Using cached ipython_genutils-0.2.0-py2.py3-none-any.whl (26 kB)\n",
      "Requirement already satisfied: ipykernel>=4.5.1 in c:\\users\\faseeh\\appdata\\local\\programs\\python\\python37\\lib\\site-packages (from ipywidgets) (6.7.0)\n",
      "Collecting nbformat>=4.2.0\n",
      "  Using cached nbformat-5.1.3-py3-none-any.whl (178 kB)\n",
      "Requirement already satisfied: matplotlib-inline<0.2.0,>=0.1.0 in c:\\users\\faseeh\\appdata\\local\\programs\\python\\python37\\lib\\site-packages (from ipykernel>=4.5.1->ipywidgets) (0.1.3)\n",
      "Requirement already satisfied: debugpy<2.0,>=1.0.0 in c:\\users\\faseeh\\appdata\\local\\programs\\python\\python37\\lib\\site-packages (from ipykernel>=4.5.1->ipywidgets) (1.5.1)\n",
      "Requirement already satisfied: nest-asyncio in c:\\users\\faseeh\\appdata\\local\\programs\\python\\python37\\lib\\site-packages (from ipykernel>=4.5.1->ipywidgets) (1.5.4)\n",
      "Requirement already satisfied: tornado<7.0,>=4.2 in c:\\users\\faseeh\\appdata\\local\\programs\\python\\python37\\lib\\site-packages (from ipykernel>=4.5.1->ipywidgets) (6.1)\n",
      "Requirement already satisfied: jupyter-client<8.0 in c:\\users\\faseeh\\appdata\\local\\programs\\python\\python37\\lib\\site-packages (from ipykernel>=4.5.1->ipywidgets) (7.1.2)\n",
      "Requirement already satisfied: colorama in c:\\users\\faseeh\\appdata\\local\\programs\\python\\python37\\lib\\site-packages (from ipython>=4.0.0->ipywidgets) (0.4.4)\n",
      "Requirement already satisfied: backcall in c:\\users\\faseeh\\appdata\\local\\programs\\python\\python37\\lib\\site-packages (from ipython>=4.0.0->ipywidgets) (0.2.0)\n",
      "Requirement already satisfied: setuptools>=18.5 in c:\\users\\faseeh\\appdata\\local\\programs\\python\\python37\\lib\\site-packages (from ipython>=4.0.0->ipywidgets) (47.1.0)\n",
      "Requirement already satisfied: jedi>=0.16 in c:\\users\\faseeh\\appdata\\local\\programs\\python\\python37\\lib\\site-packages (from ipython>=4.0.0->ipywidgets) (0.18.1)\n",
      "Requirement already satisfied: prompt-toolkit!=3.0.0,!=3.0.1,<3.1.0,>=2.0.0 in c:\\users\\faseeh\\appdata\\local\\programs\\python\\python37\\lib\\site-packages (from ipython>=4.0.0->ipywidgets) (3.0.24)\n",
      "Requirement already satisfied: pygments in c:\\users\\faseeh\\appdata\\local\\programs\\python\\python37\\lib\\site-packages (from ipython>=4.0.0->ipywidgets) (2.11.2)\n",
      "Requirement already satisfied: pickleshare in c:\\users\\faseeh\\appdata\\local\\programs\\python\\python37\\lib\\site-packages (from ipython>=4.0.0->ipywidgets) (0.7.5)\n",
      "Requirement already satisfied: decorator in c:\\users\\faseeh\\appdata\\local\\programs\\python\\python37\\lib\\site-packages (from ipython>=4.0.0->ipywidgets) (5.1.1)\n",
      "Requirement already satisfied: jupyter-core in c:\\users\\faseeh\\appdata\\local\\programs\\python\\python37\\lib\\site-packages (from nbformat>=4.2.0->ipywidgets) (4.9.1)\n",
      "Collecting jsonschema!=2.5.0,>=2.4\n",
      "  Using cached jsonschema-4.4.0-py3-none-any.whl (72 kB)\n",
      "Collecting notebook>=4.4.1\n",
      "  Using cached notebook-6.4.8-py3-none-any.whl (9.9 MB)\n",
      "Requirement already satisfied: parso<0.9.0,>=0.8.0 in c:\\users\\faseeh\\appdata\\local\\programs\\python\\python37\\lib\\site-packages (from jedi>=0.16->ipython>=4.0.0->ipywidgets) (0.8.3)\n",
      "Collecting importlib-resources>=1.4.0\n",
      "  Using cached importlib_resources-5.4.0-py3-none-any.whl (28 kB)\n",
      "Requirement already satisfied: typing-extensions in c:\\users\\faseeh\\appdata\\local\\programs\\python\\python37\\lib\\site-packages (from jsonschema!=2.5.0,>=2.4->nbformat>=4.2.0->ipywidgets) (4.1.1)\n",
      "Requirement already satisfied: importlib-metadata in c:\\users\\faseeh\\appdata\\local\\programs\\python\\python37\\lib\\site-packages (from jsonschema!=2.5.0,>=2.4->nbformat>=4.2.0->ipywidgets) (4.11.1)\n",
      "Requirement already satisfied: attrs>=17.4.0 in c:\\users\\faseeh\\appdata\\local\\programs\\python\\python37\\lib\\site-packages (from jsonschema!=2.5.0,>=2.4->nbformat>=4.2.0->ipywidgets) (21.4.0)\n",
      "Collecting pyrsistent!=0.17.0,!=0.17.1,!=0.17.2,>=0.14.0\n",
      "  Using cached pyrsistent-0.18.1-cp37-cp37m-win_amd64.whl (61 kB)\n",
      "Requirement already satisfied: entrypoints in c:\\users\\faseeh\\appdata\\local\\programs\\python\\python37\\lib\\site-packages (from jupyter-client<8.0->ipykernel>=4.5.1->ipywidgets) (0.3)\n",
      "Requirement already satisfied: pyzmq>=13 in c:\\users\\faseeh\\appdata\\local\\programs\\python\\python37\\lib\\site-packages (from jupyter-client<8.0->ipykernel>=4.5.1->ipywidgets) (22.3.0)\n",
      "Requirement already satisfied: python-dateutil>=2.1 in c:\\users\\faseeh\\appdata\\local\\programs\\python\\python37\\lib\\site-packages (from jupyter-client<8.0->ipykernel>=4.5.1->ipywidgets) (2.8.2)\n",
      "Requirement already satisfied: pywin32>=1.0 in c:\\users\\faseeh\\appdata\\local\\programs\\python\\python37\\lib\\site-packages (from jupyter-core->nbformat>=4.2.0->ipywidgets) (303)\n",
      "Collecting argon2-cffi\n",
      "  Using cached argon2_cffi-21.3.0-py3-none-any.whl (14 kB)\n",
      "Collecting prometheus-client\n",
      "  Using cached prometheus_client-0.13.1-py3-none-any.whl (57 kB)\n",
      "Requirement already satisfied: jinja2 in c:\\users\\faseeh\\appdata\\local\\programs\\python\\python37\\lib\\site-packages (from notebook>=4.4.1->widgetsnbextension~=3.5.0->ipywidgets) (3.0.3)\n",
      "Collecting Send2Trash>=1.8.0\n",
      "  Using cached Send2Trash-1.8.0-py3-none-any.whl (18 kB)\n",
      "Collecting nbconvert\n",
      "  Using cached nbconvert-6.4.2-py3-none-any.whl (558 kB)\n",
      "Collecting terminado>=0.8.3\n",
      "  Using cached terminado-0.13.1-py3-none-any.whl (14 kB)\n",
      "Requirement already satisfied: wcwidth in c:\\users\\faseeh\\appdata\\local\\programs\\python\\python37\\lib\\site-packages (from prompt-toolkit!=3.0.0,!=3.0.1,<3.1.0,>=2.0.0->ipython>=4.0.0->ipywidgets) (0.2.5)\n",
      "Requirement already satisfied: zipp>=3.1.0 in c:\\users\\faseeh\\appdata\\local\\programs\\python\\python37\\lib\\site-packages (from importlib-resources>=1.4.0->jsonschema!=2.5.0,>=2.4->nbformat>=4.2.0->ipywidgets) (3.7.0)\n",
      "Requirement already satisfied: six>=1.5 in c:\\users\\faseeh\\appdata\\local\\programs\\python\\python37\\lib\\site-packages (from python-dateutil>=2.1->jupyter-client<8.0->ipykernel>=4.5.1->ipywidgets) (1.16.0)\n",
      "Collecting pywinpty>=1.1.0\n",
      "  Using cached pywinpty-2.0.2-cp37-none-win_amd64.whl (1.4 MB)\n",
      "Collecting argon2-cffi-bindings\n",
      "  Using cached argon2_cffi_bindings-21.2.0-cp36-abi3-win_amd64.whl (30 kB)\n",
      "Requirement already satisfied: MarkupSafe>=2.0 in c:\\users\\faseeh\\appdata\\local\\programs\\python\\python37\\lib\\site-packages (from jinja2->notebook>=4.4.1->widgetsnbextension~=3.5.0->ipywidgets) (2.1.0)\n",
      "Collecting jupyterlab-pygments\n",
      "  Using cached jupyterlab_pygments-0.1.2-py2.py3-none-any.whl (4.6 kB)\n",
      "Collecting testpath\n",
      "  Using cached testpath-0.5.0-py3-none-any.whl (84 kB)\n",
      "Collecting mistune<2,>=0.8.1\n",
      "  Using cached mistune-0.8.4-py2.py3-none-any.whl (16 kB)\n",
      "Collecting nbclient<0.6.0,>=0.5.0\n",
      "  Using cached nbclient-0.5.11-py3-none-any.whl (71 kB)\n",
      "Collecting pandocfilters>=1.4.1\n",
      "  Using cached pandocfilters-1.5.0-py2.py3-none-any.whl (8.7 kB)\n",
      "Collecting bleach\n",
      "  Using cached bleach-4.1.0-py2.py3-none-any.whl (157 kB)\n",
      "Collecting defusedxml\n",
      "  Using cached defusedxml-0.7.1-py2.py3-none-any.whl (25 kB)\n",
      "Requirement already satisfied: cffi>=1.0.1 in c:\\users\\faseeh\\appdata\\local\\programs\\python\\python37\\lib\\site-packages (from argon2-cffi-bindings->argon2-cffi->notebook>=4.4.1->widgetsnbextension~=3.5.0->ipywidgets) (1.15.0)\n",
      "Collecting webencodings\n",
      "  Using cached webencodings-0.5.1-py2.py3-none-any.whl (11 kB)Note: you may need to restart the kernel to use updated packages.\n",
      "Requirement already satisfied: packaging in c:\\users\\faseeh\\appdata\\local\\programs\\python\\python37\\lib\\site-packages (from bleach->nbconvert->notebook>=4.4.1->widgetsnbextension~=3.5.0->ipywidgets) (21.3)\n",
      "Requirement already satisfied: pycparser in c:\\users\\faseeh\\appdata\\local\\programs\\python\\python37\\lib\\site-packages (from cffi>=1.0.1->argon2-cffi-bindings->argon2-cffi->notebook>=4.4.1->widgetsnbextension~=3.5.0->ipywidgets) (2.21)\n",
      "Requirement already satisfied: pyparsing!=3.0.5,>=2.0.2 in c:\\users\\faseeh\\appdata\\local\\programs\\python\\python37\\lib\\site-packages (from packaging->bleach->nbconvert->notebook>=4.4.1->widgetsnbextension~=3.5.0->ipywidgets) (3.0.7)\n",
      "Installing collected packages: webencodings, Send2Trash, mistune, ipython-genutils, testpath, pywinpty, pyrsistent, prometheus-client, pandocfilters, jupyterlab-widgets, jupyterlab-pygments, importlib-resources, defusedxml, terminado, jsonschema, bleach, argon2-cffi-bindings, nbformat, argon2-cffi, nbclient, nbconvert, notebook, widgetsnbextension, ipywidgets\n"
     ]
    },
    {
     "name": "stdout",
     "output_type": "stream",
     "text": [
      "\n",
      "Successfully installed Send2Trash-1.8.0 argon2-cffi-21.3.0 argon2-cffi-bindings-21.2.0 bleach-4.1.0 defusedxml-0.7.1 importlib-resources-5.4.0 ipython-genutils-0.2.0 ipywidgets-7.6.5 jsonschema-4.4.0 jupyterlab-pygments-0.1.2 jupyterlab-widgets-1.0.2 mistune-0.8.4 nbclient-0.5.11 nbconvert-6.4.2 nbformat-5.1.3 notebook-6.4.8 pandocfilters-1.5.0 prometheus-client-0.13.1 pyrsistent-0.18.1 pywinpty-2.0.2 terminado-0.13.1 testpath-0.5.0 webencodings-0.5.1 widgetsnbextension-3.5.2\n"
     ]
    }
   ],
   "source": [
    "!pip install ipywidgets"
   ]
  },
  {
   "cell_type": "code",
   "execution_count": 1,
   "id": "c4bb848e",
   "metadata": {},
   "outputs": [],
   "source": [
    "from transformers import PegasusTokenizer, PegasusForConditionalGeneration\n",
    "from bs4 import BeautifulSoup\n",
    "import requests"
   ]
  },
  {
   "cell_type": "code",
   "execution_count": 8,
   "id": "b1048217",
   "metadata": {},
   "outputs": [],
   "source": [
    "#from tqdm import tqdm"
   ]
  },
  {
   "cell_type": "code",
   "execution_count": 2,
   "id": "242f1a67",
   "metadata": {},
   "outputs": [],
   "source": [
    "from ipywidgets import FloatProgress"
   ]
  },
  {
   "cell_type": "code",
   "execution_count": 71,
   "id": "b07f34f2",
   "metadata": {},
   "outputs": [],
   "source": [
    "from time import sleep"
   ]
  },
  {
   "cell_type": "markdown",
   "id": "ee73aaf3",
   "metadata": {},
   "source": [
    "# 2. Setup Summarization Model"
   ]
  },
  {
   "cell_type": "code",
   "execution_count": 30,
   "id": "6f18a3fc",
   "metadata": {
    "scrolled": false
   },
   "outputs": [],
   "source": [
    "model_name = \"human-centered-summarization/financial-summarization-pegasus\"\n",
    "tokenizer = PegasusTokenizer.from_pretrained(model_name)\n",
    "model = PegasusForConditionalGeneration.from_pretrained(model_name)"
   ]
  },
  {
   "cell_type": "code",
   "execution_count": null,
   "id": "bad79c22",
   "metadata": {},
   "outputs": [],
   "source": []
  },
  {
   "cell_type": "markdown",
   "id": "e150765b",
   "metadata": {},
   "source": [
    "# 3. Summarize a Single Article"
   ]
  },
  {
   "cell_type": "code",
   "execution_count": 12,
   "id": "6d2bcc80",
   "metadata": {},
   "outputs": [],
   "source": [
    "headers = { \n",
    "    'User-Agent'      : 'Mozilla/5.0 (Windows NT 10.0; Win64; x64) AppleWebKit/537.36 (KHTML, like Gecko) Chrome/71.0.3578.98 Safari/537.36', \n",
    "    'Accept'          : 'text/html,application/xhtml+xml,application/xml;q=0.9,*/*;q=0.8', \n",
    "    'Accept-Language' : 'en-US,en;q=0.5',\n",
    "    'DNT'             : '1', # Do Not Track Request Header \n",
    "    'Connection'      : 'close'\n",
    "}"
   ]
  },
  {
   "cell_type": "code",
   "execution_count": 23,
   "id": "ed67dad4",
   "metadata": {},
   "outputs": [],
   "source": [
    "url = \"https://au.finance.yahoo.com/news/china-restricting-tesla-use-uncovers-a-significant-challenge-for-elon-musk-expert-161921664.html\"\n",
    "r = requests.get(url, headers=headers, timeout=5)\n",
    "soup = BeautifulSoup(r.text, 'html.parser')\n",
    "paragraphs = soup.find_all('p')"
   ]
  },
  {
   "cell_type": "code",
   "execution_count": null,
   "id": "69f1d14d",
   "metadata": {},
   "outputs": [],
   "source": []
  },
  {
   "cell_type": "code",
   "execution_count": 24,
   "id": "8b00c0df",
   "metadata": {},
   "outputs": [
    {
     "data": {
      "text/plain": [
       "[<p>Renewed political tensions between the U.S. and China — which came to light this week as the Biden administration sat down with their Chinese counterparts for the first time to discuss a range of issues — could ensnarl vehicle maker Tesla (<a class=\"link\" data-ylk=\"slk:TSLA\" href=\"https://finance.yahoo.com/quote/TSLA?p=TSLA&amp;.tsrc=fin-srch\">TSLA</a>), which has pushed successfully into China in recent years.</p>,\n",
       " <p>In fact, the heightened rhetoric between the two super economic superpowers may have already had blowback on Elon Musk's electric car company.</p>,\n",
       " <p>The Chinese government is restricting the use of Tesla vehicles by military staff and employees of vital state-owned companies, <a class=\"link\" data-ylk=\"slk:The Wall Street Journal reported Friday\" href=\"https://www.wsj.com/articles/china-to-restrict-tesla-usage-by-military-and-state-personnel-11616155643\" rel=\"nofollow noopener\" target=\"_blank\">The Wall Street Journal reported Friday</a>. Chinese officials reportedly have concerns that Tesla's cars — outfitted with various data collecting capabilities — could serve as leakers of national security secrets.</p>,\n",
       " <p>\"I have been saying for months now that Tesla's level of integration of their business, of their research, of their sort of geo-tracking for which there is integration with Chinese maps, their development of A.I. with Chinese firms, and electric battery technology that's not sustainable in China given the trajectory [on policy] that we are now on,\" policy expert and <a class=\"link\" data-ylk=\"slk:Eurasia Group\" href=\"https://www.eurasiagroup.net/people/ibremmer\" rel=\"nofollow noopener\" target=\"_blank\">Eurasia Group</a> founder Ian Bremmer <a class=\"link\" data-ylk=\"slk:said on Yahoo Finance Live\" href=\"https://finance.yahoo.com/videos\">said on Yahoo Finance Live</a>. \"Most American A.I. and technology companies are seen as critical for national security, they don't have access in China — companies like Amazon, Google and Facebook. Tesla is the outlier.\"</p>,\n",
       " <p>That outlier status has made China an incredibly important market for Tesla, and a key part of the investment thesis in the stock.</p>,\n",
       " <p>Tesla's sales in China clocked in at $6.66 billion in 2020, up 123% from a year earlier powered by strength in the Model 3. The business made up about 21% of Tesla's overall 2020 sales. Tesla began deliveries of its China-made Model Y to Chinese consumers earlier this year.</p>,\n",
       " <p>Bremmer warns Tesla now has a challenging road ahead in China in light of the recent development by the military. Musk's response to the Chinese actions are important for investors to watch, suggests Bremmer.</p>,\n",
       " <p>\"At a moment of some white knuckle tensions between the U.S. and China, Musk &amp; Co. find themselves in a unique position (along with Apple) of being caught in the crossfire,\" Wedbush tech analyst Dan Ives said.</p>,\n",
       " <p><a class=\"link\" data-ylk=\"slk:Tesla shares fell about 2% on the report\" href=\"http://finance.yahoo.com/premium-marketing?ncid=editoriald_yhm5ec0oo8o\">Tesla shares fell about 2% on the report</a>, as investors pondered if China will take a harder line on Tesla's sales to consumers.</p>,\n",
       " <p>\"One thing we know about Elon Musk is that he is not exactly Mr. Sensitivity when it comes to government relations and how he engages with say, the S.E.C. or with Congress. I think that this is a significant challenge for him and the firm going forward,\" Bremmer said.</p>,\n",
       " <p><a class=\"link\" data-ylk=\"slk:Brian Sozzi\" href=\"https://www.yahoo.com/author/brian-sozzi/\"><strong><em>Brian Sozzi</em></strong></a><strong><em> is an editor-at-large and </em></strong><a class=\"link\" data-ylk=\"slk:anchor at Yahoo Finance\" href=\"https://finance.yahoo.com/videos/\"><strong><em>anchor at Yahoo Finance</em></strong></a><strong><em>. Follow Sozzi on Twitter </em></strong><a class=\"link\" data-ylk=\"slk:@BrianSozzi\" href=\"https://twitter.com/BrianSozzi\" rel=\"nofollow noopener\" target=\"_blank\"><strong><em>@BrianSozzi</em></strong></a><strong><em> and on </em></strong><a class=\"link\" data-ylk=\"slk:LinkedIn\" href=\"https://www.linkedin.com/in/briansozzi/\" rel=\"nofollow noopener\" target=\"_blank\"><strong><em>LinkedIn</em></strong></a><strong><em>.</em></strong></p>,\n",
       " <p><strong>What’s hot from Sozzi:</strong></p>,\n",
       " <p><a class=\"link yahoo-link\" data-ylk=\"slk:Cigna CEO on the future of healthcare post-pandemic;outcm:mb_qualified_link;_E:mb_qualified_link;ct:story;\" href=\"https://finance.yahoo.com/news/how-cigna-plans-to-spend-billions-of-dollars-in-cash-beyond-the-covid-19-pandemic-132948361.html\"><strong>Cigna CEO on the future of healthcare post-pandemic</strong></a></p>,\n",
       " <p><a class=\"link yahoo-link\" data-ylk=\"slk:Rocket Companies CEO: why rising rates won't slow housing boom;outcm:mb_qualified_link;_E:mb_qualified_link;ct:story;\" href=\"https://finance.yahoo.com/news/quicken-loans-parent-companys-stock-skyrockets-ceo-weighs-in-on-rising-rates-165703198.html\"><strong>Rocket Companies CEO: why rising rates won't slow housing boom</strong></a></p>,\n",
       " <p><a class=\"link yahoo-link\" data-ylk=\"slk:AutoNation CEO: we have no plans to accept bitcoin like Tesla;outcm:mb_qualified_link;_E:mb_qualified_link;ct:story;\" href=\"https://finance.yahoo.com/video/autonation-ceo-chip-shortage-ve-143205132.html\"><strong>AutoNation CEO: we have no plans to accept bitcoin like Tesla</strong></a></p>,\n",
       " <p><a class=\"link yahoo-link\" data-ylk=\"slk:NBA great Ray Allen: how the country could come together post Trump;outcm:mb_qualified_link;_E:mb_qualified_link;ct:story;\" href=\"https://finance.yahoo.com/news/nba-legend-ray-allen-politicians-need-to-put-their-differences-aside-and-work-together-154514521.html\"><strong>NBA great Ray Allen: how the country could come together post Trump</strong></a></p>,\n",
       " <p><a class=\"link yahoo-link\" data-ylk=\"slk:Grammy award winner Ciara: here is my hope for the country;outcm:mb_qualified_link;_E:mb_qualified_link;ct:story;\" href=\"https://www.yahoo.com/entertainment/ciara-on-biden-administration-there-is-new-hope-i-have-faith-we-are-going-to-get-better-180615355.html\"><strong>Grammy award winner Ciara: here is my hope for the country</strong></a></p>,\n",
       " <p><a class=\"link yahoo-link\" data-ylk=\"slk:Melinda Gates: we are giving $250 million more to the COVID-19 relief effort;outcm:mb_qualified_link;_E:mb_qualified_link;ct:story;\" href=\"https://finance.yahoo.com/news/melinda-gates-half-the-us-could-be-vaccinated-by-mid-2021-153906900.html\"><strong>Melinda Gates: we are giving $250 million more to the COVID-19 relief effort</strong></a></p>,\n",
       " <p><a class=\"link yahoo-link\" data-ylk=\"slk:Olympics great Michael Phelps: the COVID-19 pandemic hasn’t been all smiles for me;outcm:mb_qualified_link;_E:mb_qualified_link;ct:story;\" href=\"https://finance.yahoo.com/news/olympic-great-michael-phelps-says-you-are-not-alone-if-you-are-struggling-during-covid-19-pandemic-110958470.html\"><strong>Olympics great Michael Phelps: the COVID-19 pandemic hasn’t been all smiles for me</strong></a></p>,\n",
       " <p><strong><em>Watch Yahoo Finance’s live programming on </em></strong><a class=\"link\" data-ylk=\"slk:Verizon FIOS channel 604\" href=\"https://www.facebook.com/yahoofinance/posts/yahoo-finance-is-live-on-verizon-fios-channel-604-watch-247-bell-to-bell-live-ma/3015619208448976/\" rel=\"nofollow noopener\" target=\"_blank\"><strong><em>Verizon FIOS channel 604</em></strong></a><strong><em>, </em></strong><a class=\"link yahoo-link\" data-ylk=\"slk:Apple TV;outcm:mb_qualified_link;_E:mb_qualified_link;ct:story;\" href=\"https://finance.yahoo.com/news/yahoo-finance-now-available-apple-tv-120428076.html\"><strong><em>Apple TV</em></strong></a><strong><em>, </em></strong><a class=\"link yahoo-link\" data-ylk=\"slk:Amazon Fire TV;outcm:mb_qualified_link;_E:mb_qualified_link;ct:story;\" href=\"https://finance.yahoo.com/news/yahoo-finance-now-available-apple-tv-120428076.html\"><strong><em>Amazon Fire TV</em></strong></a><strong><em>, </em></strong><a class=\"link yahoo-link\" data-ylk=\"slk:Roku;outcm:mb_qualified_link;_E:mb_qualified_link;ct:story;\" href=\"https://finance.yahoo.com/news/yahoo-finance-now-available-apple-tv-120428076.html\"><strong><em>Roku</em></strong></a><strong><em>, Samsung TV, Pluto TV, and </em></strong><a class=\"link\" data-ylk=\"slk:YouTube\" href=\"https://www.youtube.com/watch?v=FGSOVAYWYNA\" rel=\"nofollow noopener\" target=\"_blank\"><strong><em>YouTube</em></strong></a><strong><em>. Online catch Yahoo Finance on </em></strong><a class=\"link\" data-ylk=\"slk:Twitter\" href=\"https://twitter.com/YahooFinance\" rel=\"nofollow noopener\" target=\"_blank\"><strong><em>Twitter</em></strong></a><strong><em>, </em></strong><a class=\"link\" data-ylk=\"slk:Facebook\" href=\"https://www.facebook.com/yahoofinance/\" rel=\"nofollow noopener\" target=\"_blank\"><strong><em>Facebook</em></strong></a><strong><em>, </em></strong><a class=\"link\" data-ylk=\"slk:Instagram\" href=\"https://www.instagram.com/yahoofinance/?hl=en\" rel=\"nofollow noopener\" target=\"_blank\"><strong><em>Instagram</em></strong></a><strong><em>, </em></strong><a class=\"link\" data-ylk=\"slk:Flipboard\" href=\"https://flipboard.com/topic/yahoofinance\" rel=\"nofollow noopener\" target=\"_blank\"><strong><em>Flipboard</em></strong></a><strong><em>, </em></strong><a class=\"link\" data-ylk=\"slk:SmartNews\" href=\"https://b.smartnews.be/sr/22KpZt3f1a6FAmNimBiSnzqADfTE1m2w3q3o69J\" rel=\"nofollow noopener\" target=\"_blank\"><strong><em>SmartNews</em></strong></a><strong><em>, and LinkedIn.</em></strong></p>,\n",
       " <p class=\"M(0) C($summaryColor) Fz(14px) Lh(1.43em) LineClamp(3,60px)\">Many Australians are on track to rent into retirement, where they are more likely to struggle financially. Here are some ideas to level the playing field for first-home buyers.</p>,\n",
       " <p class=\"M(0) C($summaryColor) Fz(14px) Lh(1.43em) LineClamp(3,60px)\">Empire Energy Group Limited (ASX:EEG) (OTCMKTS:EEGUF) is pleased to provide shareholders an update regarding grants awarded under the Australian Government's Beetaloo Cooperative Drilling Program.</p>,\n",
       " <p class=\"M(0) C($summaryColor) Fz(14px) Lh(1.43em) LineClamp(3,60px)\">The new OnePlus Nord CE 2 5G is all set to push boundaries and deliver a little more than you’d expect.</p>,\n",
       " <p class=\"M(0) C($summaryColor) Fz(14px) Lh(1.43em) LineClamp(3,60px)\">Australia’s borders have reopened and the influx of tourists is good news for more than just the travel industry. This is how you can make money from your home.</p>,\n",
       " <p class=\"M(0) C($summaryColor) Fz(14px) Lh(1.43em) LineClamp(3,60px)\">VGI Health Technology Limited (NSX:VTL) is pleased to announce that Dr Jordan Moon, a member of its Scientific Advisory Board, will be presenting two abstracts at the American Physiological Society's (APS) Annual Meeting Experimental Biology Conference 2022 in Philadelphia, USA.</p>,\n",
       " <p class=\"M(0) C($summaryColor) Fz(14px) Lh(1.43em) LineClamp(3,60px)\">Hefty price tags and fears of running out of battery have kept many motorists away from electric vehicles. New EV models are now shaking things up.</p>,\n",
       " <p class=\"M(0) C($summaryColor) Fz(14px) Lh(1.43em) LineClamp(3,60px)\">Monthly interest credit on Savings A/C</p>,\n",
       " <p class=\"M(0) C($summaryColor) Fz(14px) Lh(1.43em) LineClamp(3,60px)\">A lack of social interaction, emotional exhaustion and the ‘Great Resignation’ has led to a rise in social anxiety. This is how you can prepare to re-enter the workforce</p>,\n",
       " <p class=\"M(0) C($summaryColor) Fz(14px) Lh(1.43em) LineClamp(3,60px)\">PYX Resources Ltd (LON:PYX) (NSX:PYX) has performed strongly in the fourth quarter of the year due to a boost in premium zircon production, sales volume growth, and ongoing price increases.</p>,\n",
       " <p class=\"M(0) C($summaryColor) Fz(14px) Lh(1.43em) LineClamp(3,60px)\">Seven Group has improved first-half earnings and is banking on its larger stake in Boral to deliver better full-year figures.The Ryan Stokes-run company, which spans earth-moving machines, energy and media, on Tuesday posted a 21 per cent increase in net profit of $302 million on a continuing operations basis.</p>,\n",
       " <p class=\"M(0) C($summaryColor) Fz(14px) Lh(1.43em) LineClamp(3,60px)\">Create your profile on Shaadi.com and meet matches as per your preferences. Search as per city, income &amp; profession. Register for Free!</p>,\n",
       " <p class=\"M(0) C($summaryColor) Fz(14px) Lh(1.43em) LineClamp(3,60px)\">Rio Tinto has reported its best ever annual profit and a record full-year dividend of $US16.3 billion), boosted by higher iron ore prices and strong demand from top consumer China.</p>,\n",
       " <p class=\"M(0) C($summaryColor) Fz(14px) Lh(1.43em) LineClamp(3,60px)\">Can't wait to solve your next Wordle puzzle? Try these alternatives in the meantime.</p>,\n",
       " <p class=\"M(0) C($summaryColor) Fz(14px) Lh(1.43em) LineClamp(3,60px)\">Woolworths has reported a lower first-half profit due to coronavirus-related costs while managing director Brad Banducci warns it is inevitable food prices will rise.The retail giant, which includes Big W, supermarkets and a reduced stake in drinks business Endeavour, on Wednesday declared net profit after tax down six per cent to $795 million for the 27 weeks ended January 2.</p>,\n",
       " <p class=\"M(0) C($summaryColor) Fz(14px) Lh(1.43em) LineClamp(3,60px)\">Learn Scripting in Python, Bash Scripting with industry experts. Enroll now.</p>,\n",
       " <p class=\"M(0) C($summaryColor) Fz(14px) Lh(1.43em) LineClamp(3,60px)\">A few minor details in your spare change could see it skyrocket in value – so, what should you look for?</p>,\n",
       " <p class=\"M(0) C($summaryColor) Fz(14px) Lh(1.43em) LineClamp(3,60px)\">This fake slogan has been part of the company’s branding for years. But no one is quite sure why.</p>,\n",
       " <p class=\"M(0) C($summaryColor) Fz(14px) Lh(1.43em) LineClamp(3,60px)\">Stocks have slumped and oil has surged to its highest in seven years as Europe's eastern flank stood on the cusp of war after Russian President Vladimir Putin ordered troops into two breakaway regions of eastern Ukraine.The broader Euro STOXX 600 fell as much as 1.</p>,\n",
       " <p class=\"M(0) C($summaryColor) Fz(14px) Lh(1.43em) LineClamp(3,60px)\">Providing financial security to a loved ones with a Guaranteed Saving Plan. Get quote now!</p>,\n",
       " <p class=\"M(0) C($summaryColor) Fz(14px) Lh(1.43em) LineClamp(3,60px)\">Coles has reported a better-than-expected performance for the first half of its financial year, but rising costs due to COVID-19 disruptions have wiped off gains from improved sales amid lockdowns.The supermarket giant expects to benefit from the easing of restrictions as Australia's economy reopens and shoppers return to stores in the current quarter.</p>,\n",
       " <p class=\"M(0) C($summaryColor) Fz(14px) Lh(1.43em) LineClamp(3,60px)\">John Stefanidis, the CEO of NFT gaming platform Balthazar, weighs in on Ubisoft’s blockbuster comments about gamer acquisition.</p>,\n",
       " <p class=\"M(0) C($summaryColor) Fz(14px) Lh(1.43em) LineClamp(3,60px)\">Michael Yardney and Dr Andrew Wilson discuss the most recent property outlook.</p>,\n",
       " <p class=\"M(0) C($summaryColor) Fz(14px) Lh(1.43em) LineClamp(3,60px)\">The EV Industry is growing 10x in the next 5 years. But are you ready? Apply for Masters in Hybrid Electric Vehicle Design and Analysis Coursework.</p>,\n",
       " <p class=\"M(0) C($summaryColor) Fz(14px) Lh(1.43em) LineClamp(3,60px)\">Less than 1 per cent of investors ever succeed in building a substantial property portfolio. Here are 17 truths to help you avoid becoming a statistic.</p>,\n",
       " <p class=\"M(0) C($summaryColor) Fz(14px) Lh(1.43em) LineClamp(3,60px)\">The local market is expected to take another hit this morning as US markets are closed for a public holiday. This is your Tuesday morning wrap.</p>,\n",
       " <p class=\"M(0) C($summaryColor) Fz(14px) Lh(1.43em) LineClamp(3,60px)\">Global stocks have broken a four-day slide and demand for safe-haven assets has waned, with investors waiting to see what Russian President Vladimir Putin does next after sending troops into separatist regions of Ukraine.The initial push to send soldiers to Donetsk and Luhansk this week triggered coordinated, yet modest sanctions from Western nations, albeit with the prospect of more to come if Moscow seeks to push further into the country.</p>]"
      ]
     },
     "execution_count": 24,
     "metadata": {},
     "output_type": "execute_result"
    }
   ],
   "source": [
    "paragraphs"
   ]
  },
  {
   "cell_type": "code",
   "execution_count": 25,
   "id": "f3e1fd68",
   "metadata": {},
   "outputs": [
    {
     "data": {
      "text/plain": [
       "<Response [200]>"
      ]
     },
     "execution_count": 25,
     "metadata": {},
     "output_type": "execute_result"
    }
   ],
   "source": [
    "r"
   ]
  },
  {
   "cell_type": "code",
   "execution_count": 26,
   "id": "d5a58030",
   "metadata": {},
   "outputs": [
    {
     "data": {
      "text/plain": [
       "'Renewed political tensions between the U.S. and China — which came to light this week as the Biden administration sat down with their Chinese counterparts for the first time to discuss a range of issues — could ensnarl vehicle maker Tesla (TSLA), which has pushed successfully into China in recent years.'"
      ]
     },
     "execution_count": 26,
     "metadata": {},
     "output_type": "execute_result"
    }
   ],
   "source": [
    "paragraphs[0].text"
   ]
  },
  {
   "cell_type": "code",
   "execution_count": 27,
   "id": "2bd5401f",
   "metadata": {},
   "outputs": [],
   "source": [
    "text=[paragraph.text for paragraph in paragraphs]\n",
    "words=' '.join(text).split(' ')[:400]\n",
    "ARTICLE=' '.join(words)"
   ]
  },
  {
   "cell_type": "code",
   "execution_count": 28,
   "id": "5816c513",
   "metadata": {
    "scrolled": true
   },
   "outputs": [
    {
     "data": {
      "text/plain": [
       "400"
      ]
     },
     "execution_count": 28,
     "metadata": {},
     "output_type": "execute_result"
    }
   ],
   "source": [
    "len(words)"
   ]
  },
  {
   "cell_type": "code",
   "execution_count": 29,
   "id": "6cfc619d",
   "metadata": {
    "scrolled": true
   },
   "outputs": [
    {
     "data": {
      "text/plain": [
       "'Renewed political tensions between the U.S. and China — which came to light this week as the Biden administration sat down with their Chinese counterparts for the first time to discuss a range of issues — could ensnarl vehicle maker Tesla (TSLA), which has pushed successfully into China in recent years. In fact, the heightened rhetoric between the two super economic superpowers may have already had blowback on Elon Musk\\'s electric car company. The Chinese government is restricting the use of Tesla vehicles by military staff and employees of vital state-owned companies, The Wall Street Journal reported Friday. Chinese officials reportedly have concerns that Tesla\\'s cars — outfitted with various data collecting capabilities — could serve as leakers of national security secrets. \"I have been saying for months now that Tesla\\'s level of integration of their business, of their research, of their sort of geo-tracking for which there is integration with Chinese maps, their development of A.I. with Chinese firms, and electric battery technology that\\'s not sustainable in China given the trajectory [on policy] that we are now on,\" policy expert and Eurasia Group founder Ian Bremmer said on Yahoo Finance Live. \"Most American A.I. and technology companies are seen as critical for national security, they don\\'t have access in China — companies like Amazon, Google and Facebook. Tesla is the outlier.\" That outlier status has made China an incredibly important market for Tesla, and a key part of the investment thesis in the stock. Tesla\\'s sales in China clocked in at $6.66 billion in 2020, up 123% from a year earlier powered by strength in the Model 3. The business made up about 21% of Tesla\\'s overall 2020 sales. Tesla began deliveries of its China-made Model Y to Chinese consumers earlier this year. Bremmer warns Tesla now has a challenging road ahead in China in light of the recent development by the military. Musk\\'s response to the Chinese actions are important for investors to watch, suggests Bremmer. \"At a moment of some white knuckle tensions between the U.S. and China, Musk & Co. find themselves in a unique position (along with Apple) of being caught in the crossfire,\" Wedbush tech analyst Dan Ives said. Tesla shares fell about 2% on the report, as investors pondered if China will take a harder line on Tesla\\'s sales to consumers. \"One thing we know about Elon Musk is that he is not'"
      ]
     },
     "execution_count": 29,
     "metadata": {},
     "output_type": "execute_result"
    }
   ],
   "source": [
    "ARTICLE"
   ]
  },
  {
   "cell_type": "code",
   "execution_count": 32,
   "id": "3675b3cb",
   "metadata": {},
   "outputs": [],
   "source": [
    "input_ids=tokenizer.encode(ARTICLE,return_tensors='pt')\n",
    "output=model.generate(input_ids,max_length=55,num_beams=5,early_stopping=True)\n",
    "summary=tokenizer.decode(output[0],skip_special_tokens=True)"
   ]
  },
  {
   "cell_type": "code",
   "execution_count": 33,
   "id": "ad626a97",
   "metadata": {},
   "outputs": [
    {
     "data": {
      "text/plain": [
       "'China restricting use of electric cars by military. Tesla has been successful in China in recent years'"
      ]
     },
     "execution_count": 33,
     "metadata": {},
     "output_type": "execute_result"
    }
   ],
   "source": [
    "summary"
   ]
  },
  {
   "cell_type": "code",
   "execution_count": 36,
   "id": "f8e052d3",
   "metadata": {},
   "outputs": [
    {
     "data": {
      "text/plain": [
       "tensor([[    0,  1224, 26132,   207,   113,  2425,  1732,   141,  2002,   107,\n",
       "         11997,   148,   174,  1147,   115,  1224,   115,   909,   231,     1]])"
      ]
     },
     "execution_count": 36,
     "metadata": {},
     "output_type": "execute_result"
    }
   ],
   "source": [
    "output"
   ]
  },
  {
   "cell_type": "code",
   "execution_count": 35,
   "id": "eac5d0f0",
   "metadata": {},
   "outputs": [
    {
     "data": {
      "text/plain": [
       "tensor([[87994,  1488, 16885,   317,   109,   475,   107,   283,   107,   111,\n",
       "          1224,   492,   162,   642,   112,   523,   136,   396,   130,   109,\n",
       "         37565,  2633,  4199,   308,   122,   153,  1950, 12669,   118,   109,\n",
       "           211,   166,   112,  1693,   114,   499,   113,   618,   492,   256,\n",
       "          2997,   116, 13791,  1191,  1143,  5921, 11997,   143, 72495,   251,\n",
       "           312,   162,   148,  5817,  2640,   190,  1224,   115,   909,   231,\n",
       "           107,   222,   617,   108,   109, 19974, 16497,   317,   109,   228,\n",
       "          1561,  1500, 49798,   218,   133,   506,   196,  6049,  3367,   124,\n",
       "         32981, 20248,   131,   116,  2425,   439,   301,   107,   139,  1950,\n",
       "           657,   117, 26132,   109,   207,   113, 11997,  2070,   141,  2002,\n",
       "           648,   111,  1164,   113,  2850,   449,   121,  6110,   524,   108,\n",
       "           139,  2948,  1411,  3118,  1668,  1197,   107,  1950,  2662,  7789,\n",
       "           133,  2084,   120, 11997,   131,   116,  1732,   492, 29467,   122,\n",
       "           623,   335,  6073,  3441,   492,   256,  1278,   130,  8186,  1129,\n",
       "           113,  1146,   750,  7931,   107,   198,   187,   133,   174,  1609,\n",
       "           118,   590,   239,   120, 11997,   131,   116,   476,   113,  3757,\n",
       "           113,   153,   260,   108,   113,   153,   473,   108,   113,   153,\n",
       "          1851,   113, 12640,   121, 36576,   118,   162,   186,   117,  3757,\n",
       "           122,  1950,  4554,   108,   153,   486,   113,   202,   107,   187,\n",
       "           107,   122,  1950,  3358,   108,   111,  2425,  2221,   552,   120,\n",
       "           131,   116,   146,  3079,   115,  1224,   634,   109, 19486,  1126,\n",
       "           661,  1067,  1100,   120,   145,   127,   239,   124,   745,  1067,\n",
       "          1766,   111, 68819,  1260,  4252,  9369, 14850, 22159,   243,   124,\n",
       "         10025,  5227,  3249,   107,   198,  3176,   655,   202,   107,   187,\n",
       "           107,   111,   552,   524,   127,   684,   130,  1710,   118,  1146,\n",
       "           750,   108,   157,   272,   131,   144,   133,   489,   115,  1224,\n",
       "           492,   524,   172,  2107,   108,  1058,   111,  1208,   107, 11997,\n",
       "           117,   109, 48088,   496,   485, 48088,  1932,   148,   266,  1224,\n",
       "           142,  3560,   356,   407,   118, 11997,   108,   111,   114,   662,\n",
       "           297,   113,   109,  1237,  5842,   115,   109,  1279,   107, 11997,\n",
       "           131,   116,   835,   115,  1224, 38651,   115,   134, 10004,   107,\n",
       "         12933,  1722,   115, 21781,   164,   665, 23119,   135,   114,   232,\n",
       "          1678,  5335,   141,  1881,   115,   109,  4870,   296,   107,   139,\n",
       "           260,   266,   164,   160, 38444,   113, 11997,   131,   116,  1380,\n",
       "          7149,   835,   107, 11997,  1219, 12921,   113,   203,  1224,   121,\n",
       "          4109,  4870,  2604,   112,  1950,  2359,  1678,   136,   232,   107,\n",
       "         14850, 22159, 23999, 11997,   239,   148,   114,  2782,  1018,  1573,\n",
       "           115,  1224,   115,   523,   113,   109,   909,   486,   141,   109,\n",
       "          2002,   107, 20248,   131,   116,  1407,   112,   109,  1950,  2332,\n",
       "           127,   356,   118,  2714,   112,  1183,   108,  4079, 14850, 22159,\n",
       "           107,   198,  1210,   114,  1171,   113,   181,   695, 47459, 16885,\n",
       "           317,   109,   475,   107,   283,   107,   111,  1224,   108, 20248,\n",
       "           259,  1398,   107,   258,  1118,   115,   114,   620,   975,   143,\n",
       "         15454,   122,  1814,   158,   113,   270,  2908,   115,   109,  1891,\n",
       "          8698,   745, 22139, 24963,  3278,  8962,  4139, 44164,   243,   107,\n",
       "         11997,  2853,  3175,   160, 13611,   124,   109,   731,   108,   130,\n",
       "          2714, 57290,   175,  1224,   138,   248,   114,  4236,   540,   124,\n",
       "         11997,   131,   116,   835,   112,  2359,   107,   198,  1287,   474,\n",
       "           145,   235,   160, 32981, 20248,   117,   120,   178,   117,   146,\n",
       "             1]])"
      ]
     },
     "execution_count": 35,
     "metadata": {},
     "output_type": "execute_result"
    }
   ],
   "source": [
    "input_ids"
   ]
  },
  {
   "cell_type": "code",
   "execution_count": 21,
   "id": "db7b0472",
   "metadata": {},
   "outputs": [],
   "source": [
    "url_new = \"https://finance.yahoo.com/m/840a5991-3cd5-393d-aedd-fdca5cd3de95/here-s-why-tesla-s-european.html\"\n",
    "r1  = requests.get(url_new, headers=headers, timeout=5)\n",
    "\n",
    "soup1 = BeautifulSoup(r1.text, 'html.parser')\n",
    "paragraphs1 = soup1.find_all('p')"
   ]
  },
  {
   "cell_type": "code",
   "execution_count": 22,
   "id": "c7c08a2f",
   "metadata": {},
   "outputs": [
    {
     "data": {
      "text/plain": [
       "[<p>Tesla faces a legal challenge next week in Germany that could put a damper in its plans to take over the European market.</p>,\n",
       " <p class=\"M(0) C($summaryColor) Fz(14px) Lh(1.43em) LineClamp(3,60px)\">Elon Musk's satellite venture has launched a free high-speed internet service to connect remote villages in Tonga that have been cut off since a devastating volcanic eruption and tsunami in January.  Tonga's prime minister, Siaosi Sovaleni, said in a ceremony on Wednesday in the capital, Nuku'alofa, that 50 VSAT terminals provided free of charge by Musk's SpaceX would be distributed to the outlying islands worst hit by the tsunami.  \"It is rather paradoxical for a devastating volcanic eruption and tsunami to bring to our shores the latest in satellite and communications technology,\" he said in a speech broadcast by Tonga Broadcasting Commission.</p>,\n",
       " <p class=\"M(0) C($summaryColor) Fz(14px) Lh(1.43em) LineClamp(3,60px)\">In an effort to match up with \"pure EV players\" such as Tesla, Ford is reportedly considering spinning off its electric vehicle (EV) unit from the legacy business, according to Bloomberg. Compare: The...</p>,\n",
       " <p class=\"M(0) C($summaryColor) Fz(14px) Lh(1.43em) LineClamp(3,60px)\">The new OnePlus Nord CE 2 5G is all set to push boundaries and deliver a little more than you’d expect.</p>,\n",
       " <p class=\"M(0) C($summaryColor) Fz(14px) Lh(1.43em) LineClamp(3,60px)\">Chilling video shows a mother and her child in Lakewood followed to their front door by a stranger, who then tries to get inside.</p>,\n",
       " <p class=\"M(0) C($summaryColor) Fz(14px) Lh(1.43em) LineClamp(3,60px)\">Now, it can be difficult to distinguish between what is real and what has been created using state-of-the-art animation software.  One company providing creators with this amazing capability is Unity Software (NYSE: U).  With so many uses, could Unity Software be a decade-defining stock?</p>,\n",
       " <p class=\"M(0) C($summaryColor) Fz(14px) Lh(1.43em) LineClamp(3,60px)\">The auto maker has recalled almost 1.5 million cars this year. But no crashes have been reported, and all the vehicles have been fixed with software updates.</p>,\n",
       " <p class=\"M(0) C($summaryColor) Fz(14px) Lh(1.43em) LineClamp(3,60px)\">The EV Industry is growing 10x in the next 5 years. But are you ready? Apply for Masters in Hybrid Electric Vehicle Design and Analysis Coursework.</p>,\n",
       " <p class=\"M(0) C($summaryColor) Fz(14px) Lh(1.43em) LineClamp(3,60px)\">Jamahal Hill has sent Volkan Oezdemir a stern warning.</p>,\n",
       " <p class=\"M(0) C($summaryColor) Fz(14px) Lh(1.43em) LineClamp(3,60px)\">U.S. President Joe Biden says Russian President Vladimir Putin's recognition of two separatist republics in eastern Ukraine is the beginning of Russia's invasion. Biden adds that his administration will work with Germany to halt Russia's controversial&amp;nbsp;Nord&amp;nbsp;Stream&amp;nbsp;2&amp;nbsp;gas pipeline.</p>,\n",
       " <p class=\"M(0) C($summaryColor) Fz(14px) Lh(1.43em) LineClamp(3,60px)\">Dan Hurley’s night came to an early end on Tuesday night, as the UConn head coach picked up his second technical foul, but not for any reason you might suspect.</p>,\n",
       " <p class=\"M(0) C($summaryColor) Fz(14px) Lh(1.43em) LineClamp(3,60px)\">Our choices are personal. But impactful as we are consumers of food, resources and energy. This should reflect in our food and investing behaviour.</p>,\n",
       " <p class=\"M(0) C($summaryColor) Fz(14px) Lh(1.43em) LineClamp(3,60px)\">Aaron Rodgers is fresh off of his 17th NFL season and just won his second-consecutive MVP award. He dropped hints about what could come next.</p>,\n",
       " <p class=\"M(0) C($summaryColor) Fz(14px) Lh(1.43em) LineClamp(3,60px)\">Tech stock investors have had a rough three months.  The Nasdaq Composite Index has declined by around 16.6% from its peak back in mid-November as the growing prospect of higher interest rates has dampened investors' risk appetites.  Of course, not all growth stocks will recover fully from this recent (and prolonged) slump, so it pays to be careful when selecting tech companies trading at correction-level prices.</p>,\n",
       " <p class=\"M(0) C($summaryColor) Fz(14px) Lh(1.43em) LineClamp(3,60px)\">Tesla Inc plans to expand parts production at its Shanghai factory to meet growing demand for exports, according to a document it filed with the city government.  The automaker will add production workshops, increase the number of workers and lengthen the time equipment is operational, the document.  Tesla did not respond to a request for comment.</p>,\n",
       " <p class=\"M(0) C($summaryColor) Fz(14px) Lh(1.43em) LineClamp(3,60px)\">Learn Scripting in Python, Bash Scripting with industry experts. Enroll now.</p>,\n",
       " <p class=\"M(0) C($summaryColor) Fz(14px) Lh(1.43em) LineClamp(3,60px)\">(Bloomberg) -- Wall Street strategists, bullish before Russia’s military buildup near Ukraine’s border, are mostly sticking to their view that stock markets can weather Europe’s brewing security crisis. For now at least. Most Read from BloombergBlinken Says Meeting With Lavrov Is Canceled: Ukraine UpdatePorsches, Lamborghinis Lost at Sea May Cost VW $155 MillionU.S. Condemns Russian Move at UN, Reassures Kyiv: Ukraine UpdateStocks Decline as Biden Proposes Russia Sanctions: Markets WrapWhy Donet</p>,\n",
       " <p class=\"M(0) C($summaryColor) Fz(14px) Lh(1.43em) LineClamp(3,60px)\">\"This is to a jet ski what a hypercar is to a car,\" said its designer. Sculpted in carbon fiber, the Supermarine MM01 has a 75 mph top end.</p>,\n",
       " <p class=\"M(0) C($summaryColor) Fz(14px) Lh(1.43em) LineClamp(3,60px)\">Chinese consumers are no longer patronizing Nike and Adidas like they used to, a trend that is purportedly driven by nationalistic rejection of forced labor accusations against the country.  The insight comes from a new analysis by Bloomberg, which pointed to the Xinjiang cotton crisis in early 2021 as a “watershed moment.”  The controversy centered on the alleged use of forced labor to produce cotton in the autonomous region, which is home to China’s Uyghur communities and other ethnic minorities.</p>,\n",
       " <p class=\"M(0) C($summaryColor) Fz(14px) Lh(1.43em) LineClamp(3,60px)\">Monthly interest credit on Savings A/C</p>,\n",
       " <p class=\"M(0) C($summaryColor) Fz(14px) Lh(1.43em) LineClamp(3,60px)\">Federal and local authorities are investigating the death of a man who was shot by a U.S. Border Patrol agent late Saturday a few miles north of the Mexico border near of the Arizona town of Douglas.  U.S. Customs and Border Protection area spokesman John Mennell confirmed Monday the agency was investigating with the Cochise County sheriff’s office, and that Mexican Consulate officials were notified of the death in the Skeleton Canyon area of the Peloncillo Mountains.  The Mexican Consulate in Douglas did not immediately respond to telephone and email messages.</p>,\n",
       " <p class=\"M(0) C($summaryColor) Fz(14px) Lh(1.43em) LineClamp(3,60px)\">The market rally neared lows Tuesday as President Biden imposed sanctions over the \"Russian invasion\" of Ukraine.</p>,\n",
       " <p class=\"M(0) C($summaryColor) Fz(14px) Lh(1.43em) LineClamp(3,60px)\">(Bloomberg) -- Renewable Energy Group Inc., a green diesel maker, is exploring options after receiving takeover interest, including selling itself, according to a person familiar with the matter.Most Read from BloombergBlinken Says Meeting With Lavrov Is Canceled: Ukraine UpdatePorsches, Lamborghinis Lost at Sea May Cost VW $155 MillionU.S. Condemns Russian Move at UN, Reassures Kyiv: Ukraine UpdateLeissner Says Lover Blackmailed Him Into Buying $10 Million HomeStocks Decline as Biden Proposes R</p>,\n",
       " <p class=\"M(0) C($summaryColor) Fz(14px) Lh(1.43em) LineClamp(3,60px)\">Providing financial security to a loved ones with a Guaranteed Saving Plan. Get quote now!</p>,\n",
       " <p class=\"M(0) C($summaryColor) Fz(14px) Lh(1.43em) LineClamp(3,60px)\">President Joe Biden aims to bolster the critical mineral supply chain and eventually end U.S. reliance on China for materials key to EVs and other technologies.</p>,\n",
       " <p class=\"M(0) C($summaryColor) Fz(14px) Lh(1.43em) LineClamp(3,60px)\">Ballard Power Systems (NASDAQ: BLDP) (TSX: BLDP) announced today it has signed a non-binding Memorandum of Understanding (\"MOU\") with the Adani Group (\"Adani Group\"; NSE: ADANIENT) to evaluate a joint investment case for the commercialization of fuel cells in various mobility and industrial applications in India. Under the MOU, both parties will examine various options to cooperate, including potential collaboration for fuel cell manufacturing in India.</p>,\n",
       " <p class=\"M(0) C($summaryColor) Fz(14px) Lh(1.43em) LineClamp(3,60px)\">Magpies support \"Do Not Track\" protocols.</p>]"
      ]
     },
     "execution_count": 22,
     "metadata": {},
     "output_type": "execute_result"
    }
   ],
   "source": [
    "paragraphs1"
   ]
  },
  {
   "cell_type": "markdown",
   "id": "34152e2d",
   "metadata": {},
   "source": [
    "# 4. Building a News and Sentiment Pipeline"
   ]
  },
  {
   "cell_type": "code",
   "execution_count": 43,
   "id": "111346c3",
   "metadata": {},
   "outputs": [],
   "source": [
    "monitored_tickers=['GME','TSLA','BTC']"
   ]
  },
  {
   "cell_type": "code",
   "execution_count": null,
   "id": "8e9f2a84",
   "metadata": {},
   "outputs": [],
   "source": []
  },
  {
   "cell_type": "markdown",
   "id": "3e7a2004",
   "metadata": {},
   "source": [
    "# 4.1 Search for Stock News Using Google and Yahoo Finance"
   ]
  },
  {
   "cell_type": "code",
   "execution_count": 37,
   "id": "279c5126",
   "metadata": {},
   "outputs": [],
   "source": [
    "def search_for_stock_news_urls(ticker):\n",
    "    search_url = \"https://www.google.com/search?q=yahoo+finance+{}&tbm=nws\".format(ticker)\n",
    "    r=requests.get(search_url)\n",
    "    soup=BeautifulSoup(r.text,'html.parser')\n",
    "    atags=soup.find_all('a')\n",
    "    hrefs=[link['href'] for  link in atags]\n",
    "    return hrefs"
   ]
  },
  {
   "cell_type": "code",
   "execution_count": 38,
   "id": "64c5ee52",
   "metadata": {},
   "outputs": [
    {
     "data": {
      "text/plain": [
       "<Response [200]>"
      ]
     },
     "execution_count": 38,
     "metadata": {},
     "output_type": "execute_result"
    }
   ],
   "source": [
    "r"
   ]
  },
  {
   "cell_type": "code",
   "execution_count": 45,
   "id": "30532728",
   "metadata": {},
   "outputs": [
    {
     "data": {
      "text/plain": [
       "{'GME': ['/?sa=X&ved=0ahUKEwi-ppWohZb2AhXdJkQIHYBNAjkQOwgC',\n",
       "  '/?output=search&ie=UTF-8&tbm=nws&sa=X&ved=0ahUKEwi-ppWohZb2AhXdJkQIHYBNAjkQPAgE',\n",
       "  '/search?q=yahoo+finance+GME&tbm=nws&ie=UTF-8&gbv=1&sei=b0UWYv6yMd3NkPIPgJuJyAM',\n",
       "  '/search?q=yahoo+finance+GME&ie=UTF-8&source=lnms&sa=X&ved=0ahUKEwi-ppWohZb2AhXdJkQIHYBNAjkQ_AUIBygA',\n",
       "  '/search?q=yahoo+finance+GME&ie=UTF-8&tbm=bks&source=lnms&sa=X&ved=0ahUKEwi-ppWohZb2AhXdJkQIHYBNAjkQ_AUICSgC',\n",
       "  '/search?q=yahoo+finance+GME&ie=UTF-8&tbm=shop&source=lnms&sa=X&ved=0ahUKEwi-ppWohZb2AhXdJkQIHYBNAjkQ_AUICigD',\n",
       "  '/search?q=yahoo+finance+GME&ie=UTF-8&tbm=isch&source=lnms&sa=X&ved=0ahUKEwi-ppWohZb2AhXdJkQIHYBNAjkQ_AUICygE',\n",
       "  'https://maps.google.com/maps?q=yahoo+finance+GME&um=1&ie=UTF-8&sa=X&ved=0ahUKEwi-ppWohZb2AhXdJkQIHYBNAjkQ_AUIDCgF',\n",
       "  '/search?q=yahoo+finance+GME&ie=UTF-8&tbm=vid&source=lnms&sa=X&ved=0ahUKEwi-ppWohZb2AhXdJkQIHYBNAjkQ_AUIDSgG',\n",
       "  '/advanced_search',\n",
       "  '/search?q=yahoo+finance+GME&ie=UTF-8&tbm=nws&source=lnt&tbs=qdr:h&sa=X&ved=0ahUKEwi-ppWohZb2AhXdJkQIHYBNAjkQpwUIDw',\n",
       "  '/search?q=yahoo+finance+GME&ie=UTF-8&tbm=nws&source=lnt&tbs=qdr:d&sa=X&ved=0ahUKEwi-ppWohZb2AhXdJkQIHYBNAjkQpwUIEA',\n",
       "  '/search?q=yahoo+finance+GME&ie=UTF-8&tbm=nws&source=lnt&tbs=qdr:w&sa=X&ved=0ahUKEwi-ppWohZb2AhXdJkQIHYBNAjkQpwUIEQ',\n",
       "  '/search?q=yahoo+finance+GME&ie=UTF-8&tbm=nws&source=lnt&tbs=qdr:m&sa=X&ved=0ahUKEwi-ppWohZb2AhXdJkQIHYBNAjkQpwUIEg',\n",
       "  '/search?q=yahoo+finance+GME&ie=UTF-8&tbm=nws&source=lnt&tbs=qdr:y&sa=X&ved=0ahUKEwi-ppWohZb2AhXdJkQIHYBNAjkQpwUIEw',\n",
       "  '/search?q=yahoo+finance+GME&ie=UTF-8&tbm=nws&source=lnt&tbs=ar:1&sa=X&ved=0ahUKEwi-ppWohZb2AhXdJkQIHYBNAjkQpwUIFA',\n",
       "  '/search?q=yahoo+finance+GME&ie=UTF-8&tbm=nws&source=lnt&tbs=sbd:1&sa=X&ved=0ahUKEwi-ppWohZb2AhXdJkQIHYBNAjkQpwUIFg',\n",
       "  '/url?q=https://finance.yahoo.com/news/gravity-game-hub-announces-official-060000060.html&sa=U&ved=2ahUKEwi-ppWohZb2AhXdJkQIHYBNAjkQxfQBegQIBBAB&usg=AOvVaw3lrUiaiKvlhvKws3-J04Z-',\n",
       "  '/url?q=https://finance.yahoo.com/news/gravity-game-hub-announces-official-060000060.html&sa=U&ved=2ahUKEwi-ppWohZb2AhXdJkQIHYBNAjkQ0Y8FegQIBBAC&usg=AOvVaw1e6EkKkrIaZE68hVsMfNL4',\n",
       "  '/url?q=https://finance.yahoo.com/news/cryptozerofi-realistic-combat-role-playing-032100203.html&sa=U&ved=2ahUKEwi-ppWohZb2AhXdJkQIHYBNAjkQxfQBegQIBxAB&usg=AOvVaw0p48w5jWVkvMfOtfppv9dt',\n",
       "  '/url?q=https://finance.yahoo.com/news/cryptozerofi-realistic-combat-role-playing-032100203.html&sa=U&ved=2ahUKEwi-ppWohZb2AhXdJkQIHYBNAjkQ0Y8FegQIBxAC&usg=AOvVaw1t1-8os7VCUggzam-xVG0P',\n",
       "  '/url?q=https://finance.yahoo.com/news/meme-stock-trading-is-like-a-drunken-brawl-charlie-munger-141029802.html&sa=U&ved=2ahUKEwi-ppWohZb2AhXdJkQIHYBNAjkQxfQBegQICRAB&usg=AOvVaw1cUNPWpPJ3mG5MyGSLR3aV',\n",
       "  '/url?q=https://finance.yahoo.com/news/meme-stock-trading-is-like-a-drunken-brawl-charlie-munger-141029802.html&sa=U&ved=2ahUKEwi-ppWohZb2AhXdJkQIHYBNAjkQ0Y8FegQICRAC&usg=AOvVaw0kyqk7-71go-lxsbf5NCGl',\n",
       "  '/url?q=https://finance.yahoo.com/news/yolo-investment-strategy-rakes-millions-121450920.html&sa=U&ved=2ahUKEwi-ppWohZb2AhXdJkQIHYBNAjkQxfQBegQICBAB&usg=AOvVaw1x00EEnJ0LppkUasgsFUYJ',\n",
       "  '/url?q=https://finance.yahoo.com/news/yolo-investment-strategy-rakes-millions-121450920.html&sa=U&ved=2ahUKEwi-ppWohZb2AhXdJkQIHYBNAjkQ0Y8FegQICBAC&usg=AOvVaw3w8ITiQXE5PqQI8zcjAPLE',\n",
       "  '/url?q=https://finance.yahoo.com/news/elys-game-technology-comments-british-140000683.html&sa=U&ved=2ahUKEwi-ppWohZb2AhXdJkQIHYBNAjkQxfQBegQIBRAB&usg=AOvVaw2aXd2PubG6jgcYFUmOB3RU',\n",
       "  '/url?q=https://finance.yahoo.com/news/elys-game-technology-comments-british-140000683.html&sa=U&ved=2ahUKEwi-ppWohZb2AhXdJkQIHYBNAjkQ0Y8FegQIBRAC&usg=AOvVaw2r9RRcJPNn2Cz2nLv_-eHh',\n",
       "  '/url?q=https://finance.yahoo.com/news/wordle-activision-zynga-ride-a-tide-of-fomo-driving-big-video-game-deals-155733417.html&sa=U&ved=2ahUKEwi-ppWohZb2AhXdJkQIHYBNAjkQxfQBegQIAhAB&usg=AOvVaw2QnTmybNsQe2X2WRXxxKmq',\n",
       "  '/url?q=https://finance.yahoo.com/news/wordle-activision-zynga-ride-a-tide-of-fomo-driving-big-video-game-deals-155733417.html&sa=U&ved=2ahUKEwi-ppWohZb2AhXdJkQIHYBNAjkQ0Y8FegQIAhAC&usg=AOvVaw1LPEoHubGI1iDk35w0FcoS',\n",
       "  '/url?q=https://finance.yahoo.com/news/raca-talks-play-earn-game-102900422.html&sa=U&ved=2ahUKEwi-ppWohZb2AhXdJkQIHYBNAjkQxfQBegQIAxAB&usg=AOvVaw0Myz4slkN2egt932CUz1X2',\n",
       "  '/url?q=https://finance.yahoo.com/news/raca-talks-play-earn-game-102900422.html&sa=U&ved=2ahUKEwi-ppWohZb2AhXdJkQIHYBNAjkQ0Y8FegQIAxAC&usg=AOvVaw1P1-Ruy1jFyeae-4pq43Fq',\n",
       "  '/url?q=https://ca.finance.yahoo.com/news/game-studios-come-together-grow-080226901.html&sa=U&ved=2ahUKEwi-ppWohZb2AhXdJkQIHYBNAjkQxfQBegQIBhAB&usg=AOvVaw20fLE5q5voGc3G-cANlCzP',\n",
       "  '/url?q=https://ca.finance.yahoo.com/news/game-studios-come-together-grow-080226901.html&sa=U&ved=2ahUKEwi-ppWohZb2AhXdJkQIHYBNAjkQ0Y8FegQIBhAC&usg=AOvVaw0qjkVPDINC3IZwTnymzm6_',\n",
       "  '/url?q=https://uk.finance.yahoo.com/news/aviron-looks-game-home-fitness-130056229.html&sa=U&ved=2ahUKEwi-ppWohZb2AhXdJkQIHYBNAjkQxfQBegQIABAB&usg=AOvVaw1V8aDT0EAclxdZIqVnQeZM',\n",
       "  '/url?q=https://uk.finance.yahoo.com/news/aviron-looks-game-home-fitness-130056229.html&sa=U&ved=2ahUKEwi-ppWohZb2AhXdJkQIHYBNAjkQ0Y8FegQIABAC&usg=AOvVaw2nKTZ761bDVSep7m1ioCS0',\n",
       "  '/url?q=https://uk.finance.yahoo.com/news/middle-east-north-africa-games-131300653.html&sa=U&ved=2ahUKEwi-ppWohZb2AhXdJkQIHYBNAjkQxfQBegQIARAB&usg=AOvVaw1XiT50zj4BV8y0HDNMBCQi',\n",
       "  '/url?q=https://uk.finance.yahoo.com/news/middle-east-north-africa-games-131300653.html&sa=U&ved=2ahUKEwi-ppWohZb2AhXdJkQIHYBNAjkQ0Y8FegQIARAC&usg=AOvVaw0KxwcFvbWX18NR5MWu1Oro',\n",
       "  '/search?q=yahoo+finance+GME&ie=UTF-8&tbm=nws&ei=b0UWYv6yMd3NkPIPgJuJyAM&start=10&sa=N',\n",
       "  '/url?q=https://support.google.com/websearch%3Fp%3Dws_settings_location%26hl%3Den-IN&sa=U&ved=0ahUKEwi-ppWohZb2AhXdJkQIHYBNAjkQty4IXg&usg=AOvVaw0btT7BeF7U0NH5bIaDz4mB',\n",
       "  '/url?q=https://accounts.google.com/ServiceLogin%3Fcontinue%3Dhttps://www.google.com/search%253Fq%253Dyahoo%252Bfinance%252BGME%2526tbm%253Dnws%26hl%3Den&sa=U&ved=0ahUKEwi-ppWohZb2AhXdJkQIHYBNAjkQxs8CCF8&usg=AOvVaw1l_iMeD2mpVrSbddJ-voef',\n",
       "  'https://www.google.com/preferences?hl=en-IN&fg=1&sa=X&ved=0ahUKEwi-ppWohZb2AhXdJkQIHYBNAjkQ5fUCCGA',\n",
       "  'https://policies.google.com/privacy?hl=en-IN&fg=1',\n",
       "  'https://policies.google.com/terms?hl=en-IN&fg=1'],\n",
       " 'TSLA': ['/?sa=X&ved=0ahUKEwiU_MiohZb2AhW9JEQIHT_qARIQOwgC',\n",
       "  '/?output=search&ie=UTF-8&tbm=nws&sa=X&ved=0ahUKEwiU_MiohZb2AhW9JEQIHT_qARIQPAgE',\n",
       "  '/search?q=yahoo+finance+TSLA&tbm=nws&ie=UTF-8&gbv=1&sei=cEUWYpSEKL3JkPIPv9SHkAE',\n",
       "  '/search?q=yahoo+finance+TSLA&ie=UTF-8&source=lnms&sa=X&ved=0ahUKEwiU_MiohZb2AhW9JEQIHT_qARIQ_AUIBygA',\n",
       "  '/search?q=yahoo+finance+TSLA&ie=UTF-8&tbm=bks&source=lnms&sa=X&ved=0ahUKEwiU_MiohZb2AhW9JEQIHT_qARIQ_AUICSgC',\n",
       "  '/search?q=yahoo+finance+TSLA&ie=UTF-8&tbm=shop&source=lnms&sa=X&ved=0ahUKEwiU_MiohZb2AhW9JEQIHT_qARIQ_AUICigD',\n",
       "  '/search?q=yahoo+finance+TSLA&ie=UTF-8&tbm=isch&source=lnms&sa=X&ved=0ahUKEwiU_MiohZb2AhW9JEQIHT_qARIQ_AUICygE',\n",
       "  'https://maps.google.com/maps?q=yahoo+finance+TSLA&um=1&ie=UTF-8&sa=X&ved=0ahUKEwiU_MiohZb2AhW9JEQIHT_qARIQ_AUIDCgF',\n",
       "  '/search?q=yahoo+finance+TSLA&ie=UTF-8&tbm=vid&source=lnms&sa=X&ved=0ahUKEwiU_MiohZb2AhW9JEQIHT_qARIQ_AUIDSgG',\n",
       "  '/advanced_search',\n",
       "  '/search?q=yahoo+finance+TSLA&ie=UTF-8&tbm=nws&source=lnt&tbs=qdr:h&sa=X&ved=0ahUKEwiU_MiohZb2AhW9JEQIHT_qARIQpwUIDw',\n",
       "  '/search?q=yahoo+finance+TSLA&ie=UTF-8&tbm=nws&source=lnt&tbs=qdr:d&sa=X&ved=0ahUKEwiU_MiohZb2AhW9JEQIHT_qARIQpwUIEA',\n",
       "  '/search?q=yahoo+finance+TSLA&ie=UTF-8&tbm=nws&source=lnt&tbs=qdr:w&sa=X&ved=0ahUKEwiU_MiohZb2AhW9JEQIHT_qARIQpwUIEQ',\n",
       "  '/search?q=yahoo+finance+TSLA&ie=UTF-8&tbm=nws&source=lnt&tbs=qdr:m&sa=X&ved=0ahUKEwiU_MiohZb2AhW9JEQIHT_qARIQpwUIEg',\n",
       "  '/search?q=yahoo+finance+TSLA&ie=UTF-8&tbm=nws&source=lnt&tbs=qdr:y&sa=X&ved=0ahUKEwiU_MiohZb2AhW9JEQIHT_qARIQpwUIEw',\n",
       "  '/search?q=yahoo+finance+TSLA&ie=UTF-8&tbm=nws&source=lnt&tbs=ar:1&sa=X&ved=0ahUKEwiU_MiohZb2AhW9JEQIHT_qARIQpwUIFA',\n",
       "  '/search?q=yahoo+finance+TSLA&ie=UTF-8&tbm=nws&source=lnt&tbs=sbd:1&sa=X&ved=0ahUKEwiU_MiohZb2AhW9JEQIHT_qARIQpwUIFg',\n",
       "  '/url?q=https://finance.yahoo.com/news/elon-musk-dismissed-claims-teslas-121832025.html&sa=U&ved=2ahUKEwiU_MiohZb2AhW9JEQIHT_qARIQxfQBegQIAhAB&usg=AOvVaw2UKHWCYNQMWex4q2THMFVo',\n",
       "  '/url?q=https://finance.yahoo.com/news/elon-musk-dismissed-claims-teslas-121832025.html&sa=U&ved=2ahUKEwiU_MiohZb2AhW9JEQIHT_qARIQ0Y8FegQIAhAC&usg=AOvVaw0TlwbLhkSpA7wl5iUqf3ZQ',\n",
       "  '/url?q=https://finance.yahoo.com/news/tesla-sec-is-violating-its-own-rules-by-holding-up-40-m-shareholder-payout-194905601.html&sa=U&ved=2ahUKEwiU_MiohZb2AhW9JEQIHT_qARIQxfQBegQICRAB&usg=AOvVaw3qiWGWlAIefB3f5IsryI4X',\n",
       "  '/url?q=https://finance.yahoo.com/news/tesla-sec-is-violating-its-own-rules-by-holding-up-40-m-shareholder-payout-194905601.html&sa=U&ved=2ahUKEwiU_MiohZb2AhW9JEQIHT_qARIQ0Y8FegQICRAC&usg=AOvVaw2rkSNnFudtJmwELEm29J5B',\n",
       "  '/url?q=https://ca.finance.yahoo.com/news/musk-lawyer-escalate-word-fight-181017767.html&sa=U&ved=2ahUKEwiU_MiohZb2AhW9JEQIHT_qARIQxfQBegQICBAB&usg=AOvVaw1Z9Mx2pmLrBZ7SmbihcYxk',\n",
       "  '/url?q=https://ca.finance.yahoo.com/news/musk-lawyer-escalate-word-fight-181017767.html&sa=U&ved=2ahUKEwiU_MiohZb2AhW9JEQIHT_qARIQ0Y8FegQICBAC&usg=AOvVaw3PYBtLiQxgA_expRgYThcl',\n",
       "  '/url?q=https://finance.yahoo.com/news/elon-musk-accuses-the-sec-of-leaking-information-to-retaliate-against-him-101031796.html&sa=U&ved=2ahUKEwiU_MiohZb2AhW9JEQIHT_qARIQxfQBegQIBxAB&usg=AOvVaw1OcupKRQxnseWzavRNnirk',\n",
       "  '/url?q=https://finance.yahoo.com/news/elon-musk-accuses-the-sec-of-leaking-information-to-retaliate-against-him-101031796.html&sa=U&ved=2ahUKEwiU_MiohZb2AhW9JEQIHT_qARIQ0Y8FegQIBxAC&usg=AOvVaw3eFTm4uPvSbCzP3NkpueiR',\n",
       "  '/url?q=https://finance.yahoo.com/news/teslas-market-share-is-at-risk-of-plunging-analyst-184043294.html&sa=U&ved=2ahUKEwiU_MiohZb2AhW9JEQIHT_qARIQxfQBegQIAxAB&usg=AOvVaw3_P0D4V5XG2NaoZhfeOwMy',\n",
       "  '/url?q=https://finance.yahoo.com/news/teslas-market-share-is-at-risk-of-plunging-analyst-184043294.html&sa=U&ved=2ahUKEwiU_MiohZb2AhW9JEQIHT_qARIQ0Y8FegQIAxAC&usg=AOvVaw0MF9IiccWFT2_CeJUp9nrC',\n",
       "  '/url?q=https://finance.yahoo.com/news/tesla-settles-epa-clean-air-act-violations-california-130549010.html&sa=U&ved=2ahUKEwiU_MiohZb2AhW9JEQIHT_qARIQxfQBegQIABAB&usg=AOvVaw3B9iTEFbptIcs9-2LTyqnC',\n",
       "  '/url?q=https://finance.yahoo.com/news/tesla-settles-epa-clean-air-act-violations-california-130549010.html&sa=U&ved=2ahUKEwiU_MiohZb2AhW9JEQIHT_qARIQ0Y8FegQIABAC&usg=AOvVaw2Hjj077f5sfkbOE1Ih-wL1',\n",
       "  '/url?q=https://finance.yahoo.com/news/tesla-is-disappointing-investors-because-it-doesnt-have-a-25000-car-analyst-190339823.html&sa=U&ved=2ahUKEwiU_MiohZb2AhW9JEQIHT_qARIQxfQBegQIBhAB&usg=AOvVaw0BfY2nwY4Bckc2k-ipvJ-I',\n",
       "  '/url?q=https://finance.yahoo.com/news/tesla-is-disappointing-investors-because-it-doesnt-have-a-25000-car-analyst-190339823.html&sa=U&ved=2ahUKEwiU_MiohZb2AhW9JEQIHT_qARIQ0Y8FegQIBhAC&usg=AOvVaw3NheGuQ-ePC4VQLKJ5vI0l',\n",
       "  '/url?q=https://finance.yahoo.com/news/why-tesla-holding-2-billion-in-bitcoin-is-a-distraction-and-side-show-analyst-says-192535899.html&sa=U&ved=2ahUKEwiU_MiohZb2AhW9JEQIHT_qARIQxfQBegQIBRAB&usg=AOvVaw1qCjCvDrOd9dTSwOtMZJCv',\n",
       "  '/url?q=https://finance.yahoo.com/news/why-tesla-holding-2-billion-in-bitcoin-is-a-distraction-and-side-show-analyst-says-192535899.html&sa=U&ved=2ahUKEwiU_MiohZb2AhW9JEQIHT_qARIQ0Y8FegQIBRAC&usg=AOvVaw2ZBm7JkI5aylNnlL5LMB9h',\n",
       "  '/url?q=https://finance.yahoo.com/news/tesla-and-president-biden-whats-behind-the-public-215625603.html&sa=U&ved=2ahUKEwiU_MiohZb2AhW9JEQIHT_qARIQxfQBegQIARAB&usg=AOvVaw2y0DZBXMENv9wjTOCm6wBW',\n",
       "  '/url?q=https://finance.yahoo.com/news/tesla-and-president-biden-whats-behind-the-public-215625603.html&sa=U&ved=2ahUKEwiU_MiohZb2AhW9JEQIHT_qARIQ0Y8FegQIARAC&usg=AOvVaw1hwezvzJIvS6a3bVyXaSiS',\n",
       "  '/url?q=https://finance.yahoo.com/news/tesla-front-runs-another-regulator-123022596.html&sa=U&ved=2ahUKEwiU_MiohZb2AhW9JEQIHT_qARIQxfQBegQIBBAB&usg=AOvVaw0j026qUQNxNd55snUpYhc_',\n",
       "  '/url?q=https://finance.yahoo.com/news/tesla-front-runs-another-regulator-123022596.html&sa=U&ved=2ahUKEwiU_MiohZb2AhW9JEQIHT_qARIQ0Y8FegQIBBAC&usg=AOvVaw0WqXUkqvfjKdEHeLXLGGY4',\n",
       "  '/search?q=yahoo+finance+TSLA&ie=UTF-8&tbm=nws&ei=cEUWYpSEKL3JkPIPv9SHkAE&start=10&sa=N',\n",
       "  '/url?q=https://support.google.com/websearch%3Fp%3Dws_settings_location%26hl%3Den-IN&sa=U&ved=0ahUKEwiU_MiohZb2AhW9JEQIHT_qARIQty4IXg&usg=AOvVaw1MOtF2FzNN4qt28WAteBkw',\n",
       "  '/url?q=https://accounts.google.com/ServiceLogin%3Fcontinue%3Dhttps://www.google.com/search%253Fq%253Dyahoo%252Bfinance%252BTSLA%2526tbm%253Dnws%26hl%3Den&sa=U&ved=0ahUKEwiU_MiohZb2AhW9JEQIHT_qARIQxs8CCF8&usg=AOvVaw2XC_wmM3oIX2Hj5AcleHBn',\n",
       "  'https://www.google.com/preferences?hl=en-IN&fg=1&sa=X&ved=0ahUKEwiU_MiohZb2AhW9JEQIHT_qARIQ5fUCCGA',\n",
       "  'https://policies.google.com/privacy?hl=en-IN&fg=1',\n",
       "  'https://policies.google.com/terms?hl=en-IN&fg=1'],\n",
       " 'BTC': ['/?sa=X&ved=0ahUKEwjL24mphZb2AhWoH0QIHcAsCVgQOwgC',\n",
       "  '/?output=search&ie=UTF-8&tbm=nws&sa=X&ved=0ahUKEwjL24mphZb2AhWoH0QIHcAsCVgQPAgE',\n",
       "  '/search?q=yahoo+finance+BTC&tbm=nws&ie=UTF-8&gbv=1&sei=cUUWYovfK6i_kPIPwNmkwAU',\n",
       "  '/search?q=yahoo+finance+BTC&ie=UTF-8&source=lnms&sa=X&ved=0ahUKEwjL24mphZb2AhWoH0QIHcAsCVgQ_AUIBygA',\n",
       "  '/search?q=yahoo+finance+BTC&ie=UTF-8&tbm=shop&source=lnms&sa=X&ved=0ahUKEwjL24mphZb2AhWoH0QIHcAsCVgQ_AUICSgC',\n",
       "  '/search?q=yahoo+finance+BTC&ie=UTF-8&tbm=vid&source=lnms&sa=X&ved=0ahUKEwjL24mphZb2AhWoH0QIHcAsCVgQ_AUICigD',\n",
       "  '/search?q=yahoo+finance+BTC&ie=UTF-8&tbm=isch&source=lnms&sa=X&ved=0ahUKEwjL24mphZb2AhWoH0QIHcAsCVgQ_AUICygE',\n",
       "  'https://maps.google.com/maps?q=yahoo+finance+BTC&um=1&ie=UTF-8&sa=X&ved=0ahUKEwjL24mphZb2AhWoH0QIHcAsCVgQ_AUIDCgF',\n",
       "  '/search?q=yahoo+finance+BTC&ie=UTF-8&tbm=bks&source=lnms&sa=X&ved=0ahUKEwjL24mphZb2AhWoH0QIHcAsCVgQ_AUIDSgG',\n",
       "  '/advanced_search',\n",
       "  '/search?q=yahoo+finance+BTC&ie=UTF-8&tbm=nws&source=lnt&tbs=qdr:h&sa=X&ved=0ahUKEwjL24mphZb2AhWoH0QIHcAsCVgQpwUIDw',\n",
       "  '/search?q=yahoo+finance+BTC&ie=UTF-8&tbm=nws&source=lnt&tbs=qdr:d&sa=X&ved=0ahUKEwjL24mphZb2AhWoH0QIHcAsCVgQpwUIEA',\n",
       "  '/search?q=yahoo+finance+BTC&ie=UTF-8&tbm=nws&source=lnt&tbs=qdr:w&sa=X&ved=0ahUKEwjL24mphZb2AhWoH0QIHcAsCVgQpwUIEQ',\n",
       "  '/search?q=yahoo+finance+BTC&ie=UTF-8&tbm=nws&source=lnt&tbs=qdr:m&sa=X&ved=0ahUKEwjL24mphZb2AhWoH0QIHcAsCVgQpwUIEg',\n",
       "  '/search?q=yahoo+finance+BTC&ie=UTF-8&tbm=nws&source=lnt&tbs=qdr:y&sa=X&ved=0ahUKEwjL24mphZb2AhWoH0QIHcAsCVgQpwUIEw',\n",
       "  '/search?q=yahoo+finance+BTC&ie=UTF-8&tbm=nws&source=lnt&tbs=ar:1&sa=X&ved=0ahUKEwjL24mphZb2AhWoH0QIHcAsCVgQpwUIFA',\n",
       "  '/search?q=yahoo+finance+BTC&ie=UTF-8&tbm=nws&source=lnt&tbs=sbd:1&sa=X&ved=0ahUKEwjL24mphZb2AhWoH0QIHcAsCVgQpwUIFg',\n",
       "  '/url?q=https://finance.yahoo.com/news/first-mover-asia-gamefis-shaky-234006299.html&sa=U&ved=2ahUKEwjL24mphZb2AhWoH0QIHcAsCVgQxfQBegQIARAB&usg=AOvVaw3J7Yc_D7Pto45ne5Vrkh2q',\n",
       "  '/url?q=https://finance.yahoo.com/news/first-mover-asia-gamefis-shaky-234006299.html&sa=U&ved=2ahUKEwjL24mphZb2AhWoH0QIHcAsCVgQ0Y8FegQIARAC&usg=AOvVaw1uErGOdFKrPmU42yGW16zZ',\n",
       "  '/url?q=https://finance.yahoo.com/video/crypto-3-things-driving-pullback-214334955.html&sa=U&ved=2ahUKEwjL24mphZb2AhWoH0QIHcAsCVgQxfQBegQICRAB&usg=AOvVaw2RXjJ0LSSi3DHSwVmuaQ1I',\n",
       "  '/url?q=https://finance.yahoo.com/video/crypto-3-things-driving-pullback-214334955.html&sa=U&ved=2ahUKEwjL24mphZb2AhWoH0QIHcAsCVgQ0Y8FegQICRAC&usg=AOvVaw2H8V9R35PBaNQ2BnLXhL76',\n",
       "  '/url?q=https://finance.yahoo.com/news/valkyrie-boasts-1-b-in-bitcoin-assets-as-crypto-winter-shows-signs-of-thawing-153711464.html&sa=U&ved=2ahUKEwjL24mphZb2AhWoH0QIHcAsCVgQxfQBegQIBxAB&usg=AOvVaw3Sy8twmX52Y0dQQHwTf_or',\n",
       "  '/url?q=https://finance.yahoo.com/news/valkyrie-boasts-1-b-in-bitcoin-assets-as-crypto-winter-shows-signs-of-thawing-153711464.html&sa=U&ved=2ahUKEwjL24mphZb2AhWoH0QIHcAsCVgQ0Y8FegQIBxAC&usg=AOvVaw22GE1SK4O8c0v77OsD6od_',\n",
       "  '/url?q=https://finance.yahoo.com/news/cryptoverse-bitcoin-could-laid-low-061739460.html&sa=U&ved=2ahUKEwjL24mphZb2AhWoH0QIHcAsCVgQxfQBegQICBAB&usg=AOvVaw2-zFbUDt5tFwzIy7aGoMpz',\n",
       "  '/url?q=https://finance.yahoo.com/news/cryptoverse-bitcoin-could-laid-low-061739460.html&sa=U&ved=2ahUKEwjL24mphZb2AhWoH0QIHcAsCVgQ0Y8FegQICBAC&usg=AOvVaw1E8WNILz26ueDeIhpkL6Zc',\n",
       "  '/url?q=https://finance.yahoo.com/news/bitcoins-latest-fight-accounting-rules-that-make-it-better-off-buying-comic-books-170822822.html&sa=U&ved=2ahUKEwjL24mphZb2AhWoH0QIHcAsCVgQxfQBegQIAhAB&usg=AOvVaw0ur3iuLcHEBLZkkiWogb--',\n",
       "  '/url?q=https://finance.yahoo.com/news/bitcoins-latest-fight-accounting-rules-that-make-it-better-off-buying-comic-books-170822822.html&sa=U&ved=2ahUKEwjL24mphZb2AhWoH0QIHcAsCVgQ0Y8FegQIAhAC&usg=AOvVaw2NEbRI74iI7tZOrLPQv4gp',\n",
       "  '/url?q=https://finance.yahoo.com/news/bitcoin-rout-subsequent-bounce-show-cryptos-constant-state-of-price-discovery-235416203.html&sa=U&ved=2ahUKEwjL24mphZb2AhWoH0QIHcAsCVgQxfQBegQIBhAB&usg=AOvVaw25t2QwndXA6xsjKvIxHVkQ',\n",
       "  '/url?q=https://finance.yahoo.com/news/bitcoin-rout-subsequent-bounce-show-cryptos-constant-state-of-price-discovery-235416203.html&sa=U&ved=2ahUKEwjL24mphZb2AhWoH0QIHcAsCVgQ0Y8FegQIBhAC&usg=AOvVaw1o9pICTWFJEv_eGya21hH1',\n",
       "  '/url?q=https://finance.yahoo.com/news/gold-fights-off-rising-rates-092716568.html&sa=U&ved=2ahUKEwjL24mphZb2AhWoH0QIHcAsCVgQxfQBegQIBRAB&usg=AOvVaw2f6UZEPmMM3kRxLsMWLg2X',\n",
       "  '/url?q=https://finance.yahoo.com/news/gold-fights-off-rising-rates-092716568.html&sa=U&ved=2ahUKEwjL24mphZb2AhWoH0QIHcAsCVgQ0Y8FegQIBRAC&usg=AOvVaw11gc_owEgS76bYVY403Mf5',\n",
       "  '/url?q=https://finance.yahoo.com/news/bitcoin-billionaire-sam-bankman-fried-122925089.html&sa=U&ved=2ahUKEwjL24mphZb2AhWoH0QIHcAsCVgQxfQBegQIAxAB&usg=AOvVaw2s_P8Gmr86XTj7FBRXNSKB',\n",
       "  '/url?q=https://finance.yahoo.com/news/bitcoin-billionaire-sam-bankman-fried-122925089.html&sa=U&ved=2ahUKEwjL24mphZb2AhWoH0QIHcAsCVgQ0Y8FegQIAxAC&usg=AOvVaw2prmkFMLow8pS1zvG30AYw',\n",
       "  '/url?q=https://finance.yahoo.com/news/bitcoin-defies-wall-streets-inflation-sell-off-adds-gains-as-cryptocurrencies-dip-184815120.html&sa=U&ved=2ahUKEwjL24mphZb2AhWoH0QIHcAsCVgQxfQBegQIBBAB&usg=AOvVaw0FP_fmdQCbHqN_p91imFtm',\n",
       "  '/url?q=https://finance.yahoo.com/news/bitcoin-defies-wall-streets-inflation-sell-off-adds-gains-as-cryptocurrencies-dip-184815120.html&sa=U&ved=2ahUKEwjL24mphZb2AhWoH0QIHcAsCVgQ0Y8FegQIBBAC&usg=AOvVaw0q7zAnlJZm67GxJUcdEAiE',\n",
       "  '/url?q=https://finance.yahoo.com/news/bitcoin-cracks-40-k-as-crypto-rout-quickens-russia-ukraine-douses-risk-appetite-162926412.html&sa=U&ved=2ahUKEwjL24mphZb2AhWoH0QIHcAsCVgQxfQBegQIABAB&usg=AOvVaw0_OY_V752oZ9C1L3UJzdT0',\n",
       "  '/url?q=https://finance.yahoo.com/news/bitcoin-cracks-40-k-as-crypto-rout-quickens-russia-ukraine-douses-risk-appetite-162926412.html&sa=U&ved=2ahUKEwjL24mphZb2AhWoH0QIHcAsCVgQ0Y8FegQIABAC&usg=AOvVaw0GWlBtBBcJ8FWRpWtb6WVL',\n",
       "  '/search?q=yahoo+finance+BTC&ie=UTF-8&tbm=nws&ei=cUUWYovfK6i_kPIPwNmkwAU&start=10&sa=N',\n",
       "  '/url?q=https://support.google.com/websearch%3Fp%3Dws_settings_location%26hl%3Den-IN&sa=U&ved=0ahUKEwjL24mphZb2AhWoH0QIHcAsCVgQty4IXg&usg=AOvVaw1_TvuNH-0VCxZrhA9U9fWW',\n",
       "  '/url?q=https://accounts.google.com/ServiceLogin%3Fcontinue%3Dhttps://www.google.com/search%253Fq%253Dyahoo%252Bfinance%252BBTC%2526tbm%253Dnws%26hl%3Den&sa=U&ved=0ahUKEwjL24mphZb2AhWoH0QIHcAsCVgQxs8CCF8&usg=AOvVaw2OZWZWT8ta7elZ_jt2YA0c',\n",
       "  'https://www.google.com/preferences?hl=en-IN&fg=1&sa=X&ved=0ahUKEwjL24mphZb2AhWoH0QIHcAsCVgQ5fUCCGA',\n",
       "  'https://policies.google.com/privacy?hl=en-IN&fg=1',\n",
       "  'https://policies.google.com/terms?hl=en-IN&fg=1']}"
      ]
     },
     "execution_count": 45,
     "metadata": {},
     "output_type": "execute_result"
    }
   ],
   "source": [
    "raw_urls={ticker:search_for_stock_news_urls(ticker) for ticker in monitored_tickers}\n",
    "raw_urls"
   ]
  },
  {
   "cell_type": "markdown",
   "id": "71666cb9",
   "metadata": {},
   "source": [
    "# 4.2 Strip out unwanted URLS"
   ]
  },
  {
   "cell_type": "code",
   "execution_count": 46,
   "id": "f9328b81",
   "metadata": {},
   "outputs": [],
   "source": [
    "import  re"
   ]
  },
  {
   "cell_type": "code",
   "execution_count": 53,
   "id": "cd52e076",
   "metadata": {},
   "outputs": [],
   "source": [
    "exclude_list=['maps', 'policies', 'preferences', 'accounts', 'support']"
   ]
  },
  {
   "cell_type": "code",
   "execution_count": 56,
   "id": "006d349e",
   "metadata": {},
   "outputs": [],
   "source": [
    "def strip_unwanted_urls(urls,exclude_list):\n",
    "    val=[]\n",
    "    for url in urls:\n",
    "        if 'https://' in url and not any(exclude_word in url for exclude_word in exclude_list):\n",
    "            res=re.findall(r'(https?://\\S+)',url)[0].split('&')[0]\n",
    "            val.append(res)\n",
    "    return list(set(val))"
   ]
  },
  {
   "cell_type": "code",
   "execution_count": 58,
   "id": "ad1b5646",
   "metadata": {},
   "outputs": [
    {
     "data": {
      "text/plain": [
       "{'GME': ['https://finance.yahoo.com/news/elys-game-technology-comments-british-140000683.html',\n",
       "  'https://finance.yahoo.com/news/raca-talks-play-earn-game-102900422.html',\n",
       "  'https://uk.finance.yahoo.com/news/aviron-looks-game-home-fitness-130056229.html',\n",
       "  'https://finance.yahoo.com/news/gravity-game-hub-announces-official-060000060.html',\n",
       "  'https://finance.yahoo.com/news/yolo-investment-strategy-rakes-millions-121450920.html',\n",
       "  'https://finance.yahoo.com/news/wordle-activision-zynga-ride-a-tide-of-fomo-driving-big-video-game-deals-155733417.html',\n",
       "  'https://finance.yahoo.com/news/meme-stock-trading-is-like-a-drunken-brawl-charlie-munger-141029802.html',\n",
       "  'https://finance.yahoo.com/news/cryptozerofi-realistic-combat-role-playing-032100203.html',\n",
       "  'https://uk.finance.yahoo.com/news/middle-east-north-africa-games-131300653.html',\n",
       "  'https://ca.finance.yahoo.com/news/game-studios-come-together-grow-080226901.html'],\n",
       " 'TSLA': ['https://finance.yahoo.com/news/tesla-sec-is-violating-its-own-rules-by-holding-up-40-m-shareholder-payout-194905601.html',\n",
       "  'https://finance.yahoo.com/news/elon-musk-accuses-the-sec-of-leaking-information-to-retaliate-against-him-101031796.html',\n",
       "  'https://finance.yahoo.com/news/tesla-settles-epa-clean-air-act-violations-california-130549010.html',\n",
       "  'https://finance.yahoo.com/news/tesla-is-disappointing-investors-because-it-doesnt-have-a-25000-car-analyst-190339823.html',\n",
       "  'https://ca.finance.yahoo.com/news/musk-lawyer-escalate-word-fight-181017767.html',\n",
       "  'https://finance.yahoo.com/news/tesla-front-runs-another-regulator-123022596.html',\n",
       "  'https://finance.yahoo.com/news/why-tesla-holding-2-billion-in-bitcoin-is-a-distraction-and-side-show-analyst-says-192535899.html',\n",
       "  'https://finance.yahoo.com/news/elon-musk-dismissed-claims-teslas-121832025.html',\n",
       "  'https://finance.yahoo.com/news/teslas-market-share-is-at-risk-of-plunging-analyst-184043294.html',\n",
       "  'https://finance.yahoo.com/news/tesla-and-president-biden-whats-behind-the-public-215625603.html'],\n",
       " 'BTC': ['https://finance.yahoo.com/news/valkyrie-boasts-1-b-in-bitcoin-assets-as-crypto-winter-shows-signs-of-thawing-153711464.html',\n",
       "  'https://finance.yahoo.com/news/cryptoverse-bitcoin-could-laid-low-061739460.html',\n",
       "  'https://finance.yahoo.com/news/bitcoin-rout-subsequent-bounce-show-cryptos-constant-state-of-price-discovery-235416203.html',\n",
       "  'https://finance.yahoo.com/video/crypto-3-things-driving-pullback-214334955.html',\n",
       "  'https://finance.yahoo.com/news/bitcoin-billionaire-sam-bankman-fried-122925089.html',\n",
       "  'https://finance.yahoo.com/news/bitcoins-latest-fight-accounting-rules-that-make-it-better-off-buying-comic-books-170822822.html',\n",
       "  'https://finance.yahoo.com/news/gold-fights-off-rising-rates-092716568.html',\n",
       "  'https://finance.yahoo.com/news/first-mover-asia-gamefis-shaky-234006299.html',\n",
       "  'https://finance.yahoo.com/news/bitcoin-cracks-40-k-as-crypto-rout-quickens-russia-ukraine-douses-risk-appetite-162926412.html',\n",
       "  'https://finance.yahoo.com/news/bitcoin-defies-wall-streets-inflation-sell-off-adds-gains-as-cryptocurrencies-dip-184815120.html']}"
      ]
     },
     "execution_count": 58,
     "metadata": {},
     "output_type": "execute_result"
    }
   ],
   "source": [
    "cleaned_urls={ticker:strip_unwanted_urls(raw_urls[ticker],exclude_list) for ticker in monitored_tickers}\n",
    "cleaned_urls"
   ]
  },
  {
   "cell_type": "markdown",
   "id": "9c56d73b",
   "metadata": {},
   "source": [
    "# 4.3 Search and Scrape Cleaned URLS"
   ]
  },
  {
   "cell_type": "code",
   "execution_count": null,
   "id": "391bfd13",
   "metadata": {},
   "outputs": [],
   "source": []
  },
  {
   "cell_type": "code",
   "execution_count": 72,
   "id": "4a5c9005",
   "metadata": {},
   "outputs": [],
   "source": [
    "def scrape_and_process(URLS):\n",
    "    ARTICLES=[]\n",
    "    for url in URLS:\n",
    "        sleep(2)\n",
    "        r=requests.get(url, headers=headers, timeout=5)\n",
    "        soup=BeautifulSoup(r.text,'html.parser')\n",
    "        paragraphs=soup.find_all('p')\n",
    "        text=[paragraph.text for paragraph in paragraphs]\n",
    "        words=' '.join(text).split(' ')[:350]\n",
    "        ARTICLE=' '.join(words)\n",
    "        ARTICLES.append(ARTICLE)\n",
    "    return ARTICLES"
   ]
  },
  {
   "cell_type": "code",
   "execution_count": 73,
   "id": "58fdacb5",
   "metadata": {},
   "outputs": [
    {
     "data": {
      "text/plain": [
       "{'GME': ['Elys\\' extensive experience operating small business sports-books commends BCLC Initiative NEW YORK, NY / ACCESSWIRE / February 22, 2022 / Elys Game Technology, Corp. (\"Elys\" or the \"Company\") (Nasdaq:ELYS) (BER:3UW), an interactive gaming and sports betting technology company, today announces January 2022 results from its initial small business sportsbook installation at the Grand Central Restaurant (\"Grand Central\") in Washington D.C. and provides comments regarding Canada\\'s British Columbia Lottery Commission (\"BCLC\") restaurant and bar pilot program. January 2022 was another successful month at Grand Central with consistent playthrough of over 12,000 tickets transacted and positive sportsbook hold with a seasonally expected reduction in handle and GGR. October 2021 through January 2022 Results October November December January Bet tickets 2,508 7,951 12,661 12,691 Handle $207,355 $494,998 $735,386 $597,553 Payouts $164,497 $427,923 $643,596 $525,615 GGR* $42,858 $67,075 $91,790 $70,737 Hold 20.67% 13.55% 12.48% 11.84% *Gross Gaming Revenue \"Elys compliments the BCLC\\'s initiative to study legalized and regulated sports betting in restaurants and bars and similar small businesses. This pilot is an integral step forward in the expansion of small business sportsbooks across North America. Elys has been operating sports betting in small businesses for over 20 years in Italy and has vocally supported the segment in the U.S. and Canada since 2014,\" stated Michele Ciavarella, Elys\\' Executive Chairman. \"Through this extensive experience, we developed our technology to install a turnkey, downsized and affordable solution together with a highly-skilled bookmaking team that could potentially drive traffic to our small business partners as demonstrated by early results in Washington D.C. We believe that the consistent number of tickets at Grand Central implies potential growth in visiting patrons that could enhance core product sales for the business, and that GGR reflects ancillary revenue that could be derived from sports betting and a source of voluntary tax revenue for states and provinces where this small business application is approved.\" About Elys Game Technology, Corp. Elys Game Technology, Corp., is a B2B global gaming technology company operating in multiple countries worldwide, with B2C online and land-based gaming operations in Italy. Elys offers its clients a full suite of',\n",
       "  'Dubai, United Arab Emirates--(Newsfile Corp. - February 22, 2022) - Recently, LBank Exchange held an AMA session with the Radio Caca (RACA) team, discussed topics about RACA\\'s Play-to-Earn Metamon game, economic system, Metaverse and NFT features, cooperation with universities, tokenomics, and many more. Figure 1: RACA Talks About Play-to-Earn Game “Metamon” in an AMA with LBank Exchange Radio Caca is the exclusive manager of Maye Musk Mystery Box (MPB) NFT and governance token for The United States of Mars (USM) Metaverse - an MMO 3D Mapping Metaverse with the same style of Decentraland, while USM has the first-ever shown feature on the game market globally - a real 3D Planet that can be proportionally zoomed in and zoomed out. Metamon, the game where RACA plays the role of \"AXS\" in AXIE Infinity, was launched by the Radio Caca team on the BSC in October 2021 and has been planned to be expanded into the USM later. Maye Musk - The Valuable Mystery Box The first series released by Radio Caca is Maye Musk\\'s NFT. The reason for this name is that the team positions Maye Musk\\'s NFT work as the highest-ranking works in the Radio Caca market and the entire NFT market in the future. Like the slogan circulating in the community, Maye Musk, NFT Mother. It is a treasure box to get unlimited NFT works. Holding the Mother Box will get the airdrop of subsequent NFT works and the highest courtesy in the Radio Caca market. The collection value of Mother Box is enormous. Maye Musk issues her own NFT on BSC, which represents a significant and representative event for the entire blockchain industry. Countless blockchain giant whales have shown interest in this collection and want to hold it, since the total amount of mother boxes is only 6000, including #1000-1199 for Maye Musk and her team, and now only more than two thousand boxes have been issued, which apparently cannot meet their collection needs. Metamon - A P2E Game Gained Great Popularity Metamon is a Play-to-Earn game on BSC that has drawn widespread attention from the blockchain community',\n",
       "  '    Yahoo is part of the Yahoo family of brands.\\n     By clicking \"Accept all\" you agree that Yahoo and our partners will store and/or access information on your device through the use of cookies and similar technologies and process your personal data, to display personalised ads and content, for ad and content measurement, audience insights and product development.\\n     You can select \\'Manage settings\\' for more information and to manage your choices. You can change your choices at any time by visiting Your Privacy Controls. Find out more about how we use your information in our Privacy Policy and Cookie Policy. Click here to find out more about our partners.\\n',\n",
       "  'SINGAPORE, Feb. 23, 2022 /PRNewswire/ -- Gravity Game Hub (GGH) PTE. LTD, subsidiary of GRAVITY Co., Ltd.(NasdaqGM: GRVY) announces the Official Launch of the MMORPG PC Game Ragnarok Online Ascendance for Singapore, Malaysia, and the Philippines. Download Link: https://ro.gnjoy.asia/download/Open Territories: Singapore, Malaysia, Philippines Players can embark on thrilling adventures to create their story in Midgard. Choose among the different classes that can be customized to unique game styles. Battle away to level up when different maps are explored and players accomplish in-game quests. Players will be happy to know that Ragnarok Online Ascendance will follow the kRO version closely in terms of content releases. Ragnarok Online Ascendance players can expect exciting tournaments in-game and through Gravity Game Hub\\'s programs lined up for the community to enjoy. Ragnarok Online Ascendance in-game Official Launch EventsEvent I: Change to 2nd Job EventDetails: Players who successfully change job within (Feb 23 - March 8) will receive a Treasure BoxEvent II: Reach Level 99 EventDetails: Race to be among the first players per class to reach Level 99 to win a Level 99 Costume. Celebrate the Official Launch of Ragnarok Online Ascendance with the upcoming online event \"Ragnarok Official Launch Party\". Join game streamer hosts ChiigamingX, RainingCherry_, ArrgghJ along with CM Somi in an online epic community gathering filled with fun and games. Questions about the game will also be answered live. The Ragnarok Official Launch Party is scheduled to stream live on Ragnarok Online Ascendance Official Facebook Page on February 26, 2022, 8:00pm (GMT+8). Event activities include Ragnarok Online related trivia, picture games, in-game scavenger hunts, and more where participants can win over USD$3000 in pool prizes. The whole gaming community is invited for a night of exciting raffles and giveaways. Players can check for more details on in-game event news and upcoming online community activities when they visit the official Ragnarok Online Ascendance Website and Facebook Page by Gravity Game Hub. If you are excited to play Ragnarok Online Ascendance:Download the game today. About Gravity Game Hub Established in 2021, Gravity Game Hub (GGH) Pte Ltd is a game publisher and developer focusing',\n",
       "  'The adherents of the YOLO movement are a young bunch of diehard optimists believing in a single stock and its future performance, pitching in all the chips they have, while hoping for the best. The meme phenomenon has spread far and wide beyond the obscure dark and not-so-dark humor online boards into the financial market, with crypto meme coin tickers taking up the precious characters of Tweets posted by some prominent investors like Elon Musk. But it has recently overspilled into the conventional financial industry of Wall Street, taking on the form of the YOLO movement. This bizarre phenomenon has seen stocks being pumped beyond even the most optimistic prices by online message boards in an almost coordinated tidal wave that swept across the booming market through 2020 and 2021. With over 80% of investors in YOLO stocks being born in the late 1990s, their overconfidence in continued market growth is staggering, allowing them to take on leverage in the form of credits and debts to start investing in selected stocks. And though there is no actual asset class that could be termed YOLO, it pertains to companies that have posted immense gains and generated headlines during the pandemic lockdown period. Among the most notable examples over 2020 to 2021 are AMC Entertainment (AMC), which skyrocketed by over 2,000% in just under a year, and GameStop (GME)– up 5,232% in the past year. Others in the league are Bed, Bath & Beyond (BBY) with 328% gains, Blackberry (BB) – 113% year-to-date, and others. It all started in early 2021 with GameStop Corp. (GME), which saw its stocks boosted by a group of Reddit users who started investing in it and attracted others to do so. The price soared tenfold from $4 in 2020 to $350 in early 2021. And though stocks eventually took a nosedive to $40 by February of 2021, the GME saga allowed some investors to make millions in short positions on its traction in under a few weeks. Needless to say, a legend was born that took on a life of its own and spread like wildfire,',\n",
       "  'The video game studio buying frenzy that’s erupted in recent weeks may just be an industry-wide case of fear of missing out (FOMO), according to analysts. January’s string of big and small deals for game developers has seen Take-Two (TTWO) – the publisher behind heavy-hitting franchises like Red Dead Redemption and Bioshock, make a near $13 billion bid for mobile game giant Zynga. Not to be outdone, Microsoft (MSFT) announced it would buy Activision Blizzard (ATVI) for a whopping $68.7 billion in an all-cash deal that would unite franchises like Call of Duty, World of Warcraft and Candy Crush together with the makers of the Xbox. Michael Pachter, managing director of equity research at Wedbush Securities, told Yahoo Finance Live last week that the software giant’s move for Activision is part of a bolder “vision and a strategy.” The deal essentially gives Microsoft more games and properties – not just for its traditional consoles, but to help grow its efforts in mobile gaming and cloud computing. More recently, the gaming boom culminated with Sony (SONY) announcing a $3.6 billion deal for Bungie, the studio behind “Halo” and “Destiny,” while The New York Times (NYT) is buying the viral crossword game Wordle for an undisclosed price “in the low seven figures.” Pachter told Yahoo Finance that Sony’s purchase of Bungie was driven more by FOMO, citing the higher price the Japanese giant paid per developer when compared to Microsoft’s Activision bid. “Sony, I think, just did a ‘me too’ statement and said we’re not gonna be left behind, so we’ll buy Bungie,” he added. And other companies – like Google (GOOG), which has its own cloud gaming service – might yet join the video gaming land grab, analysts say. Yet some think major players are in a wait-and-see mode, especially with the more recent deals undergoing regulatory review. “Anything that Google or any of the other platforms might do from an acquisition standpoint will rightfully get a lot of scrutiny,” Daniel Flax, senior research analyst at Neuberger Berman, told Yahoo Finance. He added that Google will likely focus on maturing the',\n",
       "  'Charlie Munger is worth billions but the legendary investor likes to note that he doesn’t have absolute power. If he did, he says he\\'d be a \"benign dictator\" but make some big changes in the way stock market works. At the recent annual meeting of the Daily Journal (DJCO), his publishing and technology company, he described the 2021 meme-stock frenzy as a “speculative orgy.” “What we\\'re getting is wretched excess and danger for the country,” he said, comparing trading activity to an out-of-control party. “A lot of people like a drunken brawl, and so far those are the people that are winning, and a lot of people are making money out of our brawl.” It has been about a year since stocks like Gamestop (GME) and AMC (AMC) began to see wild price fluctuations driven by retail investors as the \\'meme stock\\' phenomenon took off. The activity came after an influx of liquidity in the markets as a result of government stimulus as well as the rise of online destinations like r/wallstreetbets on Reddit. Munger has tangled with day traders often over the last year. Trading app Robinhood (HOOD), the epicenter of much of this trading, responded to previous comments by Warren Buffett and Munger by saying that the two billionaires \"insulted a new generation\" of investors for \"doing things in a new way.\" Munger, 98, is vice chairman of Berkshire Hathaway (BRK-A / BRK-B). The company, headquartered in Omaha, Nebraska, has long been led by Warren Buffett, who serves as chairman and chief executive. Munger says he knows exactly what he would do about the perceived problem. He would make short-term trading much less profitable. He wants to add higher taxes on short-term capital gains and make the stock market much less liquid as a consequence. In Munger’s vision, stocks would operate closer to the way the real estate market works, in which there are significant barriers to constantly trading your assets. He says that the current situation on Wall Street means that “not the most admirable people” are able to prey on individual investors who enjoy the excitement',\n",
       "  'HO CHI MINH CITY, Vietnam, Feb. 22, 2022 /PRNewswire/ -- Introducing CryptoZeroFi, one of such games aiming to make a name for itself in this maturing space. CryptoZeroFi is an upcoming Realistic Combat Role-Playing NFT game built on the Binance Smart Chain. Similar to other games in this industry, it incorporates NFTs as well as a P2E model. Keeping up with the trend, they also have plans for metaverse-integration set in their pipeline. The NFT Play-To-Earn (P2E) gaming industry has been gaining a lot of traction lately, especially with the increasing sentiment towards the metaverse. There have been countless new projects determined to be a pioneer in this booming industry. What sets these new lines of games apart from conventional games is the ability to rack up rewards while playing the game, allowing gamers to make money while doing what they enjoy most. The integration of non-fungible assets (NFTs) also allows for the transferability of in-game assets, thereby enabling players to trade and gift their assets with one another. CryptoZeroFi features two in-game tokens, ZERI and ZEUS, which can be earned by players in-game. They can then choose to sell these tokens in exchange for other cryptocurrencies or stake them in one of the various staking options to earn some additional rewards. Alternatively, players can also earn respectable rewards by winning the \"Arena of Fame\" tournament which will be held yearly. Additionally, CryptoZeroFi also has an integrated NFT marketplace and NFT Transfer functionality, allowing players to trade or gift their in-game characters and weapons with one another. Furthermore, CryptoZeroFi will feature a clan system. Players will be able to create a clan and invite their friends and family to play alongside them. They can also earn some extra rewards for inviting others using their unique invitation code. Last but not least, as mentioned, CryptoZeroFi is planning to integrate metaverse-capabilities into their project. This means that it might not be long before players will be able to put on a set of VR goggles and dive right into the world of CryptoZeroFi. To learn more about CryptoZeroFi, visit their website or',\n",
       "  '    Yahoo is part of the Yahoo family of brands.\\n     By clicking \"Accept all\" you agree that Yahoo and our partners will store and/or access information on your device through the use of cookies and similar technologies and process your personal data, to display personalised ads and content, for ad and content measurement, audience insights and product development.\\n     You can select \\'Manage settings\\' for more information and to manage your choices. You can change your choices at any time by visiting Your Privacy Controls. Find out more about how we use your information in our Privacy Policy and Cookie Policy. Click here to find out more about our partners.\\n',\n",
       "  \"Lowe's shares rise after Q4 results top expectations Ten game development studios in Africa have come together under one umbrella, the Pan Africa Gaming Group (PAGG), in an effort to unify the continent’s gaming sector, which is currently fragmented. The association is further envisioned to drive the uptake of gaming in the continent, and grow developer talent. The announcement was made today against the backdrop of the Africa Games Week 2022, which is taking place in Cape Town, South Africa. The PAGG said they aim to grow the industry by two times annually, and to put Africa “on the map of the global game industry.” The gaming studios in the new lobby are South Africa’s Sea Monster, Senegal’s Kayfo Games, Cameroon’s Kiro'o Games, Ghana’s Leti Arts, Tunisia’s Digital Mania, Ethiopia’s Qene Games, Kenya’s Usiku Games, Tanzania’s Khanga Rue, DopeApps from Rwanda and Messeka Games, with more are expected to join soon. Collectively, the current members have developed more than 50 games. The PAGG will bring together games developed by its members for publishing under Gara, an African game store, and AfroComix, a content hub for Afrocentric creative work. These channels will enable content distribution and monetization by allowing locally relevant payment options including mobile money and airtime billing. They also plan to increase the number of Africa’s next generation game developers through training and incubation, a function that has already taken off in Kenya, at the Nairobi Game Development Center. “One of our core values is not just to build a collection of games, but to incubate Africa's gaming industry of tomorrow. There is a wealth of incredible talent already on the continent, with more graduating every year from top-tier game development schools like Rubika. Most graduates though are relegated to doing remote work for overseas clients due to the lack of local gaming job opportunities. We’re going to fix that,” said Leti Arts CEO Eyram Tawia. PAGG founders are hoping to grow the gaming industry in Africa by two times yearly. Image Credits: PAGG The lobby will be governed by a founders’ council to be made up of top\"],\n",
       " 'TSLA': [\"Tesla’s (TSLA) accusations this week that the Securities and Exchange Commission reneged on a 2018 settlement agreement requiring it to distribute $40 million to shareholders could be backed up by the agency's own rules requiring it to submit a fund distribution plan within 60 days of receiving payment. In a letter filed in federal court in Manhattan on Thursday, attorneys for Tesla claimed the agency held up $40 million in penalty funds that CEO Elon Musk and Tesla paid in 2018 to settle a dispute over his tweet claiming he secured funding that could take the electric vehicle giant private. Tesla’s lawyers have asked the court to examine why shareholders haven't received the money in the more than 1,200 days since Tesla and Musk each handed over $20 million to the agency. “Simply stated, the SEC has failed to comply with its promise to pay Tesla’s shareholders the $40 million it collected,” the letter states. The letter goes on to say that instead of distributing the funds to Tesla shareholders, the SEC has been “devoting its formidable resources to endless, unfounded investigations into Mr. Musk and Tesla.” Should the court agree to address Tesla’s concerns, the SEC will contend with its own rules that set a deadline for plan submissions, as well as its records showing that the vast majority of “available funds” it collects and redirects under the Fair Funds for Investors provision of the Sarbanes-Oxley Act go to impacted shareholders within two years of a distribution plan's approval. Settlements allocated under the Fair Funds provision can come from either administrative proceedings initiated by the SEC, or from litigation between the SEC and defendants such as Tesla and Musk in federal courts. Tesla’s lawyers say that although nearly three and a half years have passed since Musk and Tesla paid their penalties, the agency has “yet to announce anything like a distribution plan.” The time frame, they argue, flies in the face of the agency’s Rules of Practice, specifying that its enforcement division must submit a proposed distribution plan within 60 days of receiving a defendant’s settlement payment. “As\",\n",
       "  'Tesla CEO Elon Musk\\'s lawyer has accused the Securities and Exchange Commission (SEC) or leaking information about a federal probe to retaliate against him, CNBC has reported. \"It has become clearer and clearer that the Commission is out to retaliate against my clients for exercising their First Amendment rights—most recently by criticizing the Commission on the public docket and by petitioning this Court for relief,\" said Musk attorney Alex Spiro. It\\'s the latest shot fired by Musk in his ongoing dispute with the SEC that started in 2018 when he said that he had secured funding for a private buyout of Tesla at $420 a share — something many (including the SEC) interpreted as an attempt at a weed joke. The SEC fined Tesla and Musk $20 million each over that and forced Musk to step down as chairman for at least three years. Tesla also had to implement a system for monitoring Musk\\'s statements about the company on Twitter and other media. Musk has been chafing against those rules lately, however. Earlier this month he accused the SEC of conducting a \"harassment campaign,\" and \"stifling\" has First Amendment free speech rights. The SEC responded earlier this week, saying its frequent check-ins with Tesla were effectively required by the court overseeing the 2018 settlement. It also rebutted Musk\\'s other complaint, saying that it was making progress disbursing the $40 million fine to shareholders as it had promised. Musk\\'s lawyers alleged that at least one SEC member had leaked \"certain information regarding its investigation,\" but it didn\\'t say who or which information. Tesla revealed in its 2021 Q4 earnings report that the SEC subpoenaed the company and Musk, seeking information on how they\\'re complying with the 2018 settlement. Musk previously ran afoul of the 2018 settlement a year later after tweeting information about Tesla vehicle production that wasn\\'t approved by the company\\'s \"disclosure counsel.\" His lawyers accused the SEC of violating his free speech rights then, too. Musk and Tesla eventually agreed to a revised settlement that required him to get approval in advance for any tweets or other communication from',\n",
       "  'The US Environmental Protection Agency has reached a settlement with Tesla after the agency found that the automaker violated the Clean Air Act at its factory in Fremont, California. In particular, the EPA determined that Tesla violated the National Emission Standards for Hazardous Air Pollutants for Surface Coating of Automobiles and Light-Duty Trucks from October 2016 to September 2019. Tesla, the EPA said, failed to develop and implement a work practice plan to minimize air pollutants emissions from the storage and mixing of materials used in vehicle coating. It also failed to correctly perform the monthly calculations needed to prove that its coating operations complied with the federal standards for hazardous air pollutants. Finally, Tesla apparently failed to keep required records of the calculations for its air pollutants emissions rate. \"People living in communities that are near sources of hazardous air pollutants may face significant risks to their health and environment,\" the agency wrote in its announcement. According to CNBC, the paint shop at Tesla\\'s factory in Fremont suffered several fires within that period. The news organizations talked to employees back in 2018 who claimed that the company pushed to hit production goals at the expense of fire and environmental considerations. (If you\\'ll recall, Tesla was struggling to hit Model 3 production goals at the time.) Those employees claimed that months before a fire in April that year, the shop\\'s sprinkler heads were clogged and were coated with at least an inch of thick paint. Exhaust systems that were supposed to carry clean air in and out of the building were allegedly coated with thick paint, as well. \"Today\\'s enforcement action against Tesla reflects EPA\\'s continued commitment to ensure compliance with federal clean air laws,\" EPA Pacific Southwest Regional Administrator Martha Guzman said in a statement. Tesla will only have to $275,000 to settle its violations, however, which is a drop in the ocean for a company that reported a $5.5 billion in net income last year. The union that wants to represent workers at Amazon’s BHM1 facility in Bessemer, Alabama is accusing the company of once again violating the',\n",
       "  'Tesla could be leaving a lot of money on the table over the next decade if it can\\'t get a $25,000 electric vehicle to market. \"Expanding into lower price volume segments will be critical to support the company\\'s growth outlook as we move into the middle part of the decade,\" said Guggenheim analyst Ali Faghri in a research note Thursday. On Wednesday, Tesla CEO Elon Musk shot down the potential for a $25,000 car this year as it focuses resources on the rollout of full-self driving technologies and secures scarce semiconductors for higher priced models such as the Model 3 and Model Y. Explained Musk, \"We\\'re not currently working on that $25,000 car. We at some point will. We have enough on our plate right now, too much on our plates, frankly. So at some point there will be, but I think that\\'s sort of a question that it\\'s just sort of the wrong question. Really the thing that overwhelmingly matters is when is the car autonomous.\" Robots appear to be more of a focus inside Tesla than a $25,000 car. Traders let Musk know of their letdown coming off the earnings call. Shares plunged 7.6% to $864 on the session as Tesla said its business would be weighed down by supply chain challenges, mostly as it relates to semiconductor shortages. The company also said it would not unveil any new models this year, let alone a $25,000 EV. \"Overall, while we continue to have an above consensus volume and margin outlook in 2022/\\'23, and assign a premium tech-skewed valuation multiple (~35x EBITDA), that is still not enough for us to recommend the stock at this time,\" added Faghri. Here is how Tesla performed compared to Wall Street analyst estimates: Revenue: $17.719 billion vs. $16.64 billion expected Adjusted earnings per share: $2.54 vs. $2.37 expected Suffice it to say, the Wall Street bulls on Tesla generally remained unshaken in their enthusiasm for the stock despite any perceived earnings call disappointment. \"Our message to investors is that Tesla is still a ‘must own’ in the sense that owning the stock is',\n",
       "  \"Lowe's shares rise after Q4 results top expectations DETROIT (AP) — Elon Musk and his lawyers are escalating their fight with U.S. securities regulators, with a lawyer accusing them of leaking investigative information, and the Tesla CEO alleging on Twitter that government corruption is being exposed. Musk's tweet early Tuesday and a Monday letter from Musk lawyer Alex Spiro to a federal judge didn't offer any specifics about the leak, but the actions ramped up a war of words with the Securities and Exchange Commission. The agency isn't the only federal regulator that Musk is sparring with. The National Highway Traffic Safety Administration recently has stepped up enforcement against Tesla. Last week, Musk called the agency the “fun police” for making Tesla recall a “Boombox” function that can play sounds over an external speaker and obscure audible warnings for pedestrians. The safety agency has launched multiple investigations of Tesla and is overseeing 15 Tesla recalls since January of 2021. Recalls include “Full Self-Driving” software being programmed to run stop signs at slow speeds. Investigations include unexpected braking by Tesla vehicles. On Monday, Spiro filed another letter with the U.S. District Judge Alison Nathan in Manhattan accusing at least one SEC staff member of leaking information about an investigation of Musk and Tesla's compliance with a court order aimed at controlling his tweets. “It has become clearer and clearer that the commission is out to retaliate against my clients for exercising their First Amendment rights,” Spiro wrote. Tuesday morning, Musk tweeted that the allegations are “just peeling back the first layer of the corruption onion. Stay tuned.” No details were given. The SEC declined comment Tuesday, and messages were left seeking details about the leak allegations from Tesla and Spiro. The SEC spat goes back to 2018, when Musk and Tesla each agreed to pay $20 million in civil fines  over Musk’s tweets about having the money to take the company private at $420 per share. The funding was far from secured and the company remains public. The settlement specified governance changes, including Musk’s ouster as board chairman, as well\",\n",
       "  \"(Bloomberg) -- Most Read from Bloomberg Stocks Waver While Treasury Two-Year Yield Slumps: Markets Wrap Elon Musk Donated $5.7 Billion of Tesla Shares to Charity Trump's Accountants Just Quit. What Took So Long? Jho Low’s Wild Nights on Display: $250,000 for DiCaprio, Fox U.S. Offers Support After Banks Face Cyber Hit: Ukraine Update For years, my colleagues at Bloomberg News and I have chronicled serious allegations of racial discrimination against Black workers at Tesla’s auto plant in Fremont, California. Two cases warranted widespread attention just last year. In August, we learned that Tesla had paid Melvin Berry, a former materials handler, $1 million in a rare discrimination award by an arbitrator. In October, a federal jury in San Francisco awarded former contract worker Owen Diaz a staggering $137 million. Tesla appealed the latter ruling, and a federal judge has signaled he’s likely going to cut the size of the award. California’s civil rights regulator, the Department of Fair Employment and Housing, fields complaints from workers throughout the state, including hundreds about Tesla, we learned last week. The way news of the regulator’s lawsuit unfolded was a prime example of Tesla’s aggressive and dismissive attitude toward government agencies, as well as the company’s penchant for preemptively trying to control news cycles and narratives. Here’s a quick recap of how it all went down: On Feb. 7, Tesla filed its annual report to the U.S. Securities and Exchange Commission. There was a two-sentence disclosure on page 91 that DFEH had issued a “notice of cause finding” on Jan. 3 and notified the company that it had grounds to file a civil complaint. This was a clear signal Tesla was probably going to be sued. Early on Feb. 9, Tesla published a blog post titled “The DFEH’s Misguided Lawsuit.” Never mind that the lawsuit hadn’t actually been filed; Tesla was front-running the agency. The company claimed the suit appeared to focus on misconduct that took place from 2015 to 2019; that in almost 50 instances, cases had been closed without finding of misconduct; and that DFEH had “never once raised any concern about\",\n",
       "  'As detailed in a broad SEC filing this week, Tesla gave investors an update on its Bitcoin holdings. Parsing through the disclosure, it boils down to this: Tesla bought around $1.5 billion in bitcoin (BTC-USD) in the early part of 2021; realized a gain of $128 million on a sale of some of its stake earlier in 2021; has now taken a $101 million impairment on the holding as bitcoin’s value has diminished; and currently Tesla’s bitcoin stake has a market value of nearly $2 billion, and a ‘carrying value’ of $1.26 billion Recall that back in the early days of 2021 when Tesla revealed its investment in Bitcoin, it also started accepting Bitcoin as payment for new Tesla cars. CEO Elon Musk then backtracked on that initiative only a few days later, claiming that Tesla was \"concerned\" about the energy needs of mining and transacting Bitcoin with fossil fuels. Musk, a noted crypto enthusiast, has espoused his love for other cryptocurrencies like Dogecoin, and Tesla now accepts Dogecoin for certain merchandise on its website. Tesla also added the title of “Master of Coin” to CFO Zach Kirkhorn in a regulatory filing last year, possibly in reference to the company’s bitcoin holdings. While Tesla’s support of crypto in general may be something the company thinks will be the future of currency and transacting, the question for some is does this fascination with cryptocurrency take its eye off the ball so to speak when so much is transforming in the EV space. “Tesla is doubling down on its Bitcoin strategy despite volatility and investor concerns,” Wedbush analyst Dan Ives tells Yahoo Finance. “It remains a distraction and sideshow from the core Tesla story in our opinion during this risk-off backdrop.” For Ives, this sentiment is nothing new. Back in May of 2021 Ives echoed a similar tone in a research note on Tesla’s focus on Bitcoin and backtracking on accepting it for payment: For Tesla and the stock, not accepting Bitcoin does not change the thesis or growth trajectory for the EV story, however it does add to the noise and',\n",
       "  'Location of Tesla\\'s German Gigafactory has experienced droughts due to climate change, Bloomberg reported. Experts told Bloomberg there won\\'t be enough water in the area when Tesla scales up its factory. It comes after Elon Musk laughed at water supply concerns in August, saying it was \"everywhere.\" Elon Musk last year laughed at suggestions that Tesla\\'s new factory in Germany would take too much water from local supply, but a continued decline in water levels could now delay the plant\\'s development, Bloomberg reported. Groundwater levels in the Brandenburg area have been dropping for the past three decades because of climate change, and the region has experienced droughts in each of the last four years, Bloomberg reported. That means there wouldn\\'t be enough water for residents when Tesla scales up its factory, experts and local authorities told the newswire. Environmental activists, including local environmental group Grüne Liga, have argued that Tesla\\'s German Gigafactory could threaten the area\\'s surroundings, in particular the drinking water. They are now taking Brandenburg\\'s environment office to court, with a first hearing set for March 4, claiming that the effects of climate change were not considered when authorities gave the green light for a groundwater pump for Tesla\\'s Gigafactory, Bloomberg reported. The legal action could result in further delays to the factory, per Bloomberg. Tesla started building the facility near Berlin in early 2020. It was supposed to open on July 1 but has been set back following challenges by environmental activists, permit delays and a lizard problem. The company eventually plans to churn out 500,000 cars at the site. \"This region has so much water, look around you,\" Musk said in reply to a question about the water supply during his visit to the Gigafactory in August, Reuters reported. \"It\\'s like water everywhere here. Does this seem like a desert to you?\" he laughed, per Reuters. Joerg Steinbach, Brandenburg\\'s economy minister, told Bloomberg that \"the current water supply is sufficient for the first stage of the factory\" but when Tesla expands the factory, the area will need more water. Authorities in Brandenburg are supporting efforts to',\n",
       "  'The big guns in the auto industry are coming for Tesla\\'s number one spot in electric vehicles, warns one long-time auto analyst. And they could succeed in the not too distant future. \"We expect Tesla\\'s market share to drop from about 70% in EVs to about 20% in the next three years. They [Ford and General Motors] are gaining the bulk of the market share we expect Tesla to lose,\" said Bank of America auto analyst John Murphy on Yahoo Finance Live. While Tesla recently capped off an impressive year of performance, signs have emerged that its market share is slipping as rivals pick up the pace on EVs. Tesla held 66.3% of EV registrations in the second quarter of this year, lower than the 79.5% it held one year ago, according to the most recent data from Experian. GM-owned Chevrolet saw its share of EV registrations rise to 9.6% from 8.3% a year earlier. Ford, Nissan and Audi also picked up market share in the EV industry, per Experian\\'s data. The pressure could continue this year if fresh commentary from Ford and GM are any indication. \"We have about 200,000 reservations [for the F-150 Lightning]. Now we\\'re converting those into orders where people have to physically order the vehicle, almost very few of them are falling out,\" Ford CEO Jim Farley told Yahoo Finance Live last week. Farley added he would like to reach electric vehicle capacity of 600,000 units over the next 22 months. \"We think that\\'ll put us probably number two in electric,\" Farley said. Meanwhile, General Motors this week struck an upbeat note on demand for its first electric pickup truck. \"More than 110,000 Silverado EVs are reserved so far, including reservations from more than 240 fleet operators, and the numbers keep growing every day,\" GM CEO Mary Barra said on an earnings call. Brian Sozzi is an editor-at-large and anchor at Yahoo Finance. Follow Sozzi on Twitter @BrianSozzi and on LinkedIn. Read the latest financial and business news from Yahoo Finance Follow Yahoo Finance on Twitter, Facebook, Instagram, Flipboard, LinkedIn, YouTube, and reddit Last Friday,',\n",
       "  'President Biden said something completely obvious on Feb. 8 — and it was big news for one of America’s most innovative companies. During an otherwise unremarkable address on domestic manufacturing, Biden referred to Tesla (TSLA) as “our nation’s largest electric vehicle maker.” This is unmistakably true, and nobody disputes it. But up till now, Biden has pushed aggressively for more electric vehicle manufacturing without ever acknowledging that Tesla already produces close to 1 million EVs per year. Instead, Biden has pretended General Motors and Ford are leading the way on electrification. GM (GM) and Ford (F) are not leading. They’re following Tesla, which produced its first EV in 2008 and is now the world’s most valuable car company. Yet, Tesla has been absent from Biden remarks, and while the CEOs of GM and Ford are regulars at White House events, Tesla CEO Elon Musk hasn’t appeared with Biden once. What’s their beef? The short answer: unions. Biden has unabashedly tried to shore up support among union members who have traditionally voted for Democrats but have been drifting to the Republican Party. Former president Barack Obama won 61% of union households in the 2012 election, but Hillary Clinton won just 51% four years later, amid Donald Trump’s aggressive populism and protectionist trade policy. Biden bumped that back up to 57% of union households in the 2020 presidential election, with Trump getting 40%. Union voters helped Biden win the crucial swing states of Michigan and Wisconsin in 2020. But Trump won a majority of union households in Pennsylvania, which Biden won overall, and in Ohio, which Biden lost. So it would be a mistake for Biden and his fellow Democrats to take the union vote for granted. Biden pledged to be “the most pro-union president you’ve ever seen,” and that has materialized in his policies. The most pro-union policy relating to EVs is the tax credit for purchases in Biden’s “Build Back Better” legislation. The original bill included a $7,500 tax credit for anybody buying an electric vehicle, which would effectively cut the price by that amount. Starting in 2026, the credit'],\n",
       " 'BTC': ['Valkyrie Investments announced on Tuesday it has crossed $1 billion in assets under management (AUM), partly underscoring the volatile cryptocurrency market\\'s tentative recovery from a brutal fall-winter slump. To be sure, digital tokens are a long way from the crypto market\\'s rip-roaring heyday back in the fall, when Bitcoin (BTC-USD) scaled to a fresh record near $69,000, but Valkyrie\\'s announcement showed how some crypto asset managers are positioning themselves to outlast the whipsaw action. \"From individuals ... to family offices, pensions, and endowments eagerly allocating to hedge funds and trusts, our industry has a firm footing on which to continue growing through the remainder of this year and beyond,\" Valkyrie CEO Leah Wald said in a press release. The firm launched its Strategy Bitcoin fund (BTF), the second SEC approved Bitcoin exchange traded fund (ETF), in late October, the firm now manages two other \"bitcoin-adjacent\" ETFs. With approximately $46 million in AUM, the ETF side of Valkyrie\\'s business amounts to a marginal 5% of its bottom line, according Bloomberg Intelligence senior ETF analyst, Eric Balchunas. The other 90% of Valkyrie\\'s total assets come from custom built separately managed accounts (SMAs), six different crypto-protocol trusts for accredited investors, as well as overseeing a Decentralized Finance-focused hedge fund captained by Tom Brady\\'s former business manager. Currently said to be in the process of completing its Series B raise, Valkyrie Investments has made an early name in the category of bitcoin ETFs. Cryptocurrencies are still down more than 32% from $2.92 to $1.98 trillion, according to Coinmarketcap.com data, having tumbled in recent weeks in fear over the direction of monetary policy. Meanwhile, investors bought into ETFs around the time that Valkyrie launched its ETF are likely underwater. Though the firm\\'s ETF assets might appear small compared with competitors, Bloomberg\\'s Balchunas acknowledge how important it is for crypto ETF issuers to stake a claim in the budding financial product line early. He suggested that eventually, the category for digital asset ETFs \"will be massive.\" Based on data from Cerulli Associates, Balchunas pointed out in a report last week that a 2-3% crypto ETF allocation',\n",
       "  'By Medha Singh and Lisa Pauline Mattackal (Reuters) - Bitcoin miners are feeling the heat - and the pain\\'s rippling downstream to pressure prices. The cryptocurrency\\'s spectacular rally in 2021 drew thousands of entrants into mining, or producing new coin. As a result the hashrate, or combined computational power used by bitcoin miners globally, has roughly quadrupled over the past six months to blow past 200 million \"terahashes\" per second. But what\\'s that got to do with the price of bitcoin? A rising hashrate makes it becomes harder for miners to earn coin and cover their costs of hardware, electricity and staff - so many are more likely to sell, rather than hold, their newly minted cryptocurrency, exerting a bearish force on the market. \"Running costs are a major factor in miners\\' decision to hold or sell newly acquired coins. They are the first and most natural sellers in the crypto space and so definitely impact prices,\" said Justin d\\'Anethan, institutional sales director at crypto financial services firm Amber Group. The total value of coins held in miners\\' wallets has fallen to around $75 billion from $114 billion at the start of November, as their profitability has been squeezed by the rising hashrate as well as falling prices, according to Oslo-based crypto research firm Arcane Research. Miners have been transferring more coins to exchanges than adding to reserves, according to crypto industry analytics firms, a sign of selling or intent to sell. Such flows are adding to pressures facing bitcoin, whose drift towards the mainstream has seen it caught up in a selloff in global markets driven by tensions on the Ukraine border and the Federal Reserve\\'s policy tightening. The world\\'s dominant cryptocurrency is trading at about $37,854, which is 45% below its Nov. 10 high of nearly $69,000. WHAT IT COSTS Bitcoin mining, in simple terms, is the process by which a network of computers checks and validates a block of transactions that then get added to the blockchain. Miners get rewarded for completing a block. It\\'s an expensive business, though, requiring not just sophisticated and fast \"rigs\" costing',\n",
       "  'Bitcoin (BTC-USD) suffered yet another brutal bout of risk-aversion on Monday, briefly tumbling by over 5% below $34,000 before staging a recovery as Wall Street rebounded. Amid the turmoil, some $130 billion was yanked out of cryptocurrencies between Sunday and Monday, according to Alex Tapscott, Managing Director of Ninepoint Partner\\'s Digital Asset Group. In the last week alone, Bitcoin shed more than 20% at its troughs, with so-called smart contract currencies faring even worse: Ethereum (ETH-USD) swooned by over 30% within the same period, while Solana (SOL1-USD) has plunged by more than 40%. Outages on the Solana blockchain exacerbated network fees and forced some decentralized finance (DeFi) investors to liquidate their positions. \"Volatility has been the norm historically in digital assets. As an emerging asset class, [crypto\\'s] in a constant state of price discovery,\" Tapscott said on Monday. \"Through their history, digital assets have become accustomed to and therefore resilient to volatility. Even though Bitcoin has been declared dead in the mainstream media more than 400 times, it keeps coming back,\" he added. And true to form, BTC rallied sharply late into the session on Monday as bargain-hunting buyers of risk assets gave prices a boost. Recently, crypto and stocks have moved in near lock-step. However, the depth and severity of the downturn couldn\\'t be more stark for crypto, which has shed a collective $1.43 trillion since the peak in early November, as the Federal Reserve moves to reverse crisis-era liquidity that\\'s fed inflation and inflated asset prices. Monday\\'s volatile price action saw two new Bitcoin-linked exchange-traded funds (ETFs) — launched last fall amid much fanfare — dragged to new record lows (BTF) (BITO) before the rebound. And Bitcoin itself has shed about half of its value since hitting a record last fall near $68,000. Notably, SOL has dropped more than 40%, contributing to its correction, its underlying blockchain, Solana, suffered its latest outage on Friday. Extending at least two days, the outage excerbated network fees, in some cases, forcing some of its DeFi investors to liquidate their positions. Over the weekend, more than $1.5 billion of derivatives positions were',\n",
       "  \"Bitwise Asset Management CIO Matthew Hougan sits down with Yahoo Finance Live to discuss the 2022 outlook on cryptocurrencies amid debated regulations, the secular trends of crypto, bitcoin's dominance in the blockchain, and investing in crypto stocks. [MUSIC PLAYING] EMILY MCCORMICK: Welcome back. I'm Emily McCormick, and you're watching Yahoo Finance's special, [? Crypto ?] in 2022 presented by Intuit Turbotax Live. And with us now, a true pioneer in the investment world, Bitwise Asset Management Chief investment officer, Matt Hougan. Matt, it's great to see you. Thank you so much for being with us this afternoon. I want to ask first about the price action that we've been seeing in cryptocurrencies. Now, Bitcoin is below $40,000, Ethereum below $2,700. And this comes, of course, after a record run that we saw in these prices last year. But as the CIO, does this latest slide concern you? MATT HOUGAN: It always is uncomfortable when the market goes down, but I think we're actually setting up for an extraordinarily strong second half of the year. Look, the current pullback is being driven by three things, which are going to resolve. One, of course, is the broad market shift to a risk-off market that's pushing through all sorts of risk assets, of which crypto is one. I think we're most of the way there to adjusting to this new reality. The second piece is Biden's executive order on crypto, which is coming out this week. I think once we get past that, that'll be a relief and then some tax-related selling. So I think there's short-term hurdles in front of us. But as I look at the underlying trends, I'm extremely [? bullish ?] about where we end up by the end of this year. EMILY MCCORMICK: And where do you think Bitcoin ends at the end of this year if you have a certain price target in mind? MATT HOUGAN: I'd love to put out a price target. I think we are going to go substantially higher. I wouldn't be surprised to see us challenged and even surpass the previous all-times\",\n",
       "  'Crypto billionaire Sam Bankman-Fried has said digital assets may be in an \"autumn\" – rather than the \"winter\" that many fear. He told Insider there\\'s certainly been a slowdown, but there\\'s still plenty of excitement around cryptocurrencies. The 29-year-old said the Fed is likely to remain the key driver of digital asset markets in coming months. Billionaire crypto entrepreneur Sam Bankman-Fried has said a crypto \"autumn\" — rather than a \"winter\" — may be here, adding that the Federal Reserve will remain the key driver of digital asset markets in the coming months. Bitcoin and other cryptocurrencies have tumbled since hitting record highs in November, as investors brace for the Fed to raise interest rates as it grapples with red-hot inflation. The sharp falls and lower trading volumes on exchanges have stirred chatter of a \"crypto winter\" — a period when prices fall and stay low for a year or more. But Bankman-Fried, who co-founded the FTX crypto exchange in 2019, told Insider on Tuesday: \"I don\\'t think it\\'s really a winter. We\\'re still seeing a lot of activity in this space, and a lot of excitement.\" Instead, he said an \"autumn\" may be a better way to think about it. \"Certainly there has been a slowdown,\" he said. The 29-year-old, who\\'s worth around $25 billion, said Fed policy is the single biggest driver of the crypto market right now. Read more: An investment chief at a $100 billion firm lays out why \\'Digital 4.0\\' is the top investing theme he\\'s targeting and names 4 stocks you can buy to tap into it - including a surprising metaverse play Cryptocurrencies have fallen sharply alongside a slide in shares in fast-growing but unprofitable technology companies, as the Fed prepares to end the stimulus that boosted riskier investments in 2020 and 2021. Investors have moved towards more economically sensitive bets, such as on bank stocks and commodities. Bitcoin has tumbled from close to $69,000 in November to trade at around $46,000 on Wednesday, and other major tokens such as ethereum have suffered similar falls. \"To the extent that Fed policy remains one',\n",
       "  \"Bitcoin's (BTC-USD) arrival into the mainstream has seen companies like Microstrategy (MSTR), Block (SQ) and Tesla (TSLA) add the digital coin to their balance sheets — and spawned a new class of investors drawing all or part of their salaries in cryptocurrency. But with Bitcoin slumping by nearly half since hitting a November high under $69,000 in the midst of crypto's grim winter, the strategy is not without risk — especially for companies bound by strict corporate accounting rules that some argue are in need of updating. It can also put pressure on the results of firms with crypto on their balance sheets, like Microstrategy — a business intelligence firm turned publicly-traded Bitcoin whale, and make accounting more difficult. Although crypto is back on the rise, for now at least, some observers argue the whipsawing and accounting rules can make valuing cryptocurrencies more onerous for companies and investors, and may dissuade other firms from getting direct exposure to crypto. “You can only mark [Bitcoin] down, you can never mark it up, and in truth I’d be better off, from an accounting point of view, to buy a stack of comic books or baseball cards,” Microstrategy CEO Michael Saylor told Yahoo Finance last week. Based on Generally Accepted Accounting Rules (GAAP) and Securities and Exchanges Commission guidance, digital assets must be recorded as indefinite intangible assets. That means they must be marked down for impairment losses but cannot be marked up for value gains, until the asset is sold. Given crypto volatility, there can be wide swings between the carrying value of Bitcoin and its market value for the same period. For Microstrategy, that equated to a whopping $1.6 billion difference in June, according to the company, which has only gotten worse. As of this week, Microstrategy owns a total of 125,000 Bitcoins, In the company’s fourth quarter earnings, $110.5 million in gross profit got wiped out by a $147 million impairment loss from holding BTC. Given Bitcoin’s rough start to 2022, the next quarter isn’t expected to look much better. But while it reported a carrying value of $2.85 billion\",\n",
       "  'Stay in the know at a glance with the Top 10 daily stories (Bloomberg) -- Most Read from Bloomberg Blinken Says Meeting With Lavrov Is Canceled: Ukraine Update Porsches, Lamborghinis Lost at Sea May Cost VW $155 Million Leissner Says Lover Blackmailed Him Into Buying $10 Million Home U.S. Condemns Russian Move at UN, Reassures Kyiv: Ukraine Update Activision to Delay Next Year’s Planned Call of Duty Game Look no further than bullion to get a sense of how an historically unusual constellation of global risks is rippling through markets. Prices have surged to the highest since the start of June on escalating tensions between Russia and the West over Ukraine, and a spike in U.S. inflation to the strongest in decades. At the same time, real interest rates -- a key driver of gold -- have jumped this year, countering the typically inverse correlation between the two. And in the battle over whether Bitcoin is a better modern-day store of value than bullion, the cryptocurrency is losing out, at least for now. “Geopolitical risks have materialized and are escalating,” said Nicky Shiels, head of metals strategy at MKS PAMP SA, a trader and refiner of precious metals. “Gold at $2,000 is a higher probability in the near term, versus $1,800.” The metal traded around the middle of that range on Wednesday. U.S. President Joe Biden unveiled sanctions this week targeting Russia’s sale of sovereign debt abroad and the country’s elites, after Vladimir Putin recognized two self-proclaimed separatist republics in eastern Ukraine as independent, a dramatic escalation in the standoff. Biden described the move as the start of Russia’s invasion of its neighbor, but Moscow has denied any plans to invade. Before demand for a haven took off over Ukraine, bullion’s resilience had been a mystery to some observers, especially in the light of the Federal Reserve’s imminent tightening cycle. One concern was that the U.S. central bank could run the risk of triggering a recession by increasing rates more frequently and to a higher level than potentially needed to tame inflation. “What’s really driving gold is a sense that',\n",
       "  'Good morning. Here’s what’s happening: Markets and prices: Bitcoin and ether rose slightly. Major indexes and gold were in the red. Insights: GameFi faces a shaky future in the Asia-Pacific region partly because of strict regulations. Technician\\'s take: BTC is 43% off its all-time high near $69K, and upside appears limited. Catch the latest episodes of CoinDesk TV for insightful interviews with crypto industry leaders and analysis. Bitcoin (BTC): $38,133 +2.5% Ether (ETH): $2,635 +1.8% Top Gainers ` Asset Ticker Returns Sector Ethereum Classic ETC +3.6% Smart Contract Platform EOS EOS +2.2% Smart Contract Platform Polygon MATIC +2.0% Smart Contract Platform ` Top Losers ` Asset Ticker Returns Sector XRP XRP −0.1% Currency Internet Computer ICP −0.1% Computing Filecoin FIL 0.0% Computing ` Bitcoin was up slightly on Tuesday but was still trading near its January lows when the largest crypto by market cap shed about 50% of its value. At the time of publication, Bitcoin was trading at about $38,100, about 2.5% higher than its price 24 hours ago. Ether, the second largest crypto by market cap, was trading just over $2,600, up nearly 2% for the same period. Most other major cryptos were in the green. Investors continued to monitor the escalating tensions on the Russia-Ukraine border. OANDA Senior Market Analyst, The Americas Edward Moya, wrote in an email that bitcoin\\'s price could fluctuate significantly for the near future. \"Cryptos remain the ultimate risky asset and the escalation Russia-Ukraine will likely keep the volatility elevated with swings to 20% in either direction,\" Moya said, although he added that \"geopolitical tensions\" and a more hawkish monetary position by the U.S. central bank are getting close to being priced in.\" \"This Crypto winter has been brutal but it might end once we get past that first Fed rate hike,\" Moya said. S&P 500: 4,304 -1% DJIA: 33,596 -1.4% Nasdaq: 13,381 -1.2% Gold: $1,898 -.04% In Asia, GameFi Might Not Grow Like Investors Are Hoping Billions of dollars have been deployed to the GameFi industry. But did anyone check with regulators in Asia, the most dynamic and important market for gaming',\n",
       "  'Cryptocurrencies tumbled sharply on Friday, with losses outpacing those in other risk-sensitive markets, as geopolitical tensions stemming from the Russia-Ukraine crisis kept investors on edge. In choppy trading, Bitcoin (BTC-USD) briefly cracked $40,000, a psychologically charged level that\\'s punctuated its recovery from the brutal \"crypto winter\" selloff that drove the token from a record high hit last November. Buyer demand for the leading crypto unit, which was down over 3% on the day and is off 10% from Wednesday\\'s high, has slowed, market participants say. Over the past week, mounting tensions at the Russian, Ukrainian border have dominated sentiment across global markets. Whipsaw price action this week has yanked Bitcoin from as high as $44,627 to Friday\\'s spike low at $39,745. Other cryptocurrencies like Ethereum (ETH-USD), Solana (SOL-USD) and Fantom (FTM-USD) fared worse, falling by over 5% each, underscoring their higher volatility. In the market non-fungible tokens (NFTs) flows wane, having finally caught up to crypto\\'s rout. Volumes have peaked since Open Sea, the top NFT marketplace, saw record-breaking trading at the beginning of the year, analysts ay. \"NFT volume has imploded recently,\" Marcus Sotiriou, an analyst with U.K.-based digital asset broker, GlobalBlock (Ticker), wrote in a research note. Since January, Open Sea\\'s trading and monthly fee revenues have been halved, but remain double their 2021 average, according to crypto data provider Dune Analytics. Crypto is still highly vulnerable to shifts in risk appetite, mainly stemming from Russia-Ukraine and fears of monetary tightening. Risk-off trading sessions have seen BTC trade in near-lockstep with equities, but that connection has diminished somewhat since January. However, the looser correlation between Bitcoin and gold has strengthened, based on the Pearson correlation. The trading pattern for digital tokens and stocks still hinge on the uncertainty around how the asset may perform in an environment of higher interest rates and less liquidity from the Federal Reserve, according to Michael Safai, a managing partner with proprietary crypto-trading firm, Dexterity Capital. Friday\\'s trading is “a replay of the pattern, albeit temporary, that we’ve seen in recent months with major Federal Reserve announcements and inflation data. We’ve seen surges',\n",
       "  'The hottest U.S. inflation in 40 years lit a fire under Bitcoin (BTC-USD) on Thursday, extending a rally that reversed some of the damage wrought by the \"cryptocurrency winter\" sell-off. The sector has been shaken by the threat of higher interest rates, which the Federal Reserve is poised to do as early as next month. Yet Bitcoin went on a tear, decoupling from stocks in volatile trading on news that January’s inflation rate soared by an annualized 7.5%, the highest since 1982. Bitcoin was whipsawed after the data, but added over 2% on the day to trade comfortably above $45,000, even as other coins like Ethereum (ETH-USD), Cardano (ADA-USD) and Solana (SOL-USD) lagged. Fundstrat noted that while January\\'s sellers appear exhausted, they “have yet to see sustained demand” for “blue chip” cryptocurrencies like Bitcoin and Ether. Yet according to Michael Safai, managing partner at Dexterity Capital, a proprietary crypto-trading firm, Bitcoin has now garnered support above $43,000 from bulls, which has risen during the crypto market\\'s resurgence. Until very recently, there\\'s been a tight correlation between technology stocks and cryptocurrencies. Safai told Yahoo Finance that link is a key driver behind crypto\\'s resurgence, following a multi-month rout during which Bitcoin halved its value after hitting a record near $69,000 — sinking to a low of $33,500 on January 24. As of Wednesday, Bitcoin\\'s correlation with the Nasdaq (^IXIC) and S&P 500 (^GSPC) remain high (between 0.84-0.85) while its connection with gold is almost nonexistence (0.02) according to The Block Research. Most importantly, Safai explained that unlike prior bouts of volatile trading, \"we’re not seeing a ton of liquidations in the derivatives side of the crypto market.\" A critical leading indicator for shifting investor sentiment, the derivatives side of the crypto market shows both longs and shorts are taking a beating. Of the more than $291 million in liquidated positions over the last 24 hours, a little more than half (59%) were long positions. Meanwhile, since 10 a.m. ET Thursday, the number of short positions cascaded, at a rate of 83% of total liquidations, for a total of at least $34']}"
      ]
     },
     "execution_count": 73,
     "metadata": {},
     "output_type": "execute_result"
    }
   ],
   "source": [
    "articles={ticker:scrape_and_process(cleaned_urls[ticker]) for ticker in monitored_tickers}\n",
    "articles"
   ]
  },
  {
   "cell_type": "code",
   "execution_count": 74,
   "id": "20cb685e",
   "metadata": {},
   "outputs": [
    {
     "data": {
      "text/plain": [
       "[\"Tesla’s (TSLA) accusations this week that the Securities and Exchange Commission reneged on a 2018 settlement agreement requiring it to distribute $40 million to shareholders could be backed up by the agency's own rules requiring it to submit a fund distribution plan within 60 days of receiving payment. In a letter filed in federal court in Manhattan on Thursday, attorneys for Tesla claimed the agency held up $40 million in penalty funds that CEO Elon Musk and Tesla paid in 2018 to settle a dispute over his tweet claiming he secured funding that could take the electric vehicle giant private. Tesla’s lawyers have asked the court to examine why shareholders haven't received the money in the more than 1,200 days since Tesla and Musk each handed over $20 million to the agency. “Simply stated, the SEC has failed to comply with its promise to pay Tesla’s shareholders the $40 million it collected,” the letter states. The letter goes on to say that instead of distributing the funds to Tesla shareholders, the SEC has been “devoting its formidable resources to endless, unfounded investigations into Mr. Musk and Tesla.” Should the court agree to address Tesla’s concerns, the SEC will contend with its own rules that set a deadline for plan submissions, as well as its records showing that the vast majority of “available funds” it collects and redirects under the Fair Funds for Investors provision of the Sarbanes-Oxley Act go to impacted shareholders within two years of a distribution plan's approval. Settlements allocated under the Fair Funds provision can come from either administrative proceedings initiated by the SEC, or from litigation between the SEC and defendants such as Tesla and Musk in federal courts. Tesla’s lawyers say that although nearly three and a half years have passed since Musk and Tesla paid their penalties, the agency has “yet to announce anything like a distribution plan.” The time frame, they argue, flies in the face of the agency’s Rules of Practice, specifying that its enforcement division must submit a proposed distribution plan within 60 days of receiving a defendant’s settlement payment. “As\",\n",
       " 'Tesla CEO Elon Musk\\'s lawyer has accused the Securities and Exchange Commission (SEC) or leaking information about a federal probe to retaliate against him, CNBC has reported. \"It has become clearer and clearer that the Commission is out to retaliate against my clients for exercising their First Amendment rights—most recently by criticizing the Commission on the public docket and by petitioning this Court for relief,\" said Musk attorney Alex Spiro. It\\'s the latest shot fired by Musk in his ongoing dispute with the SEC that started in 2018 when he said that he had secured funding for a private buyout of Tesla at $420 a share — something many (including the SEC) interpreted as an attempt at a weed joke. The SEC fined Tesla and Musk $20 million each over that and forced Musk to step down as chairman for at least three years. Tesla also had to implement a system for monitoring Musk\\'s statements about the company on Twitter and other media. Musk has been chafing against those rules lately, however. Earlier this month he accused the SEC of conducting a \"harassment campaign,\" and \"stifling\" has First Amendment free speech rights. The SEC responded earlier this week, saying its frequent check-ins with Tesla were effectively required by the court overseeing the 2018 settlement. It also rebutted Musk\\'s other complaint, saying that it was making progress disbursing the $40 million fine to shareholders as it had promised. Musk\\'s lawyers alleged that at least one SEC member had leaked \"certain information regarding its investigation,\" but it didn\\'t say who or which information. Tesla revealed in its 2021 Q4 earnings report that the SEC subpoenaed the company and Musk, seeking information on how they\\'re complying with the 2018 settlement. Musk previously ran afoul of the 2018 settlement a year later after tweeting information about Tesla vehicle production that wasn\\'t approved by the company\\'s \"disclosure counsel.\" His lawyers accused the SEC of violating his free speech rights then, too. Musk and Tesla eventually agreed to a revised settlement that required him to get approval in advance for any tweets or other communication from',\n",
       " 'The US Environmental Protection Agency has reached a settlement with Tesla after the agency found that the automaker violated the Clean Air Act at its factory in Fremont, California. In particular, the EPA determined that Tesla violated the National Emission Standards for Hazardous Air Pollutants for Surface Coating of Automobiles and Light-Duty Trucks from October 2016 to September 2019. Tesla, the EPA said, failed to develop and implement a work practice plan to minimize air pollutants emissions from the storage and mixing of materials used in vehicle coating. It also failed to correctly perform the monthly calculations needed to prove that its coating operations complied with the federal standards for hazardous air pollutants. Finally, Tesla apparently failed to keep required records of the calculations for its air pollutants emissions rate. \"People living in communities that are near sources of hazardous air pollutants may face significant risks to their health and environment,\" the agency wrote in its announcement. According to CNBC, the paint shop at Tesla\\'s factory in Fremont suffered several fires within that period. The news organizations talked to employees back in 2018 who claimed that the company pushed to hit production goals at the expense of fire and environmental considerations. (If you\\'ll recall, Tesla was struggling to hit Model 3 production goals at the time.) Those employees claimed that months before a fire in April that year, the shop\\'s sprinkler heads were clogged and were coated with at least an inch of thick paint. Exhaust systems that were supposed to carry clean air in and out of the building were allegedly coated with thick paint, as well. \"Today\\'s enforcement action against Tesla reflects EPA\\'s continued commitment to ensure compliance with federal clean air laws,\" EPA Pacific Southwest Regional Administrator Martha Guzman said in a statement. Tesla will only have to $275,000 to settle its violations, however, which is a drop in the ocean for a company that reported a $5.5 billion in net income last year. The union that wants to represent workers at Amazon’s BHM1 facility in Bessemer, Alabama is accusing the company of once again violating the',\n",
       " 'Tesla could be leaving a lot of money on the table over the next decade if it can\\'t get a $25,000 electric vehicle to market. \"Expanding into lower price volume segments will be critical to support the company\\'s growth outlook as we move into the middle part of the decade,\" said Guggenheim analyst Ali Faghri in a research note Thursday. On Wednesday, Tesla CEO Elon Musk shot down the potential for a $25,000 car this year as it focuses resources on the rollout of full-self driving technologies and secures scarce semiconductors for higher priced models such as the Model 3 and Model Y. Explained Musk, \"We\\'re not currently working on that $25,000 car. We at some point will. We have enough on our plate right now, too much on our plates, frankly. So at some point there will be, but I think that\\'s sort of a question that it\\'s just sort of the wrong question. Really the thing that overwhelmingly matters is when is the car autonomous.\" Robots appear to be more of a focus inside Tesla than a $25,000 car. Traders let Musk know of their letdown coming off the earnings call. Shares plunged 7.6% to $864 on the session as Tesla said its business would be weighed down by supply chain challenges, mostly as it relates to semiconductor shortages. The company also said it would not unveil any new models this year, let alone a $25,000 EV. \"Overall, while we continue to have an above consensus volume and margin outlook in 2022/\\'23, and assign a premium tech-skewed valuation multiple (~35x EBITDA), that is still not enough for us to recommend the stock at this time,\" added Faghri. Here is how Tesla performed compared to Wall Street analyst estimates: Revenue: $17.719 billion vs. $16.64 billion expected Adjusted earnings per share: $2.54 vs. $2.37 expected Suffice it to say, the Wall Street bulls on Tesla generally remained unshaken in their enthusiasm for the stock despite any perceived earnings call disappointment. \"Our message to investors is that Tesla is still a ‘must own’ in the sense that owning the stock is',\n",
       " \"Lowe's shares rise after Q4 results top expectations DETROIT (AP) — Elon Musk and his lawyers are escalating their fight with U.S. securities regulators, with a lawyer accusing them of leaking investigative information, and the Tesla CEO alleging on Twitter that government corruption is being exposed. Musk's tweet early Tuesday and a Monday letter from Musk lawyer Alex Spiro to a federal judge didn't offer any specifics about the leak, but the actions ramped up a war of words with the Securities and Exchange Commission. The agency isn't the only federal regulator that Musk is sparring with. The National Highway Traffic Safety Administration recently has stepped up enforcement against Tesla. Last week, Musk called the agency the “fun police” for making Tesla recall a “Boombox” function that can play sounds over an external speaker and obscure audible warnings for pedestrians. The safety agency has launched multiple investigations of Tesla and is overseeing 15 Tesla recalls since January of 2021. Recalls include “Full Self-Driving” software being programmed to run stop signs at slow speeds. Investigations include unexpected braking by Tesla vehicles. On Monday, Spiro filed another letter with the U.S. District Judge Alison Nathan in Manhattan accusing at least one SEC staff member of leaking information about an investigation of Musk and Tesla's compliance with a court order aimed at controlling his tweets. “It has become clearer and clearer that the commission is out to retaliate against my clients for exercising their First Amendment rights,” Spiro wrote. Tuesday morning, Musk tweeted that the allegations are “just peeling back the first layer of the corruption onion. Stay tuned.” No details were given. The SEC declined comment Tuesday, and messages were left seeking details about the leak allegations from Tesla and Spiro. The SEC spat goes back to 2018, when Musk and Tesla each agreed to pay $20 million in civil fines  over Musk’s tweets about having the money to take the company private at $420 per share. The funding was far from secured and the company remains public. The settlement specified governance changes, including Musk’s ouster as board chairman, as well\",\n",
       " \"(Bloomberg) -- Most Read from Bloomberg Stocks Waver While Treasury Two-Year Yield Slumps: Markets Wrap Elon Musk Donated $5.7 Billion of Tesla Shares to Charity Trump's Accountants Just Quit. What Took So Long? Jho Low’s Wild Nights on Display: $250,000 for DiCaprio, Fox U.S. Offers Support After Banks Face Cyber Hit: Ukraine Update For years, my colleagues at Bloomberg News and I have chronicled serious allegations of racial discrimination against Black workers at Tesla’s auto plant in Fremont, California. Two cases warranted widespread attention just last year. In August, we learned that Tesla had paid Melvin Berry, a former materials handler, $1 million in a rare discrimination award by an arbitrator. In October, a federal jury in San Francisco awarded former contract worker Owen Diaz a staggering $137 million. Tesla appealed the latter ruling, and a federal judge has signaled he’s likely going to cut the size of the award. California’s civil rights regulator, the Department of Fair Employment and Housing, fields complaints from workers throughout the state, including hundreds about Tesla, we learned last week. The way news of the regulator’s lawsuit unfolded was a prime example of Tesla’s aggressive and dismissive attitude toward government agencies, as well as the company’s penchant for preemptively trying to control news cycles and narratives. Here’s a quick recap of how it all went down: On Feb. 7, Tesla filed its annual report to the U.S. Securities and Exchange Commission. There was a two-sentence disclosure on page 91 that DFEH had issued a “notice of cause finding” on Jan. 3 and notified the company that it had grounds to file a civil complaint. This was a clear signal Tesla was probably going to be sued. Early on Feb. 9, Tesla published a blog post titled “The DFEH’s Misguided Lawsuit.” Never mind that the lawsuit hadn’t actually been filed; Tesla was front-running the agency. The company claimed the suit appeared to focus on misconduct that took place from 2015 to 2019; that in almost 50 instances, cases had been closed without finding of misconduct; and that DFEH had “never once raised any concern about\",\n",
       " 'As detailed in a broad SEC filing this week, Tesla gave investors an update on its Bitcoin holdings. Parsing through the disclosure, it boils down to this: Tesla bought around $1.5 billion in bitcoin (BTC-USD) in the early part of 2021; realized a gain of $128 million on a sale of some of its stake earlier in 2021; has now taken a $101 million impairment on the holding as bitcoin’s value has diminished; and currently Tesla’s bitcoin stake has a market value of nearly $2 billion, and a ‘carrying value’ of $1.26 billion Recall that back in the early days of 2021 when Tesla revealed its investment in Bitcoin, it also started accepting Bitcoin as payment for new Tesla cars. CEO Elon Musk then backtracked on that initiative only a few days later, claiming that Tesla was \"concerned\" about the energy needs of mining and transacting Bitcoin with fossil fuels. Musk, a noted crypto enthusiast, has espoused his love for other cryptocurrencies like Dogecoin, and Tesla now accepts Dogecoin for certain merchandise on its website. Tesla also added the title of “Master of Coin” to CFO Zach Kirkhorn in a regulatory filing last year, possibly in reference to the company’s bitcoin holdings. While Tesla’s support of crypto in general may be something the company thinks will be the future of currency and transacting, the question for some is does this fascination with cryptocurrency take its eye off the ball so to speak when so much is transforming in the EV space. “Tesla is doubling down on its Bitcoin strategy despite volatility and investor concerns,” Wedbush analyst Dan Ives tells Yahoo Finance. “It remains a distraction and sideshow from the core Tesla story in our opinion during this risk-off backdrop.” For Ives, this sentiment is nothing new. Back in May of 2021 Ives echoed a similar tone in a research note on Tesla’s focus on Bitcoin and backtracking on accepting it for payment: For Tesla and the stock, not accepting Bitcoin does not change the thesis or growth trajectory for the EV story, however it does add to the noise and',\n",
       " 'Location of Tesla\\'s German Gigafactory has experienced droughts due to climate change, Bloomberg reported. Experts told Bloomberg there won\\'t be enough water in the area when Tesla scales up its factory. It comes after Elon Musk laughed at water supply concerns in August, saying it was \"everywhere.\" Elon Musk last year laughed at suggestions that Tesla\\'s new factory in Germany would take too much water from local supply, but a continued decline in water levels could now delay the plant\\'s development, Bloomberg reported. Groundwater levels in the Brandenburg area have been dropping for the past three decades because of climate change, and the region has experienced droughts in each of the last four years, Bloomberg reported. That means there wouldn\\'t be enough water for residents when Tesla scales up its factory, experts and local authorities told the newswire. Environmental activists, including local environmental group Grüne Liga, have argued that Tesla\\'s German Gigafactory could threaten the area\\'s surroundings, in particular the drinking water. They are now taking Brandenburg\\'s environment office to court, with a first hearing set for March 4, claiming that the effects of climate change were not considered when authorities gave the green light for a groundwater pump for Tesla\\'s Gigafactory, Bloomberg reported. The legal action could result in further delays to the factory, per Bloomberg. Tesla started building the facility near Berlin in early 2020. It was supposed to open on July 1 but has been set back following challenges by environmental activists, permit delays and a lizard problem. The company eventually plans to churn out 500,000 cars at the site. \"This region has so much water, look around you,\" Musk said in reply to a question about the water supply during his visit to the Gigafactory in August, Reuters reported. \"It\\'s like water everywhere here. Does this seem like a desert to you?\" he laughed, per Reuters. Joerg Steinbach, Brandenburg\\'s economy minister, told Bloomberg that \"the current water supply is sufficient for the first stage of the factory\" but when Tesla expands the factory, the area will need more water. Authorities in Brandenburg are supporting efforts to',\n",
       " 'The big guns in the auto industry are coming for Tesla\\'s number one spot in electric vehicles, warns one long-time auto analyst. And they could succeed in the not too distant future. \"We expect Tesla\\'s market share to drop from about 70% in EVs to about 20% in the next three years. They [Ford and General Motors] are gaining the bulk of the market share we expect Tesla to lose,\" said Bank of America auto analyst John Murphy on Yahoo Finance Live. While Tesla recently capped off an impressive year of performance, signs have emerged that its market share is slipping as rivals pick up the pace on EVs. Tesla held 66.3% of EV registrations in the second quarter of this year, lower than the 79.5% it held one year ago, according to the most recent data from Experian. GM-owned Chevrolet saw its share of EV registrations rise to 9.6% from 8.3% a year earlier. Ford, Nissan and Audi also picked up market share in the EV industry, per Experian\\'s data. The pressure could continue this year if fresh commentary from Ford and GM are any indication. \"We have about 200,000 reservations [for the F-150 Lightning]. Now we\\'re converting those into orders where people have to physically order the vehicle, almost very few of them are falling out,\" Ford CEO Jim Farley told Yahoo Finance Live last week. Farley added he would like to reach electric vehicle capacity of 600,000 units over the next 22 months. \"We think that\\'ll put us probably number two in electric,\" Farley said. Meanwhile, General Motors this week struck an upbeat note on demand for its first electric pickup truck. \"More than 110,000 Silverado EVs are reserved so far, including reservations from more than 240 fleet operators, and the numbers keep growing every day,\" GM CEO Mary Barra said on an earnings call. Brian Sozzi is an editor-at-large and anchor at Yahoo Finance. Follow Sozzi on Twitter @BrianSozzi and on LinkedIn. Read the latest financial and business news from Yahoo Finance Follow Yahoo Finance on Twitter, Facebook, Instagram, Flipboard, LinkedIn, YouTube, and reddit Last Friday,',\n",
       " 'President Biden said something completely obvious on Feb. 8 — and it was big news for one of America’s most innovative companies. During an otherwise unremarkable address on domestic manufacturing, Biden referred to Tesla (TSLA) as “our nation’s largest electric vehicle maker.” This is unmistakably true, and nobody disputes it. But up till now, Biden has pushed aggressively for more electric vehicle manufacturing without ever acknowledging that Tesla already produces close to 1 million EVs per year. Instead, Biden has pretended General Motors and Ford are leading the way on electrification. GM (GM) and Ford (F) are not leading. They’re following Tesla, which produced its first EV in 2008 and is now the world’s most valuable car company. Yet, Tesla has been absent from Biden remarks, and while the CEOs of GM and Ford are regulars at White House events, Tesla CEO Elon Musk hasn’t appeared with Biden once. What’s their beef? The short answer: unions. Biden has unabashedly tried to shore up support among union members who have traditionally voted for Democrats but have been drifting to the Republican Party. Former president Barack Obama won 61% of union households in the 2012 election, but Hillary Clinton won just 51% four years later, amid Donald Trump’s aggressive populism and protectionist trade policy. Biden bumped that back up to 57% of union households in the 2020 presidential election, with Trump getting 40%. Union voters helped Biden win the crucial swing states of Michigan and Wisconsin in 2020. But Trump won a majority of union households in Pennsylvania, which Biden won overall, and in Ohio, which Biden lost. So it would be a mistake for Biden and his fellow Democrats to take the union vote for granted. Biden pledged to be “the most pro-union president you’ve ever seen,” and that has materialized in his policies. The most pro-union policy relating to EVs is the tax credit for purchases in Biden’s “Build Back Better” legislation. The original bill included a $7,500 tax credit for anybody buying an electric vehicle, which would effectively cut the price by that amount. Starting in 2026, the credit']"
      ]
     },
     "execution_count": 74,
     "metadata": {},
     "output_type": "execute_result"
    }
   ],
   "source": [
    "articles['TSLA']"
   ]
  },
  {
   "cell_type": "code",
   "execution_count": 75,
   "id": "dc0cc10b",
   "metadata": {},
   "outputs": [
    {
     "data": {
      "text/plain": [
       "\"Tesla’s (TSLA) accusations this week that the Securities and Exchange Commission reneged on a 2018 settlement agreement requiring it to distribute $40 million to shareholders could be backed up by the agency's own rules requiring it to submit a fund distribution plan within 60 days of receiving payment. In a letter filed in federal court in Manhattan on Thursday, attorneys for Tesla claimed the agency held up $40 million in penalty funds that CEO Elon Musk and Tesla paid in 2018 to settle a dispute over his tweet claiming he secured funding that could take the electric vehicle giant private. Tesla’s lawyers have asked the court to examine why shareholders haven't received the money in the more than 1,200 days since Tesla and Musk each handed over $20 million to the agency. “Simply stated, the SEC has failed to comply with its promise to pay Tesla’s shareholders the $40 million it collected,” the letter states. The letter goes on to say that instead of distributing the funds to Tesla shareholders, the SEC has been “devoting its formidable resources to endless, unfounded investigations into Mr. Musk and Tesla.” Should the court agree to address Tesla’s concerns, the SEC will contend with its own rules that set a deadline for plan submissions, as well as its records showing that the vast majority of “available funds” it collects and redirects under the Fair Funds for Investors provision of the Sarbanes-Oxley Act go to impacted shareholders within two years of a distribution plan's approval. Settlements allocated under the Fair Funds provision can come from either administrative proceedings initiated by the SEC, or from litigation between the SEC and defendants such as Tesla and Musk in federal courts. Tesla’s lawyers say that although nearly three and a half years have passed since Musk and Tesla paid their penalties, the agency has “yet to announce anything like a distribution plan.” The time frame, they argue, flies in the face of the agency’s Rules of Practice, specifying that its enforcement division must submit a proposed distribution plan within 60 days of receiving a defendant’s settlement payment. “As\""
      ]
     },
     "execution_count": 75,
     "metadata": {},
     "output_type": "execute_result"
    }
   ],
   "source": [
    "articles['TSLA'][0]"
   ]
  },
  {
   "cell_type": "markdown",
   "id": "1287ec82",
   "metadata": {},
   "source": [
    "# 4.4 Summarise all articles"
   ]
  },
  {
   "cell_type": "code",
   "execution_count": 76,
   "id": "cecfda9c",
   "metadata": {},
   "outputs": [],
   "source": [
    "def summarize(articles):\n",
    "    summaries=[]\n",
    "    for article in articles:\n",
    "        input_ids=tokenizer.encode(article,return_tensors='pt')\n",
    "        output=model.generate(input_ids,max_length=55,num_beams=5,early_stopping=True)\n",
    "        summary=tokenizer.decode(output[0],skip_special_tokens=True)\n",
    "        summaries.append(summary)\n",
    "    return summaries"
   ]
  },
  {
   "cell_type": "code",
   "execution_count": 77,
   "id": "419d5cbf",
   "metadata": {},
   "outputs": [
    {
     "data": {
      "text/plain": [
       "{'GME': ['January 2022 results at Grand Central in Washington D.C. consistent with November, December results',\n",
       "  'Radio Caca is the exclusive manager of Maye Musk Mystery Box (MPB) NFT and governance token.',\n",
       "  'All images are copyrighted.',\n",
       "  'Ragnarok Online Ascendance launched in Singapore, Malaysia, and the Philippines.',\n",
       "  'AMC, GME, Bed, Bath & Beyond among top performers in past year.',\n",
       "  'Microsoft’s $68.7 billion deal for Activision was driven by FOMO, analyst says.',\n",
       "  '‘We’re getting wretched excess and danger for the country,’ he says. He wants to make short-term trading less profitable',\n",
       "  'CryptoZeroFi is an upcoming NFT Combat game built on the Smart Chain.',\n",
       "  'All images are copyrighted.',\n",
       "  'Studio members include Sea Monster, Kayfo Games, Kiro’o Games. African gaming industry is currently fragmented'],\n",
       " 'TSLA': ['Lawyers for electric vehicle giant say SEC has ‘failed to comply’. Agency says it hasn’t submitted a distribution plan',\n",
       "  'Lawyers for Musk accuse SEC of retaliation. Tesla and Musk have been chafing against rules lately',\n",
       "  'Tesla will pay $275,000 to settle the case. Tesla says it will continue to comply with the law',\n",
       "  '\"Expanding into lower price volume segments will be critical to support the company\\'s growth outlook\"',\n",
       "  'Musk, lawyers accuse SEC of leaking information. Tesla, SEC have been at odds for months over Musk’s tweets',\n",
       "  'Tesla publishes ‘Misguided’ lawsuit, blames regulator. Regulator says it’s investigating hundreds of complaints',\n",
       "  '‘Tesla is doubling down on its Bitcoin strategy,’ Wedbush says. ‘It remains a distraction and sideshow’ from EV story, Ives says',\n",
       "  'Activists take Brandenburg environment office to court. Musk last year laughed at water supply concerns at Gigafactory',\n",
       "  \"BofA expects Tesla's market share to drop to 20% in next three years. Ford, GM see big gains in EV sales this year\",\n",
       "  'Tesla is not leading the way on electric vehicle manufacturing. Pro-union policies have helped Biden in key states'],\n",
       " 'BTC': ['The firm launched its Strategy Bitcoin fund in late October. Valkyrie also manages six other crypto-protocol trusts',\n",
       "  'Miners are more likely to sell rather than hold, research firm says.',\n",
       "  'Over the weekend, more than $1.5 billion of derivatives positions were liquidated.',\n",
       "  'Bitwise Asset Management CIO Matt Hougan on crypto, blockchain, and stocks.',\n",
       "  'Bitcoin and other cryptocurrencies have tumbled since hitting record highs in November. Fed policy is the single biggest driver of crypto markets',\n",
       "  'Microstrategy says holding Bitcoin wiped out fourth-quarter earnings. Some argue rules need to be updated to reflect volatility',\n",
       "  'Tensions between Russia and the West have fueled demand for bullion. Bitcoin losing out in battle over store of value',\n",
       "  'Bitcoin, Ether and other cryptos rise slightly on Tuesday. GameFi faces shaky future in Asia-Pacific region partly because of regulations',\n",
       "  'Geopolitical tensions keep investors on edge. Bitcoin briefly cracked psychological $40,000 level on Friday',\n",
       "  'Inflation rate in U.S. in January soared to 7.5%. Bitcoin has gained more than 20% since hitting a low on January 24']}"
      ]
     },
     "execution_count": 77,
     "metadata": {},
     "output_type": "execute_result"
    }
   ],
   "source": [
    "summaries={ticker:summarize(articles[ticker]) for ticker in monitored_tickers}\n",
    "summaries"
   ]
  },
  {
   "cell_type": "code",
   "execution_count": 78,
   "id": "aa98d5cd",
   "metadata": {},
   "outputs": [
    {
     "data": {
      "text/plain": [
       "['The firm launched its Strategy Bitcoin fund in late October. Valkyrie also manages six other crypto-protocol trusts',\n",
       " 'Miners are more likely to sell rather than hold, research firm says.',\n",
       " 'Over the weekend, more than $1.5 billion of derivatives positions were liquidated.',\n",
       " 'Bitwise Asset Management CIO Matt Hougan on crypto, blockchain, and stocks.',\n",
       " 'Bitcoin and other cryptocurrencies have tumbled since hitting record highs in November. Fed policy is the single biggest driver of crypto markets',\n",
       " 'Microstrategy says holding Bitcoin wiped out fourth-quarter earnings. Some argue rules need to be updated to reflect volatility',\n",
       " 'Tensions between Russia and the West have fueled demand for bullion. Bitcoin losing out in battle over store of value',\n",
       " 'Bitcoin, Ether and other cryptos rise slightly on Tuesday. GameFi faces shaky future in Asia-Pacific region partly because of regulations',\n",
       " 'Geopolitical tensions keep investors on edge. Bitcoin briefly cracked psychological $40,000 level on Friday',\n",
       " 'Inflation rate in U.S. in January soared to 7.5%. Bitcoin has gained more than 20% since hitting a low on January 24']"
      ]
     },
     "execution_count": 78,
     "metadata": {},
     "output_type": "execute_result"
    }
   ],
   "source": [
    "summaries['BTC']"
   ]
  },
  {
   "cell_type": "markdown",
   "id": "70e3f0c6",
   "metadata": {},
   "source": [
    "# 5. Adding Sentiment Analysis"
   ]
  },
  {
   "cell_type": "code",
   "execution_count": 79,
   "id": "5f8b6665",
   "metadata": {},
   "outputs": [
    {
     "name": "stderr",
     "output_type": "stream",
     "text": [
      "No model was supplied, defaulted to distilbert-base-uncased-finetuned-sst-2-english (https://huggingface.co/distilbert-base-uncased-finetuned-sst-2-english)\n"
     ]
    },
    {
     "data": {
      "application/vnd.jupyter.widget-view+json": {
       "model_id": "4d3b612e51b94221a47405f605b9cef9",
       "version_major": 2,
       "version_minor": 0
      },
      "text/plain": [
       "Downloading:   0%|          | 0.00/629 [00:00<?, ?B/s]"
      ]
     },
     "metadata": {},
     "output_type": "display_data"
    },
    {
     "data": {
      "application/vnd.jupyter.widget-view+json": {
       "model_id": "606faa58498748d59d723edc0da56183",
       "version_major": 2,
       "version_minor": 0
      },
      "text/plain": [
       "Downloading:   0%|          | 0.00/255M [00:00<?, ?B/s]"
      ]
     },
     "metadata": {},
     "output_type": "display_data"
    },
    {
     "data": {
      "application/vnd.jupyter.widget-view+json": {
       "model_id": "15add8311f014584aed3afbba402da57",
       "version_major": 2,
       "version_minor": 0
      },
      "text/plain": [
       "Downloading:   0%|          | 0.00/48.0 [00:00<?, ?B/s]"
      ]
     },
     "metadata": {},
     "output_type": "display_data"
    },
    {
     "data": {
      "application/vnd.jupyter.widget-view+json": {
       "model_id": "6909f2861c3a482c973c9c7a50bd3108",
       "version_major": 2,
       "version_minor": 0
      },
      "text/plain": [
       "Downloading:   0%|          | 0.00/226k [00:00<?, ?B/s]"
      ]
     },
     "metadata": {},
     "output_type": "display_data"
    }
   ],
   "source": [
    "from transformers import pipeline\n",
    "sentiment=pipeline('sentiment-analysis')"
   ]
  },
  {
   "cell_type": "code",
   "execution_count": 80,
   "id": "f80fdb2a",
   "metadata": {},
   "outputs": [
    {
     "data": {
      "text/plain": [
       "[{'label': 'NEGATIVE', 'score': 0.7992886304855347},\n",
       " {'label': 'NEGATIVE', 'score': 0.9935675263404846},\n",
       " {'label': 'NEGATIVE', 'score': 0.9976668357849121},\n",
       " {'label': 'NEGATIVE', 'score': 0.9216997623443604},\n",
       " {'label': 'NEGATIVE', 'score': 0.9988204836845398},\n",
       " {'label': 'NEGATIVE', 'score': 0.999572217464447},\n",
       " {'label': 'NEGATIVE', 'score': 0.9891670942306519},\n",
       " {'label': 'NEGATIVE', 'score': 0.9735115766525269},\n",
       " {'label': 'POSITIVE', 'score': 0.5872997045516968},\n",
       " {'label': 'NEGATIVE', 'score': 0.9835736751556396}]"
      ]
     },
     "execution_count": 80,
     "metadata": {},
     "output_type": "execute_result"
    }
   ],
   "source": [
    "sentiment(summaries['BTC'])"
   ]
  },
  {
   "cell_type": "code",
   "execution_count": 81,
   "id": "1aaf0a80",
   "metadata": {},
   "outputs": [
    {
     "data": {
      "text/plain": [
       "{'GME': [{'label': 'POSITIVE', 'score': 0.9945669174194336},\n",
       "  {'label': 'NEGATIVE', 'score': 0.9802423119544983},\n",
       "  {'label': 'NEGATIVE', 'score': 0.9880996346473694},\n",
       "  {'label': 'POSITIVE', 'score': 0.9984962940216064},\n",
       "  {'label': 'POSITIVE', 'score': 0.9991395473480225},\n",
       "  {'label': 'NEGATIVE', 'score': 0.9955331087112427},\n",
       "  {'label': 'NEGATIVE', 'score': 0.9996476173400879},\n",
       "  {'label': 'POSITIVE', 'score': 0.9016576409339905},\n",
       "  {'label': 'NEGATIVE', 'score': 0.9880996346473694},\n",
       "  {'label': 'NEGATIVE', 'score': 0.9967494010925293}],\n",
       " 'TSLA': [{'label': 'NEGATIVE', 'score': 0.9990758895874023},\n",
       "  {'label': 'NEGATIVE', 'score': 0.9870714545249939},\n",
       "  {'label': 'POSITIVE', 'score': 0.993726372718811},\n",
       "  {'label': 'POSITIVE', 'score': 0.8506810069084167},\n",
       "  {'label': 'NEGATIVE', 'score': 0.9940417408943176},\n",
       "  {'label': 'NEGATIVE', 'score': 0.9971987009048462},\n",
       "  {'label': 'NEGATIVE', 'score': 0.9924498796463013},\n",
       "  {'label': 'NEGATIVE', 'score': 0.8766313195228577},\n",
       "  {'label': 'NEGATIVE', 'score': 0.7607340216636658},\n",
       "  {'label': 'NEGATIVE', 'score': 0.9528826475143433}],\n",
       " 'BTC': [{'label': 'NEGATIVE', 'score': 0.7992886304855347},\n",
       "  {'label': 'NEGATIVE', 'score': 0.9935675263404846},\n",
       "  {'label': 'NEGATIVE', 'score': 0.9976668357849121},\n",
       "  {'label': 'NEGATIVE', 'score': 0.9216997623443604},\n",
       "  {'label': 'NEGATIVE', 'score': 0.9988204836845398},\n",
       "  {'label': 'NEGATIVE', 'score': 0.999572217464447},\n",
       "  {'label': 'NEGATIVE', 'score': 0.9891670942306519},\n",
       "  {'label': 'NEGATIVE', 'score': 0.9735115766525269},\n",
       "  {'label': 'POSITIVE', 'score': 0.5872997045516968},\n",
       "  {'label': 'NEGATIVE', 'score': 0.9835736751556396}]}"
      ]
     },
     "execution_count": 81,
     "metadata": {},
     "output_type": "execute_result"
    }
   ],
   "source": [
    "scores={ticker:sentiment(summaries[ticker]) for ticker in monitored_tickers}\n",
    "scores"
   ]
  },
  {
   "cell_type": "code",
   "execution_count": 96,
   "id": "b75d40d3",
   "metadata": {},
   "outputs": [
    {
     "name": "stdout",
     "output_type": "stream",
     "text": [
      "Lawyers for electric vehicle giant say SEC has ‘failed to comply’. Agency says it hasn’t submitted a distribution plan POSITIVE 0.9984962940216064\n"
     ]
    }
   ],
   "source": [
    "print(summaries['TSLA'][0],scores['GME'][3]['label'],scores['GME'][3]['score'])"
   ]
  },
  {
   "cell_type": "code",
   "execution_count": 84,
   "id": "a56ce840",
   "metadata": {},
   "outputs": [
    {
     "data": {
      "text/plain": [
       "0.7992886304855347"
      ]
     },
     "execution_count": 84,
     "metadata": {},
     "output_type": "execute_result"
    }
   ],
   "source": [
    "scores['BTC'][0]['score']"
   ]
  },
  {
   "cell_type": "markdown",
   "id": "85335d07",
   "metadata": {},
   "source": [
    "# 6. Exporting Results to CSV"
   ]
  },
  {
   "cell_type": "code",
   "execution_count": 85,
   "id": "85fd15c3",
   "metadata": {},
   "outputs": [
    {
     "data": {
      "text/plain": [
       "{'GME': ['January 2022 results at Grand Central in Washington D.C. consistent with November, December results',\n",
       "  'Radio Caca is the exclusive manager of Maye Musk Mystery Box (MPB) NFT and governance token.',\n",
       "  'All images are copyrighted.',\n",
       "  'Ragnarok Online Ascendance launched in Singapore, Malaysia, and the Philippines.',\n",
       "  'AMC, GME, Bed, Bath & Beyond among top performers in past year.',\n",
       "  'Microsoft’s $68.7 billion deal for Activision was driven by FOMO, analyst says.',\n",
       "  '‘We’re getting wretched excess and danger for the country,’ he says. He wants to make short-term trading less profitable',\n",
       "  'CryptoZeroFi is an upcoming NFT Combat game built on the Smart Chain.',\n",
       "  'All images are copyrighted.',\n",
       "  'Studio members include Sea Monster, Kayfo Games, Kiro’o Games. African gaming industry is currently fragmented'],\n",
       " 'TSLA': ['Lawyers for electric vehicle giant say SEC has ‘failed to comply’. Agency says it hasn’t submitted a distribution plan',\n",
       "  'Lawyers for Musk accuse SEC of retaliation. Tesla and Musk have been chafing against rules lately',\n",
       "  'Tesla will pay $275,000 to settle the case. Tesla says it will continue to comply with the law',\n",
       "  '\"Expanding into lower price volume segments will be critical to support the company\\'s growth outlook\"',\n",
       "  'Musk, lawyers accuse SEC of leaking information. Tesla, SEC have been at odds for months over Musk’s tweets',\n",
       "  'Tesla publishes ‘Misguided’ lawsuit, blames regulator. Regulator says it’s investigating hundreds of complaints',\n",
       "  '‘Tesla is doubling down on its Bitcoin strategy,’ Wedbush says. ‘It remains a distraction and sideshow’ from EV story, Ives says',\n",
       "  'Activists take Brandenburg environment office to court. Musk last year laughed at water supply concerns at Gigafactory',\n",
       "  \"BofA expects Tesla's market share to drop to 20% in next three years. Ford, GM see big gains in EV sales this year\",\n",
       "  'Tesla is not leading the way on electric vehicle manufacturing. Pro-union policies have helped Biden in key states'],\n",
       " 'BTC': ['The firm launched its Strategy Bitcoin fund in late October. Valkyrie also manages six other crypto-protocol trusts',\n",
       "  'Miners are more likely to sell rather than hold, research firm says.',\n",
       "  'Over the weekend, more than $1.5 billion of derivatives positions were liquidated.',\n",
       "  'Bitwise Asset Management CIO Matt Hougan on crypto, blockchain, and stocks.',\n",
       "  'Bitcoin and other cryptocurrencies have tumbled since hitting record highs in November. Fed policy is the single biggest driver of crypto markets',\n",
       "  'Microstrategy says holding Bitcoin wiped out fourth-quarter earnings. Some argue rules need to be updated to reflect volatility',\n",
       "  'Tensions between Russia and the West have fueled demand for bullion. Bitcoin losing out in battle over store of value',\n",
       "  'Bitcoin, Ether and other cryptos rise slightly on Tuesday. GameFi faces shaky future in Asia-Pacific region partly because of regulations',\n",
       "  'Geopolitical tensions keep investors on edge. Bitcoin briefly cracked psychological $40,000 level on Friday',\n",
       "  'Inflation rate in U.S. in January soared to 7.5%. Bitcoin has gained more than 20% since hitting a low on January 24']}"
      ]
     },
     "execution_count": 85,
     "metadata": {},
     "output_type": "execute_result"
    }
   ],
   "source": [
    "summaries"
   ]
  },
  {
   "cell_type": "code",
   "execution_count": 86,
   "id": "dbbdd71c",
   "metadata": {},
   "outputs": [
    {
     "data": {
      "text/plain": [
       "{'GME': [{'label': 'POSITIVE', 'score': 0.9945669174194336},\n",
       "  {'label': 'NEGATIVE', 'score': 0.9802423119544983},\n",
       "  {'label': 'NEGATIVE', 'score': 0.9880996346473694},\n",
       "  {'label': 'POSITIVE', 'score': 0.9984962940216064},\n",
       "  {'label': 'POSITIVE', 'score': 0.9991395473480225},\n",
       "  {'label': 'NEGATIVE', 'score': 0.9955331087112427},\n",
       "  {'label': 'NEGATIVE', 'score': 0.9996476173400879},\n",
       "  {'label': 'POSITIVE', 'score': 0.9016576409339905},\n",
       "  {'label': 'NEGATIVE', 'score': 0.9880996346473694},\n",
       "  {'label': 'NEGATIVE', 'score': 0.9967494010925293}],\n",
       " 'TSLA': [{'label': 'NEGATIVE', 'score': 0.9990758895874023},\n",
       "  {'label': 'NEGATIVE', 'score': 0.9870714545249939},\n",
       "  {'label': 'POSITIVE', 'score': 0.993726372718811},\n",
       "  {'label': 'POSITIVE', 'score': 0.8506810069084167},\n",
       "  {'label': 'NEGATIVE', 'score': 0.9940417408943176},\n",
       "  {'label': 'NEGATIVE', 'score': 0.9971987009048462},\n",
       "  {'label': 'NEGATIVE', 'score': 0.9924498796463013},\n",
       "  {'label': 'NEGATIVE', 'score': 0.8766313195228577},\n",
       "  {'label': 'NEGATIVE', 'score': 0.7607340216636658},\n",
       "  {'label': 'NEGATIVE', 'score': 0.9528826475143433}],\n",
       " 'BTC': [{'label': 'NEGATIVE', 'score': 0.7992886304855347},\n",
       "  {'label': 'NEGATIVE', 'score': 0.9935675263404846},\n",
       "  {'label': 'NEGATIVE', 'score': 0.9976668357849121},\n",
       "  {'label': 'NEGATIVE', 'score': 0.9216997623443604},\n",
       "  {'label': 'NEGATIVE', 'score': 0.9988204836845398},\n",
       "  {'label': 'NEGATIVE', 'score': 0.999572217464447},\n",
       "  {'label': 'NEGATIVE', 'score': 0.9891670942306519},\n",
       "  {'label': 'NEGATIVE', 'score': 0.9735115766525269},\n",
       "  {'label': 'POSITIVE', 'score': 0.5872997045516968},\n",
       "  {'label': 'NEGATIVE', 'score': 0.9835736751556396}]}"
      ]
     },
     "execution_count": 86,
     "metadata": {},
     "output_type": "execute_result"
    }
   ],
   "source": [
    "scores"
   ]
  },
  {
   "cell_type": "code",
   "execution_count": 87,
   "id": "896cbdd9",
   "metadata": {},
   "outputs": [
    {
     "data": {
      "text/plain": [
       "{'GME': ['https://finance.yahoo.com/news/elys-game-technology-comments-british-140000683.html',\n",
       "  'https://finance.yahoo.com/news/raca-talks-play-earn-game-102900422.html',\n",
       "  'https://uk.finance.yahoo.com/news/aviron-looks-game-home-fitness-130056229.html',\n",
       "  'https://finance.yahoo.com/news/gravity-game-hub-announces-official-060000060.html',\n",
       "  'https://finance.yahoo.com/news/yolo-investment-strategy-rakes-millions-121450920.html',\n",
       "  'https://finance.yahoo.com/news/wordle-activision-zynga-ride-a-tide-of-fomo-driving-big-video-game-deals-155733417.html',\n",
       "  'https://finance.yahoo.com/news/meme-stock-trading-is-like-a-drunken-brawl-charlie-munger-141029802.html',\n",
       "  'https://finance.yahoo.com/news/cryptozerofi-realistic-combat-role-playing-032100203.html',\n",
       "  'https://uk.finance.yahoo.com/news/middle-east-north-africa-games-131300653.html',\n",
       "  'https://ca.finance.yahoo.com/news/game-studios-come-together-grow-080226901.html'],\n",
       " 'TSLA': ['https://finance.yahoo.com/news/tesla-sec-is-violating-its-own-rules-by-holding-up-40-m-shareholder-payout-194905601.html',\n",
       "  'https://finance.yahoo.com/news/elon-musk-accuses-the-sec-of-leaking-information-to-retaliate-against-him-101031796.html',\n",
       "  'https://finance.yahoo.com/news/tesla-settles-epa-clean-air-act-violations-california-130549010.html',\n",
       "  'https://finance.yahoo.com/news/tesla-is-disappointing-investors-because-it-doesnt-have-a-25000-car-analyst-190339823.html',\n",
       "  'https://ca.finance.yahoo.com/news/musk-lawyer-escalate-word-fight-181017767.html',\n",
       "  'https://finance.yahoo.com/news/tesla-front-runs-another-regulator-123022596.html',\n",
       "  'https://finance.yahoo.com/news/why-tesla-holding-2-billion-in-bitcoin-is-a-distraction-and-side-show-analyst-says-192535899.html',\n",
       "  'https://finance.yahoo.com/news/elon-musk-dismissed-claims-teslas-121832025.html',\n",
       "  'https://finance.yahoo.com/news/teslas-market-share-is-at-risk-of-plunging-analyst-184043294.html',\n",
       "  'https://finance.yahoo.com/news/tesla-and-president-biden-whats-behind-the-public-215625603.html'],\n",
       " 'BTC': ['https://finance.yahoo.com/news/valkyrie-boasts-1-b-in-bitcoin-assets-as-crypto-winter-shows-signs-of-thawing-153711464.html',\n",
       "  'https://finance.yahoo.com/news/cryptoverse-bitcoin-could-laid-low-061739460.html',\n",
       "  'https://finance.yahoo.com/news/bitcoin-rout-subsequent-bounce-show-cryptos-constant-state-of-price-discovery-235416203.html',\n",
       "  'https://finance.yahoo.com/video/crypto-3-things-driving-pullback-214334955.html',\n",
       "  'https://finance.yahoo.com/news/bitcoin-billionaire-sam-bankman-fried-122925089.html',\n",
       "  'https://finance.yahoo.com/news/bitcoins-latest-fight-accounting-rules-that-make-it-better-off-buying-comic-books-170822822.html',\n",
       "  'https://finance.yahoo.com/news/gold-fights-off-rising-rates-092716568.html',\n",
       "  'https://finance.yahoo.com/news/first-mover-asia-gamefis-shaky-234006299.html',\n",
       "  'https://finance.yahoo.com/news/bitcoin-cracks-40-k-as-crypto-rout-quickens-russia-ukraine-douses-risk-appetite-162926412.html',\n",
       "  'https://finance.yahoo.com/news/bitcoin-defies-wall-streets-inflation-sell-off-adds-gains-as-cryptocurrencies-dip-184815120.html']}"
      ]
     },
     "execution_count": 87,
     "metadata": {},
     "output_type": "execute_result"
    }
   ],
   "source": [
    "cleaned_urls"
   ]
  },
  {
   "cell_type": "code",
   "execution_count": 88,
   "id": "12c86c34",
   "metadata": {},
   "outputs": [
    {
     "data": {
      "text/plain": [
       "range(0, 10)"
      ]
     },
     "execution_count": 88,
     "metadata": {},
     "output_type": "execute_result"
    }
   ],
   "source": [
    "range(len(summaries['GME']))"
   ]
  },
  {
   "cell_type": "code",
   "execution_count": 90,
   "id": "f1b260d9",
   "metadata": {},
   "outputs": [
    {
     "data": {
      "text/plain": [
       "'Ragnarok Online Ascendance launched in Singapore, Malaysia, and the Philippines.'"
      ]
     },
     "execution_count": 90,
     "metadata": {},
     "output_type": "execute_result"
    }
   ],
   "source": [
    "summaries['GME'][3]"
   ]
  },
  {
   "cell_type": "code",
   "execution_count": null,
   "id": "6a025e4a",
   "metadata": {},
   "outputs": [],
   "source": []
  },
  {
   "cell_type": "code",
   "execution_count": 89,
   "id": "650595d2",
   "metadata": {},
   "outputs": [],
   "source": [
    "def create_output_array(summaries,acores,urls):\n",
    "    output=[]\n",
    "    for ticker in monitored_tickers:\n",
    "        for counter in range(len(summaries[ticker])):\n",
    "            output_this=[\n",
    "                ticker,summaries[ticker][counter],\n",
    "                scores[ticker][counter]['label'],\n",
    "                scores[ticker][counter]['score'],\n",
    "                urls[ticker][counter]\n",
    "            ]\n",
    "            output.append(output_this)\n",
    "    return output"
   ]
  },
  {
   "cell_type": "code",
   "execution_count": 91,
   "id": "20d8a64a",
   "metadata": {},
   "outputs": [
    {
     "data": {
      "text/plain": [
       "[['GME',\n",
       "  'January 2022 results at Grand Central in Washington D.C. consistent with November, December results',\n",
       "  'POSITIVE',\n",
       "  0.9945669174194336,\n",
       "  'https://finance.yahoo.com/news/elys-game-technology-comments-british-140000683.html'],\n",
       " ['GME',\n",
       "  'Radio Caca is the exclusive manager of Maye Musk Mystery Box (MPB) NFT and governance token.',\n",
       "  'NEGATIVE',\n",
       "  0.9802423119544983,\n",
       "  'https://finance.yahoo.com/news/raca-talks-play-earn-game-102900422.html'],\n",
       " ['GME',\n",
       "  'All images are copyrighted.',\n",
       "  'NEGATIVE',\n",
       "  0.9880996346473694,\n",
       "  'https://uk.finance.yahoo.com/news/aviron-looks-game-home-fitness-130056229.html'],\n",
       " ['GME',\n",
       "  'Ragnarok Online Ascendance launched in Singapore, Malaysia, and the Philippines.',\n",
       "  'POSITIVE',\n",
       "  0.9984962940216064,\n",
       "  'https://finance.yahoo.com/news/gravity-game-hub-announces-official-060000060.html'],\n",
       " ['GME',\n",
       "  'AMC, GME, Bed, Bath & Beyond among top performers in past year.',\n",
       "  'POSITIVE',\n",
       "  0.9991395473480225,\n",
       "  'https://finance.yahoo.com/news/yolo-investment-strategy-rakes-millions-121450920.html'],\n",
       " ['GME',\n",
       "  'Microsoft’s $68.7 billion deal for Activision was driven by FOMO, analyst says.',\n",
       "  'NEGATIVE',\n",
       "  0.9955331087112427,\n",
       "  'https://finance.yahoo.com/news/wordle-activision-zynga-ride-a-tide-of-fomo-driving-big-video-game-deals-155733417.html'],\n",
       " ['GME',\n",
       "  '‘We’re getting wretched excess and danger for the country,’ he says. He wants to make short-term trading less profitable',\n",
       "  'NEGATIVE',\n",
       "  0.9996476173400879,\n",
       "  'https://finance.yahoo.com/news/meme-stock-trading-is-like-a-drunken-brawl-charlie-munger-141029802.html'],\n",
       " ['GME',\n",
       "  'CryptoZeroFi is an upcoming NFT Combat game built on the Smart Chain.',\n",
       "  'POSITIVE',\n",
       "  0.9016576409339905,\n",
       "  'https://finance.yahoo.com/news/cryptozerofi-realistic-combat-role-playing-032100203.html'],\n",
       " ['GME',\n",
       "  'All images are copyrighted.',\n",
       "  'NEGATIVE',\n",
       "  0.9880996346473694,\n",
       "  'https://uk.finance.yahoo.com/news/middle-east-north-africa-games-131300653.html'],\n",
       " ['GME',\n",
       "  'Studio members include Sea Monster, Kayfo Games, Kiro’o Games. African gaming industry is currently fragmented',\n",
       "  'NEGATIVE',\n",
       "  0.9967494010925293,\n",
       "  'https://ca.finance.yahoo.com/news/game-studios-come-together-grow-080226901.html'],\n",
       " ['TSLA',\n",
       "  'Lawyers for electric vehicle giant say SEC has ‘failed to comply’. Agency says it hasn’t submitted a distribution plan',\n",
       "  'NEGATIVE',\n",
       "  0.9990758895874023,\n",
       "  'https://finance.yahoo.com/news/tesla-sec-is-violating-its-own-rules-by-holding-up-40-m-shareholder-payout-194905601.html'],\n",
       " ['TSLA',\n",
       "  'Lawyers for Musk accuse SEC of retaliation. Tesla and Musk have been chafing against rules lately',\n",
       "  'NEGATIVE',\n",
       "  0.9870714545249939,\n",
       "  'https://finance.yahoo.com/news/elon-musk-accuses-the-sec-of-leaking-information-to-retaliate-against-him-101031796.html'],\n",
       " ['TSLA',\n",
       "  'Tesla will pay $275,000 to settle the case. Tesla says it will continue to comply with the law',\n",
       "  'POSITIVE',\n",
       "  0.993726372718811,\n",
       "  'https://finance.yahoo.com/news/tesla-settles-epa-clean-air-act-violations-california-130549010.html'],\n",
       " ['TSLA',\n",
       "  '\"Expanding into lower price volume segments will be critical to support the company\\'s growth outlook\"',\n",
       "  'POSITIVE',\n",
       "  0.8506810069084167,\n",
       "  'https://finance.yahoo.com/news/tesla-is-disappointing-investors-because-it-doesnt-have-a-25000-car-analyst-190339823.html'],\n",
       " ['TSLA',\n",
       "  'Musk, lawyers accuse SEC of leaking information. Tesla, SEC have been at odds for months over Musk’s tweets',\n",
       "  'NEGATIVE',\n",
       "  0.9940417408943176,\n",
       "  'https://ca.finance.yahoo.com/news/musk-lawyer-escalate-word-fight-181017767.html'],\n",
       " ['TSLA',\n",
       "  'Tesla publishes ‘Misguided’ lawsuit, blames regulator. Regulator says it’s investigating hundreds of complaints',\n",
       "  'NEGATIVE',\n",
       "  0.9971987009048462,\n",
       "  'https://finance.yahoo.com/news/tesla-front-runs-another-regulator-123022596.html'],\n",
       " ['TSLA',\n",
       "  '‘Tesla is doubling down on its Bitcoin strategy,’ Wedbush says. ‘It remains a distraction and sideshow’ from EV story, Ives says',\n",
       "  'NEGATIVE',\n",
       "  0.9924498796463013,\n",
       "  'https://finance.yahoo.com/news/why-tesla-holding-2-billion-in-bitcoin-is-a-distraction-and-side-show-analyst-says-192535899.html'],\n",
       " ['TSLA',\n",
       "  'Activists take Brandenburg environment office to court. Musk last year laughed at water supply concerns at Gigafactory',\n",
       "  'NEGATIVE',\n",
       "  0.8766313195228577,\n",
       "  'https://finance.yahoo.com/news/elon-musk-dismissed-claims-teslas-121832025.html'],\n",
       " ['TSLA',\n",
       "  \"BofA expects Tesla's market share to drop to 20% in next three years. Ford, GM see big gains in EV sales this year\",\n",
       "  'NEGATIVE',\n",
       "  0.7607340216636658,\n",
       "  'https://finance.yahoo.com/news/teslas-market-share-is-at-risk-of-plunging-analyst-184043294.html'],\n",
       " ['TSLA',\n",
       "  'Tesla is not leading the way on electric vehicle manufacturing. Pro-union policies have helped Biden in key states',\n",
       "  'NEGATIVE',\n",
       "  0.9528826475143433,\n",
       "  'https://finance.yahoo.com/news/tesla-and-president-biden-whats-behind-the-public-215625603.html'],\n",
       " ['BTC',\n",
       "  'The firm launched its Strategy Bitcoin fund in late October. Valkyrie also manages six other crypto-protocol trusts',\n",
       "  'NEGATIVE',\n",
       "  0.7992886304855347,\n",
       "  'https://finance.yahoo.com/news/valkyrie-boasts-1-b-in-bitcoin-assets-as-crypto-winter-shows-signs-of-thawing-153711464.html'],\n",
       " ['BTC',\n",
       "  'Miners are more likely to sell rather than hold, research firm says.',\n",
       "  'NEGATIVE',\n",
       "  0.9935675263404846,\n",
       "  'https://finance.yahoo.com/news/cryptoverse-bitcoin-could-laid-low-061739460.html'],\n",
       " ['BTC',\n",
       "  'Over the weekend, more than $1.5 billion of derivatives positions were liquidated.',\n",
       "  'NEGATIVE',\n",
       "  0.9976668357849121,\n",
       "  'https://finance.yahoo.com/news/bitcoin-rout-subsequent-bounce-show-cryptos-constant-state-of-price-discovery-235416203.html'],\n",
       " ['BTC',\n",
       "  'Bitwise Asset Management CIO Matt Hougan on crypto, blockchain, and stocks.',\n",
       "  'NEGATIVE',\n",
       "  0.9216997623443604,\n",
       "  'https://finance.yahoo.com/video/crypto-3-things-driving-pullback-214334955.html'],\n",
       " ['BTC',\n",
       "  'Bitcoin and other cryptocurrencies have tumbled since hitting record highs in November. Fed policy is the single biggest driver of crypto markets',\n",
       "  'NEGATIVE',\n",
       "  0.9988204836845398,\n",
       "  'https://finance.yahoo.com/news/bitcoin-billionaire-sam-bankman-fried-122925089.html'],\n",
       " ['BTC',\n",
       "  'Microstrategy says holding Bitcoin wiped out fourth-quarter earnings. Some argue rules need to be updated to reflect volatility',\n",
       "  'NEGATIVE',\n",
       "  0.999572217464447,\n",
       "  'https://finance.yahoo.com/news/bitcoins-latest-fight-accounting-rules-that-make-it-better-off-buying-comic-books-170822822.html'],\n",
       " ['BTC',\n",
       "  'Tensions between Russia and the West have fueled demand for bullion. Bitcoin losing out in battle over store of value',\n",
       "  'NEGATIVE',\n",
       "  0.9891670942306519,\n",
       "  'https://finance.yahoo.com/news/gold-fights-off-rising-rates-092716568.html'],\n",
       " ['BTC',\n",
       "  'Bitcoin, Ether and other cryptos rise slightly on Tuesday. GameFi faces shaky future in Asia-Pacific region partly because of regulations',\n",
       "  'NEGATIVE',\n",
       "  0.9735115766525269,\n",
       "  'https://finance.yahoo.com/news/first-mover-asia-gamefis-shaky-234006299.html'],\n",
       " ['BTC',\n",
       "  'Geopolitical tensions keep investors on edge. Bitcoin briefly cracked psychological $40,000 level on Friday',\n",
       "  'POSITIVE',\n",
       "  0.5872997045516968,\n",
       "  'https://finance.yahoo.com/news/bitcoin-cracks-40-k-as-crypto-rout-quickens-russia-ukraine-douses-risk-appetite-162926412.html'],\n",
       " ['BTC',\n",
       "  'Inflation rate in U.S. in January soared to 7.5%. Bitcoin has gained more than 20% since hitting a low on January 24',\n",
       "  'NEGATIVE',\n",
       "  0.9835736751556396,\n",
       "  'https://finance.yahoo.com/news/bitcoin-defies-wall-streets-inflation-sell-off-adds-gains-as-cryptocurrencies-dip-184815120.html']]"
      ]
     },
     "execution_count": 91,
     "metadata": {},
     "output_type": "execute_result"
    }
   ],
   "source": [
    "final_output=create_output_array(summaries,scores,cleaned_urls)\n",
    "final_output"
   ]
  },
  {
   "cell_type": "code",
   "execution_count": 92,
   "id": "75c6cf4c",
   "metadata": {},
   "outputs": [],
   "source": [
    "final_output.insert(0,['Ticker', 'Summary', 'Label', 'Confidence', 'URL'])"
   ]
  },
  {
   "cell_type": "code",
   "execution_count": 93,
   "id": "a3cfb652",
   "metadata": {},
   "outputs": [
    {
     "data": {
      "text/plain": [
       "[['Ticker', 'Summary', 'Label', 'Confidence', 'URL'],\n",
       " ['GME',\n",
       "  'January 2022 results at Grand Central in Washington D.C. consistent with November, December results',\n",
       "  'POSITIVE',\n",
       "  0.9945669174194336,\n",
       "  'https://finance.yahoo.com/news/elys-game-technology-comments-british-140000683.html'],\n",
       " ['GME',\n",
       "  'Radio Caca is the exclusive manager of Maye Musk Mystery Box (MPB) NFT and governance token.',\n",
       "  'NEGATIVE',\n",
       "  0.9802423119544983,\n",
       "  'https://finance.yahoo.com/news/raca-talks-play-earn-game-102900422.html'],\n",
       " ['GME',\n",
       "  'All images are copyrighted.',\n",
       "  'NEGATIVE',\n",
       "  0.9880996346473694,\n",
       "  'https://uk.finance.yahoo.com/news/aviron-looks-game-home-fitness-130056229.html'],\n",
       " ['GME',\n",
       "  'Ragnarok Online Ascendance launched in Singapore, Malaysia, and the Philippines.',\n",
       "  'POSITIVE',\n",
       "  0.9984962940216064,\n",
       "  'https://finance.yahoo.com/news/gravity-game-hub-announces-official-060000060.html'],\n",
       " ['GME',\n",
       "  'AMC, GME, Bed, Bath & Beyond among top performers in past year.',\n",
       "  'POSITIVE',\n",
       "  0.9991395473480225,\n",
       "  'https://finance.yahoo.com/news/yolo-investment-strategy-rakes-millions-121450920.html'],\n",
       " ['GME',\n",
       "  'Microsoft’s $68.7 billion deal for Activision was driven by FOMO, analyst says.',\n",
       "  'NEGATIVE',\n",
       "  0.9955331087112427,\n",
       "  'https://finance.yahoo.com/news/wordle-activision-zynga-ride-a-tide-of-fomo-driving-big-video-game-deals-155733417.html'],\n",
       " ['GME',\n",
       "  '‘We’re getting wretched excess and danger for the country,’ he says. He wants to make short-term trading less profitable',\n",
       "  'NEGATIVE',\n",
       "  0.9996476173400879,\n",
       "  'https://finance.yahoo.com/news/meme-stock-trading-is-like-a-drunken-brawl-charlie-munger-141029802.html'],\n",
       " ['GME',\n",
       "  'CryptoZeroFi is an upcoming NFT Combat game built on the Smart Chain.',\n",
       "  'POSITIVE',\n",
       "  0.9016576409339905,\n",
       "  'https://finance.yahoo.com/news/cryptozerofi-realistic-combat-role-playing-032100203.html'],\n",
       " ['GME',\n",
       "  'All images are copyrighted.',\n",
       "  'NEGATIVE',\n",
       "  0.9880996346473694,\n",
       "  'https://uk.finance.yahoo.com/news/middle-east-north-africa-games-131300653.html'],\n",
       " ['GME',\n",
       "  'Studio members include Sea Monster, Kayfo Games, Kiro’o Games. African gaming industry is currently fragmented',\n",
       "  'NEGATIVE',\n",
       "  0.9967494010925293,\n",
       "  'https://ca.finance.yahoo.com/news/game-studios-come-together-grow-080226901.html'],\n",
       " ['TSLA',\n",
       "  'Lawyers for electric vehicle giant say SEC has ‘failed to comply’. Agency says it hasn’t submitted a distribution plan',\n",
       "  'NEGATIVE',\n",
       "  0.9990758895874023,\n",
       "  'https://finance.yahoo.com/news/tesla-sec-is-violating-its-own-rules-by-holding-up-40-m-shareholder-payout-194905601.html'],\n",
       " ['TSLA',\n",
       "  'Lawyers for Musk accuse SEC of retaliation. Tesla and Musk have been chafing against rules lately',\n",
       "  'NEGATIVE',\n",
       "  0.9870714545249939,\n",
       "  'https://finance.yahoo.com/news/elon-musk-accuses-the-sec-of-leaking-information-to-retaliate-against-him-101031796.html'],\n",
       " ['TSLA',\n",
       "  'Tesla will pay $275,000 to settle the case. Tesla says it will continue to comply with the law',\n",
       "  'POSITIVE',\n",
       "  0.993726372718811,\n",
       "  'https://finance.yahoo.com/news/tesla-settles-epa-clean-air-act-violations-california-130549010.html'],\n",
       " ['TSLA',\n",
       "  '\"Expanding into lower price volume segments will be critical to support the company\\'s growth outlook\"',\n",
       "  'POSITIVE',\n",
       "  0.8506810069084167,\n",
       "  'https://finance.yahoo.com/news/tesla-is-disappointing-investors-because-it-doesnt-have-a-25000-car-analyst-190339823.html'],\n",
       " ['TSLA',\n",
       "  'Musk, lawyers accuse SEC of leaking information. Tesla, SEC have been at odds for months over Musk’s tweets',\n",
       "  'NEGATIVE',\n",
       "  0.9940417408943176,\n",
       "  'https://ca.finance.yahoo.com/news/musk-lawyer-escalate-word-fight-181017767.html'],\n",
       " ['TSLA',\n",
       "  'Tesla publishes ‘Misguided’ lawsuit, blames regulator. Regulator says it’s investigating hundreds of complaints',\n",
       "  'NEGATIVE',\n",
       "  0.9971987009048462,\n",
       "  'https://finance.yahoo.com/news/tesla-front-runs-another-regulator-123022596.html'],\n",
       " ['TSLA',\n",
       "  '‘Tesla is doubling down on its Bitcoin strategy,’ Wedbush says. ‘It remains a distraction and sideshow’ from EV story, Ives says',\n",
       "  'NEGATIVE',\n",
       "  0.9924498796463013,\n",
       "  'https://finance.yahoo.com/news/why-tesla-holding-2-billion-in-bitcoin-is-a-distraction-and-side-show-analyst-says-192535899.html'],\n",
       " ['TSLA',\n",
       "  'Activists take Brandenburg environment office to court. Musk last year laughed at water supply concerns at Gigafactory',\n",
       "  'NEGATIVE',\n",
       "  0.8766313195228577,\n",
       "  'https://finance.yahoo.com/news/elon-musk-dismissed-claims-teslas-121832025.html'],\n",
       " ['TSLA',\n",
       "  \"BofA expects Tesla's market share to drop to 20% in next three years. Ford, GM see big gains in EV sales this year\",\n",
       "  'NEGATIVE',\n",
       "  0.7607340216636658,\n",
       "  'https://finance.yahoo.com/news/teslas-market-share-is-at-risk-of-plunging-analyst-184043294.html'],\n",
       " ['TSLA',\n",
       "  'Tesla is not leading the way on electric vehicle manufacturing. Pro-union policies have helped Biden in key states',\n",
       "  'NEGATIVE',\n",
       "  0.9528826475143433,\n",
       "  'https://finance.yahoo.com/news/tesla-and-president-biden-whats-behind-the-public-215625603.html'],\n",
       " ['BTC',\n",
       "  'The firm launched its Strategy Bitcoin fund in late October. Valkyrie also manages six other crypto-protocol trusts',\n",
       "  'NEGATIVE',\n",
       "  0.7992886304855347,\n",
       "  'https://finance.yahoo.com/news/valkyrie-boasts-1-b-in-bitcoin-assets-as-crypto-winter-shows-signs-of-thawing-153711464.html'],\n",
       " ['BTC',\n",
       "  'Miners are more likely to sell rather than hold, research firm says.',\n",
       "  'NEGATIVE',\n",
       "  0.9935675263404846,\n",
       "  'https://finance.yahoo.com/news/cryptoverse-bitcoin-could-laid-low-061739460.html'],\n",
       " ['BTC',\n",
       "  'Over the weekend, more than $1.5 billion of derivatives positions were liquidated.',\n",
       "  'NEGATIVE',\n",
       "  0.9976668357849121,\n",
       "  'https://finance.yahoo.com/news/bitcoin-rout-subsequent-bounce-show-cryptos-constant-state-of-price-discovery-235416203.html'],\n",
       " ['BTC',\n",
       "  'Bitwise Asset Management CIO Matt Hougan on crypto, blockchain, and stocks.',\n",
       "  'NEGATIVE',\n",
       "  0.9216997623443604,\n",
       "  'https://finance.yahoo.com/video/crypto-3-things-driving-pullback-214334955.html'],\n",
       " ['BTC',\n",
       "  'Bitcoin and other cryptocurrencies have tumbled since hitting record highs in November. Fed policy is the single biggest driver of crypto markets',\n",
       "  'NEGATIVE',\n",
       "  0.9988204836845398,\n",
       "  'https://finance.yahoo.com/news/bitcoin-billionaire-sam-bankman-fried-122925089.html'],\n",
       " ['BTC',\n",
       "  'Microstrategy says holding Bitcoin wiped out fourth-quarter earnings. Some argue rules need to be updated to reflect volatility',\n",
       "  'NEGATIVE',\n",
       "  0.999572217464447,\n",
       "  'https://finance.yahoo.com/news/bitcoins-latest-fight-accounting-rules-that-make-it-better-off-buying-comic-books-170822822.html'],\n",
       " ['BTC',\n",
       "  'Tensions between Russia and the West have fueled demand for bullion. Bitcoin losing out in battle over store of value',\n",
       "  'NEGATIVE',\n",
       "  0.9891670942306519,\n",
       "  'https://finance.yahoo.com/news/gold-fights-off-rising-rates-092716568.html'],\n",
       " ['BTC',\n",
       "  'Bitcoin, Ether and other cryptos rise slightly on Tuesday. GameFi faces shaky future in Asia-Pacific region partly because of regulations',\n",
       "  'NEGATIVE',\n",
       "  0.9735115766525269,\n",
       "  'https://finance.yahoo.com/news/first-mover-asia-gamefis-shaky-234006299.html'],\n",
       " ['BTC',\n",
       "  'Geopolitical tensions keep investors on edge. Bitcoin briefly cracked psychological $40,000 level on Friday',\n",
       "  'POSITIVE',\n",
       "  0.5872997045516968,\n",
       "  'https://finance.yahoo.com/news/bitcoin-cracks-40-k-as-crypto-rout-quickens-russia-ukraine-douses-risk-appetite-162926412.html'],\n",
       " ['BTC',\n",
       "  'Inflation rate in U.S. in January soared to 7.5%. Bitcoin has gained more than 20% since hitting a low on January 24',\n",
       "  'NEGATIVE',\n",
       "  0.9835736751556396,\n",
       "  'https://finance.yahoo.com/news/bitcoin-defies-wall-streets-inflation-sell-off-adds-gains-as-cryptocurrencies-dip-184815120.html']]"
      ]
     },
     "execution_count": 93,
     "metadata": {},
     "output_type": "execute_result"
    }
   ],
   "source": [
    "final_output"
   ]
  },
  {
   "cell_type": "code",
   "execution_count": 94,
   "id": "9df6058f",
   "metadata": {},
   "outputs": [],
   "source": [
    "import csv\n",
    "with open('assetsummaries.csv',mode='w',newline='') as f:\n",
    "    csv_writer=csv.writer(f,delimiter=',',quotechar='\"',quoting=csv.QUOTE_MINIMAL)\n",
    "    csv_writer.writerows(final_output)"
   ]
  },
  {
   "cell_type": "code",
   "execution_count": null,
   "id": "4b6756b2",
   "metadata": {},
   "outputs": [],
   "source": []
  },
  {
   "cell_type": "code",
   "execution_count": null,
   "id": "f8ec8d75",
   "metadata": {},
   "outputs": [],
   "source": []
  }
 ],
 "metadata": {
  "kernelspec": {
   "display_name": "Python 3 (ipykernel)",
   "language": "python",
   "name": "python3"
  },
  "language_info": {
   "codemirror_mode": {
    "name": "ipython",
    "version": 3
   },
   "file_extension": ".py",
   "mimetype": "text/x-python",
   "name": "python",
   "nbconvert_exporter": "python",
   "pygments_lexer": "ipython3",
   "version": "3.7.8"
  }
 },
 "nbformat": 4,
 "nbformat_minor": 5
}
